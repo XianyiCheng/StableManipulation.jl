{
 "cells": [
  {
   "cell_type": "code",
   "execution_count": 1,
   "source": [
    "import Pkg; Pkg.activate(joinpath(@__DIR__,\"..\")); Pkg.instantiate()"
   ],
   "outputs": [
    {
     "output_type": "stream",
     "name": "stderr",
     "text": [
      "\u001b[32m\u001b[1m  Activating\u001b[22m\u001b[39m environment at `~/.julia/dev/StableManipulation/Project.toml`\n"
     ]
    }
   ],
   "metadata": {}
  },
  {
   "cell_type": "code",
   "execution_count": 2,
   "source": [
    "using LinearAlgebra\n",
    "using ForwardDiff\n",
    "using OrdinaryDiffEq\n",
    "using Plots\n",
    "using Convex, SCS\n",
    "using JLD\n",
    "using StableManipulation"
   ],
   "outputs": [],
   "metadata": {}
  },
  {
   "cell_type": "code",
   "execution_count": 3,
   "source": [
    "include(\"../models/box_ground_frictional.jl\")"
   ],
   "outputs": [
    {
     "output_type": "execute_result",
     "data": {
      "text/plain": [
       "Main.BoxWorld"
      ]
     },
     "metadata": {},
     "execution_count": 3
    }
   ],
   "metadata": {}
  },
  {
   "cell_type": "code",
   "execution_count": 4,
   "source": [
    "dynamics! = BoxWorld.ode_dynamics!\n",
    "conditions = BoxWorld.ode_conditions\n",
    "affect! = BoxWorld.ode_affect!\n",
    "affect_neg! = BoxWorld.ode_affect_neg!\n",
    "\n",
    "domain = BoxWorld.domain\n",
    "guard_set = BoxWorld.guard_set\n",
    "jumpmap = BoxWorld.jumpmap\n",
    "\n",
    "n_contacts = BoxWorld.n_contacts\n",
    "Δt = BoxWorld.Δt\n",
    "modes = BoxWorld.modes\n",
    "\n",
    "tol_c = BoxWorld.tol_c"
   ],
   "outputs": [
    {
     "output_type": "execute_result",
     "data": {
      "text/plain": [
       "1.0e-5"
      ]
     },
     "metadata": {},
     "execution_count": 4
    }
   ],
   "metadata": {}
  },
  {
   "cell_type": "code",
   "execution_count": 5,
   "source": [
    "xref = [0; BoxWorld.h/2; 0; 1; 0; 0] # sliding to the right at velocity of 1\n",
    "uref = [BoxWorld.μ*BoxWorld.m*BoxWorld.g; 0; 0] # reference body wrench\n",
    "nominal_mode = [1 1 1 1] # right sliding mode\n",
    "\n",
    "pusher_p = [-BoxWorld.w/2;0] # pusher_location\n",
    "\n",
    "function pusher_box_discrete_dynamics(x, pusher_u, mode)\n",
    "    Jc = [1 0; 0 1; -pusher_p[2] pusher_p[1]]\n",
    "    u = Jc*pusher_u\n",
    "    xn = BoxWorld.discrete_dynamics(x, u, mode)\n",
    "    return xn\n",
    "end\n",
    "\n",
    "function pusher_box_dynamics(x, pusher_u, mode)\n",
    "    Jc = [1 0; 0 1; -pusher_p[2] pusher_p[1]]\n",
    "    u = Jc*pusher_u\n",
    "    dx = BoxWorld.continuous_dynamics_differentiable(x, u, mode)\n",
    "    return dx\n",
    "end\n",
    "\n",
    "pusher_u_ref = [uref[1]; 0]"
   ],
   "outputs": [
    {
     "output_type": "execute_result",
     "data": {
      "text/plain": [
       "2-element Vector{Float64}:\n",
       " 4.905\n",
       " 0.0"
      ]
     },
     "metadata": {},
     "execution_count": 5
    }
   ],
   "metadata": {}
  },
  {
   "cell_type": "code",
   "execution_count": 6,
   "source": [
    "# Linearize over xref and uref\n",
    "A = ForwardDiff.jacobian(_x->pusher_box_dynamics(_x, pusher_u_ref, nominal_mode), xref)\n",
    "B = ForwardDiff.jacobian(_u->pusher_box_dynamics(xref, _u, nominal_mode), pusher_u_ref)\n"
   ],
   "outputs": [
    {
     "output_type": "execute_result",
     "data": {
      "text/plain": [
       "6×2 Matrix{Float64}:\n",
       "  0.0   0.0\n",
       "  0.0   0.0\n",
       "  0.0   0.0\n",
       "  1.0   0.5\n",
       "  0.0  -5.0e-7\n",
       " -0.0   6.0e-7"
      ]
     },
     "metadata": {},
     "execution_count": 6
    }
   ],
   "metadata": {}
  },
  {
   "cell_type": "code",
   "execution_count": 7,
   "source": [
    "A"
   ],
   "outputs": [
    {
     "output_type": "execute_result",
     "data": {
      "text/plain": [
       "6×6 Matrix{Float64}:\n",
       " 0.0  0.0   0.0         1.0  0.0  0.0\n",
       " 0.0  0.0   0.0         0.0  1.0  0.0\n",
       " 0.0  0.0   0.0         0.0  0.0  1.0\n",
       " 0.0  0.0   7.84801e-7  0.0  0.0  0.0\n",
       " 0.0  0.0  -1.5696e-6   0.0  0.0  0.0\n",
       " 0.0  0.0  -9.81001e-6  0.0  0.0  0.0"
      ]
     },
     "metadata": {},
     "execution_count": 7
    }
   ],
   "metadata": {}
  },
  {
   "cell_type": "code",
   "execution_count": 17,
   "source": [
    "B"
   ],
   "outputs": [
    {
     "output_type": "execute_result",
     "data": {
      "text/plain": [
       "6×2 Matrix{Float64}:\n",
       "  0.0   0.0\n",
       "  0.0   0.0\n",
       "  0.0   0.0\n",
       "  1.0   0.5\n",
       "  0.0  -5.0e-7\n",
       " -0.0   6.0e-7"
      ]
     },
     "metadata": {},
     "execution_count": 17
    }
   ],
   "metadata": {}
  },
  {
   "cell_type": "code",
   "execution_count": 18,
   "source": [
    "Q = Semidefinite(6)\n",
    "Y = Variable(2,6)"
   ],
   "outputs": [
    {
     "output_type": "execute_result",
     "data": {
      "text/plain": [
       "Variable\n",
       "size: (2, 6)\n",
       "sign: real\n",
       "vexity: affine\n",
       "id: 397…306"
      ]
     },
     "metadata": {},
     "execution_count": 18
    }
   ],
   "metadata": {}
  },
  {
   "cell_type": "code",
   "execution_count": 19,
   "source": [
    "prob = maximize(sum(Q) + tr(Q))\n"
   ],
   "outputs": [
    {
     "output_type": "execute_result",
     "data": {
      "text/plain": [
       "maximize\n",
       "└─ + (affine; real)\n",
       "   ├─ sum (affine; real)\n",
       "   │  └─ 6×6 real variable (id: 181…552)\n",
       "   └─ sum (affine; real)\n",
       "      └─ diag (affine; real)\n",
       "         └─ …\n",
       "\n",
       "status: `solve!` not called yet"
      ]
     },
     "metadata": {},
     "execution_count": 19
    }
   ],
   "metadata": {}
  },
  {
   "cell_type": "code",
   "execution_count": 20,
   "source": [
    "prob.constraints += isposdef( -(A*Q + Q'*A' + B*Y + Y'*B'))"
   ],
   "outputs": [
    {
     "output_type": "execute_result",
     "data": {
      "text/plain": [
       "1-element Vector{Constraint}:\n",
       " sdp constraint (affine)\n",
       "└─ - (affine; real)\n",
       "   └─ + (affine; real)\n",
       "      ├─ * (affine; real)\n",
       "      │  ├─ …\n",
       "      │  └─ …\n",
       "      ├─ * (affine; real)\n",
       "      │  ├─ …\n",
       "      │  └─ …\n",
       "      ├─ * (affine; real)\n",
       "      │  ├─ …\n",
       "      │  └─ …\n",
       "      └─ adjoint (affine; real)\n",
       "         └─ …"
      ]
     },
     "metadata": {},
     "execution_count": 20
    }
   ],
   "metadata": {}
  },
  {
   "cell_type": "code",
   "execution_count": 22,
   "source": [
    "Convex.solve!(prob,() -> SCS.Optimizer(verbose=true))"
   ],
   "outputs": [
    {
     "output_type": "stream",
     "name": "stdout",
     "text": [
      "----------------------------------------------------------------------------\n",
      "\tSCS v2.1.4 - Splitting Conic Solver\n",
      "\t(c) Brendan O'Donoghue, Stanford University, 2012\n",
      "----------------------------------------------------------------------------\n",
      "Lin-sys: sparse-direct, nnz in A = 202\n",
      "eps = 1.00e-05, alpha = 1.50, max_iters = 5000, normalize = 1, scale = 1.00\n",
      "acceleration_lookback = 10, rho_x = 1.00e-03\n",
      "Variables n = 49, constraints m = 73\n",
      "Cones:\tprimal zero / dual free vars: 31\n",
      "\tsd vars: 42, sd blks: 2\n",
      "Setup time: 1.06e-04s\n",
      "----------------------------------------------------------------------------\n",
      " Iter | pri res | dua res | rel gap | pri obj | dua obj | kap/tau | time (s)\n",
      "----------------------------------------------------------------------------\n",
      "     0| 2.86e+13  7.17e+19  1.00e+00 -1.28e+14 -0.00e+00  8.60e+13  1.25e-04 \n",
      "   100| 7.30e+09  2.31e+16  1.00e+00 -5.45e+13 -0.00e+00  5.45e+13  2.31e-03 \n",
      "   200| 6.52e+09  1.52e+16  1.00e+00 -5.47e+13 -0.00e+00  5.47e+13  4.32e-03 \n",
      "   300| 1.31e+12  6.62e+18  1.00e+00 -5.31e+13 -0.00e+00  5.31e+13  6.41e-03 \n",
      "   400| 1.47e+10  4.30e+16  1.00e+00 -5.47e+13 -0.00e+00  5.47e+13  8.53e-03 \n",
      "   500| 1.50e+10  5.79e+16  1.00e+00 -5.08e+13 -0.00e+00  5.08e+13  1.06e-02 \n",
      "   600| 5.20e+10  9.94e+16  1.00e+00 -3.49e+13 -0.00e+00  3.49e+13  1.31e-02 \n",
      "   700| 1.05e+12  2.35e+18  1.00e+00 -1.24e+13 -0.00e+00  1.24e+13  1.55e-02 \n",
      "   800| 3.00e+10  4.80e+16  1.00e+00 -5.07e+13 -0.00e+00  5.07e+13  1.77e-02 \n",
      "   900| 4.70e+10  2.21e+17  1.00e+00 -4.73e+13 -0.00e+00  4.73e+13  1.99e-02 \n",
      "  1000| 1.50e+10  5.69e+16  1.00e+00 -5.82e+12 -0.00e+00  5.82e+12  2.20e-02 \n",
      "  1100| 4.36e+09  1.79e+16  1.00e+00 -5.05e+12 -0.00e+00  5.05e+12  2.45e-02 \n",
      "  1200| 9.98e+08  2.71e+15  1.00e+00 -3.10e+12 -0.00e+00  3.10e+12  2.68e-02 \n",
      "  1300| 1.41e+08  6.94e+14  1.00e+00 -2.28e+12 -0.00e+00  2.28e+12  2.92e-02 \n",
      "  1400| 4.45e+07  1.22e+14  1.00e+00 -2.16e+12 -0.00e+00  2.16e+12  3.24e-02 \n",
      "  1500| 6.91e+07  2.80e+14  1.00e+00 -2.14e+12 -0.00e+00  2.14e+12  3.51e-02 \n",
      "  1600| 2.32e+08  1.23e+15  1.00e+00 -2.13e+12 -0.00e+00  2.13e+12  3.72e-02 \n",
      "  1700| 4.69e+08  1.74e+15  1.00e+00 -2.13e+12 -0.00e+00  2.13e+12  3.92e-02 \n",
      "  1800| 4.08e+07  1.41e+14  1.00e+00 -2.08e+12 -0.00e+00  2.08e+12  4.12e-02 \n",
      "  1900| 1.90e+08  4.52e+14  1.00e+00 -2.07e+12 -0.00e+00  2.07e+12  4.32e-02 \n",
      "  1920| 1.87e+07  6.20e+13  1.00e+00 -2.06e+12 -0.00e+00  2.06e+12  4.36e-02 \n",
      "----------------------------------------------------------------------------\n",
      "Status: Unbounded\n",
      "Timing: Solve time: 4.36e-02s\n",
      "\tLin-sys: nnz in L factor: 418, avg solve time: 8.64e-07s\n",
      "\tCones: avg projection time: 1.11e-05s\n",
      "\tAcceleration: avg step time: 9.37e-06s\n",
      "----------------------------------------------------------------------------\n",
      "Certificate of dual infeasibility:\n",
      "dist(s, K) = 2.0534e-09\n",
      "|Ax + s|_2 * |c|_2 = 9.1139e-06\n",
      "c'x = -1.0000\n",
      "============================================================================\n"
     ]
    },
    {
     "output_type": "stream",
     "name": "stderr",
     "text": [
      "┌ Warning: Problem status DUAL_INFEASIBLE; solution may be inaccurate.\n",
      "└ @ Convex /home/xianyi/.julia/packages/Convex/uI27T/src/solution.jl:263\n"
     ]
    }
   ],
   "metadata": {}
  },
  {
   "cell_type": "code",
   "execution_count": 23,
   "source": [
    "Q_sol = evaluate(Q)"
   ],
   "outputs": [
    {
     "output_type": "execute_result",
     "data": {
      "text/plain": [
       "6×6 Matrix{Float64}:\n",
       "  0.350083   -0.112388     0.0236643   -0.176596    0.058528    -0.0787655\n",
       " -0.112388    0.217759    -1.02812e-5  -0.0194054  -0.00229415   5.80947e-5\n",
       "  0.0236643  -1.02878e-5   0.00490562  -0.0275449   0.0120987   -0.016338\n",
       " -0.176595   -0.019404    -0.0275451    0.198267   -0.0678231    0.091786\n",
       "  0.0585283  -0.00229165   0.0120985   -0.0678234   0.0299012   -0.0403223\n",
       " -0.078766    5.75904e-5  -0.0163378    0.0917858  -0.0403227    0.0544362"
      ]
     },
     "metadata": {},
     "execution_count": 23
    }
   ],
   "metadata": {}
  },
  {
   "cell_type": "code",
   "execution_count": 24,
   "source": [
    "eigvals(Q_sol)"
   ],
   "outputs": [
    {
     "output_type": "execute_result",
     "data": {
      "text/plain": [
       "6-element Vector{Float64}:\n",
       " -1.2455214375552821e-6\n",
       "  4.226435377953292e-6\n",
       "  0.010955919729507812\n",
       "  0.06038735016164899\n",
       "  0.24624384482578232\n",
       "  0.5377619745902628"
      ]
     },
     "metadata": {},
     "execution_count": 24
    }
   ],
   "metadata": {}
  },
  {
   "cell_type": "code",
   "execution_count": 25,
   "source": [
    "Y_sol = evaluate(Y)"
   ],
   "outputs": [
    {
     "output_type": "execute_result",
     "data": {
      "text/plain": [
       "2×6 Matrix{Float64}:\n",
       " -0.102956  -0.155429   21.438   -0.0264712  -17.3245  -6.1274\n",
       " -0.181396   0.447601  -43.0586  -0.0528608   34.1987  12.8614"
      ]
     },
     "metadata": {},
     "execution_count": 25
    }
   ],
   "metadata": {}
  },
  {
   "cell_type": "code",
   "execution_count": 39,
   "source": [
    "Q_sol[abs.(Q_sol) .< 1e-4] .= 0\n",
    "P = inv(Q_sol)"
   ],
   "outputs": [
    {
     "output_type": "execute_result",
     "data": {
      "text/plain": [
       "6×6 Matrix{Float64}:\n",
       "    -5.70939    -20.6777  -2493.2        …  -1611.15       -1935.3\n",
       "   -20.683      -38.5769  -4290.79          -2859.85       -3390.72\n",
       " -2493.99     -4291.14    94413.7              -2.56144e5     -1.5917e5\n",
       "    -8.69282    -26.8825  -3452.09          -2220.27       -2711.62\n",
       " -1609.98     -2857.2        -2.55938e5        -1.73744e5     -2.04098e5\n",
       " -1934.69     -3388.91       -1.59033e5  …     -2.04162e5     -1.97164e5"
      ]
     },
     "metadata": {},
     "execution_count": 39
    }
   ],
   "metadata": {}
  },
  {
   "cell_type": "code",
   "execution_count": 43,
   "source": [
    "P_bar = P/maximum(abs.(P))"
   ],
   "outputs": [
    {
     "output_type": "execute_result",
     "data": {
      "text/plain": [
       "6×6 Matrix{Float64}:\n",
       " -2.22898e-5  -8.07269e-5   -0.00973359  …  -0.00629004  -0.00755551\n",
       " -8.07478e-5  -0.000150607  -0.0167515      -0.011165    -0.0132376\n",
       " -0.0097367   -0.0167529     0.368597       -1.0         -0.621408\n",
       " -3.39373e-5  -0.000104951  -0.0134772      -0.00866807  -0.0105863\n",
       " -0.00628548  -0.0111547    -0.999197       -0.678308    -0.796812\n",
       " -0.00755315  -0.0132305    -0.620873    …  -0.797059    -0.769738"
      ]
     },
     "metadata": {},
     "execution_count": 43
    }
   ],
   "metadata": {}
  },
  {
   "cell_type": "code",
   "execution_count": 44,
   "source": [
    "P_bar[abs.(P_bar) .< 1e-4] .= 0"
   ],
   "outputs": [
    {
     "output_type": "execute_result",
     "data": {
      "text/plain": [
       "6-element view(::Vector{Float64}, [1, 2, 4, 7, 19, 22]) with eltype Float64:\n",
       " 0.0\n",
       " 0.0\n",
       " 0.0\n",
       " 0.0\n",
       " 0.0\n",
       " 0.0"
      ]
     },
     "metadata": {},
     "execution_count": 44
    }
   ],
   "metadata": {}
  },
  {
   "cell_type": "code",
   "execution_count": 55,
   "source": [
    "P_bar[:,1:3]"
   ],
   "outputs": [
    {
     "output_type": "execute_result",
     "data": {
      "text/plain": [
       "6×3 Matrix{Float64}:\n",
       "  0.0          0.0          -0.00973359\n",
       "  0.0         -0.000150607  -0.0167515\n",
       " -0.0097367   -0.0167529     0.368597\n",
       "  0.0         -0.000104951  -0.0134772\n",
       " -0.00628548  -0.0111547    -0.999197\n",
       " -0.00755315  -0.0132305    -0.620873"
      ]
     },
     "metadata": {},
     "execution_count": 55
    }
   ],
   "metadata": {}
  },
  {
   "cell_type": "code",
   "execution_count": 54,
   "source": [
    "P_bar[:,4:6]"
   ],
   "outputs": [
    {
     "output_type": "execute_result",
     "data": {
      "text/plain": [
       "6×3 view(::Matrix{Float64}, :, 4:6) with eltype Float64:\n",
       "  0.0          -0.00629004  -0.00755551\n",
       " -0.000105062  -0.011165    -0.0132376\n",
       " -0.0135098    -1.0         -0.621408\n",
       "  0.0          -0.00866807  -0.0105863\n",
       " -0.0086671    -0.678308    -0.796812\n",
       " -0.0105955    -0.797059    -0.769738"
      ]
     },
     "metadata": {},
     "execution_count": 54
    }
   ],
   "metadata": {}
  },
  {
   "cell_type": "code",
   "execution_count": 58,
   "source": [
    "P_bar # why P_bar is like this???"
   ],
   "outputs": [
    {
     "output_type": "execute_result",
     "data": {
      "text/plain": [
       "6×6 Matrix{Float64}:\n",
       " 0.0  0.0   0.0       0.0   0.0        0.0\n",
       " 0.0  0.0   0.0       0.0   0.0        0.0\n",
       " 0.0  0.0   0.368597  0.0  -1.0       -0.621408\n",
       " 0.0  0.0   0.0       0.0   0.0        0.0\n",
       " 0.0  0.0  -0.999197  0.0  -0.678308  -0.796812\n",
       " 0.0  0.0  -0.620873  0.0  -0.797059  -0.769738"
      ]
     },
     "metadata": {},
     "execution_count": 58
    }
   ],
   "metadata": {}
  }
 ],
 "metadata": {
  "orig_nbformat": 4,
  "language_info": {
   "file_extension": ".jl",
   "name": "julia",
   "mimetype": "application/julia",
   "version": "1.6.2"
  },
  "kernelspec": {
   "name": "julia-1.6",
   "display_name": "Julia 1.6.2",
   "language": "julia"
  }
 },
 "nbformat": 4,
 "nbformat_minor": 2
}