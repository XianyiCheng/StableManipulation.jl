{
 "cells": [
  {
   "cell_type": "markdown",
   "metadata": {},
   "source": []
  },
  {
   "cell_type": "code",
   "execution_count": 1,
   "metadata": {},
   "outputs": [
    {
     "name": "stderr",
     "output_type": "stream",
     "text": [
      "\u001b[32m\u001b[1m  Activating\u001b[22m\u001b[39m environment at `~/.julia/dev/StableManipulation/Project.toml`\n"
     ]
    }
   ],
   "source": [
    "import Pkg; Pkg.activate(joinpath(@__DIR__,\"..\")); Pkg.instantiate()"
   ]
  },
  {
   "cell_type": "code",
   "execution_count": 2,
   "metadata": {},
   "outputs": [],
   "source": [
    "using LinearAlgebra\n",
    "using ForwardDiff\n",
    "using OrdinaryDiffEq\n",
    "using Plots\n",
    "using Convex, SCS\n",
    "using JLD\n",
    "using StableManipulation"
   ]
  },
  {
   "cell_type": "code",
   "execution_count": 3,
   "metadata": {},
   "outputs": [
    {
     "data": {
      "text/plain": [
       "Main.RodWorld"
      ]
     },
     "metadata": {},
     "output_type": "display_data"
    }
   ],
   "source": [
    "include(\"../models/rod_corner_frictionless.jl\")"
   ]
  },
  {
   "cell_type": "code",
   "execution_count": 4,
   "metadata": {},
   "outputs": [
    {
     "data": {
      "text/plain": [
       "1.0e-5"
      ]
     },
     "metadata": {},
     "output_type": "display_data"
    }
   ],
   "source": [
    "dynamics! = RodWorld.ode_dynamics!\n",
    "conditions = RodWorld.ode_conditions\n",
    "affect! = RodWorld.ode_affect!\n",
    "affect_neg! = RodWorld.ode_affect_neg!\n",
    "\n",
    "domain = RodWorld.domain\n",
    "guard_set = RodWorld.guard_set\n",
    "jumpmap = RodWorld.jumpmap\n",
    "\n",
    "n_contacts = RodWorld.n_contacts\n",
    "Δt = RodWorld.Δt\n",
    "modes = RodWorld.modes\n",
    "\n",
    "tol_c = RodWorld.tol_c\n"
   ]
  },
  {
   "cell_type": "code",
   "execution_count": 5,
   "metadata": {},
   "outputs": [
    {
     "data": {
      "text/plain": [
       "no_controller (generic function with 1 method)"
      ]
     },
     "metadata": {},
     "output_type": "display_data"
    }
   ],
   "source": [
    "function no_controller(x, contactMode)\n",
    "    return zeros(3)\n",
    "end"
   ]
  },
  {
   "cell_type": "code",
   "execution_count": 6,
   "metadata": {},
   "outputs": [
    {
     "data": {
      "text/plain": [
       "3-element Vector{Float64}:\n",
       " -4.900000000000001\n",
       "  0.0\n",
       "  0.0"
      ]
     },
     "metadata": {},
     "output_type": "display_data"
    }
   ],
   "source": [
    "# goal: hold the rod at 45 degrees at the corner\n",
    "xref = [cos(pi/4)*RodWorld.l/2; sin(pi/4)*RodWorld.l/2; pi/4; 0; 0; 0]\n",
    "\n",
    "nominal_mode = [true, true]\n",
    "\n",
    "function wrench_control_2_body(x, control_u)\n",
    "    u = [control_u[1]; control_u[2]; \n",
    "        control_u[3] - control_u[1]*sin(x[3])*RodWorld.l/2 + control_u[2]*cos(x[3])*RodWorld.l/2]\n",
    "    return u\n",
    "end\n",
    "\n",
    "function control_discrete_dynamics(x, control_u, mode)\n",
    "    u = wrench_control_2_body(x,control_u)\n",
    "    xn = RodWorld.discrete_dynamics(x, u, mode)\n",
    "    return xn\n",
    "end\n",
    "\n",
    "function control_dynamics(x, control_u, mode)\n",
    "    u = wrench_control_2_body(x,control_u)\n",
    "    dx = RodWorld.continuous_dynamics_differentiable(x, u, mode)\n",
    "    return dx\n",
    "end\n",
    "\n",
    "control_u_ref = [-RodWorld.m*RodWorld.g*cot(pi/4)/2; 0; 0]"
   ]
  },
  {
   "cell_type": "code",
   "execution_count": 7,
   "metadata": {},
   "outputs": [
    {
     "data": {
      "text/plain": [
       "ref_controller (generic function with 1 method)"
      ]
     },
     "metadata": {},
     "output_type": "display_data"
    }
   ],
   "source": [
    "function ref_controller(x, contactMode)\n",
    "    f = wrench_control_2_body(x, control_u_ref)\n",
    "    #f = [0;RodWorld.m*RodWorld.g;0]\n",
    "    return f\n",
    "end"
   ]
  },
  {
   "cell_type": "markdown",
   "metadata": {},
   "source": [
    "# LQR"
   ]
  },
  {
   "cell_type": "code",
   "execution_count": 8,
   "metadata": {},
   "outputs": [
    {
     "data": {
      "text/plain": [
       "lqr_controller (generic function with 1 method)"
      ]
     },
     "metadata": {},
     "output_type": "display_data"
    }
   ],
   "source": [
    "# LQR controller\n",
    "# compute infinite horizon K\n",
    "A_lqr = ForwardDiff.jacobian(_x->control_discrete_dynamics(_x, control_u_ref, nominal_mode), xref)\n",
    "B_lqr = ForwardDiff.jacobian(_u->control_discrete_dynamics(xref, _u, nominal_mode), control_u_ref)\n",
    "# Q_lqr = Diagonal([1.0; 1.0; 1.0; 0.5; 0.5; 0.5])\n",
    "Q_lqr = Diagonal([1.0; 1.0; 1.0; 0.5; 0.5; 0.5])\n",
    "R_lqr = Diagonal([0.1; 0.1; 0.1])\n",
    "\n",
    "Ks, _ = StableManipulation.riccati(A_lqr,B_lqr,Q_lqr,R_lqr,Q_lqr,50)\n",
    "K_lqr = Ks[1]\n",
    "\n",
    "function lqr_controller(x, contactMode)\n",
    "    control_u = control_u_ref .- K_lqr*(x .- xref)\n",
    "    f = wrench_control_2_body(x,control_u)\n",
    "    return f\n",
    "end\n"
   ]
  },
  {
   "cell_type": "code",
   "execution_count": 9,
   "metadata": {},
   "outputs": [
    {
     "data": {
      "text/plain": [
       "3×6 Matrix{Float64}:\n",
       "  0.206036  -0.206036  -4.42748   0.124395  -0.124395  -1.20322\n",
       " -0.206036   0.206036   4.42748  -0.124395   0.124395   1.20322\n",
       " -0.291379   0.291379   6.26141  -0.175921   0.175921   1.70161"
      ]
     },
     "metadata": {},
     "output_type": "display_data"
    }
   ],
   "source": [
    "K_lqr"
   ]
  },
  {
   "cell_type": "markdown",
   "metadata": {},
   "source": [
    "# Hybrid Controller"
   ]
  },
  {
   "cell_type": "code",
   "execution_count": 10,
   "metadata": {},
   "outputs": [
    {
     "data": {
      "text/plain": [
       "dVdx (generic function with 1 method)"
      ]
     },
     "metadata": {},
     "output_type": "display_data"
    }
   ],
   "source": [
    "# Lyapunov function\n",
    "function V(x)\n",
    "    q = x[1:3] + x[4:6]\n",
    "    dq = x[4:6]\n",
    "\n",
    "    v = 0.5*([q;dq] .- xref)'*Q_lqr*([q;dq] .- xref)\n",
    "\n",
    "    return v\n",
    "end \n",
    "\n",
    "function dVdx(x)\n",
    "    res = ForwardDiff.gradient(V, x)\n",
    "    return res\n",
    "end"
   ]
  },
  {
   "cell_type": "code",
   "execution_count": 11,
   "metadata": {},
   "outputs": [
    {
     "data": {
      "text/plain": [
       "hybrid_constraints_matrix (generic function with 1 method)"
      ]
     },
     "metadata": {},
     "output_type": "display_data"
    }
   ],
   "source": [
    "# problem specific numbers\n",
    "\n",
    "const n_modes = size(modes, 1)\n",
    "\n",
    "const n_u = 3\n",
    "const n_β = 50\n",
    "const n_α = 2*n_modes - 1\n",
    "\n",
    "function hybrid_constraints_matrix(x, u_ref)\n",
    "\n",
    "\n",
    "    n = n_u + n_β + n_α\n",
    "    m = 2*n_modes - 1\n",
    "\n",
    "    A = zeros(m, n)\n",
    "    b = zeros(m)\n",
    "\n",
    "    nominal_mode = [true, true]\n",
    "\n",
    "    β_idx = 1\n",
    "\n",
    "    Vx = dVdx(x)\n",
    "    Vv = V(x)\n",
    "\n",
    "    # mode dynamics\n",
    "    \n",
    "    for k = 1:n_modes\n",
    "\n",
    "        m = modes[k,:]\n",
    "        \n",
    "        d_ineq, d_eq = domain(x, m)\n",
    "        \n",
    "        # TODO: debug this!!!\n",
    "        # if sum(d_ineq.<0)>0 || sum(abs.(d_eq) .> tol_c)>0\n",
    "        #     b[k] = 0.1\n",
    "        #     continue\n",
    "        # end\n",
    "        \n",
    "        n_ineq = size(d_ineq, 1)\n",
    "        n_eq = size(d_eq, 1)\n",
    "        \n",
    "        dfdu = ForwardDiff.jacobian(_u->control_dynamics(x, _u, m), u_ref)\n",
    "        \n",
    "        b[k] = -Vx'*control_dynamics(x, u_ref, m)\n",
    "        \n",
    "        # α\n",
    "        A[k, n_u+n_β+k] = -Vv\n",
    "        A[k, 1:n_u] = -Vx'*dfdu\n",
    "        A[k, β_idx:β_idx+n_ineq-1] .= -d_ineq\n",
    "        A[k, β_idx+n_ineq:β_idx+n_ineq+n_eq-1] .= -d_eq \n",
    "        A[k, β_idx+n_ineq+n_eq:β_idx+n_ineq+2*n_eq-1] .= d_eq \n",
    "        \n",
    "        β_idx += n_ineq + 2*n_eq\n",
    "        \n",
    "    end\n",
    "        \n",
    "    # TODO: nominal_mode isn't always the last mode\n",
    "    k = 1\n",
    "    for k_ = 1:n_modes\n",
    "        \n",
    "        mode_from = modes[k,:]\n",
    "\n",
    "        if StableManipulation.is_same_mode(mode_from, nominal_mode)\n",
    "            continue\n",
    "        end\n",
    "        \n",
    "        d_ineq, d_eq = guard_set(x, mode_from, nominal_mode)\n",
    "        \n",
    "        # if sum(d_ineq.<0)>0 || sum(abs.(d_eq) .> tol_c)>0\n",
    "        #     b[k] = 0.1\n",
    "        #     continue\n",
    "        # end\n",
    "        \n",
    "        n_ineq = size(d_ineq, 1)\n",
    "        n_eq = size(d_eq, 1)\n",
    "        \n",
    "        xp = jumpmap(x, mode_from, nominal_mode)\n",
    "        \n",
    "        dfdu = ForwardDiff.jacobian(_u->control_dynamics(xp, _u, nominal_mode), u_ref)\n",
    "        \n",
    "        b[n_modes+k] = -Vx'*control_dynamics(xp, u_ref, nominal_mode)\n",
    "        A[k, n_u+n_β+n_modes+k] = -Vv\n",
    "        A[n_modes+k, 1:n_u] = -Vx'*dfdu\n",
    "        A[n_modes+k, β_idx:β_idx+n_ineq-1] .= -d_ineq\n",
    "        A[n_modes+k, β_idx+n_ineq:β_idx+n_ineq+n_eq-1] .= -d_eq \n",
    "        A[n_modes+k, β_idx+n_ineq+n_eq:β_idx+n_ineq+2*n_eq-1] .= d_eq \n",
    "        \n",
    "        β_idx += n_ineq + 2*n_eq\n",
    "        k += 1\n",
    "        \n",
    "    end\n",
    "    \n",
    "    return A, b\n",
    "\n",
    "end\n"
   ]
  },
  {
   "cell_type": "code",
   "execution_count": 12,
   "metadata": {},
   "outputs": [
    {
     "data": {
      "text/plain": [
       "hybrid_controller_reference (generic function with 1 method)"
      ]
     },
     "metadata": {},
     "output_type": "display_data"
    }
   ],
   "source": [
    "# use LQR as the reference for the hybrid controller\n",
    "function hybrid_controller_reference(x, contactMode)\n",
    "    control_u = control_u_ref .- K_lqr*(x .- xref)\n",
    "    return control_u\n",
    "end "
   ]
  },
  {
   "cell_type": "code",
   "execution_count": 13,
   "metadata": {},
   "outputs": [
    {
     "data": {
      "text/plain": [
       "hybrid_controller (generic function with 1 method)"
      ]
     },
     "metadata": {},
     "output_type": "display_data"
    }
   ],
   "source": [
    "function hybrid_controller(x, contactMode)\n",
    "    \n",
    "    u_ref = hybrid_controller_reference(x, contactMode) # from reference controller\n",
    "    \n",
    "    α_ref = 15\n",
    "\n",
    "    n_var = n_u + n_β + n_α\n",
    "\n",
    "    z = Variable(n_var)\n",
    "    A, b = hybrid_constraints_matrix(x, u_ref)\n",
    "    \n",
    "    problem = minimize(sumsquares(z - [zeros(n_u + n_β); α_ref*ones(n_α)]))\n",
    "    problem.constraints += A*z + b >= 0\n",
    "    problem.constraints += z[n_u+1:end] >= 0\n",
    "    # problem.constraints += z[1:n_u] <= 10\n",
    "    # problem.constraints += z[1:n_u] >= -10\n",
    "\n",
    "    Convex.solve!(problem, () -> SCS.Optimizer(verbose=false))\n",
    "    \n",
    "    z_sol = evaluate(z)\n",
    "    if any(isnan.(z_sol)) || sum(z_sol) == Inf # infeasible\n",
    "        z_sol = zeros(n_var)\n",
    "#         println(\"Infeasible: \")\n",
    "#         println(x)\n",
    "#         println(contactMode)\n",
    "    end\n",
    "    \n",
    "    u = z_sol[1:n_u] .+ u_ref\n",
    "    \n",
    "    # return space wrench\n",
    "    f = wrench_control_2_body(x, u)\n",
    "    \n",
    "    return f\n",
    "    \n",
    "end"
   ]
  },
  {
   "cell_type": "code",
   "execution_count": 14,
   "metadata": {},
   "outputs": [
    {
     "data": {
      "text/plain": [
       "3-element Vector{Float64}:\n",
       " -4.900000000000001\n",
       "  0.0\n",
       "  1.7324116139070418"
      ]
     },
     "metadata": {},
     "output_type": "display_data"
    }
   ],
   "source": [
    "hybrid_controller(xref, [true, true])"
   ]
  },
  {
   "cell_type": "code",
   "execution_count": 56,
   "metadata": {},
   "outputs": [
    {
     "name": "stdout",
     "output_type": "stream",
     "text": [
      "New mode from IV: Bool[0, 1]\n",
      "[0.6567327789203578, 0.40666361466307427, 0.9498482574095992, -1.3327791019294997, -1.1451430765445256, -3.9365082784673637]\n",
      "New mode from IV: Bool[1, 1]\n",
      "[0.37862515287011517, 0.32656627153974543, 0.7117036096403838, -0.5761101727398446, 0.6679575170723774, 1.7641657243556559]\n",
      "Simulation status: "
     ]
    },
    {
     "name": "stdout",
     "output_type": "stream",
     "text": [
      "Success\n"
     ]
    }
   ],
   "source": [
    "controller = hybrid_controller\n",
    "\n",
    "x0 = xref .+  [0.5;0.5;0.1;0;0;0]\n",
    "initial_mode = [false, false]\n",
    "\n",
    "tspan = (0.0, 1.5)\n",
    "callback_length = 2*RodWorld.n_contacts\n",
    "\n",
    "h_control = RodWorld.Δt\n",
    "\n",
    "prob = ODEProblem(dynamics!, x0, tspan, (initial_mode, controller, [0.0], h_control, controller(x0, initial_mode)))\n",
    "cb = VectorContinuousCallback(conditions, affect!, affect_neg!, callback_length)\n",
    "sol = solve(prob, Tsit5(); callback = cb, abstol=1e-15,reltol=1e-15, adaptive=false,dt=RodWorld.Δt/10)\n",
    "# sol = solve(prob, Tsit5(); callback = cb, abstol=1e-15,reltol=1e-15)\n",
    "println(\"Simulation status: \", sol.retcode)"
   ]
  },
  {
   "cell_type": "code",
   "execution_count": 57,
   "metadata": {},
   "outputs": [
    {
     "data": {
      "text/plain": [
       "306"
      ]
     },
     "metadata": {},
     "output_type": "display_data"
    }
   ],
   "source": [
    "n"
   ]
  },
  {
   "cell_type": "code",
   "execution_count": 58,
   "metadata": {},
   "outputs": [
    {
     "name": "stderr",
     "output_type": "stream",
     "text": [
      "┌ Info: Saved animation to \n",
      "│   fn = /Users/xianyi/.julia/dev/StableManipulation/example/anim.gif\n",
      "└ @ Plots /Users/xianyi/.julia/packages/Plots/YAlrZ/src/animation.jl:114\n"
     ]
    },
    {
     "data": {
      "text/html": [
       "<img src=\"data:image/gif;base64,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\" />"
      ],
      "text/plain": [
       "Plots.AnimatedGif(\"/Users/xianyi/.julia/dev/StableManipulation/example/anim.gif\")"
      ]
     },
     "metadata": {},
     "output_type": "display_data"
    }
   ],
   "source": [
    "n = length(sol.t)\n",
    "interval_n = 10\n",
    "# n = Int(floor(0.77/Δt))\n",
    "x = zeros(Int(floor(n/interval_n))+1)\n",
    "y = zeros(Int(floor(n/interval_n))+1)\n",
    "θ = zeros(Int(floor(n/interval_n))+1)\n",
    "for i = 1:interval_n:n\n",
    "    k = Int(floor(i/interval_n)+1)\n",
    "    x[k] = sol.u[i][1]\n",
    "    y[k] = sol.u[i][2]\n",
    "    θ[k] = sol.u[i][3]\n",
    "end\n",
    "\n",
    "RodWorld.animation(x,y,θ,Int(floor(n/10))+1)"
   ]
  },
  {
   "cell_type": "markdown",
   "metadata": {},
   "source": [
    "Both LQR and Hybrid controllers work well for this example. \n",
    "When you have issues of the object flying around, decrease simulation step size."
   ]
  },
  {
   "cell_type": "markdown",
   "metadata": {},
   "source": []
  }
 ],
 "metadata": {
  "kernelspec": {
   "display_name": "Julia 1.6.2",
   "language": "julia",
   "name": "julia-1.6"
  },
  "language_info": {
   "file_extension": ".jl",
   "mimetype": "application/julia",
   "name": "julia",
   "version": "1.6.2"
  },
  "orig_nbformat": 4
 },
 "nbformat": 4,
 "nbformat_minor": 2
}
