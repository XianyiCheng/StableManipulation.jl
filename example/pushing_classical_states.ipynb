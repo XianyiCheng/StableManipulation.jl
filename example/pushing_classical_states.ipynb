{
 "cells": [
  {
   "cell_type": "code",
   "execution_count": 1,
   "source": [
    "import Pkg; Pkg.activate(joinpath(@__DIR__,\"..\")); Pkg.instantiate()"
   ],
   "outputs": [
    {
     "output_type": "stream",
     "name": "stderr",
     "text": [
      "\u001b[32m\u001b[1m  Activating\u001b[22m\u001b[39m environment at `~/.julia/dev/StableManipulation/Project.toml`\n"
     ]
    }
   ],
   "metadata": {}
  },
  {
   "cell_type": "code",
   "execution_count": 2,
   "source": [
    "using LinearAlgebra\n",
    "using ForwardDiff\n",
    "using OrdinaryDiffEq\n",
    "using Plots\n",
    "using Convex, SCS\n",
    "using JLD\n",
    "using StableManipulation"
   ],
   "outputs": [],
   "metadata": {}
  },
  {
   "cell_type": "code",
   "execution_count": 3,
   "source": [
    "# (1) system properties and contact\n",
    "\n",
    "const g = 9.81\n",
    "\n",
    "const m = 1\n",
    "const μ = 0.5 # pusher-slider friction coefficient\n",
    "\n",
    "const w = 1.0 # width of the slider (x axis)\n",
    "const h = 1.0 # height of the slider (y aixs)\n",
    "\n",
    "const M = [m 0 0; 0 m 0; 0 0 m*((h/2)^2+(w/2)^2)/3] # inertia matrix\n",
    "\n",
    "const A_ls = [1 0 0; 0 1 0; 0 0 1.5] # ellipsoid limit surface\n",
    "\n",
    "const modes = [0 0; # free\n",
    "            1 0; # sticking\n",
    "            1 1; # right slide \n",
    "            1 -1] # left slide\n",
    "\n",
    "const n_contacts = 1 \n",
    "\n",
    "# simulation step size\n",
    "const Δt = 0.05\n",
    "# tolerance for contacts\n",
    "const tol_c = 1e-5\n",
    "\n",
    "# q = [x_s, y_s, θ_s, x_p, y_p]\n",
    "# x_s, y_s, θ_s: object world coordinate\n",
    "# x_p, y_p: pusher location in the object frame\n"
   ],
   "outputs": [
    {
     "output_type": "execute_result",
     "data": {
      "text/plain": [
       "1.0e-5"
      ]
     },
     "metadata": {},
     "execution_count": 3
    }
   ],
   "metadata": {}
  },
  {
   "cell_type": "code",
   "execution_count": 4,
   "source": [
    "include(\"../models/model_utils.jl\")"
   ],
   "outputs": [
    {
     "output_type": "execute_result",
     "data": {
      "text/plain": [
       "rk4_step (generic function with 1 method)"
      ]
     },
     "metadata": {},
     "execution_count": 4
    }
   ],
   "metadata": {}
  },
  {
   "cell_type": "code",
   "execution_count": 5,
   "source": [
    "# only consider the block is pushed on the edge of x = -w/2 \n",
    "function compute_a(q)\n",
    "\n",
    "    d = -(q[4] - (-w/2))\n",
    "    if (abs(d) < 1e-7)\n",
    "        d = 0.0\n",
    "    end\n",
    "    return d\n",
    "end"
   ],
   "outputs": [
    {
     "output_type": "execute_result",
     "data": {
      "text/plain": [
       "compute_a (generic function with 1 method)"
      ]
     },
     "metadata": {},
     "execution_count": 5
    }
   ],
   "metadata": {}
  },
  {
   "cell_type": "code",
   "execution_count": 6,
   "source": [
    "function compute_A(q)\n",
    "    A = ForwardDiff.gradient(compute_a, q)\n",
    "    return A\n",
    "end"
   ],
   "outputs": [
    {
     "output_type": "execute_result",
     "data": {
      "text/plain": [
       "compute_A (generic function with 1 method)"
      ]
     },
     "metadata": {},
     "execution_count": 6
    }
   ],
   "metadata": {}
  },
  {
   "cell_type": "code",
   "execution_count": 7,
   "source": [
    "function motion_cone(vp, p)\n",
    "    # vp: pusher velocity in the body frame\n",
    "    # p: pusher location in the body frame (assume pusher make contact with x = -w/2 edge)\n",
    "\n",
    "    # return (pusher motion relative to the slider)\n",
    "    # 0 sticking, 1 right slide, -1 left slide\n",
    "\n",
    "    Jp = [1 0 -p[2]; 0 1 p[1]]\n",
    "\n",
    "    fl = [1; -μ]\n",
    "    fr = [1; μ]\n",
    "\n",
    "    Fl = Jp'*fl\n",
    "    Fr = Jp'*fr\n",
    "\n",
    "    Vl = A_ls*Fl\n",
    "    Vr = A_ls*Fr\n",
    "\n",
    "    vl = Jp*Vl # vl[1] > 0, vl[2] < 0, slider sliding to the left of the pusher\n",
    "    vr = Jp*Vr # vr[1] > 0, vr[2] > 0, slider sliding to the right of the pusher \n",
    "\n",
    "    if vp[2]/vp[1] > vr[2]/vr[1]\n",
    "        return 1\n",
    "    elseif vp[2]/vp[1] < vl[2]/vl[1]\n",
    "        return -1\n",
    "    end\n",
    "    \n",
    "    return 0\n",
    "end"
   ],
   "outputs": [
    {
     "output_type": "execute_result",
     "data": {
      "text/plain": [
       "motion_cone (generic function with 1 method)"
      ]
     },
     "metadata": {},
     "execution_count": 7
    }
   ],
   "metadata": {}
  },
  {
   "cell_type": "code",
   "execution_count": 8,
   "source": [
    "# quasi-static: x = q\n",
    "function solveEOM(x, u_control)\n",
    "    # u_control: velocity of the pusher in the world frame\n",
    "    R_WO = R_2D(x[3])\n",
    "\n",
    "    if (abs(compute_a(x)) > tol_c)\n",
    "        return [0;0;0;R_WO'*u_control]\n",
    "    end\n",
    "\n",
    "   \n",
    "    vp = R_WO'*u_control\n",
    "    p = x[4:5]\n",
    "\n",
    "    if (vp[1] < 0) || (abs(p[2]) > h/2)\n",
    "        # leaving\n",
    "        return [0;0;0;u_control]\n",
    "    end\n",
    "    \n",
    "    mc = motion_cone(vp, p)\n",
    "\n",
    "    Jp = [1 0 -p[2]; 0 1 p[1]]\n",
    "\n",
    "    fl = [1; -μ]\n",
    "    fr = [1; μ]\n",
    "\n",
    "    Fl = Jp'*fl\n",
    "    Fr = Jp'*fr\n",
    "\n",
    "    if mc == 0\n",
    "        # println(\"stick\")\n",
    "        t = [-p[2];p[1];-1]\n",
    "        D = [Jp' inv(A_ls)*t]'\n",
    "        Vp = [vp;0]\n",
    "        V = inv(D)*Vp\n",
    "        v = [0;0]\n",
    "    else\n",
    "        if mc == 1\n",
    "            # println(\"right slide\")\n",
    "            V = A_ls*Fr\n",
    "        else\n",
    "            # println(\"left slide\")\n",
    "            V = A_ls*Fl\n",
    "        end\n",
    "        k = vp[1]/(V[1] - V[3]*p[2])\n",
    "        V = k*V\n",
    "        v = vp - Jp*V\n",
    "    end\n",
    "\n",
    "    V_w = [R_WO [0;0];0 0 1]*V\n",
    "\n",
    "    return [V_w; v]\n",
    "end"
   ],
   "outputs": [
    {
     "output_type": "execute_result",
     "data": {
      "text/plain": [
       "solveEOM (generic function with 1 method)"
      ]
     },
     "metadata": {},
     "execution_count": 8
    }
   ],
   "metadata": {}
  },
  {
   "cell_type": "code",
   "execution_count": 9,
   "source": [
    "function continuous_dynamics_differentiable(x, u, mode)\n",
    "    # u_control: velocity of the pusher in the world frame\n",
    "    R_WO = R_2D(x[3])\n",
    "    if mode[1] == 0\n",
    "        return [0;0;0;R_WO'*u]\n",
    "    end\n",
    "\n",
    "    R_WO = R_2D(x[3])\n",
    "    vp = R_WO'*u\n",
    "    p = x[4:5]\n",
    "\n",
    "    Jp = [1 0 -p[2]; 0 1 p[1]]\n",
    "\n",
    "    fl = [1; -μ]\n",
    "    fr = [1; μ]\n",
    "\n",
    "    Fl = Jp'*fl\n",
    "    Fr = Jp'*fr\n",
    "\n",
    "    if mode[2] == 0\n",
    "        # println(\"stick\")\n",
    "        t = [-p[2];p[1];-1]\n",
    "        D = [Jp' inv(A_ls)*t]'\n",
    "        Vp = [vp;0]\n",
    "        V = inv(D)*Vp\n",
    "        v = [0;0]\n",
    "    else\n",
    "        if mode[2] == 1\n",
    "            # println(\"right slide\")\n",
    "            V = A_ls*Fr\n",
    "        else\n",
    "            # println(\"left slide\")\n",
    "            V = A_ls*Fl\n",
    "        end\n",
    "        k = vp[1]/(V[1] - V[3]*p[2])\n",
    "        V = k*V\n",
    "        v = vp - Jp*V\n",
    "    end\n",
    "\n",
    "    V_w = [R_WO [0;0];0 0 1]*V\n",
    "\n",
    "    return [V_w; v]\n",
    "end"
   ],
   "outputs": [
    {
     "output_type": "execute_result",
     "data": {
      "text/plain": [
       "continuous_dynamics_differentiable (generic function with 1 method)"
      ]
     },
     "metadata": {},
     "execution_count": 9
    }
   ],
   "metadata": {}
  },
  {
   "cell_type": "code",
   "execution_count": 10,
   "source": [
    "function discrete_dynamics(x, u, mode)\n",
    "    xn = rk4_step((_x,_u)->continuous_dynamics_differentiable(_x,_u,mode),x,u)\n",
    "    return xn\n",
    "end"
   ],
   "outputs": [
    {
     "output_type": "execute_result",
     "data": {
      "text/plain": [
       "discrete_dynamics (generic function with 1 method)"
      ]
     },
     "metadata": {},
     "execution_count": 10
    }
   ],
   "metadata": {}
  },
  {
   "cell_type": "code",
   "execution_count": 11,
   "source": [
    "function ode_dynamics!(dx, x, p, t)\n",
    "    # p from integrator: (contact mode, controller, t_control, h_control, u_control)\n",
    "    \n",
    "\n",
    "    contactMode = p[1]\n",
    "    controller = p[2]\n",
    "    t_control = p[3][1]\n",
    "    h_control = p[4]\n",
    "    u_control = zeros(2)\n",
    "    u_control .= p[5]\n",
    "    \n",
    "    if t > (t_control + h_control)\n",
    "        p[3] .= [Float64(t)]\n",
    "        u_control = controller(x, t)\n",
    "        p[5] .= u_control\n",
    "    end\n",
    "    \n",
    "\n",
    "    dx .= solveEOM(x, u_control)\n",
    "\n",
    "end"
   ],
   "outputs": [
    {
     "output_type": "execute_result",
     "data": {
      "text/plain": [
       "ode_dynamics! (generic function with 1 method)"
      ]
     },
     "metadata": {},
     "execution_count": 11
    }
   ],
   "metadata": {}
  },
  {
   "cell_type": "code",
   "execution_count": 12,
   "source": [
    "function ode_conditions(out, x, t, integrator)\n",
    "    c = compute_a(x)\n",
    "    out .= c\n",
    "end"
   ],
   "outputs": [
    {
     "output_type": "execute_result",
     "data": {
      "text/plain": [
       "ode_conditions (generic function with 1 method)"
      ]
     },
     "metadata": {},
     "execution_count": 12
    }
   ],
   "metadata": {}
  },
  {
   "cell_type": "code",
   "execution_count": 13,
   "source": [
    "function ode_affect_neg!(integrator, idx)\n",
    "    # if debug == true\n",
    "    #     println(\"down crossing.\")\n",
    "    # end\n",
    "    # u_control = controller(x)\n",
    "    # integrator.p[5] .= u_control\n",
    "end"
   ],
   "outputs": [
    {
     "output_type": "execute_result",
     "data": {
      "text/plain": [
       "ode_affect_neg! (generic function with 1 method)"
      ]
     },
     "metadata": {},
     "execution_count": 13
    }
   ],
   "metadata": {}
  },
  {
   "cell_type": "code",
   "execution_count": 14,
   "source": [
    "function push_controller(x,t)\n",
    "    return [0.5;0]\n",
    "end"
   ],
   "outputs": [
    {
     "output_type": "execute_result",
     "data": {
      "text/plain": [
       "push_controller (generic function with 1 method)"
      ]
     },
     "metadata": {},
     "execution_count": 14
    }
   ],
   "metadata": {}
  },
  {
   "cell_type": "code",
   "execution_count": 87,
   "source": [
    "# straight line pushing \n",
    "pusher_u_ref = [0.0;0.0]\n",
    "nominal_mode = [1,0]\n",
    "xref = [0,0,0,-w/2,0]"
   ],
   "outputs": [
    {
     "output_type": "execute_result",
     "data": {
      "text/plain": [
       "5-element Vector{Float64}:\n",
       "  0.0\n",
       "  0.0\n",
       "  0.0\n",
       " -0.5\n",
       "  0.0"
      ]
     },
     "metadata": {},
     "execution_count": 87
    }
   ],
   "metadata": {}
  },
  {
   "cell_type": "code",
   "execution_count": 88,
   "source": [
    "# LQR controller\n",
    "A_lqr = ForwardDiff.jacobian(_x->discrete_dynamics(_x, pusher_u_ref, nominal_mode), xref)\n",
    "B_lqr = ForwardDiff.jacobian(_u->discrete_dynamics(xref, _u, nominal_mode), pusher_u_ref)\n",
    "Q_lqr = Diagonal([1.0;1.0;1.0;2.0;2.0])\n",
    "R_lqr = Diagonal([0.1;0.1])\n",
    "Ks, _ = StableManipulation.riccati(A_lqr,B_lqr,Q_lqr,R_lqr,Q_lqr,50)\n",
    "K_lqr = Ks[1]"
   ],
   "outputs": [
    {
     "output_type": "execute_result",
     "data": {
      "text/plain": [
       "2×5 Matrix{Float64}:\n",
       " 2.92214  0.0       0.0      0.0  0.0\n",
       " 0.0      2.35453  -1.76589  0.0  0.0"
      ]
     },
     "metadata": {},
     "execution_count": 88
    }
   ],
   "metadata": {}
  },
  {
   "cell_type": "code",
   "execution_count": 44,
   "source": [
    "l_traj = 2.0\n",
    "h_traj = 0.1\n",
    "t_traj = 10.0\n",
    "n_traj = ceil(Int,l_traj/h_traj)\n",
    "xrefs = zeros(n_traj, 5)\n",
    "for k = 1:n_traj\n",
    "    xrefs[k,:] .= [k*l_traj/n_traj,0,0,-w/2,0]\n",
    "end"
   ],
   "outputs": [],
   "metadata": {}
  },
  {
   "cell_type": "code",
   "execution_count": 46,
   "source": [
    "function time2step(t)\n",
    "    return min(ceil(Int,(t+1e-5)*n_traj/t_traj), n_traj)\n",
    "end"
   ],
   "outputs": [
    {
     "output_type": "execute_result",
     "data": {
      "text/plain": [
       "time2step (generic function with 1 method)"
      ]
     },
     "metadata": {},
     "execution_count": 46
    }
   ],
   "metadata": {}
  },
  {
   "cell_type": "code",
   "execution_count": 89,
   "source": [
    "function lqr_controller(x,t)\n",
    "    idx = time2step(t)\n",
    "    xref_k = xrefs[idx,:]\n",
    "    u = pusher_u_ref .- K_lqr*(x.-xref_k)\n",
    "    return u\n",
    "end"
   ],
   "outputs": [
    {
     "output_type": "execute_result",
     "data": {
      "text/plain": [
       "lqr_controller (generic function with 1 method)"
      ]
     },
     "metadata": {},
     "execution_count": 89
    }
   ],
   "metadata": {}
  },
  {
   "cell_type": "markdown",
   "source": [
    "## Hybrid controller"
   ],
   "metadata": {}
  },
  {
   "cell_type": "code",
   "execution_count": 21,
   "source": [
    "# Lyapunov function\n",
    "function V(x, x_ref)\n",
    "    v = 0.5*(x.-x_ref)'*Q_lqr*(x.-x_ref)\n",
    "    return v\n",
    "end\n",
    "\n",
    "function dVdx(x, x_ref)\n",
    "    return Q_lqr*(x.-x_ref)\n",
    "end"
   ],
   "outputs": [
    {
     "output_type": "execute_result",
     "data": {
      "text/plain": [
       "dVdx (generic function with 1 method)"
      ]
     },
     "metadata": {},
     "execution_count": 21
    }
   ],
   "metadata": {}
  },
  {
   "cell_type": "code",
   "execution_count": 22,
   "source": [
    "function domain(x, u, contactMode)\n",
    "    d = compute_a(x)\n",
    "\n",
    "    R_WO = R_2D(x[3])\n",
    "    vp = R_WO'*u\n",
    "\n",
    "    p = x[4:5]\n",
    "\n",
    "    Jp = [1 0 -p[2]; 0 1 p[1]]\n",
    "\n",
    "    fl = [1; -μ]\n",
    "    fr = [1; μ]\n",
    "\n",
    "    Fl = Jp'*fl\n",
    "    Fr = Jp'*fr\n",
    "\n",
    "    Vl = A_ls*Fl\n",
    "    Vr = A_ls*Fr\n",
    "\n",
    "    vl = Jp*Vl # vl[1] > 0, vl[2] < 0, slider sliding to the left of the pusher\n",
    "    vr = Jp*Vr # vr[1] > 0, vr[2] > 0, slider sliding to the right of the pusher \n",
    "\n",
    "    if contactMode[1] == 0\n",
    "        # separating/free contact\n",
    "        # vp[1] < 0\n",
    "        # d >= 0\n",
    "        ineqs = [-vp[1];d-1e-5]\n",
    "        eqs = zeros(0)    \n",
    "    else\n",
    "        if contactMode[2] == 0\n",
    "            # vp[2]/vp[1] < vr[2]/vr[1]\n",
    "            # vp[2]/vp[1] > vl[2]/vl[1]\n",
    "            if abs(vp[1]) < 1e-6\n",
    "                ineqs = [ - vp[2]; vp[2]; vp[1]]\n",
    "            else\n",
    "                ineqs = [vr[2]/vr[1] - vp[2]/vp[1]; vp[2]/vp[1] - vl[2]/vl[1]; vp[1]]\n",
    "            end\n",
    "            eqs = [d]\n",
    "        else \n",
    "            if contactMode[2] == -1\n",
    "                # vp[2]/vp[1] < vl[2]/vl[1]\n",
    "                if abs(vp[1]) < 1e-6\n",
    "                    ineqs = [-vp[2]; vp[1]]\n",
    "                else\n",
    "                    ineqs = [vl[2]/vl[1] - vp[2]/vp[1]; vp[1]]\n",
    "                end\n",
    "                eqs = [d]\n",
    "            else\n",
    "                # vp[2]/vp[1] > vr[2]/vr[1]\n",
    "                if abs(vp[1]) < 1e-6\n",
    "                    ineqs = [vp[2]; vp[1]]\n",
    "                else\n",
    "                    ineqs = [vp[2]/vp[1] - vr[2]/vr[1]; vp[1]]\n",
    "                end\n",
    "                eqs = [d]\n",
    "            end\n",
    "        end\n",
    "    end\n",
    "    \n",
    "    return ineqs, eqs\n",
    "end  "
   ],
   "outputs": [
    {
     "output_type": "execute_result",
     "data": {
      "text/plain": [
       "domain (generic function with 1 method)"
      ]
     },
     "metadata": {},
     "execution_count": 22
    }
   ],
   "metadata": {}
  },
  {
   "cell_type": "code",
   "execution_count": 23,
   "source": [
    "const n_modes = size(modes, 1)\n",
    "\n",
    "const n_u = 2\n",
    "const n_β = 15\n",
    "const n_α = n_modes"
   ],
   "outputs": [
    {
     "output_type": "execute_result",
     "data": {
      "text/plain": [
       "4"
      ]
     },
     "metadata": {},
     "execution_count": 23
    }
   ],
   "metadata": {}
  },
  {
   "cell_type": "code",
   "execution_count": 24,
   "source": [
    "fuz = 0.0\n",
    "\n",
    "function hybrid_constraints_matrix(x, u_ref, x_ref)\n",
    "    n = n_u + n_β + n_α\n",
    "    m = n_modes\n",
    "\n",
    "    A = zeros(m, n)\n",
    "    b = zeros(m)\n",
    "\n",
    "    nominal_mode = [1,0] # sticking pusher-slider contact\n",
    "\n",
    "    β_idx = 1\n",
    "\n",
    "    Vx = dVdx(x, x_ref)\n",
    "    Vv = V(x, x_ref)\n",
    "\n",
    "    # println(\"dVdx: \", Vx)\n",
    "    # println(\"V \", Vv)\n",
    "\n",
    "    for k = 1:n_modes \n",
    "        mode = modes[k,:]\n",
    "        d_ineq, d_eq = domain(x, u_ref, mode)\n",
    "\n",
    "        n_ineq = size(d_ineq, 1)\n",
    "        n_eq = size(d_eq, 1)\n",
    "\n",
    "        if (mode[1] == 0)\n",
    "            β_idx += n_ineq + 2*n_eq\n",
    "            continue\n",
    "        end\n",
    "\n",
    "        dfdu = ForwardDiff.jacobian(_u->continuous_dynamics_differentiable(x, _u, mode), u_ref)\n",
    "        # println(\"dfdu \", dfdu)\n",
    "\n",
    "        b[k] = -Vx'*continuous_dynamics_differentiable(x, u_ref, mode)\n",
    "\n",
    "        # println(\"-Vx*f \", b[k])\n",
    "\n",
    "        A[k, n_u+n_β+k] = -Vv\n",
    "        A[k, 1:n_u] = -Vx'*dfdu\n",
    "        A[k, β_idx:β_idx+n_ineq-1] .= -(d_ineq .+ fuz)\n",
    "        A[k, β_idx+n_ineq:β_idx+n_ineq+n_eq-1] .= -(d_eq .+ fuz)\n",
    "        A[k, β_idx+n_ineq+n_eq:β_idx+n_ineq+2*n_eq-1] .= d_eq .- fuz\n",
    "\n",
    "        β_idx += n_ineq + 2*n_eq\n",
    "        \n",
    "    end\n",
    "\n",
    "    return A, b\n",
    "\n",
    "end\n"
   ],
   "outputs": [
    {
     "output_type": "execute_result",
     "data": {
      "text/plain": [
       "hybrid_constraints_matrix (generic function with 1 method)"
      ]
     },
     "metadata": {},
     "execution_count": 24
    }
   ],
   "metadata": {}
  },
  {
   "cell_type": "code",
   "execution_count": 102,
   "source": [
    "function hybrid_controller(x, t)\n",
    "    \n",
    "    idx = time2step(t)\n",
    "    xref_k = xrefs[idx,:]\n",
    "\n",
    "    u_ref = [0.0,0.0]\n",
    "\n",
    "    α_ref = 2.0\n",
    "\n",
    "    n_var = n_u + n_β + n_α\n",
    "\n",
    "    u = zeros(2)\n",
    "\n",
    "    u .= u_ref\n",
    "\n",
    "    stop_thr = 1e-3\n",
    "\n",
    "    du = [1,1]\n",
    "\n",
    "    iter = 0\n",
    "\n",
    "    while any(abs.(du) .> 1e-2) && (iter < 100)\n",
    "\n",
    "        iter = iter + 1\n",
    "\n",
    "        z = Variable(n_var)\n",
    "        \n",
    "        A, b = hybrid_constraints_matrix(x, u, xref_k)\n",
    "\n",
    "        problem = minimize(sumsquares(z - [zeros(n_u + n_β); α_ref*ones(n_α)]))\n",
    "        problem.constraints += A*z + b >= 0\n",
    "        problem.constraints += z[n_u+1:end] >= 0\n",
    "        problem.constraints += z[1:n_u] > -0.1\n",
    "        problem.constraints += z[1:n_u] < 0.1\n",
    "        problem.constraints += z[1] + u[1] >= 0\n",
    "        problem.constraints += z[2] + u[2] > -5\n",
    "        problem.constraints += z[1:n_u] + u < 5\n",
    "\n",
    "        Convex.solve!(problem, () -> SCS.Optimizer(verbose=false))\n",
    "        \n",
    "        z_sol = evaluate(z)\n",
    "\n",
    "        if any(isnan.(z_sol)) || sum(z_sol) == Inf # infeasible\n",
    "            # z_sol = zeros(n_var)\n",
    "            # println(\"Infeasible: \", x, \" t \", t)\n",
    "            # u .= [0.0,0.0]\n",
    "            break\n",
    "        end\n",
    "    \n",
    "        du = z_sol[1:n_u]\n",
    "        \n",
    "\n",
    "        u .= u .+ du\n",
    "\n",
    "        # println(\"iter \", iter, \": du = \", du, \", u = \", u)\n",
    "    end\n",
    "\n",
    "    println(\"u, \", u)\n",
    "\n",
    "    return u\n",
    "end"
   ],
   "outputs": [
    {
     "output_type": "execute_result",
     "data": {
      "text/plain": [
       "hybrid_controller (generic function with 1 method)"
      ]
     },
     "metadata": {},
     "execution_count": 102
    }
   ],
   "metadata": {}
  },
  {
   "cell_type": "code",
   "execution_count": 99,
   "source": [
    "function hybrid_controller_no_iter(x, t)\n",
    "    \n",
    "    idx = time2step(t)\n",
    "    xref_k = xrefs[idx,:]\n",
    "\n",
    "    # u_ref = [0.5,0]\n",
    "    u_ref = [0.0,0.0]\n",
    "\n",
    "    α_ref = 2.0\n",
    "\n",
    "    n_var = n_u + n_β + n_α\n",
    "\n",
    "    u = u_ref\n",
    "\n",
    "    stop_thr = 1e-3\n",
    "\n",
    "    du = [1,1]\n",
    "\n",
    "    iter = 0\n",
    "\n",
    "    while any(abs.(du) .> 1e-2) && (iter < 1)\n",
    "\n",
    "        iter = iter + 1\n",
    "\n",
    "        z = Variable(n_var)\n",
    "        \n",
    "        A, b = hybrid_constraints_matrix(x, u, xref_k)\n",
    "\n",
    "        problem = minimize(sumsquares(z - [zeros(n_u + n_β); α_ref*ones(n_α)]))\n",
    "        problem.constraints += A*z + b >= 0\n",
    "        problem.constraints += z[n_u+1:end] >= 0\n",
    "        problem.constraints += z[1:n_u] > -0.5\n",
    "        problem.constraints += z[1:n_u] < 0.5\n",
    "        # problem.constraints += z[1:n_u] <= 10\n",
    "        # problem.constraints += z[1:n_u] >= -10\n",
    "\n",
    "        Convex.solve!(problem, () -> SCS.Optimizer(verbose=false))\n",
    "        \n",
    "        z_sol = evaluate(z)\n",
    "\n",
    "        if any(isnan.(z_sol)) || sum(z_sol) == Inf # infeasible\n",
    "            # z_sol = zeros(n_var)\n",
    "            println(\"Infeasible: \", x, \" t \", t)\n",
    "            u .= [0.0,0.0]\n",
    "            break\n",
    "        end\n",
    "    \n",
    "        du = z_sol[1:n_u]\n",
    "        \n",
    "        # println(\"iter \", iter, \": du = \", du)\n",
    "\n",
    "        u .= u .+ du\n",
    "    end\n",
    "\n",
    "    println(\"u, \", u)\n",
    "\n",
    "    return u\n",
    "end"
   ],
   "outputs": [
    {
     "output_type": "execute_result",
     "data": {
      "text/plain": [
       "hybrid_controller_no_iter (generic function with 1 method)"
      ]
     },
     "metadata": {},
     "execution_count": 99
    }
   ],
   "metadata": {}
  },
  {
   "cell_type": "code",
   "execution_count": 103,
   "source": [
    "controller = hybrid_controller\n",
    "h_control = Δt\n",
    "\n",
    "tspan = (0.0, 10.0)\n",
    "\n",
    "x0 = [0;0;0;-w/2-0.10;0.2]\n",
    "\n",
    "prob = ODEProblem(ode_dynamics!, x0, tspan, ([0], controller, [0.0], h_control/2, controller(x0,0)))\n",
    "cb = VectorContinuousCallback(ode_conditions, nothing, ode_affect_neg!, 1)\n",
    "\n",
    "sol = solve(prob, Tsit5(); callback = cb, abstol=1e-10,reltol=1e-10, adaptive=false,dt=Δt/10)\n",
    "\n",
    "println(\"Simulation status: \", sol.retcode)"
   ],
   "outputs": [
    {
     "output_type": "stream",
     "name": "stdout",
     "text": [
      "u, [-1.7478965861302143e-8, -0.20005955711755743]\n",
      "u, "
     ]
    },
    {
     "output_type": "stream",
     "name": "stderr",
     "text": [
      "┌ Warning: Problem status ALMOST_OPTIMAL; solution may be inaccurate.\n",
      "└ @ Convex /home/xianyi/.julia/packages/Convex/uI27T/src/solution.jl:263\n"
     ]
    },
    {
     "output_type": "stream",
     "name": "stdout",
     "text": [
      "[0.09911526825538378, -0.3062122898843956]\n",
      "u, [-8.78032064103284e-9, -0.20003535267531755]\n",
      "u, [0.09961247666764425, -0.294796009662185]\n",
      "u, [2.424306454850944e-5, -0.20002158648738858]\n",
      "u, [0.09974515575124851, -0.2843694097748253]\n",
      "u, "
     ]
    },
    {
     "output_type": "stream",
     "name": "stderr",
     "text": [
      "┌ Warning: Problem status ALMOST_OPTIMAL; solution may be inaccurate.\n",
      "└ @ Convex /home/xianyi/.julia/packages/Convex/uI27T/src/solution.jl:263\n",
      "┌ Warning: Problem status ALMOST_OPTIMAL; solution may be inaccurate.\n",
      "└ @ Convex /home/xianyi/.julia/packages/Convex/uI27T/src/solution.jl:263\n"
     ]
    },
    {
     "output_type": "stream",
     "name": "stdout",
     "text": [
      "[0.0905974510136398, -0.2753822316867871]\n",
      "u, [0.00034690970019189064, -0.24031198883823401]\n",
      "u, [0.010720264895584884, -0.240225149983865]\n",
      "u, [0.020589404750665546, -0.24040284787336236]\n",
      "u, [0.030833882790394108, -0.2404243921331043]\n",
      "u, [0.041821284692170335, -0.2400015748705304]\n",
      "u, [0.05281026927395766, -0.2392928137431864]\n",
      "u, [0.06477903229002849, -0.23799120665085088]\n",
      "u, [0.07572356802076459, -0.23617178534954208]\n",
      "u, [0.08626011930813206, -0.23378265735668047]\n",
      "u, [0.09663077910803126, -0.23019346789721368]\n",
      "u, [0.1059285967962859, -0.2258080097311596]\n",
      "u, [0.11419312076549985, -0.21994149578401104]\n",
      "u, [0.11735470349405752, -0.21334351820075664]\n",
      "u, [0.2948641924747278, -0.23728122454241507]\n",
      "u, [0.2707952273019606, -0.22349030936685474]\n",
      "u, [0.25708878952666386, -0.21413066385771376]\n",
      "u, [0.23823927178377122, -0.20588437828220463]\n",
      "u, [0.2310998373438343, -0.19724570386793908]\n",
      "u, [0.22078209006672173, -0.1871814070634487]\n",
      "u, [0.21800138692948046, -0.1788142659496853]\n",
      "u, [0.20969799385626584, -0.17055607151459126]\n",
      "u, [0.2081428345924725, -0.16224356661886682]\n",
      "u, [0.20646583371678212, -0.15511530903711798]\n",
      "u, [0.20479214008649815, -0.1484627361733792]\n",
      "u, [0.20335868419495293, -0.14243083689167838]\n",
      "u, [0.20146365282635087, -0.13137665201778895]\n",
      "u, [0.19901769804238675, -0.1275383614883444]\n",
      "u, [0.19571327957371704, -0.12760865841998398]\n",
      "u, [0.19257990729040508, -0.12768011329124773]\n",
      "u, [0.19029268966935275, -0.12750259015776955]\n",
      "u, [0.1882450657743256, -0.12767169535938983]\n",
      "u, [0.18659834798718464, -0.12785917884658793]\n",
      "u, [0.27975598345353464, -0.21161957020593564]\n",
      "u, [0.2761316586161149, -0.2103922183981062]\n",
      "u, [0.27342192442887137, -0.2093362988362113]\n",
      "u, [0.2708002084158824, -0.20833615362859628]\n",
      "u, [0.26881986465939994, -0.20740302905771973]\n",
      "u, [0.26724011440477125, -0.2066143990993857]\n",
      "u, [0.2689233689477181, -0.13223639887786115]\n",
      "u, [0.21332873522309828, 0.06239508164108048]\n",
      "u, [0.2076889605465345, 0.04894931012157945]\n",
      "u, [0.20887472943229415, 0.019193986199763747]\n",
      "u, [0.21432560979047918, -0.012777973505482872]\n",
      "u, [0.2035813068008229, -0.0008942380264032768]\n",
      "u, [0.20334156994466543, -0.015023231045465185]\n",
      "u, [0.20353752600331063, -0.02921041293259245]\n",
      "u, [0.1982820436307913, -0.024556307574988393]\n",
      "u, [0.19233171458620596, -0.01800951674237302]\n",
      "u, [0.18707523351907235, -0.014042464650240675]\n",
      "u, [0.18214420384380345, -0.010753512603005024]\n",
      "u, [0.17700404109495876, -0.008074774547081434]\n",
      "u, [0.24943831828561636, 0.07180322925737452]\n",
      "u, [0.24649812736129964, 0.05570067546914444]\n",
      "u, [0.25666622487294877, -0.022735710879229484]\n",
      "u, [0.235112281511909, 0.04751466678195688]\n",
      "u, [0.2704058339070881, -0.17767200706704833]\n",
      "u, [0.21587525555378187, 0.07533347373460993]\n",
      "u, [0.2088023789866521, 0.07016192541973808]\n",
      "u, [0.20608646953244458, 0.05742066348261385]\n",
      "u, [0.20550552953948073, 0.035449219111471496]\n",
      "u, [0.20542741182898444, 0.010594836496689491]\n",
      "u, [0.2040258188035867, -0.004051312649254644]\n",
      "u, [0.20337657615893323, -0.017091659982254898]\n",
      "u, [0.20352943733144832, -0.02918401399149287]\n",
      "u, [0.19862833581450165, -0.025824532459004124]\n",
      "u, [0.19198281001100392, -0.018287031805152624]\n",
      "u, [0.18670472255778664, -0.014010426415455166]\n",
      "u, [0.1818171768951494, -0.010780624810478649]\n",
      "u, [0.17719376515902674, -0.008412374234974816]\n",
      "u, [0.17273613351136805, -0.0064044242138517424]\n",
      "u, [0.1680965120973273, -0.004630290049824044]\n",
      "u, [0.24070286098482768, 0.07144094900381101]\n",
      "u, [0.23782304457905343, 0.05650926664156156]\n",
      "u, [0.23411063915460298, 0.04383888288371037]\n",
      "u, [0.26892881572827804, -0.17794766232283463]\n",
      "u, [0.21356001620594156, 0.07746573073806251]\n",
      "u, [0.20936615400568478, 0.0597326309045589]\n",
      "u, [0.206571266809662, 0.04793355318685183]\n",
      "u, [0.20782016209349985, 0.017481973177914785]\n",
      "u, [0.20691203461784105, -0.0015056585782847293]\n",
      "u, [0.20366185957285599, -0.009978286444100277]\n",
      "u, [0.20342110962718205, -0.021701706708780882]\n",
      "u, [0.2036062716786985, -0.03423218885447427]\n",
      "u, [0.19647664473717683, -0.023181834129077872]\n",
      "u, [0.19060746800657305, -0.017177897292290054]\n",
      "u, [0.18491088744206616, -0.012839334588983174]\n",
      "u, [0.18011785900969957, -0.009962379156288169]\n",
      "u, [0.17559951406081004, -0.007653963716197398]\n",
      "u, [0.17126709113545932, -0.0058818465650535]\n",
      "u, [0.16703428207166154, -0.0043490758914215355]\n",
      "u, [0.23932309813128927, 0.07199123352054691]\n",
      "u, [0.23689845399002765, 0.05194491626459602]\n",
      "u, [0.2678450667195103, -0.11068121122087529]\n",
      "u, [0.2185831881017649, 0.07689178947790831]\n",
      "u, [0.21640312743198437, 0.06014163718359146]\n",
      "u, [0.21284319412152414, 0.04757726330322053]\n",
      "u, [0.2158739364925129, 0.010312783718637508]\n",
      "u, [0.21711974262027922, -0.01707163001680289]\n",
      "u, [0.20420765681504305, 0.005132281437875336]\n",
      "u, [0.2034312397019206, -0.010367316378312359]\n",
      "u, [0.20344700643576538, -0.025139776738686233]\n",
      "u, [0.2004981840755367, -0.027854876457184256]\n",
      "u, [0.19421922873777084, -0.020171029499982167]\n",
      "u, [0.1889046818927822, -0.015630549742899957]\n",
      "u, [0.18365506051584804, -0.012012705071612043]\n",
      "u, [0.1784694684970323, -0.009049358568471609]\n",
      "u, [0.17401670765863936, -0.006940844242223589]\n",
      "u, [0.16979978006349966, -0.005231887704401857]\n",
      "u, [0.16579278345784484, -0.003876345986691744]\n",
      "u, [0.23832686963873267, 0.07147809524393064]\n",
      "u, [0.23557450057698423, 0.05045529875131739]\n",
      "u, [0.2575372858481336, -0.07475772701297843]\n",
      "u, [0.2233892568364453, 0.04948181506825263]\n",
      "u, [0.26049090925889395, -0.18071900339361485]\n",
      "u, [0.2052771887234975, 0.06645021476904035]\n",
      "u, [0.2048766598973955, 0.041441530540920174]\n",
      "u, [0.20427209305341143, 0.02052304393580626]\n",
      "u, [0.2035288072846427, 0.001652332937593485]\n",
      "u, [0.2031977363735824, -0.012717213769112196]\n",
      "u, [0.20342456158382963, -0.026995352973324765]\n",
      "u, [0.19794887478950324, -0.023093206055189212]\n",
      "u, [0.19218072062136307, -0.017171546747207122]\n",
      "u, [0.1868941722592972, -0.013026712827220344]\n",
      "u, [0.18199772346225962, -0.01027846528859126]\n",
      "u, [0.17734364616046297, -0.00791264342960897]\n",
      "u, [0.17266106928583633, -0.005849413254171092]\n",
      "u, [0.16837696085259243, -0.004419970598541831]\n",
      "u, [0.16442266644466894, -0.0031354819202904613]\n",
      "u, [0.2370755510175217, 0.07435481868152742]\n",
      "u, [0.2346926194505713, 0.0541288411021421]\n",
      "u, [0.24896852430604335, -0.043392376601072216]\n",
      "u, [0.2224622031355136, 0.050639750273812435]\n",
      "u, [0.2180392849917064, 0.04393348705532923]\n",
      "u, [0.239866261937505, -0.07355832680471167]\n",
      "u, [0.20512980227335212, 0.03942100346968838]\n",
      "u, [0.20491082163565422, 0.014299045886430111]\n",
      "u, [0.20375487426639416, -0.002529158531567314]\n",
      "u, [0.20333805806384966, -0.01669425586696091]\n",
      "u, [0.20347531659004953, -0.029340988312708236]\n",
      "u, [0.19837979216198104, -0.025071585289617587]\n",
      "u, [0.19172220797534734, -0.017859888630512407]\n",
      "u, [0.18648433179994273, -0.013755856732176877]\n",
      "u, [0.18159675460748906, -0.010554449553183276]\n",
      "u, [0.17699426332378385, -0.00829907623295117]\n",
      "u, [0.17252807372865714, -0.006336122626855956]\n",
      "u, [0.1679328284422555, -0.004616044720023723]\n",
      "u, [0.16393471352576613, -0.003328618784690253]\n",
      "u, [0.16011814221194523, -0.002229524524222635]\n",
      "u, [0.23288794306117427, 0.0719420957710605]\n",
      "u, [0.23037373260989777, 0.05335873964566916]\n",
      "u, [0.24202116832767237, -0.03057667611293791]\n",
      "u, [0.21884614844496617, 0.04774605309322685]\n",
      "u, [0.21551521457593403, 0.03665173392382922]\n",
      "u, [0.23563324664124952, -0.07099192212472721]\n",
      "u, [0.20427584521338094, 0.026435567402055767]\n",
      "u, [0.20354006302107744, 0.005062288488348487]\n",
      "u, [0.20321543008324772, -0.010641700076332698]\n",
      "u, [0.20340282551297836, -0.024847257379491474]\n",
      "u, [0.19964274635095636, -0.025033267251796585]\n",
      "u, [0.19352865656683357, -0.01822097525493842]\n",
      "u, [0.18764982660099092, -0.013518381597707763]\n",
      "u, [0.1827396097951956, -0.010475735948979862]\n",
      "u, [0.17812005233611514, -0.00804569706257393]\n",
      "u, [0.17370139753566527, -0.00621289533071063]\n",
      "u, [0.16938491348302948, -0.004599063833940475]\n",
      "u, [0.16496499813734086, -0.0032422961086190226]\n",
      "u, [0.16109506596405557, -0.0021684465150782254]\n",
      "u, [0.23381387625767353, 0.07302202917527123]\n",
      "u, [0.23202857618470343, 0.04608568511018872]\n",
      "u, [0.26636579280332995, -0.17576856115555556]\n",
      "u, [0.2094315913938581, 0.07919946029257605]\n",
      "u, [0.20796641102606214, 0.060415898728669]\n",
      "u, [0.20609285771406077, 0.0438850038542704]\n",
      "u, [0.20614254227953874, 0.018975988881779954]\n",
      "u, [0.2053039286099776, -0.0006489480708356887]\n",
      "u, [0.2037361950775327, -0.01335126408275802]\n",
      "u, [0.20344585160604586, -0.026041069792138813]\n",
      "u, [0.20134119454892313, -0.03149268824903505]\n",
      "u, [0.19444861675332833, -0.021571809123551625]\n",
      "u, [0.1887775363080692, -0.016098778739105517]\n",
      "u, [0.18322193137677079, -0.012101762982871592]\n",
      "u, [0.17850326979260003, -0.009403114152525165]\n",
      "u, [0.17403689072390918, -0.007224600872987745]\n",
      "u, [0.1697468242670567, -0.005509859419047911]\n",
      "u, [0.16560110844612855, -0.004092734678221412]\n",
      "u, [0.16128931089514484, -0.002775713837811644]\n",
      "u, [0.2344273556871237, 0.07179052986192044]\n",
      "u, [0.23168325401795237, 0.056987008543404834]\n",
      "u, [0.22807430891977074, 0.04453597014359123]\n",
      "u, [0.26246012697532545, -0.17498993794312287]\n",
      "u, [0.20566905794793416, 0.0780033983447937]\n",
      "u, [0.20529966933914065, 0.05477780518329628]\n",
      "u, [0.20469843730923962, 0.032092835680659314]\n",
      "u, [0.20401363122826646, 0.012642475445555197]\n",
      "u, [0.20323556401679194, -0.004924990047143739]\n",
      "u, [0.2033262531217673, -0.021073541661748088]\n",
      "u, [0.20188074525336833, -0.02916891712115584]\n",
      "u, [0.19550106647983032, -0.021086277434667046]\n",
      "u, [0.1899889359916789, -0.01631114764183873]\n",
      "u, [0.18474371690390598, -0.012480713654881457]\n",
      "u, [0.17949682787733856, -0.009432802620869861]\n",
      "u, [0.17500725588985314, -0.007293571619770893]\n",
      "u, [0.17071886271971484, -0.005540340298489383]\n",
      "u, [0.16657925943376245, -0.004168928456948667]\n",
      "u, [0.16254809726786437, -0.002950054957013497]\n",
      "u, [0.23526857665129378, 0.073599018477801]\n",
      "u, [0.23307407195221433, 0.05291434952775916]\n",
      "u, [0.2482101928300905, -0.04613992436852177]\n",
      "u, [0.21937690301803917, 0.059372852140259065]\n",
      "u, [0.21621236714651948, 0.04628888260997196]\n",
      "u, [0.23466929990244004, -0.0608372294689876]\n",
      "u, [0.20485562294802506, 0.03345959821285228]\n",
      "u, [0.20390515226300235, 0.015021908404905976]\n",
      "u, [0.2030771736681949, -0.0019295110416778691]\n",
      "u, [0.20325494316279497, -0.017646582175739903]\n",
      "u, [0.2014708325158417, -0.026364780963751326]\n",
      "u, [0.19522241466628107, -0.01898314719232931]\n",
      "u, [0.18976008385445875, -0.014206812376559718]\n",
      "u, [0.18475508908161253, -0.011165952240658692]\n",
      "u, [0.17992841777938925, -0.008567828856998543]\n",
      "u, [0.17501907547623768, -0.006443420353153406]\n",
      "u, [0.17075455325332953, -0.004877909547327074]\n",
      "u, [0.16666692346067646, -0.003556109531166949]\n",
      "u, [0.16270897737778123, -0.0024793420089224104]\n",
      "u, [0.15887240518698378, -0.0015001658543688148]\n",
      "u, [0.23139783096076147, 0.07369271302964427]\n",
      "u, [0.2290961042005084, 0.05399218975435773]\n",
      "u, [0.23425190452450487, 0.0011339016264850397]\n",
      "u, [0.21873381348371518, 0.04585921011590838]\n",
      "u, [0.23898273453678653, -0.06774802231667237]\n",
      "u, [0.20515256174682112, 0.041883528206931746]\n",
      "u, [0.20481493054698, 0.018612331307619634]\n",
      "u, [0.20425400903438493, -0.0008920564735261722]\n",
      "u, [0.20324873060470816, -0.013676699063473371]\n",
      "u, [0.20342000516267425, -0.027580174630815628]\n",
      "u, [0.19856476500889025, -0.02548486978685901]\n",
      "u, [0.19254617273127916, -0.01868299962883846]\n",
      "u, [0.18717181245210857, -0.014062714507915118]\n",
      "u, [0.18228673449446592, -0.011100983894848508]\n",
      "u, [0.17756808931801796, -0.008502619619174062]\n",
      "u, [0.17267214837005174, -0.006365067237744205]\n",
      "u, [0.16847331537948373, -0.004794771272288688]\n",
      "u, [0.1644596263779862, -0.0034619266096931685]\n",
      "u, [0.16057089243638825, -0.002395033367248106]\n",
      "u, [0.2337604817560042, 0.07218396811912506]\n",
      "u, [0.23113716489453634, 0.05104456268505171]\n",
      "u, [0.24582819671123937, -0.04493464306041352]\n",
      "u, [0.2202576110727109, 0.04521451545157658]\n",
      "u, [0.25551242982929623, -0.17908617207838573]\n",
      "u, [0.2044550457522754, 0.05343169504791919]\n",
      "u, [0.20393536844286123, 0.029526095250321408]\n",
      "u, [0.2030210633990166, 0.010143901192800562]\n",
      "u, [0.20306342496234892, -0.007211568590686116]\n",
      "u, [0.20329545300758659, -0.022240883386155923]\n",
      "u, [0.19820839683291025, -0.019239203705090968]\n",
      "u, [0.19208794092699005, -0.014002506255169278]\n",
      "u, [0.1870313169560386, -0.01087156125188171]\n",
      "u, [0.1822411690266682, -0.00834363009233132]\n",
      "u, [0.1776880044132348, -0.006544907411744412]\n",
      "u, [0.17324304729918025, -0.004939231944187421]\n",
      "u, [0.16866525965994494, -0.0035414711031125927]\n",
      "u, [0.16466115525127034, -0.002480167805629648]\n",
      "u, [0.1608514463301791, -0.001553288422438065]\n",
      "u, [0.23386534100190007, 0.07745310550256625]\n",
      "u, [0.23172444441706455, 0.05613726091756635]\n",
      "u, [0.2341281702586117, 0.011424034868587273]\n",
      "u, [0.2361793781730791, -0.02493822965292914]\n",
      "u, [0.2156442937225539, 0.04355487486225094]\n",
      "u, [0.2502891754507203, -0.1761432604856981]\n",
      "u, [0.2037617751472812, 0.03750643448486632]\n",
      "u, [0.20298089568649966, 0.014911784661626118]\n",
      "u, [0.2029753620978043, -0.003001595094976193]\n",
      "u, [0.20318222959398965, -0.019154414012353935]\n",
      "u, [0.19723872501294376, -0.01343625779154936]\n",
      "u, [0.1919810430683039, -0.010280659716395503]\n",
      "u, [0.18660139044267196, -0.0077953892556855845]\n",
      "u, [0.1820084301068046, -0.0060112523297082745]\n",
      "u, [0.17749390391443234, -0.004522812026580488]\n",
      "u, [0.17319181866802813, -0.0034704780216443225]\n",
      "u, [0.1689850039052996, -0.0024694741808594365]\n",
      "u, [0.1645937600418624, -0.0015454501551698727]\n",
      "u, [0.1607653861001305, -0.0008313650717047618]\n",
      "u, [0.23370343377749506, 0.0823333935139677]\n",
      "u, [0.23278050697966388, 0.04920702801272452]\n",
      "u, [0.26830791185446673, -0.14025579606531693]\n",
      "u, [0.21470012131068553, 0.07301071644623659]\n",
      "u, [0.21294330984930443, 0.054146287490477]\n",
      "u, [0.2085643429593279, 0.036493947991005984]\n",
      "u, [0.21623621844974858, -0.011769640592093856]\n",
      "u, [0.20489567720128096, 0.003336913205721068]\n",
      "u, [0.20374728708662992, -0.012851446050048582]\n",
      "u, [0.20334898321800648, -0.02626431301145672]\n",
      "u, [0.20106830374709575, -0.0314339557188098]\n",
      "u, [0.1942932518247258, -0.021420767830798583]\n",
      "u, [0.18859525319725373, -0.016043924304446528]\n",
      "u, [0.18302332166611734, -0.012043399687399151]\n",
      "u, [0.17829473892556058, -0.009368297114316793]\n",
      "u, [0.1738195651897237, -0.007233768974543012]\n",
      "u, [0.16951530292277261, -0.005608016296603409]\n",
      "u, [0.1653206505639672, -0.004183501584842766]\n",
      "u, [0.16096550318822966, -0.00293998970535441]\n",
      "u, [0.2350085376578868, 0.07492696076297847]\n",
      "u, [0.23253357293914623, 0.05838604579575029]\n",
      "u, [0.22955968536619803, 0.04231225147820465]\n",
      "u, [0.2615394828622086, -0.17744638742285143]\n",
      "u, [0.21301474606882861, 0.06490361620555876]\n",
      "u, [0.2058544086947147, 0.06104986635190622]\n",
      "u, [0.20543020018318314, 0.0368770301536636]\n",
      "u, [0.20536969858065976, 0.011902557487658085]\n",
      "u, [0.2042926341164463, -0.007130630147453265]\n",
      "u, [0.20327066207267638, -0.019917735563002352]\n",
      "u, [0.20344498551394397, -0.03315340172612427]\n",
      "u, [0.19827043387462454, -0.02820366549666731]\n",
      "u, [0.19215915347661128, -0.02019282723601437]\n",
      "u, [0.1866506484951662, -0.015112894648401112]\n",
      "u, [0.18168683516651005, -0.011578361269028784]\n",
      "u, [0.17705334537447234, -0.008926486129908668]\n",
      "u, [0.17262553197527586, -0.0068994452446966]\n",
      "u, [0.16841335027473828, -0.005261827769690733]\n",
      "u, [0.16434413654427096, -0.0039550728255916]\n",
      "u, [0.16048539338603926, -0.0028019447506345023]\n",
      "u, [0.23476327312990297, 0.07586626684137993]\n",
      "u, [0.2322842071188634, 0.05878988096700463]\n",
      "u, [0.22931037179261063, 0.04233513589050655]\n",
      "u, [0.2608823809190739, -0.17743592365713592]\n",
      "u, [0.21276142262118408, 0.06534716752992366]\n",
      "u, [0.20587156041445517, 0.06052904923146663]\n",
      "u, [0.2054017473912562, 0.03628982267317163]\n",
      "u, [0.205269917770769, 0.01137583559401283]\n",
      "u, [0.20421355634916993, -0.007643440233466292]\n",
      "u, [0.20325531685402398, -0.020811782266322423]\n",
      "u, [0.2034245853329182, -0.03421767170031142]\n",
      "u, [0.19764795619502332, -0.027320605386943433]\n",
      "u, [0.19161520266890256, -0.019653034976000662]\n",
      "u, [0.18621957321065813, -0.014672468884873394]\n",
      "u, [0.18121134533474917, -0.011227187781185402]\n",
      "u, [0.17665299501489243, -0.008716125898183767]\n",
      "u, [0.17224364928433034, -0.006680194141947994]\n",
      "u, [0.16805910422761375, -0.005125437462893533]\n",
      "u, [0.1640092645192993, -0.0037910562353721676]\n",
      "u, [0.16013953982615048, -0.0027431833822382564]\n",
      "u, [0.23456777181560504, 0.07667437388987251]\n",
      "u, [0.2321653982786493, 0.05916924631187586]\n",
      "u, [0.229299452630969, 0.042302529903279255]\n",
      "u, [0.2603535457844211, -0.17750298001641657]\n",
      "u, [0.21265677632588623, 0.06585199713401499]\n",
      "u, [0.20588699296295454, 0.06042457160250822]\n",
      "u, [0.20540619201055785, 0.036030743102064985]\n",
      "u, [0.20521190008706472, 0.010898227381952163]\n",
      "u, [0.204245768942375, -0.008219456452254342]\n",
      "u, [0.20324661502803426, -0.02151887499807486]\n",
      "u, [0.20342065509134502, -0.035062785578671964]\n",
      "u, [0.1972767079957475, -0.02676900814021249]\n",
      "u, [0.19124368543341, -0.019259810764713024]\n",
      "u, [0.18593066751951146, -0.014456269920169544]\n",
      "u, [0.1809888872032999, -0.011062774144229062]\n",
      "u, [0.17634107252653966, -0.008559522875025982]\n",
      "u, [0.17197707158455916, -0.0066177095620806765]\n",
      "u, [0.16779020769369343, -0.005051527910518929]\n",
      "u, [0.16374846801014348, -0.003753639359264038]\n",
      "u, [0.15987766308173326, -0.0027005000970277875]\n",
      "u, [0.23450110942192173, 0.07752876677465856]\n",
      "u, [0.23217089264900354, 0.05950088155079445]\n",
      "u, [0.22935857226510364, 0.042188781938740434]\n",
      "u, [0.2598760084696651, -0.1776874555812252]\n",
      "u, [0.21261215301504519, 0.06641934132257635]\n",
      "u, [0.20593397449257245, 0.06066667037842414]\n",
      "u, [0.20547449865416706, 0.0359506666424116]\n",
      "u, [0.2052468709624622, 0.010530303080163039]\n",
      "u, [0.20428033321114583, -0.008823337723119589]\n",
      "u, [0.2032369943257654, -0.022135151070444156]\n",
      "u, [0.2034062570411156, -0.03575605482028789]\n",
      "u, [0.19699734305034236, -0.026447841855592097]\n",
      "u, [0.19098774827604784, -0.018988724099916126]\n",
      "u, [0.18568327134145868, -0.014262613592081749]\n",
      "u, [0.18076684033375506, -0.010907486957774291]\n",
      "u, [0.1761407875396686, -0.00841310262831655]\n",
      "u, [0.17175916231254212, -0.0064914470464951125]\n",
      "u, [0.16755401216950347, -0.004955206151034345]\n",
      "u, [0.1635190020631403, -0.003718501010852016]\n",
      "u, [0.15967176677718742, -0.002667135598276916]\n",
      "Simulation status: Success\n"
     ]
    }
   ],
   "metadata": {}
  },
  {
   "cell_type": "code",
   "execution_count": 93,
   "source": [
    "function boxshape(q)\n",
    "    p1 = q[1:2] + R_2D(q[3])*[w/2;h/2]\n",
    "    p2 = q[1:2] + R_2D(q[3])*[w/2;-h/2]\n",
    "    p3 = q[1:2] + R_2D(q[3])*[-w/2;-h/2]\n",
    "    p4 = q[1:2] + R_2D(q[3])*[-w/2;h/2]\n",
    "    pp = [p1 p2 p3 p4]\n",
    "    return Shape(pp[1,:], pp[2,:])\n",
    "end\n",
    "\n",
    "function animation(x, n; interval_n = 1, fps = 30)\n",
    "    anim = Plots.Animation()\n",
    "    for k = [1:Int(floor(n/interval_n)+1); -1]\n",
    "        i = (k-1)*interval_n+1\n",
    "        if k == -1\n",
    "            i = n\n",
    "        end\n",
    "        p = plot(boxshape([x[i][1],x[i][2],x[i][3]]), aspect_ratio=:equal, c=:gray, opacity=.7, legend=false)\n",
    "        xp = R_2D(x[i][3])*x[i][4:5] + x[i][1:2]\n",
    "        scatter!(p,[xp[1]],[xp[2]], markersize=5, xlims=(-2,10), ylims=(-2,2))\n",
    "        frame(anim, p)\n",
    "    end\n",
    "    \n",
    "    Plots.gif(anim, \"anim.gif\", fps = fps)\n",
    "end\n"
   ],
   "outputs": [
    {
     "output_type": "execute_result",
     "data": {
      "text/plain": [
       "animation (generic function with 1 method)"
      ]
     },
     "metadata": {},
     "execution_count": 93
    }
   ],
   "metadata": {}
  },
  {
   "cell_type": "code",
   "execution_count": 104,
   "source": [
    "animation(sol.u,length(sol.t)-1, interval_n = 10)\n",
    "# animation(sol.u,250, interval_n = 1)"
   ],
   "outputs": [
    {
     "output_type": "stream",
     "name": "stderr",
     "text": [
      "┌ Info: Saved animation to \n",
      "│   fn = /home/xianyi/.julia/dev/StableManipulation/example/anim.gif\n",
      "└ @ Plots /home/xianyi/.julia/packages/Plots/FI0vT/src/animation.jl:114\n"
     ]
    },
    {
     "output_type": "execute_result",
     "data": {
      "text/plain": [
       "Plots.AnimatedGif(\"/home/xianyi/.julia/dev/StableManipulation/example/anim.gif\")"
      ],
      "text/html": [
       "<img src=\"data:image/gif;base64,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\" />"
      ]
     },
     "metadata": {},
     "execution_count": 104
    }
   ],
   "metadata": {}
  },
  {
   "cell_type": "code",
   "execution_count": null,
   "source": [],
   "outputs": [],
   "metadata": {}
  }
 ],
 "metadata": {
  "orig_nbformat": 4,
  "language_info": {
   "file_extension": ".jl",
   "name": "julia",
   "mimetype": "application/julia",
   "version": "1.6.2"
  },
  "kernelspec": {
   "name": "julia-1.6",
   "display_name": "Julia 1.6.2",
   "language": "julia"
  }
 },
 "nbformat": 4,
 "nbformat_minor": 2
}