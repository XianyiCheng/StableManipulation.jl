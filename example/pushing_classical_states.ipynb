{
 "cells": [
  {
   "cell_type": "code",
   "execution_count": 2,
   "source": [
    "import Pkg; Pkg.activate(joinpath(@__DIR__,\"..\")); Pkg.instantiate()"
   ],
   "outputs": [
    {
     "output_type": "stream",
     "name": "stderr",
     "text": [
      "\u001b[32m\u001b[1m  Activating\u001b[22m\u001b[39m environment at `~/.julia/dev/StableManipulation/Project.toml`\n"
     ]
    }
   ],
   "metadata": {}
  },
  {
   "cell_type": "code",
   "execution_count": 3,
   "source": [
    "using LinearAlgebra\n",
    "using ForwardDiff\n",
    "using OrdinaryDiffEq\n",
    "using Plots\n",
    "using Convex, SCS\n",
    "using JLD\n",
    "using StableManipulation"
   ],
   "outputs": [],
   "metadata": {}
  },
  {
   "cell_type": "code",
   "execution_count": 4,
   "source": [
    "# (1) system properties and contact\n",
    "\n",
    "const g = 9.81\n",
    "\n",
    "const m = 1\n",
    "const μ = 0.5 # pusher-slider friction coefficient\n",
    "\n",
    "const w = 1.0 # width of the slider (x axis)\n",
    "const h = 1.0 # height of the slider (y aixs)\n",
    "\n",
    "const M = [m 0 0; 0 m 0; 0 0 m*((h/2)^2+(w/2)^2)/3] # inertia matrix\n",
    "\n",
    "const A_ls = [1 0 0; 0 1 0; 0 0 1.5] # ellipsoid limit surface\n",
    "\n",
    "const modes = [0 0; # free\n",
    "            1 0; # sticking\n",
    "            1 1; # right slide \n",
    "            1 -1] # left slide\n",
    "\n",
    "const n_contacts = 1 \n",
    "\n",
    "# simulation step size\n",
    "const Δt = 0.05\n",
    "# tolerance for contacts\n",
    "const tol_c = 1e-5\n",
    "\n",
    "# q = [x_s, y_s, θ_s, x_p, y_p]\n",
    "# x_s, y_s, θ_s: object world coordinate\n",
    "# x_p, y_p: pusher location in the object frame\n"
   ],
   "outputs": [
    {
     "output_type": "execute_result",
     "data": {
      "text/plain": [
       "1.0e-5"
      ]
     },
     "metadata": {},
     "execution_count": 4
    }
   ],
   "metadata": {}
  },
  {
   "cell_type": "code",
   "execution_count": 5,
   "source": [
    "include(\"../models/model_utils.jl\")"
   ],
   "outputs": [
    {
     "output_type": "execute_result",
     "data": {
      "text/plain": [
       "rk4_step (generic function with 1 method)"
      ]
     },
     "metadata": {},
     "execution_count": 5
    }
   ],
   "metadata": {}
  },
  {
   "cell_type": "code",
   "execution_count": 6,
   "source": [
    "# only consider the block is pushed on the edge of x = -w/2 \n",
    "function compute_a(q)\n",
    "\n",
    "    d = -(q[4] - (-w/2))\n",
    "    if (abs(d) < 1e-7)\n",
    "        d = 0.0\n",
    "    end\n",
    "    return d\n",
    "end"
   ],
   "outputs": [
    {
     "output_type": "execute_result",
     "data": {
      "text/plain": [
       "compute_a (generic function with 1 method)"
      ]
     },
     "metadata": {},
     "execution_count": 6
    }
   ],
   "metadata": {}
  },
  {
   "cell_type": "code",
   "execution_count": 7,
   "source": [
    "function compute_A(q)\n",
    "    A = ForwardDiff.gradient(compute_a, q)\n",
    "    return A\n",
    "end"
   ],
   "outputs": [
    {
     "output_type": "execute_result",
     "data": {
      "text/plain": [
       "compute_A (generic function with 1 method)"
      ]
     },
     "metadata": {},
     "execution_count": 7
    }
   ],
   "metadata": {}
  },
  {
   "cell_type": "code",
   "execution_count": 8,
   "source": [
    "function motion_cone(vp, p)\n",
    "    # vp: pusher velocity in the body frame\n",
    "    # p: pusher location in the body frame (assume pusher make contact with x = -w/2 edge)\n",
    "\n",
    "    # return (pusher motion relative to the slider)\n",
    "    # 0 sticking, 1 right slide, -1 left slide\n",
    "\n",
    "    Jp = [1 0 -p[2]; 0 1 p[1]]\n",
    "\n",
    "    fl = [1; -μ]\n",
    "    fr = [1; μ]\n",
    "\n",
    "    Fl = Jp'*fl\n",
    "    Fr = Jp'*fr\n",
    "\n",
    "    Vl = A_ls*Fl\n",
    "    Vr = A_ls*Fr\n",
    "\n",
    "    vl = Jp*Vl # vl[1] > 0, vl[2] < 0, slider sliding to the left of the pusher\n",
    "    vr = Jp*Vr # vr[1] > 0, vr[2] > 0, slider sliding to the right of the pusher \n",
    "\n",
    "    if vp[2]/vp[1] > vr[2]/vr[1]\n",
    "        return 1\n",
    "    elseif vp[2]/vp[1] < vl[2]/vl[1]\n",
    "        return -1\n",
    "    end\n",
    "    \n",
    "    return 0\n",
    "end"
   ],
   "outputs": [
    {
     "output_type": "execute_result",
     "data": {
      "text/plain": [
       "motion_cone (generic function with 1 method)"
      ]
     },
     "metadata": {},
     "execution_count": 8
    }
   ],
   "metadata": {}
  },
  {
   "cell_type": "code",
   "execution_count": 17,
   "source": [
    "# quasi-static: x = q\n",
    "function solveEOM(x, u_control)\n",
    "    # u_control: velocity of the pusher in the world frame\n",
    "    R_WO = R_2D(x[3])\n",
    "\n",
    "    if (abs(compute_a(x)) > tol_c)\n",
    "        return [0;0;0;R_WO'*u_control]\n",
    "    end\n",
    "\n",
    "   \n",
    "    vp = R_WO'*u_control\n",
    "    p = x[4:5]\n",
    "\n",
    "    if (vp[1] < 0) || (abs(p[2]) > h/2)\n",
    "        # leaving\n",
    "        return [0;0;0;u_control]\n",
    "    end\n",
    "    \n",
    "    mc = motion_cone(vp, p)\n",
    "\n",
    "    Jp = [1 0 -p[2]; 0 1 p[1]]\n",
    "\n",
    "    fl = [1; -μ]\n",
    "    fr = [1; μ]\n",
    "\n",
    "    Fl = Jp'*fl\n",
    "    Fr = Jp'*fr\n",
    "\n",
    "    if mc == 0\n",
    "        # println(\"stick\")\n",
    "        t = [-p[2];p[1];-1]\n",
    "        D = [Jp' inv(A_ls)*t]'\n",
    "        Vp = [vp;0]\n",
    "        V = inv(D)*Vp\n",
    "        v = [0;0]\n",
    "    else\n",
    "        if mc == 1\n",
    "            # println(\"right slide\")\n",
    "            V = A_ls*Fr\n",
    "        else\n",
    "            # println(\"left slide\")\n",
    "            V = A_ls*Fl\n",
    "        end\n",
    "        k = vp[1]/(V[1] - V[3]*p[2])\n",
    "        V = k*V\n",
    "        v = vp - Jp*V\n",
    "    end\n",
    "\n",
    "    V_w = [R_WO [0;0];0 0 1]*V\n",
    "\n",
    "    return [V_w; v]\n",
    "end"
   ],
   "outputs": [
    {
     "output_type": "execute_result",
     "data": {
      "text/plain": [
       "solveEOM (generic function with 1 method)"
      ]
     },
     "metadata": {},
     "execution_count": 17
    }
   ],
   "metadata": {}
  },
  {
   "cell_type": "code",
   "execution_count": 18,
   "source": [
    "function continuous_dynamics_differentiable(x, u, mode)\n",
    "    # u_control: velocity of the pusher in the world frame\n",
    "    R_WO = R_2D(x[3])\n",
    "    if mode[1] == 0\n",
    "        return [0;0;0;R_WO'*u]\n",
    "    end\n",
    "\n",
    "    R_WO = R_2D(x[3])\n",
    "    vp = R_WO'*u\n",
    "    p = x[4:5]\n",
    "\n",
    "    Jp = [1 0 -p[2]; 0 1 p[1]]\n",
    "\n",
    "    fl = [1; -μ]\n",
    "    fr = [1; μ]\n",
    "\n",
    "    Fl = Jp'*fl\n",
    "    Fr = Jp'*fr\n",
    "\n",
    "    if mode[2] == 0\n",
    "        # println(\"stick\")\n",
    "        t = [-p[2];p[1];-1]\n",
    "        D = [Jp' inv(A_ls)*t]'\n",
    "        Vp = [vp;0]\n",
    "        V = inv(D)*Vp\n",
    "        v = [0;0]\n",
    "    else\n",
    "        if mode[2] == 1\n",
    "            # println(\"right slide\")\n",
    "            V = A_ls*Fr\n",
    "        else\n",
    "            # println(\"left slide\")\n",
    "            V = A_ls*Fl\n",
    "        end\n",
    "        k = vp[1]/(V[1] - V[3]*p[2])\n",
    "        V = k*V\n",
    "        v = vp - Jp*V\n",
    "    end\n",
    "\n",
    "    V_w = [R_WO [0;0];0 0 1]*V\n",
    "\n",
    "    return [V_w; v]\n",
    "end"
   ],
   "outputs": [
    {
     "output_type": "execute_result",
     "data": {
      "text/plain": [
       "continuous_dynamics_differentiable (generic function with 1 method)"
      ]
     },
     "metadata": {},
     "execution_count": 18
    }
   ],
   "metadata": {}
  },
  {
   "cell_type": "code",
   "execution_count": 19,
   "source": [
    "function discrete_dynamics(x, u, mode)\n",
    "    xn = rk4_step((_x,_u)->continuous_dynamics_differentiable(_x,_u,mode),x,u)\n",
    "    return xn\n",
    "end"
   ],
   "outputs": [
    {
     "output_type": "execute_result",
     "data": {
      "text/plain": [
       "discrete_dynamics (generic function with 1 method)"
      ]
     },
     "metadata": {},
     "execution_count": 19
    }
   ],
   "metadata": {}
  },
  {
   "cell_type": "code",
   "execution_count": 20,
   "source": [
    "function ode_dynamics!(dx, x, p, t)\n",
    "    # p from integrator: (contact mode, controller, t_control, h_control, u_control)\n",
    "    \n",
    "\n",
    "    contactMode = p[1]\n",
    "    controller = p[2]\n",
    "    t_control = p[3][1]\n",
    "    h_control = p[4]\n",
    "    u_control = zeros(2)\n",
    "    u_control .= p[5]\n",
    "    \n",
    "    if t > (t_control + h_control)\n",
    "        p[3] .= [Float64(t)]\n",
    "        u_control = controller(x, t)\n",
    "        p[5] .= u_control\n",
    "    end\n",
    "    \n",
    "\n",
    "    dx .= solveEOM(x, u_control)\n",
    "\n",
    "end"
   ],
   "outputs": [
    {
     "output_type": "execute_result",
     "data": {
      "text/plain": [
       "ode_dynamics! (generic function with 1 method)"
      ]
     },
     "metadata": {},
     "execution_count": 20
    }
   ],
   "metadata": {}
  },
  {
   "cell_type": "code",
   "execution_count": 21,
   "source": [
    "function ode_conditions(out, x, t, integrator)\n",
    "    c = compute_a(x)\n",
    "    out .= c\n",
    "end"
   ],
   "outputs": [
    {
     "output_type": "execute_result",
     "data": {
      "text/plain": [
       "ode_conditions (generic function with 1 method)"
      ]
     },
     "metadata": {},
     "execution_count": 21
    }
   ],
   "metadata": {}
  },
  {
   "cell_type": "code",
   "execution_count": 22,
   "source": [
    "function ode_affect_neg!(integrator, idx)\n",
    "    # if debug == true\n",
    "    #     println(\"down crossing.\")\n",
    "    # end\n",
    "    # u_control = controller(x)\n",
    "    # integrator.p[5] .= u_control\n",
    "end"
   ],
   "outputs": [
    {
     "output_type": "execute_result",
     "data": {
      "text/plain": [
       "ode_affect_neg! (generic function with 1 method)"
      ]
     },
     "metadata": {},
     "execution_count": 22
    }
   ],
   "metadata": {}
  },
  {
   "cell_type": "code",
   "execution_count": 24,
   "source": [
    "function push_controller(x,t)\n",
    "    return [0.5;0]\n",
    "end"
   ],
   "outputs": [
    {
     "output_type": "execute_result",
     "data": {
      "text/plain": [
       "push_controller (generic function with 1 method)"
      ]
     },
     "metadata": {},
     "execution_count": 24
    }
   ],
   "metadata": {}
  },
  {
   "cell_type": "code",
   "execution_count": 25,
   "source": [
    "# straight line pushing \n",
    "pusher_u_ref = [0.5;0]\n",
    "nominal_mode = [1,0]\n",
    "xref = [0,0,0,-w/2,0]"
   ],
   "outputs": [
    {
     "output_type": "execute_result",
     "data": {
      "text/plain": [
       "5-element Vector{Float64}:\n",
       "  0.0\n",
       "  0.0\n",
       "  0.0\n",
       " -0.5\n",
       "  0.0"
      ]
     },
     "metadata": {},
     "execution_count": 25
    }
   ],
   "metadata": {}
  },
  {
   "cell_type": "code",
   "execution_count": 26,
   "source": [
    "# LQR controller\n",
    "A_lqr = ForwardDiff.jacobian(_x->discrete_dynamics(_x, pusher_u_ref, nominal_mode), xref)\n",
    "B_lqr = ForwardDiff.jacobian(_u->discrete_dynamics(xref, _u, nominal_mode), pusher_u_ref)\n",
    "Q_lqr = Diagonal([1.0;1.0;1.0;1.0;1.0])\n",
    "R_lqr = Diagonal([0.1;0.1])\n",
    "Ks, _ = StableManipulation.riccati(A_lqr,B_lqr,Q_lqr,R_lqr,Q_lqr,50)\n",
    "K_lqr = Ks[1]"
   ],
   "outputs": [
    {
     "output_type": "execute_result",
     "data": {
      "text/plain": [
       "2×5 Matrix{Float64}:\n",
       " 2.92214  0.0       0.0      0.0  0.0\n",
       " 0.0      1.27032  -3.45205  0.0  1.6184"
      ]
     },
     "metadata": {},
     "execution_count": 26
    }
   ],
   "metadata": {}
  },
  {
   "cell_type": "code",
   "execution_count": 27,
   "source": [
    "xrefs = zeros(20, 5)\n",
    "for k = 1:20\n",
    "    xrefs[k,:] .= [k*0.1,0,0,-w/2+k*0.1,0]\n",
    "end"
   ],
   "outputs": [],
   "metadata": {}
  },
  {
   "cell_type": "code",
   "execution_count": 28,
   "source": [
    "xrefs"
   ],
   "outputs": [
    {
     "output_type": "execute_result",
     "data": {
      "text/plain": [
       "20×5 Matrix{Float64}:\n",
       " 0.1  0.0  0.0  -0.4  0.0\n",
       " 0.2  0.0  0.0  -0.3  0.0\n",
       " 0.3  0.0  0.0  -0.2  0.0\n",
       " 0.4  0.0  0.0  -0.1  0.0\n",
       " 0.5  0.0  0.0   0.0  0.0\n",
       " 0.6  0.0  0.0   0.1  0.0\n",
       " 0.7  0.0  0.0   0.2  0.0\n",
       " 0.8  0.0  0.0   0.3  0.0\n",
       " 0.9  0.0  0.0   0.4  0.0\n",
       " 1.0  0.0  0.0   0.5  0.0\n",
       " 1.1  0.0  0.0   0.6  0.0\n",
       " 1.2  0.0  0.0   0.7  0.0\n",
       " 1.3  0.0  0.0   0.8  0.0\n",
       " 1.4  0.0  0.0   0.9  0.0\n",
       " 1.5  0.0  0.0   1.0  0.0\n",
       " 1.6  0.0  0.0   1.1  0.0\n",
       " 1.7  0.0  0.0   1.2  0.0\n",
       " 1.8  0.0  0.0   1.3  0.0\n",
       " 1.9  0.0  0.0   1.4  0.0\n",
       " 2.0  0.0  0.0   1.5  0.0"
      ]
     },
     "metadata": {},
     "execution_count": 28
    }
   ],
   "metadata": {}
  },
  {
   "cell_type": "code",
   "execution_count": 29,
   "source": [
    "function lqr_controller(x,t)\n",
    "    # idx = argmin(sum((xrefs - repeat(x, outer = [1, 20])').^2,dims=2))[1]\n",
    "    idx = min(ceil(Int,(t+1e-5)/0.2), 20)\n",
    "    xref_k = xrefs[idx,:]\n",
    "    u = pusher_u_ref .- K_lqr*(x.-xref_k)\n",
    "    return u\n",
    "end"
   ],
   "outputs": [
    {
     "output_type": "execute_result",
     "data": {
      "text/plain": [
       "lqr_controller (generic function with 1 method)"
      ]
     },
     "metadata": {},
     "execution_count": 29
    }
   ],
   "metadata": {}
  },
  {
   "cell_type": "markdown",
   "source": [
    "## Hybrid controller"
   ],
   "metadata": {}
  },
  {
   "cell_type": "code",
   "execution_count": 30,
   "source": [
    "# Lyapunov function\n",
    "function V(x, x_ref)\n",
    "    v = 0.5*(x.-x_ref)'*Q_lqr*(x.-x_ref)\n",
    "    return v\n",
    "end\n",
    "\n",
    "function dVdx(x, x_ref)\n",
    "    return Q_lqr*(x.-x_ref)\n",
    "end"
   ],
   "outputs": [
    {
     "output_type": "execute_result",
     "data": {
      "text/plain": [
       "dVdx (generic function with 1 method)"
      ]
     },
     "metadata": {},
     "execution_count": 30
    }
   ],
   "metadata": {}
  },
  {
   "cell_type": "code",
   "execution_count": 31,
   "source": [
    "function domain(x, u, contactMode)\n",
    "    d = compute_a(x)\n",
    "\n",
    "    R_WO = R_2D(x[3])\n",
    "    vp = R_WO'*u\n",
    "\n",
    "    p = x[4:5]\n",
    "\n",
    "    Jp = [1 0 -p[2]; 0 1 p[1]]\n",
    "\n",
    "    fl = [1; -μ]\n",
    "    fr = [1; μ]\n",
    "\n",
    "    Fl = Jp'*fl\n",
    "    Fr = Jp'*fr\n",
    "\n",
    "    Vl = A_ls*Fl\n",
    "    Vr = A_ls*Fr\n",
    "\n",
    "    vl = Jp*Vl # vl[1] > 0, vl[2] < 0, slider sliding to the left of the pusher\n",
    "    vr = Jp*Vr # vr[1] > 0, vr[2] > 0, slider sliding to the right of the pusher \n",
    "\n",
    "    if contactMode[1] == 0\n",
    "        # separating/free contact\n",
    "        # vp[1] < 0\n",
    "        # d >= 0\n",
    "        ineqs = [-vp[1];d]\n",
    "        eqs = zeros(0)    \n",
    "    else\n",
    "        if contactMode[2] == 0\n",
    "            # vp[2]/vp[1] < vr[2]/vr[1]\n",
    "            # vp[2]/vp[1] > vl[2]/vl[1]\n",
    "            if abs(vp[1]) < 1e-6\n",
    "                ineqs = [ - vp[2]; vp[2]; vp[1]]\n",
    "            else\n",
    "                ineqs = [vr[2]/vr[1] - vp[2]/vp[1]; vp[2]/vp[1] - vl[2]/vl[1]; vp[1]]\n",
    "            end\n",
    "            eqs = [d]\n",
    "        else \n",
    "            if contactMode[2] == -1\n",
    "                # vp[2]/vp[1] < vl[2]/vl[1]\n",
    "                if abs(vp[1]) < 1e-6\n",
    "                    ineqs = [-vp[2]; vp[1]]\n",
    "                else\n",
    "                    ineqs = [vl[2]/vl[1] - vp[2]/vp[1]; vp[1]]\n",
    "                end\n",
    "                eqs = [d]\n",
    "            else\n",
    "                # vp[2]/vp[1] > vr[2]/vr[1]\n",
    "                if abs(vp[1]) < 1e-6\n",
    "                    ineqs = [vp[2]; vp[1]]\n",
    "                else\n",
    "                    ineqs = [vp[2]/vp[1] - vr[2]/vr[1]; vp[1]]\n",
    "                end\n",
    "                eqs = [d]\n",
    "            end\n",
    "        end\n",
    "    end\n",
    "    \n",
    "    return ineqs, eqs\n",
    "end  "
   ],
   "outputs": [
    {
     "output_type": "execute_result",
     "data": {
      "text/plain": [
       "domain (generic function with 1 method)"
      ]
     },
     "metadata": {},
     "execution_count": 31
    }
   ],
   "metadata": {}
  },
  {
   "cell_type": "code",
   "execution_count": 32,
   "source": [
    "const n_modes = size(modes, 1)\n",
    "\n",
    "const n_u = 2\n",
    "const n_β = 15\n",
    "const n_α = n_modes"
   ],
   "outputs": [
    {
     "output_type": "execute_result",
     "data": {
      "text/plain": [
       "4"
      ]
     },
     "metadata": {},
     "execution_count": 32
    }
   ],
   "metadata": {}
  },
  {
   "cell_type": "code",
   "execution_count": 33,
   "source": [
    "fuz = 0.0\n",
    "\n",
    "function hybrid_constraints_matrix(x, u_ref, x_ref)\n",
    "    n = n_u + n_β + n_α\n",
    "    m = n_modes\n",
    "\n",
    "    A = zeros(m, n)\n",
    "    b = zeros(m)\n",
    "\n",
    "    nominal_mode = [1,0] # sticking pusher-slider contact\n",
    "\n",
    "    β_idx = 1\n",
    "\n",
    "    Vx = dVdx(x, x_ref)\n",
    "    Vv = V(x, x_ref)\n",
    "\n",
    "    for k = 1:n_modes \n",
    "        mode = modes[k,:]\n",
    "        d_ineq, d_eq = domain(x, u_ref, mode)\n",
    "\n",
    "        n_ineq = size(d_ineq, 1)\n",
    "        n_eq = size(d_eq, 1)\n",
    "\n",
    "        dfdu = ForwardDiff.jacobian(_u->continuous_dynamics_differentiable(x, _u, mode), u_ref)\n",
    "\n",
    "        b[k] = -Vx'*continuous_dynamics_differentiable(x, u_ref, mode)\n",
    "\n",
    "        A[k, n_u+n_β+k] = -Vv\n",
    "        A[k, 1:n_u] = -Vx'*dfdu\n",
    "        A[k, β_idx:β_idx+n_ineq-1] .= -(d_ineq .+ fuz)\n",
    "        A[k, β_idx+n_ineq:β_idx+n_ineq+n_eq-1] .= -(d_eq .+ fuz)\n",
    "        A[k, β_idx+n_ineq+n_eq:β_idx+n_ineq+2*n_eq-1] .= d_eq .- fuz\n",
    "\n",
    "        β_idx += n_ineq + 2*n_eq\n",
    "        \n",
    "    end\n",
    "\n",
    "    return A, b\n",
    "\n",
    "end\n"
   ],
   "outputs": [
    {
     "output_type": "execute_result",
     "data": {
      "text/plain": [
       "hybrid_constraints_matrix (generic function with 1 method)"
      ]
     },
     "metadata": {},
     "execution_count": 33
    }
   ],
   "metadata": {}
  },
  {
   "cell_type": "code",
   "execution_count": 77,
   "source": [
    "function hybrid_controller(x, t)\n",
    "    \n",
    "    idx = min(ceil(Int,(t+1e-5)/0.2), 20)\n",
    "    xref_k = xrefs[idx,:]\n",
    "\n",
    "    # u_ref = [0.5,0]\n",
    "    u_ref = pusher_u_ref .- K_lqr*(x.-xref_k)\n",
    "\n",
    "    α_ref = 2.0\n",
    "\n",
    "    n_var = n_u + n_β + n_α\n",
    "\n",
    "    u = u_ref\n",
    "\n",
    "    stop_thr = 1e-3\n",
    "\n",
    "    du = [1,1]\n",
    "\n",
    "    iter = 0\n",
    "\n",
    "    while any(abs.(du) .> 1e-2) && (iter < 100)\n",
    "\n",
    "        iter = iter + 1\n",
    "\n",
    "        z = Variable(n_var)\n",
    "        \n",
    "        A, b = hybrid_constraints_matrix(x, u, xref_k)\n",
    "\n",
    "        problem = minimize(sumsquares(z - [zeros(n_u + n_β); α_ref*ones(n_α)]))\n",
    "        problem.constraints += A*z + b >= 0\n",
    "        problem.constraints += z[n_u+1:end] >= 0\n",
    "        problem.constraints += z[1:n_u] > -0.1\n",
    "        problem.constraints += z[1:n_u] < 0.1\n",
    "        # problem.constraints += z[1:n_u] <= 10\n",
    "        # problem.constraints += z[1:n_u] >= -10\n",
    "\n",
    "        Convex.solve!(problem, () -> SCS.Optimizer(verbose=false))\n",
    "        \n",
    "        z_sol = evaluate(z)\n",
    "\n",
    "        if any(isnan.(z_sol)) || sum(z_sol) == Inf # infeasible\n",
    "            # z_sol = zeros(n_var)\n",
    "            println(\"Infeasible: \", x, \" t \", t)\n",
    "            u .= [0.0,0.0]\n",
    "            break\n",
    "        end\n",
    "    \n",
    "        du = z_sol[1:n_u]\n",
    "        \n",
    "        # println(\"iter \", iter, \": du = \", du)\n",
    "\n",
    "        u .= u .+ du\n",
    "    end\n",
    "\n",
    "    println(\"u, \", u)\n",
    "\n",
    "    return u\n",
    "end"
   ],
   "outputs": [
    {
     "output_type": "execute_result",
     "data": {
      "text/plain": [
       "hybrid_controller (generic function with 1 method)"
      ]
     },
     "metadata": {},
     "execution_count": 77
    }
   ],
   "metadata": {}
  },
  {
   "cell_type": "code",
   "execution_count": 78,
   "source": [
    "hybrid_controller([0.1;0;0;-0.4;0.1], 0.0)"
   ],
   "outputs": [
    {
     "output_type": "stream",
     "name": "stdout",
     "text": [
      "u, [0.4254790424630444, -0.33375905947149576]\n"
     ]
    },
    {
     "output_type": "execute_result",
     "data": {
      "text/plain": [
       "2-element Vector{Float64}:\n",
       "  0.4254790424630444\n",
       " -0.33375905947149576"
      ]
     },
     "metadata": {},
     "execution_count": 78
    }
   ],
   "metadata": {}
  },
  {
   "cell_type": "code",
   "execution_count": 79,
   "source": [
    "lqr_controller([0.1;0;0;-0.4;0.1], 0.0)"
   ],
   "outputs": [
    {
     "output_type": "execute_result",
     "data": {
      "text/plain": [
       "2-element Vector{Float64}:\n",
       "  0.5\n",
       " -0.1618399987660954"
      ]
     },
     "metadata": {},
     "execution_count": 79
    }
   ],
   "metadata": {}
  },
  {
   "cell_type": "code",
   "execution_count": 85,
   "source": [
    "controller = lqr_controller\n",
    "h_control = Δt\n",
    "\n",
    "tspan = (0.0, 5)\n",
    "\n",
    "x0 = [0;0;0;-w/2-0.1;0.1]\n",
    "\n",
    "prob = ODEProblem(ode_dynamics!, x0, tspan, ([0], controller, [0.0], h_control/4, controller(x0,0)))\n",
    "cb = VectorContinuousCallback(ode_conditions, nothing, ode_affect_neg!, 1)\n",
    "\n",
    "sol = solve(prob, Tsit5(); callback = cb, abstol=1e-15,reltol=1e-15, adaptive=false,dt=Δt/10)\n",
    "\n",
    "println(\"Simulation status: \", sol.retcode)"
   ],
   "outputs": [
    {
     "output_type": "stream",
     "name": "stdout",
     "text": [
      "Simulation status: Success\n"
     ]
    }
   ],
   "metadata": {}
  },
  {
   "cell_type": "code",
   "execution_count": 86,
   "source": [
    "function boxshape(q)\n",
    "    p1 = q[1:2] + R_2D(q[3])*[w/2;h/2]\n",
    "    p2 = q[1:2] + R_2D(q[3])*[w/2;-h/2]\n",
    "    p3 = q[1:2] + R_2D(q[3])*[-w/2;-h/2]\n",
    "    p4 = q[1:2] + R_2D(q[3])*[-w/2;h/2]\n",
    "    pp = [p1 p2 p3 p4]\n",
    "    return Shape(pp[1,:], pp[2,:])\n",
    "end\n",
    "\n",
    "function animation(x, n; interval_n = 1, fps = 30)\n",
    "    anim = Plots.Animation()\n",
    "    for k = [1:Int(floor(n/interval_n)+1); -1]\n",
    "        i = (k-1)*interval_n+1\n",
    "        if k == -1\n",
    "            i = n\n",
    "        end\n",
    "        p = plot(boxshape([x[i][1],x[i][2],x[i][3]]), aspect_ratio=:equal, c=:gray, opacity=.7, legend=false)\n",
    "        xp = R_2D(x[i][3])*x[i][4:5] + x[i][1:2]\n",
    "        scatter!(p,[xp[1]],[xp[2]], markersize=5, xlims=(-2,10), ylims=(-2,2))\n",
    "        frame(anim, p)\n",
    "    end\n",
    "    \n",
    "    Plots.gif(anim, \"anim.gif\", fps = fps)\n",
    "end\n"
   ],
   "outputs": [
    {
     "output_type": "execute_result",
     "data": {
      "text/plain": [
       "animation (generic function with 1 method)"
      ]
     },
     "metadata": {},
     "execution_count": 86
    }
   ],
   "metadata": {}
  },
  {
   "cell_type": "code",
   "execution_count": 87,
   "source": [
    "animation(sol.u,length(sol.t)-1, interval_n = 5)\n",
    "# animation(sol.u,250, interval_n = 1)"
   ],
   "outputs": [
    {
     "output_type": "stream",
     "name": "stderr",
     "text": [
      "┌ Info: Saved animation to \n",
      "│   fn = /home/xianyi/.julia/dev/StableManipulation/example/anim.gif\n",
      "└ @ Plots /home/xianyi/.julia/packages/Plots/FI0vT/src/animation.jl:114\n"
     ]
    },
    {
     "output_type": "execute_result",
     "data": {
      "text/plain": [
       "Plots.AnimatedGif(\"/home/xianyi/.julia/dev/StableManipulation/example/anim.gif\")"
      ],
      "text/html": [
       "<img src=\"data:image/gif;base64,R0lGODlhWAKQAfcAAAD/AAMDAwsLCxAQEBQRER4UEB8XFB8fHyEVESUZFSYbFycdGikmJCobFishHSwiHy4jHy8eGDAiHTAmIzEwMDMqJjUgGTUkHzUsKTguKzowLDozMDwjGz09PT4nHz41Mj8pIj8/P0BAQEE5NkJAP0JCQkQ6N0REREREREY9OkZGRkcoHkdHR0ksIUk2L0lBPklJSUpKSksvJUtLS0wwJ0xMTE1EQU1NTU5OTk9HRU9PT1FJR1FQUFIuIVJMSlJSUlNTU1UzJ1VPTVVVVVZWVldXV1hYWFlYWFpST1paWlsxIltbW1xWVVxbW101J11dXV5ZWF5aWV5dXV9fX2BgYGJYVWJiYmNcWmNgX2NjY2RjY2U1JWU4KWVlZWY7LGZmZmdnZ2hmZmhnZ2liX2llY2loaGppaWs5J2s8LGtra2xsbG1oZm1tbW9vb3A7KHBsa3BwcHI9LHJxcXNzc3RtanRta3Vua3V1dXY9KnZvbXZ2dndwbnhzcnh4eHl5eXpALHt7e3w/KnxCLXx3dX15d318fH5CLn58fH5+fn9+foB6eICAgIGBgIJBK4J9e4KCgYODg4R/foVELoWEhIaGhohDLIiIiImFg4pHL4qKiouKioyMi42MjI5GLo6Ojo+Lio+OjpCQkJKSkpOSkpRJL5SUlJWVlZeUk5eXl5hLMJmVlJmYmJqampycnJ1NMp2dnZ6dnZ+fn6CgoKFPM6GfnaGhoaKhoaOjo6SkpKWlpaZRNKampqinp6mpqaurq6yrqq1VNq2tra+urrCwsLKysrOzs7RYOLW1tba2tbe3t7haObm5ubu6ur29vb9dO8DAwMHBwcPDw8TDw8TExMbFxcdhPsfHx8nJycvKyszMzM5lQM7Ozs/Pz9HR0dPT09TU1NVoQtbW1tjY2NlqRNnZ2dvb29xrRN3d3d/f3+BtRuDg4ONvR+Pj4+Xl5efn5+jo6Ovr6+3t7e7u7u/v7/Hx8fLy8vPz8/T09PX19fb29vj4+Pn5+fv7+/39/f7+/v///yH/C05FVFNDQVBFMi4wAwEAAAAh+QQFAwAAACwAAAAAWAKQAYcA/wADAwMLCwsQEBAUEREeFBAfFxQfHx8hFRElGRUmGxcnHRopJiQqGxYrIR0sIh8uIx8vHhgwIh0wJiMxMDAzKiY1IBk1JB81LCk4Lis6MCw6MzA8Ixs9PT0+Jx8+NTI/KSI/Pz9AQEBBOTZCQD9CQkJEOjdERERGPTpGRkZHKB5HR0dJLCFJNi9JQT5JSUlKSkpLLyVLS0tMMCdMTExNREFNTU1OTk5PR0VPT09RSUdRUFBSLiFSTEpSUlJTU1NVMydVT01VVVVWVlZXV1dYWFhZWFhaUk9aWlpbMSJbW1tcVlVcW1tdNSddXV1eWVheWlleXV1fX19gYGBiWFViYmJjXFpjYF9jY2NkY2NlNSVlOCllZWVmOyxmZmZnZ2doZmZoZ2dpYl9pZWNpaGhqaWlrOSdrPCxra2tsbGxtaGZtbW1vb29wOyhwbGtwcHByPSxycXFzc3N0bWp0bWt1bmt1dXV2PSp2b212dnZ3cG54c3J4eHh5eXl6QCx7e3t8Pyp8Qi18d3V9eXd9fHx+Qi5+fHx+fn5/fn6AeniAgICBgYCCQSuCfXuCgoGDg4OEf36FRC6FhISGhoaIQyyIiIiJhYOKRy+KioqLioqMjIuNjIyORi6Ojo6Pi4qPjo6QkJCSkpKTkpKUSS+UlJSVlZWXlJOXl5eYSzCZlZSZmJiampqcnJydTTKdnZ2enZ2fn5+goKChTzOhn52hoaGioaGjo6OkpKSlpaWmUTSmpqaop6epqamrq6usq6qtVTatra2vrq6wsLCysrKzs7O0WDi1tbW2trW3t7e4Wjm5ubm7urq9vb2/XTvAwMDBwcHDw8PEw8PExMTGxcXHYT7Hx8fJycnLysrMzMzOZUDOzs7Pz8/R0dHT09PU1NTVaELW1tbY2NjZakTZ2dnb29vca0Td3d3f39/gbUbg4ODjb0fj4+Pl5eXn5+fo6Ojr6+vt7e3u7u7v7+/x8fHy8vLz8/P09PT19fX29vb4+Pj5+fn7+/v9/f3+/v7///////8I/wD9CRxIsKDBgwgTKlzIsKHDhxAjSpxIsaLFixgzatzIsaPHjyBDihxJsqTJkyhTqlzJsqXLlzBjypxJs6bNmzhz6tzJs6fPn0CDCh1KtKjRo0iTKl3KtKnTp1CjSp1KtarVq1izat3KtavXr2DDih1LtqzZs2jTql3Ltq3bt3Djyp1Lt67du3jz6t3Lt6/fv4ADCx5MuLDhw4gTK17MuLHjx5AjS55MubLly5gza97MubPnz6BDix5NurTp06hTq17NurXr17Bjy55Nu7bt27hz697Nu7fv38CDCx9OvLjx48iTK1/OvLnz59CjS59Ovbr169iza9/Ovbv37+DDi/8fT768+fPo06tfz769+/fw48ufT7++/fv48+vfz7+///8ABijggAQWaOCBCCao4IIMNujggxBGKOGEFFZo4YUYZqjhhhx26OGHIIYo4ogklmjiiSimqOKKLLbo4oswxijjjDTWaOONOOao44489ujjj0AGKeSQRBZp5JFIJqnkkkw26eSTUEZZVDukcMEGM1IGmAcTqmQywCtZ/sfPQJuEEKaAffhwJoDeDHANQtbI4MOcpNxj55145qnnnnz26eefgPJZT6CEFmrooYbSg+iijDYaqKKORippo5BOaumlf1aK6aac3rPPSOYcACZCRJTBy6nX8KPqqqy26uqrsMb/KuustMI6T6245qrrrrrKw+uvwAZbq6/CFmtssMQeq+yysybL7LPQ7mOPSOscUIpCSoyKVT1b0dPtt1p5mxU/04LEDgOVLJStVtyGC25W4sKrFbkhcRHAAQwcYOZB62bVrrzuBgwwVvSC9I45CJuTDkL9bvsuVvFC/LBVBbfU8FX/SiywxgNfVTFLF1uV8VURkzyxVSVX9fFKIVc1MsonV5WyzPOWa7G2GMdM1cw76yzVyiq1TNXLNG9sstEq2wwyziL7LBXPU0H9dM0vCT0V0T0jXXTHFCvNMtMuOx2V1GOL/RTQKVktFdZRm/0U2VDB7RTaKKkdFdtTa50110lX/w320G47JbfggTNF90l2Q4V32Xq33XhUh5uU+FOLx104U4M3lflSkZc0uVOVv335UpuTTrVLnzcVOuGPM843VZ2TlDpTq2s+ulKl4376zezenlTuv/t+VOwjzb5U7ZgLfxTwSDFvFPEiGa8U8qa3brn1c3sd9N9XK2+U8997TxT0IUmfFPW6Y8/661ORD5L5SKEfvPq208+59mlzv7b4RIFflP/9293Seme/6rHPcQTDX930dzf+DQWAD3RgUNz3EfgdRX7Nk2BQICgUDgKFgh6xoFEwuDwNAsWDJxTg1wh4wLy10HUeUyDiGKg4E/4EhTe0YU9A2BERFoWE4Stg+v9eeDYZSo6GlNNhT3DoEyYuUYXbYyHHpng0ImbPb1KsIhVhJkSk8JAjPiQKEP+nRJ440YxQzF8WuWjF9W0Rdkb0HBJBV8adnNGOdczJFxtiD2NIghDYmqPq8piTO+rEkIVMo0ac0QEfCCCQa9zaG/c2yZ/FESPYeGRCwjiUMQawixkE5fMueZFMQtJfhMQJIlWZSpvs0SGmTIgPGFACEYigEvXIpS53ycte+vKXwAymMIf5S3cQ85jITKYyk9mOZTrzmdAkZjOjSc1qQnOa1symNoWJzW1685vzQGQsEVIEOyzjnOBomiiD2Mb6JXAk4+SXIGnXSpus8ib3tKciNxL/T4NwUiiejOA6yTjQobxyIe44wAHutS9/zvN49axJPiUa0ZkcVCH8iIdG4yEPhj10ehWdyURpMlKR7vOIkaSkFlfKxhhiEZUFFWg7kzcuUkbvo+cLqUxKulOdwuSiF/lnUALaQZ/ChKcxQepLgGoRoQKFqBs06kuUOtWTyjGlCKykC7UKFaZWxKk/gWoKY1pUsn7QpuXDafyk6hKqtpWtLPEqRcDqE7Hm0KxjnalS5DoRuvbErk2EK0vc2hLCroSvEvErTwD7RLzeVa9JQWxEFLsTxqLRsYHFLE8kCxHK6sSyeNTsZSHrRbS+T60XFOxKDLta1aaEsw/xbE5Ae0jX/6aEtSrBLUpg6xDZ4oS2iRRtaEk7PNNWELUjtC1KdLtc5ZqEtw3xLUh28YbqWve62M3uG9Cg3e5qtxLG7alwaztenECXIdL9iB3WMIn2uve98I3vI+JL3/pO4gbpLCtxS1jem5xXXch1iR0kgYsCG/jACE4wLRLM4Abjggj5jWp/8enckvz3lEEZsIM3XOAFc3jDEJYpV6+336JceJMBbomGP9xgD7OYwSHW74hFN+GanNijQ1nxixHs4h0fOMYSLjFBhWzQ8PYwxSzRsY87vGQEAzmvM3YjS+H40gwTuMlMxnKBn/zYKLvTy/erMlCUvOQeN5nLmSWyiKfcPiODEf/JKyGzj828ZDQ3Vs0yZrMlxfwTOe+Yzj6282jBbEBCR9bNG0mvR/z8YkDvWNDDNfT88HxWPvuE0Sx29IshTV5KQ1nPkEO0RhTdEUx/WNMs5nRwPd1lUHdV1BkhtUX04Y1pdNQfpuYwqj+salbWmKK/tiisMSJrirwCAkDowgWsEI9cb3jXHO41hYNtUmrH5Mby3EkqeCAOdXgbFR9wtoOhDeIIf7qlriaxS1EH55DwwwHl8La8t+CDK2OZ3A6Wtj6tndQKkwTbDtXJOIAgb3nn4gP2bjK+G6xvYLM6zZIurkhe8QIfPAPFOvEGwQuujl9sIOFl1vKWzd1qdJtckl3/CwkuDoCMVwxgHDjOCT4kwHF1+AEGIJ+zyB9Mcoinm8YP3+ywE7IBVwikCnKIeU7mEIiCN2MCb8j5n3fecJL6myTMPUnWLTz0g/QjAOEQyCpEoHSc6EMMIKDEKLaQgW6Iu8VU7/mdI87foO+Es/AIQDsEAgwGIMQHB6CA4BXxTW1iQxSOEIY86vGGRdDi8ZCPvOQn/4rJW/7ytBACNgrP+V12s/Ogf+bnQ096ZI6+9KgP5ulTz/pdhhMk+QiAOQRiiw304yBFOAQ2dr+wS0u90XFf88lVOvw9g8QAzLj9IoRQ9j7/PtPBz3Pxt/rzpnC2H2sggj/qwQBgNN/3Il84/4zlPujqf9n8YQaJOyiQLySMKdtCeTuDxZ/gqlfb7pFG/167jpB+hGMdGDZmz3dq0RdkdMdOBzg+/DdX7ZYS8qdgBXhuKDd9MJRy7JZjA6hrEVhyE9iBxEdlFxh/GfhsG+hzFKhu+ndoltYTD8hjJTh3KThpCVhkK8gTLXhg9Odk5Jd/Jwh0MygUAFcQxaYRN2hgOfhjO9hpPyh9Hmh8vCOC4feC5deDUkaFhrOAfdWAKFGEWaZl9ide+KeEMShxIWhlUShyX9hv/HZUVycSQUgQQ5gRXIgLR2hgaciGa1hVedgSbzgQcYgRc1iHIyd8TUh9Vph+T2iGWiaIPEeIH//4iFllgYkogGfohUm4aktogGM4SjW4E4EohTxYiBV4iPvXiTrxiWh4ib4Whpi4iSaGhYmlhSeBipboiJFIikO0bpPofJWIZXeoh6y4ipn4E30oEH94EX9AA0KwjMzYjM74jD7wjNI4jUJwAjDHhJBoiKJYRKaYE/JADuAYjuI4juRIDtxQjuhYjuZwe9h4i9vog5I4QDAVjNNGj/v2TmWYM3tYWG0oElv3b7A4WbL4V/0YEv+IdQX5EcXoD8fYEsAljK44ZMPoEwvZkCzxkPU4kSb4jtYXkJ01kIuVkB9xkCNBkv5oVbIDkpUlkh5hkgbJkhxRkSr5WTDJES4JEjf/OZIoWTwzOVs1uRE52ZI/mREyiVXamI2jyJFX2I1JtI+DNZQZEZQx6ZGx1ZO/BZUYIZU2iZUWUZTzqJEwiIsyGI8r9JUR+Un26HC6KI8O45St5Za5tZM3ZZRJiZQoKJZkuIthA5e3xZUWoZUaAVvwoApcwAQBqE5paXV82Vw1FRLVQARooEnfBziLqXV+WRGASZRUKRD9JIRWeRMYeY9gOYVKiYgg0Zlw+Jk2EZpqeZa2eJROSBHzIA20WZvSgA8DgZoDsQMEoFAHkAf0EJzCOZzEWZzGeZzImZzKuZzH2Q7M+ZzQGZ3SGZ3sMJ3WeZ3YyZzVmZ3c2Z3YuZ3eGZ7i/6mc4Dme5nme8jAPF7ENIdCe7hkC55CbknkQSFAJCfMOiDmaoWiX8Ng3IqGbxqiaNcGaipmY96eferSZ/gCgDCmgNEGgB+qa7QiboRYS7BAAGHovk9k9lWkSmRmVlzkRXtmWBgqGCNqK/qmXlFmiasiieIiPKsqhLgqMJwqRKcqW+jijb9WhJfGhFzGiOVqjGSmhmnijZUmiQiqaRCqBbcaUdMSjCAmlJSmXaUWXd1mahbakFKmg6OWgMwGhJqqlG8mfHemkgySlJ4mmL9mY+ZifYhqWWJqLZBlFZomXdZekrWmkdIqkb0qaZHp+eqpGdRqnY2mnCDingsqnhiqRff+6n7F5pEHaqGK4qGi5lpDqppT6mnXpjk3apnupo/yopjhJpadlpf1JqKEEqofFpQBmqlWIqncqqebFqof5qXhaoLcaoYG6QK4KqLB6qJk6QbSKcYP6pzSlqm8JoziKqb/KqMFapCAYo/sjqjpJrULJptLaQNbaET56Ed36l6R6XL16rLkaps9KjMO6odOKrHG5rVuJrctqq7Jqo81aqYjKq8XKqfpKoZtaoZ66ouXaogH7opa6p5F6rhxorFm6qzM0rgtbr5p6pZ2arTXkrkAZohPxrRQBpMyqsHKKsGP6qAbbsfvaryYrsSKbqAcLsRN6sqc6sR4xDUzAABvwCPr/oK7ayq59abEaobEiSpWkcArdIA0McAg4W7E6y5hJa5nwGhKn0AHsWBAUsAZagQVvkhU0AIBZsQE3ixXwQHZZAQ7alxXMQLUkMQVZgBAHkLZZEQJYkhUMcI1YIQC4iRXuQABagQ0UoBXBYAMX0UfGELiCCw8EEQwEwA4IIQMZiqED0LiO+7iQG7mSO7mUW7mWe7mTKwACgLmc27me+7mdu7mgO7qkW7qXGwCmm7qqa7qiu7qu+7qW27qwO7u0KwB8cBHrYAO6u7s20A0DsQwEcLUHsQ8JYw7ssFHIm7zKu7zM27zO+7zQG73SO73UW73We73Ym73au73c273e+73g/xu+2QsP8CC+5iu+7wcSzkAA1bAm/gENAyAMGnVr7psfafC4e1u/+ru//Nu/UIENk8AGpZCuK4EM7IWfVgHAAkzAMAEPlSC8VQENchAHw3AV5uAIbMAK+SAV+7ANrAAKBREMa1AJ9JsS9nAAcRAKJ0AB9xAVsGAApTAFDLDBVHHCKbzCLXwVSjAAm3AVm2AAj9AJcWAV5jAAeVALHbADUiEMB9ABA0AQoHAAqkAEFPApKsEPXZsPBPC2TtEP3ecP/UABtqAyXasPW3wVxiADK9DDVZEOAhAOUVsVTysQ4BAAXRsV0oC3ArEPB6AM/sAPDFDBLoEPAgDBTNEOAXBrdv/gBVlByIYcFfLAAOywxlbBCiGADZWwC1ZMFdBwAPhJC343FXk8EHVsxV6QdCHRD64Sx/6wBifAykuhDQLwfplAA1nhyrAMFVhwCv5AyVVBCPqSCR3wylXRD5kgAAolt3isx/6wvgNBCEogElGwuBjaUP7wCZIcFd0QAOw4CT+AFdiMuFXBDB3wKb5MFYcgANxyDwMADVXhDAagDOSQB1Usysw8DcycB1XQEqJwAFoLFfEQAOJcBmZbFf38z1RRBYFHAQNwAKg8FasQyv5AAbdQFVhgtv0gANZgzwORDgHQLkoASCvBCgcwe1MRAqHgD/dwAMtQySWNFQeDMCHwB+7/UBXtIAB79w4CsA1VkQcwIBDrIHscPRAUAAv+IA8EgA0r4Q73IngUQAxRAQ0EoAQUcAO57BRMvdAUIMhXcc5UsQgHwAUMUNBTwQ4HIAJZcABlIBXrwH4BQAFDIBDIQABOwABSwBL6sHvYoA3YgMBQ0Q7A4AzpOxV5vXt87ddWMQ41fRXd0Au+exX5wAzA4A1TkQ96jQ2UDdTAIA1X7b+e/dmgHdqiPdqkXdqmfdqondqqvdqs3dqu/dqwHduyPdu0Xdu2fdu4ndu6vdu83du+/dvAHdzCPdzEXdzGfdzIndzKvdzM3dzO/dzQHd3SPd3UXd3Wfd3Ynd3avd3c3d3edv3d4B3e4j3e5F3e5n3e6J3e6r3e7N3e7v3e8B3f8j3f9F3f9n3f+J3f+r3f/N3f/v3fAB7gAj7gBF7gBn7gCJ7gCr7gDN7gDv7gEB7hEj7hFF7hFn7hGJ7hGr7hHN7hHv7hIB7iIj7iJF7iJn7iKJ7iKt7eAQEAIfkEBQQAAAAsYAC2AAsACgAACFwAAQj8929fPoEIAfx7tuECgAq0EP6zBaKaQHBOPkAq6GBcwnUW2vy75iQhgHWVbvxjhsbkulQ2/p2T4fLMEYUjgCFcpw0BIoXsMsQxpqwShCQJ562qguSSO4EBAQAh+QQFAwAAACxhALYACwAKAAAIXAABCATw79/Ag//IIakwAUmWgf+EXQAGYJ2xBlAI5nsA7uA4BK/+MUNzsOKWO/9uNSq5rlGYf828sNyiB4A+CNoGrgOHQBZBZhJ0mTOnK4GUgfbEXcGA4cpDAAEBACH5BAUDAAAALGIAtwALAAoAAAhbAAEA+BePkI0dLxYJHMgMAqlq1QIl4DTQ3gNtC9c5ezDwV5yFAte1yPTPUiqQANadufOvVSOU65Qw+sfuAsh14BLYGuhIhrZ1GiO8WWjvl4YLEByAQSmwH8qAAAAh+QQFBAAAACxjALcACwAKAAAIXQABAPiX75YdEloECvxnbQIeXalaaHg1kB6EagrXkRqx6x8sQQoFrovQ6h8dXSEBrAsy6R8hVynXtdD071mQkOvGJcA1MEcjkdo8rFEIb4+DIBYSwLGVkh85MyEDAgAh+QQFAwAAACxkALcACwAKAAAIXgABAPjXjxqMJqYECvz3TYOTRm4aMME1cB4EZwrTKYmy618oSQoFmkuA618VZSEBrPNQyiTKkOs4oPq3KhDMcQoE4ptgTOC6cS3ICLQXLoWMM0oaYEn5DwCPLq8UBgQAIfkEBQMAAAAsZQCoADQAMAAACP8AAQgEYI8SooMIEypc6Gehw4cHrw0EgC4GxIsHAWHEqCbNRHQ/JoocSbKkSZGZPA4EebKly5YpP4Z8SbMmgJgrZ9rcaRKnQJY8g470SVGn0KNEgR5FqvKn0aU8kz6FalMqVaFWr0ZtWlTrVpled+L8p49YB05ha8b8xwuCky0rKnhK6zLlP2EtwAlcp0wBK7on7WLQNnFdpSOAe6bZd2FktQ2JS6bM11hkNQ2RSdqdoHfgOlJIcGVGmeYfqyDp9lZLYGo0aYKXJOCp5GRBItciKX0Z+A4VBUC2cL/OKXwoV6XFBWZNrvz4VOHLmUdPPr14dejOmQ+8jpu7a++jwWc5Fh+ZfGLzgNHTVZ+WfVj3XuFrJaruxJH7+PPr319kv///R/DAxkT+dMPNgQgmqOCC1Czo4IMHthMQACH5BAUEAAAALGUAqAA1ADAAAAj/AAEIBPAvXi1ZCBMqXLhwFcOHEBPeG0iQWo02GDNq3LhRDcePIDEW0UTxH7UpFFOqXMmyJcVcfUgONInSpc2bLWHKFEgTp8+fAHSWPAm0qEuhM4kaXZoSKU+lTKM6rVgzKtOpPa1ejTm0qtaiWKF+BRrW61ifZc+C5ZrUrFqbTv/9QwYE11u0bP8dq+CBQwIhsu7C5foP1wptAtMF0iD4KNd+EMBRXNejUGOWOv+RC5JynSshl1dm3uaks64doVUKpXehc6AuqZsSrkJq4DptCVrFfsn2nY0groDhUXBoN8VaeibNfIYFQ5lYxl/6ydQ1etPp1a0PzIW9rfbt3Z+6ZTXOnbr370HDU0Wf3rx49uWzf49/fr76rPbdr0dP/z3/+2JZ199++cmn3YD4HQjgeLshGGB0DjIYW4TwLVihfiaxkMWGHHbooYdWfCjiiBvyYElJ9SSj4oostuiiMC7GKOOK5wQEACH5BAUDAAAALGYAqAA1ADAAAAj/AAEIBPDvXbKDCBMqVChsocOHCJsNFPgPFg8wGDNq3KhRC8ePIDPieDaxYpuJKFOqXMlyYq4vx0rCOtmypk2WL2MONHmzp08AOWXS/El0ZdCdM4sqTXmUYtKlUIHCFBoValOCT6sWvcpT69apSId69ck169ieZcWetZl2LVmwFF+pdYsT7L9lGxoAmHCIbs1cXWL++9RCG4B11TiQ8Ysz8D94EtJNNJcAFmOVgI/96/UH5botfS4zdYyqkudAbESjzHzXi+cekFS7DAxAHwTDAhEvwCV7YGYA9ppBwFStWiMFsXsLrJUl2MB5kzRMgGJZucDfYa3P1ul0bm/s3bX7b6adXTxQ8uHNg8fqXfb6ruK5xkqtHi7B+ealcr9PP779f/jVtx+A/WknX4HWHZifggKWFKB/Az5o4H8SJkghgsoxCKGDGH73nyw/tCHiiCSWSKIaJqao4og6FFNSOK3EKOOMNNJoSo045ijjK+wEBAAh+QQFAwAAACxnAKgANQAwAAAI/wABCATwTx63gwgTKkxIbaHDhwnFDRT4L5OOJhgzatyY8QjHjyA16gg38R8lQBNTqlzJsuXEXE+slTzpsqZNlzBlDjSJ8qbPnzln9vxJFGdMoUWTsgy6k6bSpwOZUnQK9alUglSrJr3KU6vVo02HeiXKNetYn2XFnr2Zdi1ZsFPVujWq8x+2HQASvDA112bQf6A8KAOQbpYCSH3p/lN3Id3AddUc4Eq8NOa/UZVSrlvBifLKnP8GzdLs5JBnlaBPSdK8wtPplKDbXTD3OPLk11GP2gtsLJ25VAkQ4x5Ya8kzit6QKFCQY9Xwl3AJWpI7PJcUnRSnP4d9vaT27VG772b8Dh6AdezSqeM+7139a/bj3Z+Gn12+Z/rpywvE/488eP7+bQegfZQNqJ954tV3oIH6MVieg/8lmF+DEvZHYGIQClhhgM8BaAUiIIYo4oghAkLiiSiKyAM1JTGT4ot+vCijiIy0ExAAIfkEBQQAAAAsaACoADUAMAAACP8AAQgE8G+fu4MIEypEeG6hw4cK4Q0U+C8UCx0YM2rciLEGx48gNQLgcW7iP0uAJqpcybKly4m5nlgzifKlzZsvY84ceDIlzp9AddL0CbRoTplDjSptKZRnzaVQBzal+DQq1KkEq1pVirXn1qtInRL9WrSrVrI/zY5Fi1Mt27Jhqa59e3Tnv3Z5IEyIIovuTaH/gl1wpa1aowWe/Nb9B08CuIHrlE1Q7FLnv1aNVK7zIIoyS8uDZml2ksjzSsugOmlukcm0SsvkPExcp00BLtcwkdrb00PbusgN9OCeWGvJM4rFNiRIoKH1cKlxCVKaOzyXlJ0Upz9/fd2k9u1Su/N1/A4egHXs0qnjPu9dvWv2492bhp9dvmf66csLxP+PPHj+/m0HoH2UDaifeeLVd6CB+jFYnoP/JZhfgxL2R6BiEApYYYDPAaiGJyCGKIopJJZo4ogmpqjiiiUagd4/vmQh44xZSGHEjTjmOESOPPboY45NnBMQACH5BAUDAAAALGkAqAA1ADAAAAj/AAEIBPCvoMGDCA/aS8iwYcKBA/9pCkGxosWLFDtg3BhCRYyPIEN+pAIP4j8AjCCqXMmyJQBZr2LKnBmTiDeTfh653MmzJ4BcRm5GzOmzqNGfQXHqPMrUJVChAv8RbUpV5VOlVbMKvDp0qVaqXKNO/do0LME+kMiCTRpRT1q1TM3+cws3LtuodOsalZtXr0++b/325Ppv3igNKfQIHpz0XzIIkozpUoKh1WKnQf+9kwBu4DpSJi63fPovVCWV6xrEEr0S6Ld/Y4yh7pGJtVUjr/foQu1hlG2Irv81cwJxnbYFv4HjBmDPxp90ANZVsyAn+cBaQ7AJ3DfJAYcGEBJZiR/o2qQaROOVfzPZN335toHdL4efnvx8vPHH5yoSjn1+6/v1R199P/HnH4EFCogfggEeSGCDA9YH4YIPGhihexbiNQmDGRJ0x4YVKughiBJ2+M+HHIp4IokYqohiiCa9WKKLLOpn4h2IyIRLLjz26COPtfwo5JBETkgQJyGJwJFFGi3p5EYnqBMQACH5BAUDAAAALGoAqQA1ADAAAAj/AAEIBPCPkpGDCBMqNDJkoUOFUrJInDhxkr6BBKVMMsWxo8ePoj6KHCnKk8mTJ1nAw/hPiiiMMGPKnEkTY64ZKwe2fFmzp0+aN3MK3PmzqFEAQVm6PMq0ZlKdS5tKhfl06BOeU7NWJXg1q9eb8Vh29ToVrFisZJma1Tk2rdoZYdmidVt0rdW5dH3aJdgEb16ncIfiC7YhSai/dWOE/ZcMQpxUjSIIwYW4Zy7F/85JADcwnRIslZ1i3uMK5rgFoYFifqEN5roItVLLvBzvn41qrhvckh2T9j9NkjCuqwaBd2/FANxNACZwnTYLfozDrMWCHUF2O0AoWbGgj3SqyAfGp1OBiPJ3m+GHLhl1HnzcoUlKtUf/nmD8+QNps7yPH2l6+/L1p59O/OE3IHwBGgiDPPslON9lDBLoYHsQNtiffxEieGGFEm4YQ4YAegjiPwU+CMM8Fgp4IktHTHheLivq1OKGMQ41o4ooyujidzDmaOOO0vXIYim5FGmijwR1ccKSTDbp5JI6RCnllFRWaeUJ9sC0jz1cdunll/a0486YZJZp5plohhUQACH5BAUEAAAALGsAqQA0ADAAAAj/AAEIBOBv0ZyDCBMqZKOwocOHBwEhGwhgnwhKGDNq3Ahpo8ePIDECwkFx3wmKKFOqXMkSZSsdJU+2nEmz5cuYNXPqFHhzoMmdQGf2FPgzqNGUQyvKPMoUQNKiTY+y4oEzqlSqPpdaBTq16lauWIlq/Zqz60B9Y8nSNCsQrdqdq7D+y9eMAaRab2vGBfCPGAQvgZQsAJR3Ztx/1DyAE7hOWwNNhVketuGM4jpgKSKvPDwhZboFmlVy9gw6NMrJlQdezmyaYlx7zS4sBtC4gaXWFE3d4FtsAmDBhXC7DkuXQiJbwodTzJdW+N6BzJOfDgsguvSBzwVavw5g1Y/lzXF7fQfPXeB46OFbn9ee3vT66u1Dv99+fRUQ8uXtU8QXX7P+gfyV1919APYX2X8CBZgfgQkaWBiCANyjgoAQSkghgxFOuCBFFm44UIfcQZgPAECUaOKJKPKAIopENOHiizDG6GIRRlD0Dzvl5Kjjjjx2wyOP4XAj5JBEFjmkOgEBACH5BAUDAAAALGwAqQA0ADAAAAj/AAEI/AfPE6eDCBMiFJVJlMOHECNKnOjQnUAA/7Ld0MOxo0ePcz6KHEmy4xRGFzM2uciypcuXMGMCyFXoUcpsK2Xq3BmTps2BOHkKHTqz5s2cRJPC9HlUqVOXNCGlxIb06dOoU6taVYp1INWtVrti/ArWqdh/ZMsmPZtW7VCmXp+4XVtIaty5RLv+29eLRSu8QrH+swWBBoAIKVgB1hn1H6se4ASuSzXh1uKedfs9GMdy3RY5l5cWmnTOcGddOUK/pDkpXJCW64DZUA11tD4JsANpod2Stb01gi6uq5ZgFW+WtfwkArBvDIhKqbYssHScJeuB4fpsuFOrunVAlFJejZPr/Xv4gePLmxdPXv1M8OzdC8wFH3179fTPY7QmRf57/f/w519+KQkoH4EDGegegvv1d2B9+91XHoMBSugdfdQlaGF1GBa44XEdajggIBlGOGKJFZ5YoIMLkriiigmyiJ+LMcK4HwxWSKHjjjzu2ESPQAYp5I44lAhAPtREo+SSTDLJTJNQRiklk+wEBAAh+QQFAwAAACxsAKkANQAwAAAI/wABCATwL5yvgwgTJrylsKHDhwmTDRT4L9SPMhgzaszYZaPHjyDLmEmT5sa0if9A6ZnIsqXLlzAn5qICDaXKmDhzxpxZc2DKlTqDCuVpE6jQoztpFkXK9CVRnzebSh2Yy0pPilGnSq16lWBWrUy5LgXbVCxUo2SPmqXoCW3aoDOjoeTk9m3OqnJ90rWr1kpegv8WweE71K9Afp8ccADgQA7hu4b/XUFjTqC2FVoe7/T7z1sLluYSyNLslEq0ip1YrlPCiLTLXFNOR0qlmosf1y1hnw4WRzUHUbhZ6gYAD0K1get0YQjOstYTZgSzTfgDTJeTCaiYy4w9MF8rEyPk4I3Svv0vQU19yAs3jRK9epnsfbp/LzBu+/T0AdiXj58+7JP85acfFQBSNJ9/BN4n4EwFntffewwqmF+EPmVy24RTUIOShQtmuOGF/nlYIYgQikgRhxhqOGKHKlJkCSAsovRijD7NmKKMMN5YY44htkiQJUSQJOSQQ45EZJEhJQmDj/+QA5FCDD0pJUTyBAQAIfkEBQQAAAAsbQCpADQAMAAACP8AAQgE8M9asoMIEyIUprBhsmbRIkqcSFEiu4EEWWgBw7GjR44bP4rMIqWkyZMoTd7A+E+FLIwwY8qcSRPjLREsXdbcybPmzZwvewod+nNgy6BDk/rEaVSn0qcyiwo8CrWqzRIsTyC1CtXWiaxbuSr1ClZsVbJGtZrt+jVt2LU90U5VCzepXIInatW123au3r1Cyf6zt2cCAgU2WgHmSdYeBkzpAKwjtWDV4ppe/znChHFdqhyXaWbWMA5mugWhZ2aeEHOdgtQyM6eoBhMcBNgxvdqL5aTzFixvU8PC6W+NDADajLUwgQs3TLQFySR4Ach57r54/1rHePdf3u3PsXt3twWeu/gT5MsLrHU+vXr2Wd2Xh59WPnj6c+1vx49Xv3X+46m3XnsCAgAgegUe6J9zCiZIoIANQvigerJMWF6F8RWIYX0aWgjehnOx0caIJMqhx4knzoHiiiy26CKLc4jXSys01tjKKqLkmGMmOvbo449A/mhLQAAAIfkEBQMAAAAsbgCpADQAMAAACP8AAQgE4M8bt4MIEx6kprChw4cN5w0EAO/EkYsYjyxpwrHJkY4gQ4ocKXIIoInvbkxcybKly5cTc4GyglIlzJs4X8qkOTBlzp9AAeysGbQozKED3eEwypQlUoFKm0oV+BRA1KlNq17FalTrUq5dZ05s9xVs0Fyesowta/YnWrUDybY9m3btXKBv7d7NmfffvUETCkwwg2vvUU9a/r2rgCkdAHBOPhQ23BJt4iqzJq5T0oZyZcT/Hqxc5+yDZ6eeuvC7wBLchNMrc3HqEnq0MhOwY862N4aU5h5zcg+slcnKv3kb/gBI56zFC+EDZXcRyG/UiAIf/ECPPnssj+26p8eM/Q6eavfx5c2LF9hOR3qh59m7Ty/7y9j55evff68/Ln7w/cnHHyf2DcQOeflxAsZEBw64oIEIAqgggxFuJ9uDAjVI34QQOkihhx1uiCEAGiZYxof0aWIGivmpyCKALhoIAyI01mgjjYDcqOOONDJCyY9ABjnHigPdQwmPNvqB5JKIADLHk1BGOQcuAQEAIfkEBQMAAAAsbgCpADUAMAAACP8AAQgE8M8funbuEipceG6hw4cQIyrcN5BgOBU6amjcyDEGx48fcegYSbKkyZEwZFX81+1IxZcwY8qcWTEXI0ArW9LcyZOmTZwDWbrsSbToz5XckhRdyjPXokJIlTKdGtMp1KBJqWqt+TTq1q+5EiHy+lVr2LFYpZadepbsWqZt075lK9btXKJxBf7btuTu0rCJVvL1azRRYIL5JmkwkMIS4aaGCaqbIElbOmAcojz2iWgRQRvAKqazoGmzzFydAdC78HJdKiSmqyJi9E9ckNbKUsSGiZoRgHggWrsSsvtlbwD2PjiruM6D7+IDawHC+e/bg1nr1mlrkQN6zdl6342wcYBgAh/v35/rzdYEvXHwQbG1dz8wV6FHK+XTr38///z99kGS3xP7CRTggAUCcGB8BBa4oF7YNAhgfwwm+CBBEVpYiIAVOljIJCtdIyF99oEYlIgamqgXih6qSJA1UlgICCUrwSgjjUFZM6J7ucxY447o9YijXjre+KOROcboICCO5UiEJ1BGKaUnmUxp5ZVYTmmKHE3qhY4ZXYQp5phdWEFmFmimqeaabK55hBG8BAQAIfkEBQQAAAAsbwCpADUAMAAACP8AAQgE8M+fvYMIE9p7p9Cev38QI0qcSJHiQIH/kp1gwbGjx40eWYQYSbKkyZMow138J6zMxZcwY8qceTFXml0rW9LcyZOmTV45XfYcSjSXGaADWQolytTn0aBNo8o0ihRjMDNSs9ZMU5XgVa1gqa78Cjbrz7FYy0o9m5Ss2qZGe630lfYt07hz69odijcp3b13zcj1qxfwzr7/8H0aAQHKK8M88f7zNkGSM2eVFECC7FRuvwrV0glcV01BLc5Tzfj6Z83Jy3VOAKGOaXT1LkOvK2mZDbN2RjSv8bTh/bI2AHcOzF1M16AU8Yu1wNwiqGpFNQDrtK2I8rymmWAYm327iJAAgp7u3sEn3bUUvUCj6jHySuM+/cr59QfCv18Yfa4ywvCX33sA3kffgP8FuN6B+SW40i4M1pcLGApiZNOAADiY1IUIFrhhhO5NOMxKuIDoXxkjJnWLGhj+lyJGuLCIIBgvEhRjizSSKGODYBCz0oo4+piULWwEuRKRRiZVS5EzConRkkk++YUpVFZppSimvKLlllx26eWXXGbhJEHMEGHmmWgS8QMRNbTp5ptwwjlDDHTWaWcMM0QTEAAh+QQFAwAAACxwAKkANQAxAAAI/wABCATwr6DBgwXtISw4sKHDhxAj/gsVo6LFiywu1tjIsaPHjT+IiBxJUqSaeA3/ASr0qqVLl6teypw5c5Wpmzhz3hziLaWfRxGDCh3qMJeRngP//STKtGlDo0gF/usDyalVoka/pdRT9apXiFm3dv1KVmCuIuHEll17Nm1SrmvLtlUb9+vct5Pq2kWb8k5evVfvSvULODDfpIQLO81FxK1UPX8VM2Xs9t+8Uhte+JE8mYg4gskgNAI2q4eGWJyFMhb3z50EcAPXYXqROujqf5o6OVzXQFZtsJ7/XTG2u4Wn3w9zDSH3742u3RxMIS+63N4vJw3XaVsw3WGtH9wA+NJ70SgdgHXVLOjp/nS5wHyEHHCIAOEQ+/bkUmphdJ96/qRtWNJfe+WkFOCAAylXIIACIgiAcucY2CCCEEro4INARJgUGxMOmEuGKXF44YcaSiWigySG2GF/KW644n25/FAiQSdSCGJSALzIXozopJTjiD/0mFQamQAppFREGpmSGUWiyIM6SzZJ4Q9QJsXkiE9GiWWVUpmhCZbsLKlJLmSWWWYtZqap5ppsmslDmEkVEsKcdNbZQZ145jknC3z26eeffJ7wDnL2FGrooYgWig8AAQEAIfkEBQMAAAAscQCqADQAMAAACP8AAQgE8M+MkYMIEQ5JaCWLw4cQI2rpQrGiRYuyBhIMYaqjR4+iPoLyRLKkyZMoU3qyBEPjvxAaY8qcSbNmTFgtB/qDabOnT5s4Ne78SbSoQFgxhPI0yrTmqxlKm0qd+VRjPxFTsw6sOvCqVq1cBXr9OjUsgLFkm76qoZEf1rRNW91o+xauUbl07TLFO9Ct3rs4BP5zB4uBmVV/f7YK/G+UhEauAilYk7jn4n/FWqQbaM7Coso1W+n4Z6JaTGUfQNNkxePfBJnrFqieydq1zHQLds2OuYqHPSHANK5z9cLWbo2mbvwLJ8GZwHXKFIw6rrE3wW0bZPTgUCET9eo8NJ6624DqO+8fGvOdMH8+/Xr2A1cBcQ8//vyB+N7Xl68xf32B/A10jwr/AYDKEBoNWOCBCRL4H4MCOlgfhALZIyF8FAJg4YIIDlQPCwWaQoRGH4Y4oocg/mdKERrRk2J9K7b4InymGKHRPDOyV+ONOZq340A4FljKETwKSSSQOdVXShIaWXjCk1A+WUMNOlRp5ZVX4jDlllx2WcMNRITJAxUx5WPPmWieCc857rTp5ptwxilnm+2UY2c58AQEACH5BAUEAAAALHIAqgA0ADAAAAj/AAEIBEBODpyDCA+mSQhHzpyHECNKRESxosWL6gYCeDaEksePHiGBHEmS5MWTFaWI0vjMisaXMGPKnKkx152VAv81c0mzp8+ZuebgBKCT58+jR4OOGlgUqVOfQUsx3fm0qsyoU41a3QogqKmpWbiK9QpWLFeyOZuFNWsVLVG1bNvOQcWU2dq4TnPJWVX3Lt6kcujmZKblb97AOdEVEmHJMGC++sh4wANgRYavjmnqXfVvjKGB63RBwJUZqBxW8S68XKfET+mrclo98wKTFJPXMfW2gkZb4zpSUHDD1N1OwuoegIS/rMVm1L88btIJXJeqAmnlA3PBaQWgHyEJXLZwzxjBCnvNNq8GxrMEY6n58+lzIuvy/mWuNrCYHvtS/3z+nMfQ159A9/1HVIADEoiffvwlmAsbsTCYYFdsyMJUMWBM+GAtFzY44IZMEZOhg2xwmJOIGrJhS4gjfqgiixqqcQuMDqpxHVHDtNhfLjYyNUwZMc6Y048apnHjPzkWmQtTwgDpYBpL5iSMjvXlksYuTDr5YRq8ZKmhGV2eyAIRZJZJ5g9ApKnmmmwe0cSbcMYp5xF0HsFCLxrxU86efPLZTZ+ABuoNN4QWauihh84TEAAh+QQFAwAAACxyAKoANQAwAAAI/wABCATwLxgiRI8SKiyksOGjTJwiSpw4EZSoixgzXhTWbyBBNmkOijwIaOTIPnpSqlzJsmVLGOc8/lNjyaPNmzhz6vSY6wc6mTR3Ch26s+fPgf/SZCLKtCkAozKVOp1a1KdMM0uparWZi4e6q1m3iu35FSlWsWi7lhX4z4wmtGO9Xn0LV2tXdjLLcKprlwdepGD28p16V2bgwYT9yvwiGDHTwmzPsYAjy/FjHe0InnvR4kwPBWksD82FGYC9CcYGglvBRnRRzP9ASbIJboFrnV3b/RPizOY6C69u4yStm7dvC62E3yRuz1Enm+MUKL9Za0Y5APAeVBuYTgmW6VxxZNf+ly0DgEp4GjABHz6zwH7POlAxxT68O5lWQNW3j1///oG53PAOfqH8B6CABBooUC41DIgUFQUqyKCDbEGo4FMNymShhBkiNYUoFzIIj0xSgMjhiEiVGOIMKLKlooQsyvSEiQbmEiNSM64Yj0xN0PifjTsitcQoIcYQJFtDFnkkQUmUoqRMTT6JVJQSwiAPlE5KGMOVSB2RZY0wzMPjEEeUaeYRRZTZhBVstunmm1LEKeecc1IBxp0niIkUO9z06Wef1PSJTTSEFmrooYgmGg00yTT6jD8BAQAh+QQFAwAAACxzAKoANAAwAAAI/wABCARwz5Sog6JGtWplaqHDhw5jyZpIsaJFXxgzZoQ3EEA5GHpC6pnTpo2akihTqlzJsk2ZlzBfHmnTkdyQjjhz6tzJE6clOTVv9hxKtCcloANtFl3KVODRoE2jDn2aVKjUqzipChRHBKvXgZPmdOT69WvYsV3LYp10p2O4tGqlTtLjFm7cpmzdFrkrt+3AcHv54qX7N7DgpZAIA/jXTAWsw4jp/is2oQWABilWQR6a+J8wENoErkv1wNZmnp0rgOu47oyZ0zsh9YkHIqexF7hg53zkp52MnMpM6N7tZ56DdKwxMRmOE9Gdf4PwDFynLQEq5h0ZAQLAbwyITq7cLL5IhD379sXf+mCAI6u8+Y7djrjHqR2+/PkDFxWyjz///oHcJNGfQIkg0lGAAwJQ4IECDrgggA3296BACDpI3kDbLJEgIot0lOGGjHio4YCIhIjhiP1x2FE2TYC4YoskmigQiwkWAklH2MDYn4046ohfIY/g+ESNNw6EzZADFjKJkDUuaSSSOzopEDYsUAHGlVhqgeWWX2Th5ZdggqlFGmSWaWaZRVDSUT7TPJPMm3AKA+ecdNY5JzIa5ZlnOAEBACH5BAUEAAAALHMAqgA1ADAAAAj/AAEIBPAvnK+DCH3dSsiwoa9hySJKnEiRYrSBAv+F4lGmo8cuHc2kGUmyJMkyWVKqXKlSC5iXMG9Yw/gPlB6MOHPq3MkTYy4r0Gja7Em0aM9cVIIOrHnTqNOnSJVmHPq0KtGfUgl6amq1a06kF5dy6uO1rE8qYTOONcs215S0BDWRZVvWLdx/cunWnTKNZl69XZH2XZrJD+DAU6jRLHzYqlvFSy0Balz1Mc1CcyhDlQKZnyYHHCI44KqZp+V/TNyYE6iNw5rSR6XM3CYD57gEtWDvzCX7nyVSONf1oKRbZ64n1v4RmhXcSaLiX5Hbg4UnuAVR0HHWWvIMgD0I1Qau2JulITvO49cIXpvwB5guJRNYmff5JL3AfKxGjJiDaz59bDRBUoh/5z0B4FKPDEjgQMcdmJGACzLYhIMEQRghALlMSBMjiFyIYRPZbNjhhRmGuNQiI0ZYooge5rLENiyS+CJNKLY441KJPEdiEtzQhIiOKvLoI5AL5iLkUj+2eGRGSe7Y41KFLNLiEd3QBAgjU1a51JVZWokliUd44+WUYm75pYpGlJkRIEmUZEYZIHkkp5xstGHnnXjmqeedMahJkDcOLeRQQrbIYuihiB4aSyuMNuroK/MEBAAh+QQFAwAAACx0AKoANQAwAAAI/wABCATwz1uygwiFIUTYLJrDhxAjSoyGjZvFixbRDRT4z4yRLGBCgtEiUqQVKShTqpxipaXLl1aeHJlJcyYOdxv/geG0safPn0CDbszFg13OLzyFKl0alKjRgf+QMp1KFYDTnF2SVt0KNJeOdli1ch070CtYqF08kV0r0GxOLWrZknULNUtcuVxz4TjL0QoovGP18iXoF3DevTkLG66qFydUK6EWM77xLieVyJKn5qpRGeoTzJmXbq78T1+kCQ0SfBAVWuloAP1GGEoHYB0wBZlaN60B758tNBvXKcugu+uM3kic9VynAFdxn7mO/3uhbbmFWM97Rodnb4yunukSZPLvWYuFun/ZPNAWuK7RjvFDY8Qj+MmDq2rGlGTADr+tfI7k7LGACXP0F998UCVRioFDwSBPTkcsyGBbMMwDoYQT5lJhTkaYMmFbLFgIVYcfWhViTkV4+GEuLNCDoooZtpgTETAyyGI9OQ2BSok35rjjiizgCJWOPKpgj49F3pMTEKskuWSTK6qgJFRM8ngCPjn9AGWGJ+STEw9b2tjll2EamMuYUIFppZdpsmKlPjnp0IqV+8RpRht44qkGnnr06eefgAbaZyGIFGrooYWKUCdUxbTi6KOmOCrKpJRWKgoonGSq6aacTPLIp6CGyggilvgTEAAh+QQFAwAAACx1AKoANAAwAAAI/wABCATwb1u0gwefcVvIsKHDht7KSZxIsSLFeQMB8CthpWPHJUdCihSZpInJkyePAFnJkuUQIjBjwgSiJuO+Exlz6tzJs2fOVjhs4vRJtKjPVjoy6htqtKlTVjwy5mPqtKrPVVEHTrXKtSdWqVS7igXwVWvYsVxX/ciI7yzaqquAZLyn4u3YuHPr2u2KakhGe3r3Wu2bsR4LwVwJDzSMeLDfxYcbOzVFhGC9PRMKOIhyS3JRU0X+wauASaA5NxVsefZpysi/Ma4yrnOjZXXP1v8gpMtZDYNtnrgl6EznANdvnaWO2JtgTrYzDcd1hgqtyJDsHnKi5yyVBEC+F16cmdZTtuKF9pyjlgj0tysHAhOFzucU9SQjvBnyddK3jz9/xv0D3efff1LYV8OAA4kyRUbvHIggAKFQwaCDCEbI4A0PQmhFRu4E9SAoGw7UjocIgpjRiBmaKCKJA3qSxYlJPehJFzBmyAmNIsaI4I0ZsZPVjjgK5KONX/T444CcgGGkjWVkpM6R/mlihpNQ5pfJlAOhs9aDV2aEDgt69IHImICMaeaZaCKSCCVstunmm29y4kkfWAp0jyicZPLInoXs6ecjaZpZyByEFmooHIgmqugXXXTRSkAAACH5BAUEAAAALHYAqgA0ADAAAAj/AAEIBLBPXLmD5bohXMgQnbuHECNKfPjOnsWLF/0N/EftBJCPQHiAHEKkpMmSQGqoXKnyho6XMF/iOEGzJk0RyTZGozKwp8+fQIMKBZCrDyedPIcqXSo0lx5PG6ElZUqVqlNQUa1U3br06sZnWrmKBeo01NewY9MKzHVH1MZmaNWOZetW4D+4ctXmmjPqbdy8W/eWepsF8Nw5g+02K2yY615ThBs7ngPZLjPGkq3OQbWRmZbMVXPJ4fyv3ZgHCD5YAt1Vzqp/0yTMSrdOmQUyrIeKZuWvQrWe5hpUzv1TdKtuQXyuCxSGOFk5rZKhUZ6KifPicFpZS95zeZfrPmux+THV+/fA4JzBD8zVBtY/axBcpUtn7Lb6nuxhAfj3bo0DBCOsdt96bMiyUTFfDOhTLmzUshExYCiIX4MPRijhWhTaBeGFGNpSIYdEqYHLRsOUAWIuatxCooUX5pJGLhsJw6KELu4So4kcusjLjSeasaNdwZjR44/7BdljLxv5ImSOZiBpl5JHbtTLki2a4YuUVNJoJZY9XmkXL1kqmIsZwWzESxonAlDml2EOmEsZwpiJZo5wbrTLEpTkSQkkevaZpyWeBCrooIQGGoopiCaqqClUxGnXNnNEGikbc8Bh6aWWttHFppxymsWnoH5KhRGklkpqESUVMU1AAAAh+QQFAwAAACx2AKoANQAwAAAI/wABCATwD5+7g+7OIVz4zp7DhxAj2tP3r6LFixj/DRT475GKGiBn6BhJUseNEyhTomTBsiXLEyFiypxJs8i7jf8AMdrIs6fPn0A35jriDafOoEiTBs1lpOjAf34eKZ1KFQBTpxz7QKrKdamRbzj1bO1KlmeuIuHCji3L9mzap3omsZ3rFucduXPL5iLyluPdvHqJiMM5By9grnsHP5VD6XDXXEPI4WTsGHHkyZYqV4Us+WmbzJqnQi7HkVuVBBOi1AqdFPI5gpdAADOn7c8CU6yXAjn3rxuIdAPX6fqQG2iu3f/4uOK5rkGr4j5z/eCNxBnzFZ6g95SOzh4ZXcwjoP/SzrMWj3D/otHYuE4ZBvJmeagjiMUJuHXrXCXQBF+ofI6/bABAAi+M199AufDADk5gcHJgfAs+9YWDDyKoIE5dUFihVTq0g6GGFebSIYbZbcihh09lUeKGueCAIkdWgGKiVS7iFOOMLbpjYyg43nDTU1TwaGIuNfzIUZA4FonTFKIkCQ9OUjQ55AxPPvWElCxSidOVOM4QD05LjIJjDF8+lUQpY5bJ0Zk4wiAPTkegOSQM8+BkBG5DslDnU3fiqKedjHgiaCaCFhqKKYgmquiiprDyyqOQRirpK7j8+RQnXXShRRZTZOGpp1MYIeqoohJh6qmm8gDSqiHF4OqrrooFUEM+AQEAIfkEBQMAAAAsdwCqADQAMQAACP8AAQgE8C+fvYPvDh7k96+hw4cQIQ6cSLHiwHsAWGg8oVGjiBAgQ4ocqSKGyZMxZtRYybLGDyIwibSaOA+GxZs4Zb3aybOnz1Wmglo6MlGeTZxIkyoFUCrJxHgxlkqdKrDp06hUsyIdteTpDK1gLYp6MhHe17BoBY4tWyNtWlFSJr5r6zZsKCpy6dbVelfujb1gQ1mZ6A4HYK2gBg9sZ/gw1cQTGTum6ilLZB2Tp3rqIvDfLyQKcmTKrJQTZ3wvuBgDMMsCFNJITf+zg2liOg6IYN/k9OXfg3QUgb3QbZETmHwXKmrDQLyiJjP1JFR09qE5RUtd/uVYPXDdljDWJ2bgMgOAHARdAs3hqRAr/MBMaQS2QyJdAZNa7gdaUjPxHI/817HRHxAATmSJgAOdM0SB+rUxUTkLMgiAJQ4ORE6EDFI40YUSTijHhhgWSMmHA4lDRIeTzDGRiSjeMVE4J0o4iYsDhVMEinq8eKOEkOQ40DdGdNjjRN4EyWMfRBrJ4CN+EEmUhIwAMlE3TzIY5ZRVFrhIIRNx45SEieQ2kJcdhtnllwwmkshE2xARlCmiBNWKT3T2hEsueOap5558JrLIROgsEdNLRNzQEksoofTRSIyGpEJHG2nSIT4KKcRPQAAAIfkEBQQAAAAsdwCqADUAMQAACP8AAQgU+K/gP3sGCw5cyLChw4cQ//UKQbFDCBExMmqMMaOGx481gBAZSZKIkZMojTzJwrJlli5s4C3896rNQlyvcurcyROVqZ9AgwYV5amo0aJNjs1sBQei06dQAeTqkmypnKhYs0qlalWrV6e5tFQd+G/V1a9oGYZdNhPV2bRwwzJrOweu3VxZ5pI1VdduWrzNZvL1+zdLYLKl+hL2mgvAYYKjFC/O2vgxgH+i7kxm7Hhm5s1ac1l5NjOUHtCUrUAbeG/UiA1vcKGGmovK6n/WJjRSBmwLBFGzwVKJBuAeBG0D1+nCEBxibeK98DBcxwF484a5pkT758jV9C2ArmP/nzLNnqVO03swEs+wVpPA31owHJegFvuF2aldHsPFHIB12nBAxn34SWGNQP2oMoEFETjQB4H4PXEgWYWcBmGEExI0SSEXRnjNTBt2OFAuT2Az0yMciihViTNBkqKIuTRhIlmMIKKiVE1kM9MiNqqYyxLbzFTjjT8GSVYiiRCZBDczIZKkj0vOVMgiSjJJFiDr+XhENzNhSeSWXWYJoxHezOTHI0SSOVMfkKT5zUx6tOljEeHAKSeMdM50xyRE5knWnkQSUSdZc/DpIxHizDRHIjm1ksujkEYqaaRxITqTJhqdQNGmnHYaggoshCoqCyeUauoJMeig6qo63ODRCecsE4aPPbTWaqut8bij6668vgNAQAAAIfkEBQMAAAAseACrADQAMAAACP8AAQgE4O9JjYNEEiokYqShQyNLskicmKWLxYtdwMDZyBGOnDkg5wwbCICfiFevUJlaybJly1KeYsqcOZMTpZs4c1JKdIOkSZJAgwodShRoKxwk95UoyrQp06NJTzidSlVgKx0k9UmtyrUoKx4k823tShboKrADxZZdO3DVj7Bj2ZJdBYQkvrhyudIleU9F3rKohvD1+7drYJL1WBQ2LHhg4sVcTREhSU8xZKqmjAj8J47SAy2oLjvNTJCPh066KikgI5ppqSP/Vjkhac7CpNZESyX5hwEcUGApcA/V/U9CUHMPhAsdtcQehKDaKshSDhQUbBvKSK7DhIQ6UFFSAHjsk+BM4DpdClp5JylqCoB/3EZ4WBHhg6j1JENRIUkuRCz8QOlH0js1ABigFQP2ZOBAoCA4UDtILShQgyRBKKFAnmRRIVYXctLFhhcC4CGIHX5BEjtoScgJGCemuCAnZbQYoiZmkKTOWxdmUuNA6OAooY4k9RiiJWqQdI6PC1rChpF1Xagkk0O2YWRjEloi5UDkUJnklQJlOaQc/GlpICVgDiQOEbnkUsuCk8xh4wkiKMbCnHOqcMKdeLKgw5586nDDQYDWgMNCCg0BxKGH1tBHUPzY8449kEYqKaTzuGPppZhi2k45nHbqqafxBAQAIfkEBQMAAAAseQCrADQAMAAACP8AAQj8523JkylZEibswrBhFzNwIkqUM6eixT6IMmpc9KijR0qcOMETCOBfsyaiMnlaybLlykyUYsqcKfORxps4EQHSc8QUyX/MspAcSrSo0aNIAeSag+onMy1Jo0pNmktO04HLoE7dyrXqqp/JtHIdS1VOK7BdyKo9WvXsQGRf1sodmguO25LH0s6dm6sNrJ/H4u6V2/fvwMCDCbOR9ZMYmMRrc7Gp1fgxZLKSbVW+jFkNrp/DynAem0vNrYHWyHRANHprrjS5/sWzEQRTpx4VfLammmbXvxezSK4DxuDzbrZmeJGTQXRdD0bHkfMK9qd5JbHR6Zrp1StO80Z6sw//rVWm1rsLzTlwEk801/Z/b9ykE5gOjwn27c34AtBvkoQgPTTgA2P4keReMCTlQ8kQhhVooBkIDsRLGg62V4YwP+1CYYUGgoHhQK9x2OEwP+GihogC5VIGiQPZwgaKSoFBzE+1vIhiLjLSaKOIuQBQzE+x7MhhLl8c8xMsbcCYSxdGDvRKkjd2gcxPrcChZBfJUCnHlVkOxMqWUXZZ0ipg8qgFMz+hUuaQZ/5kyhxKZoHmQG/G2cxPpcB5oxV3DjSKnjzy+ZModygp6ECh6GHoMz+twoIONeggKQ41VGopEERkqukQQHTqaRJNhCrqEaSWmoQVqFoRAzRD8eOOO+e8GyrrrO6gU86tuOaKazfc9Orrr71uE82ww+ITEAAh+QQFBAAAACx5AKsANQAwAAAI/wABCATwLxmcNHASypnDsCGihxAZPZo4MROnixdBidq40VSrjx9fyZIlbKDAf5y0QKLEsqVLiDBj9tFDs6ZNPXPa6Nyps0Y0k/809TFJtKjRo0hN5pryc+C/TH6SSp2aNBeVaUAtAaLKtSuApdSybvVKFmkuKWGdUhpbtq1SKdaArnVLV2CuJ3GdTipUl+7da0Af8e3b9i62wIMJk83V5LDTRYgUl2WcDShkyYuXbAOKKBFmr7k0c/b8mWuuJNwG+ruGo4io0lRPp/5XbkSQRm4iCMEFu+qRbgDyTVA2MN0WJL3NHvH2TxYeoukS2EpuNJcR5muAEV3XghP1ota/2f8jo90k90zfidYagu1frzhEzSW4lV5pkXAA9mHQJXCdOSVR1KcUEfj9004OLZzhRAMBCjhQLkSI49Q5PHSxioNKDUEOUHBYgmGGGzrVhocf2qUhUCOWaOI5QLFBYom5AMGiU2q8+GEuP8x4UhroqYgjOkCZ0SOMPwDplBmaqPgVD+oABYZ3PvLADlBfQAmjlEB1YeWNOrSTpSdK5sKDl05lAaaPOJB5khWghJkmUFaE4qY7QFEhp481vAPUFK/hqadTUvQJ4wzwAPWEoDcSCtQSo4Q5QzxAJVFKmDFA6pQVPABBBBFAdOppEk2EGmoSR5Ra6hNWpKqqFKyySgUYsMIs+kUWtGZxgjxAxVNON+X06muv3nAj7LDEcnNNNMgmq2w0zyTj7LPQNuNPQAAAIfkEBQMAAAAsegCrADUAMAAACP8AAQgE8K+VH0SIEj1auNASp4cPRUmUaKqVRYuxZGmUZcuXx48gfSVLFm6gwH9A5iBcuRKQnpcwY85pQ7OmTTZlcuY0k6ZnzyxZTuQz+e+HKZNIkypdytRkLqFEeRxtSrUq06dDB/6TarWrVwBP9xHFseqr2aZhid4oe7Yt0lwi+BGtwdatXbj9iM6oa7ctXqIwWPW9G8IfYMGD/YZA+o9Fq8RtcYlgrOIxZLOSGZ94ddnsrRKaOXf2auuE1n3bKCSyNbpr6ZPPKjg502PBodZVa5n+5+2CNoHrtDWwhLupLBUEkRgzuc7YCFzFlx4nOCHpugXRl8ZiAcBedaTrFGT/V8qK+z8fypgr+zA+KawYBLFdAAccnAVI7ZG+mnFy2AQ0lWyhgBz56VeDSfgkw4AesRSIVCs3ILWPaQ4+iIOEFFY4ECs8IJVPhhoCsEqHJn0Y4kCr/IAUPiBquAoQSN2D3IkAoDIEUvbMeKKNSNXDHY2mEIEUPT+eaIoRSM1TZIhHJgkDjQCUkgRS8cBHo5RUWnmiKE0gBQ9/NIryhJdgbikFUu8cSGMoVKCp5omhWIGUOxfSCIqcJrVT54meZIFUOzpA6UkXfwZKIyeE5nnCEU0c4aijS1ghqaRTSGGppWBkmmkXQHXKk09m6JSTGjRZ8QVS/oRDDTestppNNLDGEyprNCPVautIwYQUEi4bPQNAQAAAIfkEBQMAAAAsewCrADQAMAAACP8AAQgEMM8SJ06gRCkUNaqVQ4eyIkb0RbGixWLJMmrU2Cyax4/1BgIIx0KPyZN65rRZybJlmZcv08iU+SWLzSxdwOgEk0WKTylThlgSGW6IyKNIkypdehSSHpHfjDKdSpWpU5HeiFTdylXgIz9YtXYdy5QRIJHdipBdm9SsSG5q2coVmAjR27hz2dYVue1IXrmIFonMluQvW0SMRGIrbHhsrkKQFC9p7BiyyGuTKXPNBYiSSGuZNVfl7BnAv323WLQSPRrQ0H+qHgQBEOHFatZLc/nJ9O9TEHMC13WqgAu30lx9NO1zkE7kOiVgjSNFzombE6SuhEifrgcUtOtHZ/n/2H601hxL9SQcXeeGDXmRue6I+jdG0sB1zhbIej8w1xxRAOhTRQuSkKLEA5zw198cpQj0zzdybABIcQoK5J8pA/3DjBUVwifHKhlu2GF/H2a4DIcjApCLHLeZlkwWKaoIR4v/IANjirm08UqGx9w4Yo6w8KhFjLmwsZ+DxAyJIxu1ZJgkkWrckuEwXUAppYPCfEFkGrlkmCWRZvCSYTBa4hhmhr6AAWYvaKppJpsO9lIGmL5kyMucZgZjJ54/liFMhruYQSQYfzqYi6A4ljFMhrgg+iMYxGR4SwxU/CSFFTuBUdNNWZgxUxpmwFRGGi2V2gZKJ/0QqYPxMPORR89sGCRrMsFYZOsuEskSy0MOLaSQJ5x4Uk5AAAAh+QQFBAAAACx7AKsANQAwAAAI/wABCATwj1qrVrISyrLlq6FDh8OSSZw4sVm0ixgxbuPGsSPHcAMF/qNUpI1Jk2zKqCxjJo3LNGWyyMzSBYxNMFak6JRipWfPJEeCHlnSpCgObyH/TeoTsqnTp1Cjhsw1hVpSSICkat0qNZcUqwP/McrKtaxZr9aSLiJrtm1XKWnDJirkti7UXE+wJS1E167fgXj1hgWE6K/hXE2yJSVs+G+uJduS+knU2G+uJNyS9qFcue7lzGH1MOrs+Ui3pHdGk26b6wjSsHMerWZt5DXBfVP0zD5r5JtAemskrOCwgOlurbmKgOz3gVQ6gdo4yDnelUi4f8G8NAW3gHrUXETE/f8jA6zpOg6mvD/NNYScPSbKzK/wpN5prR/c/n3CZF6BrfpNsXcOAPA4oM1A6wSSA4ABAjHgP89M8IcupKwwQi0MTuXgQPjcosEMk2QY4A/oJNVFJiIGyIM6SWXBSYpT8cBOUgC8CKNAuciYlBU23phjO0lRQd+NAOSCA5BhSQEKkUXi4E5ST4TCZC43vJNUE1ISmUsNVoa1hChTzgBPUkeAqaWYSRkxypQxxJNUEaWwKU9SRMSpJQvzJDVEenfmGRYQfPrIQj1J/YDKlCrYkxQPh2qpwj1J6bDKlCfgk9QNk2p5Qj6XZurjCfokNUMrlO6TVA0AzJRFSy+tpBIbJ8U32gYcetRqq61+IKLrrrtCIoKpYUFDUTLCPGSsQgkddBArojQrCiicRMuJJY9U+8givPYBiT8BAQAh+QQFAwAAACx8AKsANAAwAAAI/wABCARgr5ivgweHJVvIkGG0hxAhYuNGsWLFchgzZmTnDt9AAPFElElDMk2ZLCizfAHDEoyUl1KmWJlp5cmRm0eWNNm5BIhPIEOICCXCY0abj/BOfFzKtKnTp0tX8fj4TinUq1ihrgJCVUXWr2AFohrSNazZq2M/umNxtm1TU0U+tmPrtq5AU0bkwrBrt9SRj+xi8K1bKslHdTMGuxXV5HBixWdFSfmIrgbks6GofDxn+XLYzJtxeA4LysrAf+G8jv7qKQuAf99SSLCQYMer1Vc5dfm3TYIyges6PaiF+ymnL/9MOPu4zg2Z4k45gekngamzD9CbajLz7gJTbRiyM/+1tBtCuqW6cohfaknNP0V/PpqLYGn9R0tsAOxDQmOWsk4NrGHffUe9Ns0YD0RhyoAEfsQNWQx+RIkcH21DRIQfTTJHhRdiKNAkenyUTVweAgDiR9jkVSIkIQ50jYoePuLHR9b8VSIjgNBoo4eLFPIRNYaVmAgiH02zRIkAJJLIR9E0ViIijHwEjZMeFvLIR888gWQhkGCpZYmAUOIlkmF+1MwUZNY30JlI+pHJR8ygWWIfmsApp4d6cPJRMqaVqAcoe/aJZygfIRNDGYiWwUYbjDbKqBx6RCqppIhUaqmlkFCi6aaaWuKJJ2WIAlgwCPlSiyyoxtLKqq2gIsqrongawsmsnDxi6yOMXNrHHLzOIQccwLbRxbDIBAQAIfkEBQMAAAAsfACrADUAMAAACP8AAQgU2C6ZQYPNoilcqPAat4cQH3orR7EixXPuMmrM+M6ex3sDBdq7VQOMSTBWpKicYqWllSdHYh5pQrPJESA4gQwhwhNIjZ81cOgYeuOE0RPdQtqrxSak06dQo0oNmQsMMaWxmk7dylVq1WJKYbXpSrYsgFxdjiltBces26m5viBbK+et3adokyldVfeu37Nalu3t+9duLi3MlJqaU/hurizNlJZi3Pjt48gD7Ym6U9myFcwiQ+np7DaXlWdKQY0mXTYXAGhKOfVh3RpANKWWVtPmmovKbQD+aFVoAKDCpN1bc02hBuDfGC7gBDqLwBl5VOXMu7VwCk4BLutQcz3/sfbvEimn61poAo/3yTV7dHShd1KIvdNaS1C3MoSeQyn7VDWRDQDxQBCdQOsAgwGAAQ74zzEQkFKNMm448B+DAuWyxDYDxUNIBRqEYQuGA+WSBDdKAcIIiVQdkVRmKrJY4hHeKKUHJDJmaESNmd2Y41lFhGPjcTnmEqRScxApYy5EiKOUHJT8mMsQTmYGhyVSDkGOUm1gWeQQ5SjFhpdLAnGOUmqQyWIuZiplRiZS/oCOm+sVyYM6SoHBiZQ8sKPUF3sWqUM7SnUR6JKDKpWFJ1LiQGhmVoDSqDtKURGKlDW8o5QUomAKj1JPdFrkDJ9m1kQXbaSqx6qssorIq7DCRToJJbTWSisnnuSqa66imOKrKTDEoxQzrRTbiijIigIKJ8xy8sizjzAS6x1zVCsHHNjCUUYX3HaRxbdZPGHEuEZQkU9AAAAh+QQFBAAAACx9AKsANAAwAAAI/wABCATwL1u0g9GocVvIcKG3chAjQkTnrqLFivHsadyocd+/j/8GCuwnwopJK1SOqDyypInLI0BiAhlCpCaQGjhr6NipI8aJnydYCGVxIoTREIlE7ishsqnTp1CjNm11Q+kJqVizYm2lQ2S+q1rDigWwiodXsGPTRl31Q+Q9FWrjPl0FRKQ9uHLzCkQ1RGQ9Fnr1miIikh7gwHJNGRE57zBitaWOiJQX43HcUklExqtsOa2oJiLhzejs+UnoGqTHipIi8h3q1GFDUSEI7woEBAuw3IKNFZQVAOgguBJo7kwGXLyjesryzwcwkeu2qEkOlVMXfw6cKhuBnHpTTl/gXf9wqq2CLe9NLTF/4BTYi+7oBWYy829NJ+geDsUXmSkNAHsjoOEMOMBwgMR+IlnChkD+sGJDAi9MgmCCCw5UTl8TJtiGSORgmKFAlsAhkjiEfSgQJXKIFE6JJk4yh4pFmCjQJHeI9M1iMkKih0je4GjiI37wKJmMjAAiUjdDmrhIISJxk5mMiSAi0jZLyAgAIouIlA1oMmIpEjZcmljII1+aJmMhkIhkDWsyAkKJmmyaCIglIlEzhZVzijTNbDL2oYlI0dzZJyeA8mmiHqCIBI2hH+oRikjP8KDHpIAgYumllk5CyaacbsqJJ6CGCqoppJZa6iuooiqHKCK14wknsFIn8sisjGCqxxy4ygHHrnCA0cWvXWQhbBZHGGFsETXVlFMNM8SQS0AAACH5BAUDAAAALH0AqwA1ADEAAAj/AAEIFLiPm0GD5MopXFiOnbuHEN3Bs0exor17/zJq3PhvoMeB/6ipaEKyyRAgKIcQWcmjhkscOmLWOEFTBYubLELo3KkTQIyfM1zWoObxX7QpH5MqXcpUYKxXUKPO0VQUmpWmWLM2zaUHVNFnV7WKHcs1VNFmYceq3TpH1Nksa+MuzTXH1Fu5eD3StQuSmZa8gHPJQVU0WRfAeQW3KnwYsdxccBaDPPbF8eM2sIpSthw3F5tYRYmB4bzWc63Qo0mTVXOr6LAyqsmmwSXw3zYhCxB8sBQ7a640uwD8E3bBGIB1yiyk6b01DS8A+R6A8zhOwSvmc830+sfMy8d1Z+Zg/1eay4wve68Efa+EZXzSWmBoP/PucR0XPe4/5iojDMA+CNp4BE4CoOU30H79/dOMBLOMY84sDeBn4IFgDFPbOWtAoIANbk1IITFF1cKGh/qBUUxRsLRBol5dHFPUKyquKFAuXyBTVCtyyDhjF8kUtUqOOuaixTI+AimjkMwUZYp4QWbRTFGlMHmkk0WJcoeOAORixZMghSLhkVRAUxQoX66oZTRFcdIHlrlQgSZImfjB5hREgWQJIHPWWRsleAb5hDVFTVIIm09cUxQkg/qJTVGMIMJmE9kUtYijQS6xTVGIJMJmEtwUVcgim3YKEiBfIILIIpSkqmqqnrTqaqulmEAi66ymrBLVrbHkouuuuh7RTWGmIlLIHMTOAcexcHShbBdZNJvFEkZEW8RKRLTk0gw/xZATTzudUA6WS+UDQEAAACH5BAUDAAAALH4AqwA1ADEAAAj/AAEIBPCvXrmD5dS5W8jQHT17ECPm+0exYsWBGDNqxPjPFAwiIHnUGIlDh0kVJ1KyWHkihMuXIVTEmDljZA2QII3ofJIlC5t3HEXd2Ui0qEBZr5IqfWWqqVNTojx5OvKMIyg9RrNqNZqLCjSOnPpsHUsWQK4p0ThqElu2bdGu0zhaAuS2rsZcUqhxpETXrl+zT6xxnFTor99cT65xhFTYcF3E2DgyQuT4cZNsHBMlquw215JtHBFt5lw2VxJuHAExIl36SDeOfh6xJpvLiDeOeiDNHlv7m0B70nwkcIDk1e6suYqEI8inhbN04DApEHX8LZFw/7aBwLgOmIbqRHMN/yH3j8+sjOsixAJ/d7w9JM7Qr+DEPmMtHt7+5TnPPQKs+hjlAsQ5/1zTAnfGYABggD+gQ9AaNFSzjjmkKODJggPlwoM6vzHzAgIL7NAKhhnywA5HXdBHYoY6tMNRFheuKFAuOLg40D9WgCLjjDi4wxEVoexoVg1A3SgFdTvmMgM8HD2BpIxKxsNREqUImUsMUt54RJVJwjAPR0WYYiUL9HA0BCpj1mMmmkmqcA9HQKxi5Qn4cMSDnEmekA9HOoyY5z4c3eAnlCUAeuMMxiUpAj8cxfBfkiH4wxEM60Ga0T8qyCIkLiJceoKmO95Sgqe2CGnLCZ5OQgklnEjlqiegPD7lFCtLKYVLLrjmmitRtaA6GBzAgtHFsD1lYYVORhSBk0gjzTSTCDC5JAILALCAUko1mFTSivxE5C08DH0ZEAAh+QQFBAAAACx/AKsANQAxAAAI/wABCATwb567g+/sKVxo75/Dhw4HSpxIsWLFf0lq6NBx44RHFSxChhhJMgSMGChrqBxChEgRIzCtZMmipYtNNnDgyJkzR1Y/if94rLJIFNaro0hRmVrKFJSnp1AtUZo6tUQ+oDhaEd3KtSuAXCf2Ab2h1avZs7lE8AM649XZt13T/hz4DwYsuHgt5grhDyiLWHkDS8QVYuI/FbIEK8YlwvCJWooF2zrh2FbkwLUoAxWB63JeWSoMh+jsGW4sFhP9FS4NFxaMif0as377asZEfrJnm211Y6A/XjsKmACk22srHQLjveDizJyyFilIF7e4igdBQoYkrlPCZjrRVT8IVv8wN7GaBu8WUQ0BYE8CxXUL0FccFf7fhHQTtVWQT9FUEYJkpKIdHlPwN1EpRwjETgWYpLOOOXhMAJmBA5WSxED38DEBAgtEcQuFEonyxETw1AAiRaJIMdE7Jp4oUShUTNQODi5KBIoVMiJXo0CedDERO9btCAAnX/wY5I6cgDGROkfWmIkZE50DhJAAWKJGlFMKaUl3EpGznpZtTOQllZTIMZE4RFA5yRwThfOfkJPcMdE3RlAJiR4TeZOgkIwQJ1E3e+7Y50TcXChkIohMtM0SVCKyyETZNCFkLogwMhE2I+6YSyGQTGSNipoCQomnRDwVClNMoYIUUrDk4uqrr8I+lQsglkT5xUxTwGRES0QAoVINKMUAQ0kkhRSSRyfcsBEOvwLR0hBAAAEDJ9Pdw5BC7xykrTvolOPtt/MAEBAAIfkEBQMAAAAsgACrADQAMQAACP8AAQgE8O+evYP7/ilcOLChw4cQI0IkV4KFxRIhMmpkESPGjBogiYgsYsTIkiwou6hMAweOnDkwCyFClOiRTU7lGnY7IhFArFdAg5oaSnSUp6NILVFayjTRzKeIrABqyC1Jz6tYrzptuG1J1q9gBSJa1BBbk7BoryJiVPZJ2rcQC0FqaM0t3LsAcgGi1JCaFLx39VpqOI0KYLi5/GRqGM3w4bS5+nBqCM3x47C59IBq+MzKZbS57oga+K9Zls+Y55QibRo12FxzTJFmpsX111xyUBHM98nEAyStbF/F3cpeuAmGnFXrpACRcIm52ryql8FZQ20KYj2HGB2WtSAO153/mbP9YS42tWThedgpSnmHtcy0SuYlfKAy7xvmSpMLnoNxDaUTwWr5CZSLGbzYc4sH1QCwjjYrMFHgQAf2QpA1IzSQAAR3TEihGb6QxosZHupnRjCk7ZJGiRSWIQxpt6jBooFlDEOaLWzMmBcYxJAmS44z5gJAMaTB0oaOuXxxDGmtyIFkF8mQtoqTQWqxDGmokBdkFsyQZoqWLOaSRTOkidJhkFaQKdA/oeiBpBXPkOaJm0FSEQ1pmvSBpJ2kWTJVkFNQ0+efYUphDWmTFILkE9eQBomiQT6BDWmLOBdkE9mQRhOSS2xDWiFkBZkEN6QBosdQQQUFSy6stirkZbkcSNENkyIRAVINM3QEg0YaiWARCycEO4MOOuBw6xAiDQEEEEM04ewR0C5hBQvf3MXPQdjaE4873HZ7TjnggksON+SWm0001OwTEAAh+QQFAwAAACyAAKsANQAxAAAI/wABCBT4r2DBgQgTKlzIsGHCf6BCSBQRo2KNiz+IEClixEiSLCC7iGQDB46cOXP0IFr5qGUmTpxAiRI1qlUrYQ8ZIRKI65XPn6tMCRVaypPRo5YoKVU6aaVTRH30SJU6p02bGNkQ/kOUyKHXrw5zJeGmFRAjsGjTAsh1hOzAf2bVyg17xJtWPZDm6lWYy8g3rXcm7R0sMFeRcFrnCCa8NxcRcVrlWGLceAg5rW0mU56ba0g5rWw0b1abC8g5rWYyjZab6wc61JpWk+ahTusXTrLT5uLBTmsXT7nR7m5HUF2kCS8KBf+aCwfxf6cukHKmq8UIW8sb5qrxzl42D+kGrv/DgyQ7w+3w7I0BljCdAvMLc82I924EuITrIryCn7AWC3b27FANfgrgwh9CubAwjz2q/IHQOspkcCCCLNQDwD4bYBLeOsYooNqEhalwj0D37PFABA1oAByIhZ2Aj1YzoMIigifkoxUOrcw4UC4n7KPVDTnquJYI/MC4n5C5iNCPVjDEIuRaIfijlQqyPImLCA+dUMuTt5SQJXZC2nLCQyXc8mQtY2olgoFCyqJCQv6E8CQAsMCQUD9YPvnKDAnxk6eQrdyQ0D5pAopDQvkUquMqPCSEj6IzrgJEQva8+SQqQyRUDwtzmkJEQvNw+qQpRiQkj51PlpJEQvHw+aQoTSRcBM8MPsmSy6248ieKFJoOUdEJEgUbAgvEqnDCCTHooAMOF9UwhEZDAAFEEU00scQR2Fqh7RRSSJEFGGA8YYVa99hjrrnxuKPuuuW062443MQrbzT01ttMMviSFRAAIfkEBQQAAAAsgQCsADQAMAAACP8AAQgEcA/IjBo1fhAhUsSIkSdZsmjp0gUMnItzMhZChIjRo0eWOHECJUpUqVatXsla6aulL3YDAcCL8armKlM4cYryxJMnJ0pAgybiSBSQnqNH57RZyrSMUytZYr6rEbOq1atYs1YNRSWmOxxaw4oNC8pKzHY6xqpdK9CTlpjseLCdG5ZTF7hy6eq1yqlMTHQ/9goemMlMzHNABg+2pObwEMWCLbWJSe4xZL2W5MQUR+Sy3klzYoYr4pnupDsxvxkpPReSnpjejrBmywiQwH/NyFQIA2v22NoEcwRxBSyQgkO+ww79d4VUTG0JViXPimjRPQlV1zUyO/1qIUjXglj/BWaj+1U/ic7RsDrLh3mrgCz5mwAu5roeft5X9ZPp3y8Q2giUTiAZ6FdVH5oA8A8zGHjAQQJCxGJgTHqAEhMxQ+AyYVV3iBJTM9xtONAcpcTETFQijmiKiW+lKJAc0g2UzF0uAiBHKzEdQ2OKubTR20DFgFFjLmzIcqGQLhJpS0zDIMljGhoOJIxfSabBy0D/BGNYkmb0gmUvW/Johi9Y8hKmiLmYEQyWu6QxZBnCYHlLY0mWMQyWtbAxJBjEYAnLZEl+cQyWrwDKYxfIYNmKZklqkQyWqDDKoxbMYGlKaElm0QyWo8yRSy48WrHpbbKEYCoLqKpwwgk16KADDgjxR7DQEEAAMUQTuB6hKxVWWDGFFFJkAQYYXUTURRrIlhHDM1jdY8+zz8LjzrTTslPOtdeSw8223FITzbffNpPMuOMW41JL8AQEACH5BAUDAAAALIEArAA1ADAAAAj/AAEIBPAvGBEjCK1kydKlYRs4cOZILIQIEaNHjyxx4gRKlChUrVrBkiVrl6+TJ4klW5ks2kCB/0CxMUXTk82blijp1Lmook8/eoIGldOmaNE0ZcqYSZMGzMIuYG5ce/lPU5+XWLNq3cr1Za4pLgf+swSoq9mzXb9So0qpLNq3cHNJsUZ1UiG4eM/mejJVLKS7eQNrzdUEG1VGiAQr9rpkG1VEiRZLzpWEG1VAjCQvznWkG1U/jzQrzmXEG1U9kEQLzlUkHNU7k1QHzkXEtVg5lGTnpS2OahtLuvHmGkJuID5eH35oCv42F5BzBJlBwOOqkoUcuJibzfUDHQB2ErQN/1x3hon2tDzU/VNECqu5BOe55uLBzl6OaljXWUAVX2utG+T8g4Qz+UUQS39Z5YJDO/+s8gdW2jiAYII1vAOAPhjMItA62ljgx4RY5VIDPAK9w8QFPXiwwIcgejVDPC/Zw0JqLYYIgzxUGWFKjSGyMA9VQ/DH40C5sFAPVUCsMiSRKtxDFQ9KLglALifk8yQrUk55gj5U4dBKlrmUsA9VM7wCpgj9UAUDLGCG4A9VKhwoJS4hYPWPCrJkiYsIdp5gS5a2nGBnCbdkWYugVImQnZSyqICVP3VmGQsMWPXDZ5avzIAVP5dK2coNWO2DqKc6YJXPqEuuwgNW9zia5SpAYGRlj6tSojIEVvSwkCUAphTBKgsnCKqDDjjUUMMNRCQLxLJNNHvEs1ZEK8W0UIGhxUJLpWFGUmwY1cYXRmSVjz320OPOuee2U8667HLj7rvTRCOvvMuwtJIwKJ10C0mvhIQMAAEBACH5BAUDAAAALIIArAA0ADAAAAj/AAEIBHDPjJYuXczAgSNnzpw+iBAlevSIEidOnkSJKtWq1StZsnD5GjlSWLKTJ5lFWxkNALyBAN7B8EQzE6WbNyFF3AlIj0+fc9oIFaqmTBkzadKYyZJFCxgwWqRImWLlyByY7XDA3Mq1q9evW0FZwaoDrNmzZjl1gcmOB9q3cAVy+gJTndu4eMFqMgPz3I+8gLtmStMXSODDAy2xgUluCGLEltrAFEfk8WFKcmCGK2I58CQ9ML8Z6QwYEuiB3o6QzvvID0xuSVbjZQTodWzZcBMhEviPHKMNhXDhRotoEYB9Y0A06qTkAafhZgs9+rfGEExlC2RB/wqI0j0JW9e5/yG8vSsgS9SccNW1o3xXPZO8BeE6S4h7rn047XNgDuY6JafdN5AeoPzziRPjCLROKhMIJ+BAd4gCwD+nQBCEEhakwMqDMM1hykD5oDLDKhxuJQeJAyWjRYkmbjgQMmuxOBAcrcB0DF0yCtQGLDARA0aOArFRC0zDlAEkAGrcApMwRgKZxi4wBcMXkGbwAlMvU+ZoRi8w8UKejLmYEQxMu3zJYi5lCAPTLWoAieYwMNWyWI65gEEMTLBIRucXxwz0TytwuNkFMn6ykhmdWiTj5yqHgqkFM36achWdWTTjpyh3uGmFpbyBEuCZVkDjJyd9aNoSb5m4RucU01zKQg018FBABBFDAAFEEU00scQRRzxhxa9SAfBUF0yBkZQZRqUxlFBz/OQTDtTAtI871LJTzrXXhsPNtttiw9JKzaB0EjEkjbQLSLB0ZIpGoFxkSTsBAQAh+QQFBAAAACyCAKwANQAwAAAI/wABCATwrxkcOXPm9EGEiNGjR5Y4cQIlShSrVq1kyarlq2PHYclChmwWrWTJbdxSplQ3UOA/UVkoyYTEsCYgPThxwmnDsw2bMmXMpElTJkuWLmDAWJEixYrTJEeONGmyJEa3lv9A6WnJtavXr2Bb5qISDaumPmHTqg2ba0rZgf8sAVpLty6AttSwUpprty/YXE+sYZ1UyK/hroCxYWWE6LBjgbmaZMOaKNFjx7mWbMNaaNHlw7mScMMKiNFnw7mOeMOqB9Jpv7mMfMN6Z9LrvrmKhMM6x/bturmIiMMqx9Jv4EPIDexn7YSVVcfX5gJyjmA3DU4anWlwJXraXD/QAf+IB8HZQHM9yODy/jUXD3X/LmHiOk4B+/Y82NnbYb7lOgvQ3cdVLTWQ848Q/Q303ysCcpULDu3884kkXIGzQIMO1vAOAPRAoMxA46yQBoZizQCPQOSMQIMbTjRABolixRAPXN90IAeDMA6UCwzzYFWEKTmKxQI9WA2BSpA6qmAPVkAEiGQuJ+CDFQ9OBgllPljp0AqSkJ2wD1Y3bMllLiLwg9UMOD4Zgj9YwRALl3eFwNU/KsgCJy4izHlCLXDacoKetsBZy59YibAel7KoMKeccMYCA1f95AnnKzNwxY+kXLZyA1f7EJqpDlzl4ymSq/DA1T2KwrkKEFzVwwKcAKBeMgRX87wKpylGcCVPDLCWkgStJwwBBBBGTBXVEVQ4xZQUSX1hVBdDmQGUGT3xNEdOOBVSE0N9NDEnO+WE+41KKVFjUkkihXSMRx3xohEsGJlSkScSTfJQIgzNsWVAAAAh+QQFAwAAACyDAKwANQAwAAAI/wABCATwTxaiRI8eWeLESZTDVq1eyZLFy5dFX8KSadQILZrHaNa4iRRJrpzJcurcuZs3UOC/JXMQyQSkp6aeO21y5jRTpkyaNGayZOkCBgwVKVKsWJFy5MiSJk2GAAFChAiPGjWa3Gv5z4iplmDDih1LtmUuGCwH/iPytazbt2RzsajHFQgquHjzAsilYqtaHqv0Ci6b60Q+rjpaDV4ctrA+rjcUM568t8Q+rjNeUZ6cS0Q/rjBibWacK4Q/ripkjV6MSwTYfydqrR5s68TrErdmC65lm6sIXLr1ylIB1l+I4HpjwVCr7xqFScCRv301w+WxCU4A9HAASbrbVjcITv/zoE3gumoNQnkny4oHwRfOWq6bZWP92FU/ANiDENacA/tileLeP/yBlc5/AIJlChEEmVCNfLq8kKCCRhDEDAjmmKdNA5xM2FIpSbiEiwRoVOKEAoB42JIoT7RETy8UAKKaigOFQgVY7eBAI1igWIGjDju2xEkXYLHjXpACcQIGWOjkhyQAmZgB1jlAPAmAJWqAVc4QVlrSBljkcPkkJXKAFQ6DT05yB1jfVIhkLpDoAZY3RzyZyyN+gMVNiG8ykmJL2yxhZyKIgJVNE3YisghX2LT4ZiGPcGWNo0HmAgglXFEzhZ2AWMJVNJu+2YcmXEHj45t6gMJVM6dWeocoq2ZgYeccpXDFjBaz3qUWMzAk0RQVSiFlRVFaCPVTGj2loVNONtUEiEwyJULJtNNy4oknWgTWkj4jcUPNR9E8s5FGwVzkyy4TvQKRQ6EwRElChBYyxxxywAFHGV10kQUzAAQEACH5BAUDAAAALIQArAA0ADAAAAj/AAEIBJBPFCdPokStavVKlixeviL6IpasYrJm0TJGo8atY8dyIEG2c0fS3Tx7KO3xGwiAHQs9MPXIaUOzjZkyZdKkAZMlyxeeUqRYsTLlyJElTZYAATKECJEbNW7o0MHihIqqo1iq+8Gyq9evYMN21WSG5TmuYtOqFZspjdkha+PKFWiJDUtycOfqFWupDctwRPYK/jppzt8igxMPnKSHpTcjihVD6sOSW5LIiRkBYrltCWbBuRIhYpmtyee9uRAtYnntyWm9uQpBYmlNyuu5uQBRGviP2pTbcnNbEvgPX6sZrYCvzdWHEwB/miQEUdLAxivlYnPpAfVPERdzAtdh/8qAPWyuO6LsSUjHcl2P1eW95ppjihmXrus6MYnvtVYbUc2ggV8q+/HHUi5ytALPBfg50ZiBA+XSBiz/VIHJQOsY40AtEEbIBof4INECAJ30MEEoHUaoxi3EeVNGB4fgkmKEafDCmy9lzRihGb3w1kuOOgKQixm+8MaLW0EKWYYwvOGiRpJKDsNbLXYlmQsYxPAGi19WfnEMb63IAWUuXSTDGypiWqkFM7yZYpiVWTTDmyh3jGmFnMSB8mCQuVjxDG+aUGYlFdHwZslmVk5BDW+UIMqnFNbw9kghYz6BDW+LjGZlE9nwhkgiYy6xDW+AMDLmEd3w1sdsVhrhDW93TGkyZhHh8CaHrFYSIQ5vcxAxRVBggNFFT2akcVMZbNTUxhwx6QEIItCqRsm0lFjiybXXmqKttj+Qw5s6GkVjUUXBSOSLLbLE0korpiTECSeWPPKIaIDMMYcccLTRRRda9HSEEUU4NcQ7AQEAIfkEBQQAAAAshACsADUAMAAACP8AAQgE8C9cq1awZNXyxdCXsGQQkzGLRjGaNW4YuXkrx7GcOncg3cWzR9Levn8oUw4U+K/WjzYw2ZQpYyYNgCxZvoDpIkWKFStTjhxZ0sQIECBDiPCoUUOHjhgnTrBgUSKE1RAqeJRb+Q9Wm5Vgw4odS3alLCvHuLaSU7at27K5uiTjiort27t4c2lhxrXUHLyA3ebK0oyrqDuBE4/NZaXwwH+g9CievDIXFWhcNfWhzDnXlGhcLQHiTNkzNa6TCpGenOuJNa6PVK9O3Bob10SJZtNeso1roUW6A+dKwo0rIEbBAec64u1xPiuIk9/NZeQbwXhXJLTgsGCz9La5iIT/A7BPQ6qB2jj8/U421xBy/2zFAavNAfv2Q8rZY6IM7DoLqNwnVi08fPMPEs7454EpAoaVyw/q/HNJJ2ClkwAuDYKVCw/sAOCOBNoMtI4bQmSooQ7tEPQMBHjM0gkHL9hiYmU3vDMQPrxkAIQlM2pYAzxcLTFKjxrGEA9XRjBI5EC5wDAPV0QouSQAubBQD1dArDKlQLmocA9XPGi5ZS4n5MOVDq1sSeUJ+3BVwytq5iICP1zBAEucIfjDlQqyqIlLCGD9c0Itat5SQqAnyLhlLScEKgKGW8qiAlj+AKomLDCA1Y8IagLwygxg7dOomq3gAFY+o265Cg9g3TOpmqsAggFWPSx0isoQYM1Tq5qmGAFWPDF0WkoSYMEDqpqiPAHWOyfshFMaaZgxE0wwyaHHtXr0gci2iDBCybeUWOLJuJ6IYsq5pqzyyrqv2BIKFZo+ExEADfnSiyyyvNLKKqKI4gknmTzySCKIADLHHHLAwUYXXeAkhRFGEKEUUzFAFcJfAQEAIfkEBQMAAAAshQCsADUAMQAACP8AAQgE8C+Zr4O+hiVbmKxZtIfRsnGbyK2cxXLn3Gl0F8+eR3v8/okUObCkyX81spQxkwZAlixfwFiRMsWKlSRHkjRpAgTIECJAatTAoSPGiRMsWIgIwTQEjBgzhBIhYslfyX8wYJncyrWrV4GwXol9ZcpUiH5XVcj6yrbtV1whTp6o5bauXQC2Tpwsceuu36+19F4Ngeuv4a2yVJjsF/ewY7AwTPIT8fjxqxkm9QmubLiVDpP5NnP2u4qHSXuKR/9FNcQkPRaq/5oiYlJejNh+Sx0xCQ8zbruillxFd6Lwb7eipAj8l+3DBQAJbLQ6zhaUFYLULjgTuI7UA7rUu3r/6kLwQ7WS69yQCd+VExgA8SRsdfaBPVdL5OmB2FpNg/2tlrBB0APpoOeKD/+ZZEkbBCnyR0njNOBJgiVRIodA/FQhgyvAVKIAgxQONMkdA/2DzRoTYLFKiCVB0odJ3CTBokmMAGLSNsLNOFAiiZiETRM6DoQIIyZZ80SQAhUyiUnUTIEkAIBYYlI0VDzZhyYmQVMlknqAYlIz1yF5hyhfZoFkLnOYYhIzWpwpByomJUNekLnIMV1Jx8ypYy5taFUiMe/RyQZ4yw0T6J5pGLdcMGacaQYvV/nSKJ1m9HIVLy1RGsxVu2S6ZxnCXHWLGmeCQcxVsQhI5xfHXNUKHGd+a4HMVaz8kIYZK7Whaxtz6OGrHoUgImwilBRLiSWeJOuJKGWV1cpYsOQi7bS5aLHMVeog5AsvssjySiumiBIKJ5xM8ggjiBQyxxxywMFGF1289IQRRkx1Qw0zxABDUyGIkFQJ0DxZEj8fWRUQACH5BAUDAAAALIUArAA1ADEAAAj/AAEIFBgvWLKDyZpFWxhtG7eH3cpJLMfOnUV39jLay/evY8eBIEOKbFYjS5YvYABIkWIFQJIjSZoAAAJkCBEeNW7o0HHiBAsWJ0IIDcEixowaNYgQMWJEisku5UIy0yKyqtWrAmO92trKlFdTojx56rIqZLIuWNOqxZoLTquQx76snUsXQC42sUISS1m379W7tkIK4+u3MMhcaXCB/BfMjOHHAhHzWtzLMWTDucz4WszL8mW/mYMtvqXmc+FcZYYtrsXGNGgwxBbDauO6b64uxxa3klO77u1ki1fx7j03lxZmizkNJ642l5VmAvupmmABwIRDzNPmAvAMwL8rZ8YJ/6xmAU72v1aiAdgmIyS4BIrPi8w1hZq9SKRCrmtBSb7IWk008w8fuujnxCL+hZTLE9gAAIsg+lmASoKHNZENAPM8oM1A6+iSAYWHJcGNd81AgIkyxmzxwIQgRnZENwPN80kGH7ARX4t2GfHNYnNMguNhRISzGByW/DhQLkOQsxgbRRpp1xDnLJZGJk7a9QM6i4HBSZW58KDOYl1s6WQuOrSzmBWgcImDmQP9Q0UoXNbwzmJPiMLlDPAslkQpXMYgz2JFmMIlC/QsNgSLRuaigj2L8VDWmCfks5gOb0G6z2IzvMKlCPwsBgMsXIbgz2IqyFIlLiKE9M8JtVRpywmqln5wS5W1wLpYCDf+GAsLIfWTapWwxBASPyK0YWwbc+ihrB6INIsII5RESwknYon1lSmrbLXVLbl0u51IrdygKjGyyPJKK6WIEgonnDzySCKIADLHHHDAUUYXWmRhBVNK/VDDDDHEUMJQRLGgwgkx6IDDDEVU2Y9G9sRz0TwABAQAIfkEBQQAAAAshgCsADUAMQAACP8AAQgE8G8bs2gIo2XjxrBbuYfl2Lmb+M6eRXv7/mn8N7Cjx48e/yWRQtKKlSVHkjQBAAQIESI8auDQcePECRYsSoTYKSJGjBk1eBApYsRIlixdupiBI2cOrH4d/w1BBbKqVYG4Xml9tcqUV1OewnrKRKnsCXtReay6yrbt1Vwn8kXV0cqt3bsA4O6LOuMV3r9vRfCLCgMW4MMfc4XwF1WFLMSQsYoIecJWZMi2ToQUcesyYlmao4bA5flwLBYe+00uDfjVDI/7SrAG3OqGx3yhZ99dxcPjPRW68a4C4rEe8OB2UQ0R+K8dEwkIFjCphZytKSMCzz3QJTBdoAmdq1f/HbWEoA9gHdedCSO+qigpAOw5+Ohsg+X2Hjk9AbDvwkdwE+D3kSdaEARBOh4Bk4KA+YFBEB+SdJQOB4kw2FEmZgiUjw1OAKCNLhYwYWFHlrAx0D/CCKFADpaMSGIbHoVDhIseTTKHR99gR+NAkOjhkTdH7DgQI4B4xE0SQgqUCCIeZbNSkogw4hE2+yVZCCQeWVOlkIBQ4hE1UyQJgB+ZeBSNFWLqwYlHz6CZpB6heNRMFmLOUYpHzBSYpBxrdZRMF2LKUVdHxwCaZBuGdUSMg0myQV1HwpQhZhqkdRRMhkLmkgYvHvWC6Y65mNGLR7ykkWSowXiEi6mZliFMVLWYaJgpGMREBQsQeuSqRyGI9LpIWWVxIhYoX5nSylax5KKssmzl0sUxMa4iiiiccDLJI4wgUsgcc8ABRxlJZUFFUS/hUMMMMbCw0043sXCTDjrUUINLQwChwjIj5nMRPRNNhA5E5OgDQEAAACH5BAUDAAAALIYArAA1ADEAAAj/AAEIFFgvmjVuCLmRK8dQnbuH7uxJtLfvn8V/AzNq3Mhx4LIZU44cadJkCJAhRH7UuKFDx4kTLFiUCEFTRIwYNWr8IFLEyJIsWbp0aQNHzpw+iBI9ehRP47EuHaNqxPWq6qtVprKW8sTVkyVKYCEhGruklUZiYKSqXauWTS2Nw8qwnUtXoBpcGoOZqctXbRpeGnvt7Ut4o5leGnmlKcxYYC4zvjTmWty4cK4ywjTWYlPZMhhiGmG16Uw415djGf+1kkO6b64uyVKvYt26bi4tzFKXmlPbdpZmqUPp6U03lxXgA/9xGk6crXFoAv8R25AgwYhQzdXmojINwL88QbQB/1gHrMGi7FFzSbEGwBsIjdUcoO+Y6wk2AI5IaVznAdT8jbUkEc0/bwCzXxCT/CdZEtwA8Akm+1mwioIZ5XJENwCwc8E4A61jTAUUVmjEN97RcoEu4GhjiAKihDhQLkSEM9A5ZCxQARSyuPjiEOSkxoYlOlYIxDmpmZFJkC/+gE5qYHCCpGM8sJOaFp48CUAuPLSTmhXYPZkLDu6kJkWLXtYAT2pJlGJlLjE0lZwRpqzJwjypDYGKnPWkBsSEXqpwT2o8sLLmCfmkdoNZXpawT2owwLKmCP2kpkKOT+ISgkb/nPDWk7eUgOkJtlhZywmYhoDXk7KooFE/IlgJACwwaHe0j6dWtnKDRvqQaiUrPGiEj65PrgKERvWUAMhYSYEFViZdgZJVVq1YFUsu1ObCFypDaMQPKpQ8wggihcwxhxxwmCFUFlYYYQQRROBQwwwxsEATTTCpAJMO7taAkklFNLHEEUMk8V8+E80DkTvnMFROOAkpBEBAAAAh+QQFAwAAACyHAKwANQAxAAAI/wABCATwjx03b+USlmvnruE8exD1/Zv4b6DFixgzZvxnZkgSIECIELlRA4cOFidYsAAQoqWIGDFq1BhCxIiRKVm6dDEDR86cOYgQPXqkiRMoUaiW9bP4L4snjVBxvZr6ypRVU6E8ac1EqeukoEH76BkrR0U7plRCQV3Lti2AXDfeMW0iyq3du29nwGN6pBTev2tzxYjHlIgpwIgx5mIxj+kQVIkjC8ylwh5THqskR851Ih9THK00J+a8j+mMV6IR5xLBjymMWKkB5wrhj+kJWbH/4hJx8d8JW7nx2jrRWwSu4HdlqbjoLwTyu7BgDNQXKUMBCGSOP1/7aobAeRkkmf8DAO4MhlvbobbSQfANKYvrzmRPn3HVDwD2IKS7WA0DcPoXjcIDQRJglM4CAGJkihEETbCfRdVokOBFpSRB0CCSwKdEGhNaJIoUAt0zQhzarFNNDyNo1yEAoVgxUD+qjFCABnKsaJEnWlzEzoA2WsQJGBehc1+PA2VixkXnDEHkQJawcRE5Si4JgCVwXBROEVICMMkcF3nDoJSQ6HFRN0dkyQggF22zRJaJIHIRNk1kiQgjF1kDopSFTHIRNVNkCYglF0XTp5R9aHLRMy5KqQcoFzWThZS5zFGXRczkuGSkh1mUTBeQyhGaRcdwemkbsDBFDJCXslELU8KUAWkaKhJ8FMyRl6bBC1O90EpkLmb0whQvRSTSFSUAcKKVJ6NctQpVseTibC6bmREMU9wgUshPcMDxRRdZZLGEEUUQ8UMNM8TAQkstqaTCCTXogEMNPBAxBBBDNNHEEUdQYcUUUmRxwzDI3QORPfA05A47CpHDzcLcUBPNw80ks1dAAAAh+QQFBAAAACyIAKwANAAxAAAI/wABCATwj105dO4SwrPH8N6/h/8GSpxIsaLFgfpOEAFQ44aOGidUsFARoqSIGDFq1CBCxIgRK1m6dGkDR84cQIgYPbLECZQoU61gycrly9c5ifZUXJSI65XTV6aimgLlqaolSlgXIdoKSI9XOW3CpiljJYnEeSyWql2r1pQRifFisJ1LV+CoJRLh1ajLV60oKRLd4ehLuCIoKxLb6SjMeCCnLhLV8WjcmFMZieeAUGZsSY3EckM2F7bURqK4jaL7UpIjMVyR1HxzTboj0dsR2HVzPfIjkZtZ3HNzLSo08F+2JsCD5yQYj04FBCMsJVebqxCkf9wgpBqXzpgFLdMv5v8CZOlfBmcSzUUoFb5irj6avMmYuE7SFFvtJ9aaYymaF/qzCJHfRLnMIQo5NNBXyRQDSlSgKf9gUI1E6UQgSoMD5SJHK/9gA8Es6azjDAdR7IKhQLm0AQtB7ozhAAIbQHJihmzUUpwwl82YYRq4FBeMGTruyEtxvQAZJAC5mOFLcbukcSSSZQhT3C2eHZkLGMMUFwsbT+byRTHFtQJHl10kUxwqrFmpBTPFlTJHl1k0U1woenRpxTPFcdKHndEUZwkgXU5BTXGTEGelFNYUxwgiXTaBTXGIJNLlEtsUBwgjXR7RTXF6yGilEd4UN8ckXRIRTnFtSGflEOQUx4aqQeZwAsRRAkWUSZc/oFPcF/xV5UkoUqHyFCy5FJtLarnwwI6WcLAhUxZUuETEEDXMEAMMJZXEAgsnnODRDTUMMS0QRzRxxBFSWEGFFFmA0UW7aZhxQjuUMcTQOwm5c045/HrDzb/WRCNwM8kUTExRwvATEAAh+QQFAwAAACyIAKwANQAxAAAI/wABCBTYz507ePYS5vvHcKDDhxAjSpT4D9oJHQBOqGABIITHEzFm1OBBpIiRKVm6dGEDZ86cQogePeLESZSoVq1k2fLFU1iyn834OfzHTMvEWq+SrjLFNJSnp5YoSU2EqKqeq3raaGVTxkwaM1m0gOFxayiyLxPTql0LIJecVkOLgWFLt25bNrGGDitjt2/aXGrKDvwXzIzfwxBzpeE1tJdhxJDbmuk1lNfjyIdzmQk2FJcazIhzlRk2VBYb0JnBEBvaCg5qv7m6IBuKSs7rvrm0LBtaas5tu7myNBsaSs/vurmsPBuqqc9xusmjCfwXbswCCFBkPVebawo1AP9OXf8ANk5bowWitk/MJcUagHMX0g1cZwyDeom5mmCzF6nTw3UWmHIfRLUYQc0/YwDzXw+WDPhQLkd0848jqfzHgYAODpSLEd8AwE0L8gm0TjUPZOhQLkSIA14eQWgDwDq6KACJiRoOQc50xXwAQAImlEKjhj+cMxQYnPx4Ig/qDNWFJ0ZqqEM7Q1kRSpMC5YKDO0NJkR6VudQAz1BJ+MhlDPEMVQSGTebCwjxDAbEKlW2pYM9QPLzJ5Qn5DHUDXHfuM1QMsMCZiwj9DKWCdlTiEoI/Q51QC5y2nPDQPyLgAmctkjrkTwhwAhALRw7xI0Knr8zwkD6ZUtkKDg/hk2qTq/CN8FA9oFKJyhAPzQNDp6YY8VA8psI5yhIPvVNDp6JI8VA7M3gSClOmrJLUK7XkYu12oFgxKxtZTGFEEUT8UMMMMZzgUQgnsKDCCTXocEMNQBABBBBJNHHEEVZYIYUUYHyR0lddadWGFl0gpk9C9sBjkDvnlONwN9xEHM3E0fyUzDE8+cKLLLG0gkoyAAQEACH5BAUDAAAALIkArAA1ADEAAAj/AAEIBPBvnz17+f4pHMiwocOHECMO/AfoBAsAITKeiDGjBhAiRoxkydKlDBw5c/wgYvQoEydRolq1kmXLl01iyXJCi8aT27mG/9hYaljrlVFUppJ6WsqJktNHiKL20UO1jVU2ZcykAZPlCxgqUqxYOYKjHcN/ZjJJXMtWYq4f6M524dS2rl0AuXiwO2sF1N2/bsuenSIKsGGHuWq8O7tk1OHHAnPNiHfWiCnIj3PBmHd2CCrMh3OxqHeWxyrQhnOdwHcWRyvUgFXvOzvjFey/uUTwO6si1u27uUL4O3ui1m+7t0QAFYHreN1aJyYWq2LABiPnbGNdBLDPhxNjAIB5/8iBXeKrGQQv4WG4roec8hBb4QBgr4K5hs402ILv0NQNghI4lM4C/DmEyhAETZBOQ9pUUGBDphhB0BiusBdIFA8yNMoSAr0zQSoCpdPIA7JkOFAoVAwkDxkQILAAEr6ZKBAoVjTEjg4yNsTJFw2h80OODGViRkPnIAikQJaw0ZA4RByJ5HsMhVOEkwBMokdD3hxBJSR9NMRNElQuUkhD2TRB5UoNWfMElYVA0hA1U1AJyFAMRVPjkbn0oUlDz9wJZC56+MVQM1k4mcscpZy1jBaGyvHZRMfwiCccr01EDBiGslHiRMKUYagazU0UzJB4psHLWb2Q+qcZvpy1SxqGlnohzFm2KIknGMScBcsXpqxi1Cu15CIsf7l8ccxZyRhBxA81zBDDCRmFYJEKAOiAQw06EDEEEEU0kcQRU1gxhRRffEFSGmZkZVUbc1ClRyFDJHNXPgfZ48697ZSjbzjc9GsNT9HklMwxNvnCiyywtFKKKJ5wAskj5QAQEAAh+QQFBAAAACyKAKwANAAxAAAI/wABCATwr+C/gQgTKlzIsKFCeABChDgRY0aNIUSMJMmipUsaOHPmFEL0aBInT6JMtYolq5cvX8KSyWwWreY2bty8lSt3D6E6HgJrvRqKypSpUp6SZqLENBEiRIX0SJ3TpmqZMmnMZOkCxooUK1aSHGmSBAgASgjPmXXItq3DTGkQkhvitq5dgZbaIAxH5K5ftpTkIPRm5K/hhZD0IOx25LDjgYwAIdy25PFjpwixPbHsuNAjhNakcD4MCO3AaFNGG/aTCeEzK6r/6gGFsBns2HfniELITAtuu7nmoEKIrMvvurnktBKYb9SLClhkHWebi02sf94mGFKmLNACS9Mb5v9Sg6tfBWcInS24FX5hLjO8mDlJuE6J5PYJa5WxVasR/UZl4JdQLmUII0wc9LkhmIAD5QIGMfFIkA5C6TSwCoMNfnHMP5r0oA0A62izQhQYNthFMgQRk0EEDTgwR4kNZsHMQP94siCMAuViRTM0cqIYjjlSAQ2NltwHZC5TUEPjJIUAmeMT1tDICCJOApBLE9jQiEgiVeaSBDc0+vGZk7kc0Q2Nd0zSZRHh0CiHaUcSIQ6NbIBH5hDl0GhGa2T+gA6NX3DSJQ/s0GgFbWTi0A6NVITSZQ3v0LjEKF3OEA+NRpjSJQvz0DjEcGSyUA+NPFxI5gn50IjDcqfuQ+MMr3R8KUI/NKognZO4hOAPjSes8oosuQRboi0nIPRPFjPEcIJEE7Fwggo64FADD0QMAUQSTRyRBFhSZAGGFlmYkUYZZlTVxhxS6fEUIoxQAkmxbOVjjz31uGMvOzuV0w1O29QUTTMyJRPMS73IAksrpojiCSePPIIIIHPIAV5AAAAh+QQFAwAAACyKAK0ANQAwAAAI/wABCATwT1aMGDV+EDFyJIuWLmbgzJlTKNGjSZxAiVr1SpYtXyCPJUu2LJpJbNxSllupzp07eAMF/ss059WrVaZyetqZiZLPRIgQAdJDVE6bNmzKmEnTJcuXLlKmWHlyZEkTIEOI8KgBQMe5mP8oAYpJtqzZs2hj5npiDSwjRGnjyk2bqwk2sIgSzd3LF0CuJNzA+nnUtzDdI97A3plkuHHZXEXCgZVDybFlgbmIiAPLxtJly7mGfB34z0ymz45z/UAHtgsn1I1z8WAHFgAo2IZz4WgHdooo3IVz1XgHNkkp4H1zxYgHtogp5HxzsZgns9wlCEI8Q5ebS4U9gpcukP8ylsqCj+1xc53I9y+ZjHQD1/Uwgx5trhL77NlwRlYbhPpn1dJBPf9MUNY6CgBoFi4iEJSBOWSlk6CCZNlyAkF8kBLTOrqkQCFZsqggUDwTzCLQOsAo8NuHA8ESw0DuMCGBBRFsEAqLMbWCA1n2dGALjmStwgNZ9bAAJFmoDEHWPEYeOZApRpAVzwxODjTKEmS9w1WVAIRCBVnt6MAlAJ5kQRY7Q3LJyRdkofPDmJnQF1M5SnJpSRtkiUPEmJTIQdY3UXIJiR5kdXPEmIyMFdM2WHIJFFnYPDFmIZCQZY0UYwJSWUzRTDFmH5qQ9YwVY+pxW0zNkMrlHKOQxYwWY8qGgQpZyHQxJhytkEUMGFzmwkYtZA0DRi65OJmLGriQ1YwIIYRwAgsnqKADDjXwQMQQQCyxxBFNWEGFFF2AkUUXaZhRhhpHtUGUHoAEhcgkPlmy0xS8oJWPPfbU45I76qxUTkrcYGNSNMyMdAxIvuAiSyutiBIKJ5Y8AtREcLDRhRZZUANAQAAAIfkEBQMAAAAsiwCtADQAMAAACP8AAQgEgC8JkSJGqGTpUgaOnDmFED2axAmUqFWtZNnyxfFYsmTMoonMxo2bt3Io27lzB8+ey34DAcCLYapmKE+eOFHauQgRokJ6gspp04ZNGTNpumQBo0UKFStLjjQ5AmQIER01sJ5QoUJTTHc4YoodS7asWbGhrMRsp+Os27duOXWJqY4H3Lt4BWoyE/MckLyA3VpiE5PckMCIyVqCEzNckcSQB066E9PbkciRIfWJyS0JZsiLCsXM1uRzYkSLYlp7YhpxoUkxqU1pHRiQpZjQqNAGrMdTzGZqd+O9I0qgv2RXNszBJRzuHFMA2o1w4srVlgehmruV0+rfCGAxlTn/YK69bBtY2GiIXafET/myZlr5+jO2kpb3Y3OZ4XUszvpAfOEXk36+xCPBehZkJ+BAuZQhzD+EOGGOQOZsYcOCA4JBDAD+qPLACh4kEMUtGDL4xTED+TOJFeSVKFAuWiQz0D+mzOHigFk0M2MoetzIoBXPzKjJZj4CkAsV0cxoCSBFGikFNTM+IlqRuTyBzYyJJNJkLktkMyMgjGyZBDcz6gHJlkZ4M+McsFFJRDgztnEblUOQM2MamWz5wzkzgsHJljywM2MWvlGpQzszUqGgj7nU8M6MS4yy5QzwzGgEdFTCMM+MQ6CyJQv1zMjDKluekM+MOLRS6j4zxgDLliLAciTQPyrI0iQuIsT0zxAsqADADTjUwAMRQwCRRFRNWEGFFF18kcUXaZhRBhtEyRGUHj4hwshOlHCCUyg1lXKCWPy4ZM87K7GDUjndlISNSNEs81ExHPlSiyytoCJKTpA8ggggc8gBxxdKTWFEEUSAAUBAAAAh+QQFBAAAACyLAK0ANQAwAAAI/wABCATwb9eTLF26tJEzxw8iRo84eRKFqlUsW74yHkuWjFm0j9u4cQtXrqS7k/Ls2bv3r+W/gQL/PWrjqaYlSpQeIdqpp6ecNm3YlDGTposWMFmkWLGS5EiTIkCGEKlxQweMEyxYhNhqpB3Mf4sQwRxLtqzZszBzNcn2FRAjtHDjos11pNtXPZDk6t0LIJeRb1/lUOJLeC6RcF/bWCrMmGyuIeS+msnUuLLAXD/Off3CyXLlXDzYfbUCynPjXDq8Dvw3RZRpxrlqvPuapNTrwrlmxPtaxNRtwrlYzPs6BNVvvrlU2PvKY9XxvblO5IsJb1eFL8afx81VYh9BVhL+pP8KpICMdri5QvgD0AyEuYHmOAA6fxaXCAD2Xjgb60wDfbOw3PfPBGSts8B/ZcmiAkEEjpXOgQiO9coMBFWhy1i6pBDhWK3gINA5EuwHwDrOKFDahgOt8kNM3HwgQw8eTDAYigOhMsRX34zgGo0wlWLEWPBQyCNMojwxljseDjlQKFSM1Y4OSg7kSRdjqcNDlAJxUsZY5wCBJQCWqDEWOTdiaUkbY4VTxJeT3DGWNz9iCUkfY3GTxJeLFDJWNk18icgiY1ljJJaFTDIWNVN8CchiMEHTJJZ6eDJWM1Z8eceOAzGjxZdzZDdQMlRiKUcrYxXzxZdswDLWMGB8qQYuYwV6Y8aXZvAyVi+zYmmGL2PhImaUuZQhzK0n6HADAEQMAYQRTRwBwFJSZAHGpmmYUQYbQMnRkx47PYQTJRJNZMq4r5SbBTFj+RPPSe2UVM43Im3zUTTMcHRMRr7YEksrqIjiCSeQ6ATIHHLA8UUXWTxhRLI1zBDDCdEAEBAAIfkEBQMAAAAsjACtADQAMQAACP8AAQgE8A+QGThz5iBK9MiSJ1GlWsWS5avisWTJmkWLNo2bR3Hlyqlz5+6dvZP9/qkcyFLgvxOWKMlERNOPHj1z2ugsYyZNFy1gskixQuVIkiZDgBDhUQPHjRMqWISYeiLGjBtEOLH8FwJXy69gw4plWevVq1aiVLDsJ2Ks27duX81gqe8E3Lt4BbbCwfKe2ryAx676wZIei8CIwaIawjJejMSQB5Y6whJejciRRT1h2Y4v5sSgrLBkx+NzYk5dWKIjbDpwJjMsyzFuDdgSG5biiNAGTEkOy29GduedpMflOUsbHgm/ywgQgH1kPPyp1KNCqOVuEyH6t0bQwHXGFtT/wh42VyFI7yS0XLeFjS3yX2vpeYTNyddZQuB/zdVHEzf7LK3jSn76sZSLHqHo40A6ASrRR4EGzmHKP5FwYY5A66QygVcQCpSLHKwA4M8nEjixhQUmrNLhQLm0ActA9lgygykrGqjGey4FA1uNLJrBy0D/9LIjjwDkYoYvQOKiBpEeliEMkLXcxmQuYBADZCtwMFlkF8cAiYpvU2qxDJCjzKFlLlk0AyQoxU1pxTNAZuLHmVNMA+Qkzk35hDVALoLImU1gA2Qhi5yZBDdA9gHJmUd4A+Qdk5xZRDhAtmHJmUOQA6Qal04JxDlAgqHVlDyoA2QWnpypQztAUnHdlDe8gQPkEqOcOQM8QBpB45QwzAPkEzUQkdQSSxwxlBQAgKEFAGmYUQYbOslxUx80ITKJTJl44gkopnRr1iu25CJuLizUA2Q97YQEgEfcWLPRMxglU5EvtsjSiimieKLJI4wgcscccJjRRRZUGFEEETXMEMMJU4nAAgv7aNkSP/bkA0BAAAAh+QQFAwAAACyMAK0ANQAxAAAI/wABCBQIT48eRIwecQIlitUrWbx8+SKWLFmzaNGocdtIrly5du7cybNnT9+/k/8Gqlwp0BuPSYgQATCop41NM2XSgMnyJYsUK1SOLGkCZAgRHDd0wDjB4kSIECVizKhBpIgRK1m6WFvJLQnLr2DDrrz1qqyps6A8ySmk8h+2J2LjyhWbC2Fba1Lm6t0LIBcgSm2jTeFLmK6fTG2fWSnMmGUuPaDaNsvSuLLAXHNKtU3WxXLlXHJWtT32xXPjXG1gtR1WxjTjXGxstQ1mxnXhXGl4te1V2zbfXGZ6tcWVxvfvMsLa1mJjfG8uMMQG/gsHhoep5nNzdUEG4J+7HDLwnP+J4OMWdrpamAHop0HXwHRudpwPmytLM3vBuKxc10D0fJa1SJHMP464sp8SjPzn2BTUEGigSusoAYmCK+UihTX/JKOfSuk08AqFKuXSRDbrbeCeQOmc4QOIISbBTXfv7BDeFhEIYR6LlxnhjXTk1EAFKjiGSIQ4bbFhSZAhDlFOWwBoguRAufyATltdcPLkZTyw05YVoVzZFw7ttPWEKF7mMgM8bRlx3ZW5wCBPW0MAySYL9bTFg39P5nJCPm3d0EqZJ+zTFgyqsSlCP22dUIuXuIiw0j8i3PikLSes5E8IXgIQCwsr8eOol6/MsFI+lXrJig4r2aNCpqsAsdI8nHqOaUoRK8EjqpejeKXSOzdkGgoVK7WDqpeeUKaSOj9kygkYK6FzwhBNJHEEUAB00ZMZabRmkxwG9RETIpSEy4knnohy1iplxZLLurmoZElxKvmDjjgbAYBRNMtUJIxEucjSCiqieKLJI4sgMocccJTRRRZPGEHEDzXEwMJTIbDQ1A04zJSpQCTZ805I9gAQEAAh+QQFBAAAACyNAK0ANQAxAAAI/wABCATwj9ojSpxClWoV65YvX8KSJVsWrSK3i+TKlWvnzt08e/b4/Rs5sKTJk/9KSQGkR8+cNm3YlDEDIMuXLlKsWDmSpMmQIURu3NDBQgULESFCAIhRgwcRI0+ydDEDR44eS/ZK/gOl56TXr2AByHr1apUpU6I8edJEidKkH8+0WvITtq7dsLmoRNM6qdDdv4AB5HpiTSsjRIET422CTSsgRoojn8yVhJtWPZAkaxaYy4g3rXIobdaci0g4rWwsjZacawg5rWYyrY6c6wc6rV04zVaciwc7rVZC7U6cC0c7rU9EDQ+cawY8rUZMLQecK4a8gf2+dQB0a/rdXCzqEf+0liEIgB4LDnmvm+tEvn/kJFQTuE5bBNHrv+Yqsc8eE2AmGbOBLfl5VUsH9fxTQTomraNAgV7hIgJBE5zkIIQn1XICQUgYU9I6zmSAoUmwwEDQNheAQx84FiQyYkmt3CDQP8NMgEYnZyjwxoslrcJDSfcIw0AfrfBYEipDmCTPDEaaVMoRJsFTQ5MlifKESe3gQOVAoFhhEjs/bgkAJ12YdA4QYgKQCU0lkZOkmJa0YVI4RaQ5yRwmeWNEmpB0VRI3SaS5iF8lYdNEmohAVpI1UoiZCyD4DRTNFI72oYlWz3i5ZS56gKIVM1k4Ood0A/2TTJmbysGKVsWA4WgbsGiVNYyrm6qBi1a+sEllLmbwohUvujbJqy9a4aKGo2AMoxUscm4KQDFavRLDElZMQQUYWmiRhhllwNRGS3ogIu4kbXGiVilnsUJWLbm0q18XyWg1DzfZVASNRMc85IsssLQiCiicPLIIInPMAUcZXWSxhBFE6FBDDCckdQILJ8Cgw1BE/ARDM1T2Z488HbGjkTjc5ANAQAAAIfkEBQMAAAAsjgCtADQAMQAACP8AAQgE8K+WKFOtZO3y5YtYsmTNokXDxo1buHLl2LlzJ8+evX3/Qg4cSbLkwH8s5sxp0yZNmTRgtICxMsXKkyNNigAhwqOGDhgnWJQIEeJEjBo/iBiRkqWLGjlzACV6ZMkTtJH/TtQyybXrQFmvXq0yZUqUJ0+WKFFihAgRoDslsIrA5bWuXa+yVIzsJ+Ku378CYcEYqe8E4MN1W+EYeU8v4sclV/0YOY8F5MsDTREZGW8GZsylkox8V+Pz5VBURrbjYRqypywj1U1ujZgTmJHnhtBGbInNSHGbdwOmJGfkNyPCAU+6I/DfPl8sWiX3ywgQQVUOggBoYOPV9LqIEv3/u+RknMB1mDB891poUjwH6Uau6+FnPVc9kLI5KZmKCV37I+WiByjWeFGSK0IASFIuc4wizwUkrXMGHAoGKAcq/1yByUDrKLOALBUOlEsbsACQDxIyVEKKEg9wEqKIatjSXDdhdNDHfy8CkIsZvJzESxo5BmiGLyfdokaQIpYhzEmx+Iakjl8Uc1IrxT2ZCwDJnGTKHE/qmAUzJ4GiR5e5WPHMSZr0QeYU0ZxEiXVWSmHNSYsgQmYT2JxUyCJkJsHNSfiRaYQ3J8lBCZlEhHMSG5aQOUQ5J5mRCZk/oHMSAC5ayQM7J1ERCpk4uHNSE6KQOQM8JxlhCpkwzHMSEKuQfqmCPSfxwAqZJ+Rz0gzeWSkCP7s2kcUXsLkEAEtz6KEHIG1BolYmZx1kCith2ZLLtXblEoI/J3kTTTMPDcMQLrG0YkoonFDyCCJ9zAGHGV1k0YQRROgwQwwnEAUACyfUgEMNQAwBxBFLHCEFFYZVmI9H8GyEDkbeVGRNNH8GBAAh+QQFAwAAACyOAK0ANQAxAAAI/wABCBTo7pWsXr58IUuWLJpDbhDLlTvnzh08e/by/ds4sKPHjyABNLvRxkyZMlayZHkiZcqRl0CA/KhRY8aJmyFCnIgRgwcRIk1UmoEDxw8iRJY4cULVqlU+j8u0hJwK0tarV6tMmRLlyZMlSpQYHe2jRw+cNkBQeTzWharbt1RztXnV8d8wMHDz6gWQi42tusHM7B0c1wyvurzSEF78MZcZX3VxqWFMWWCuMsLqwmpTmXKuL8TqspLTmXGuLsnqmppTenEuAMzqgtLTmnAuK8/qZvJTe3AuKtHqTirUe2+uJ9bqii2uN1cTbAP/6etCmzncXEm4CYx3RUILCw6IW/+Pa8QbgH0ZXA2sZoH3+JC5iIizdwqPR20O3oesxcPbPyTOeLROBLHo19gP6vyzQzUCcrCKgR7lokM7/yiSikfpJIALhB3lcsM7ALAjATgDreMGEhx2OEM8APyTDASB6EIKBy/ckuJAubAwz0D22FLBEJbc2KEK99R1QytCdnjCPnXBAEuSOIrQT10nyAKlQLiI4NE/Ith4ZS0neORPCFcKFAsMHu0TZpmt3OARPmteuQoPHtHDQpkAoDKER/HEgGcpR3j0Tg14iiKFR+3ogCcoVnikDp1lcoJXR+cAgaclinUkzp5lWsJZR+EUgeck1Q3UTaBlMgKIR9k0gWciiXiIZM2hZRYCiUfTUIEnIEF29EyjZerhiUfNZIHnHKJANQMAZZjERhtt3FHWUYiAZUlXoGiFylWy5OLtXnKo1dE8DAmTkC2xtCIKKJw8ItYccrTRhRZWGFEEEDXEoEJOIrCgAgw61OATEEYscYQUVkihxRc30KUfPxjFU5E6En0DkTUOMcMQOwAEBAAh+QQFBAAAACyPAK0ANQAxAAAI/wABCATwj5ovX8kSRotGjRs3b+XKsXPnbp49e/3+/RvIsaPHjxz/SZFSxkoWLSMBHDlCBAgQHTVqsDhxIoRNFjFmECFyJEuWMnDg6EGEyBInTqhaterlK5i3jv+SlAJJlSOsV69MmSrlyZMmSpQeEQWkR4+cNm3KmEmjIl7IIaiqyp1bNRcLeiF5rKLLty+AXCfwhbzRyq/huif2hYQR67Bjj7lC+At5otbjywJviYAqAhfmy7JOdOy3+fNjWDA66hNt2nErHB3vqWjteBWQjvNY0D5sqkhHeDN2Gx61pKM72ML7hqISkpzu5Hw5dRH4T5qGCwASCGkMvWomMwSRef+oJjBdowqeu4O0xAaAvQraOK5TAkc9SEjt34HwCMyG/Y+Q6AHAOTR4pEwK/3m0SCEA6CNBR+t0ckSCHSHCCEFjYMIROAqYQiFHgFAiED45BDGLMY0oIOCHA/WhyUD/NANFBVgUxuJAd4jS0TJa3NjRHB5ydMx0Pg4Eh40DDQNGkQLlwoZlHAUDHpO5pLFLSLxMWWQuZvQS0i1pMPlXGcKEFEt7VIJBTEityCFmLl0kE5Ipc7yZBTMhgbLillY8E1ImfrxJRTQhTcIglU9YE9IiiLzZRDYhAXIhlUlwE9Idk7xpxDchwWHJm0SIE5Ian1IJxDkhgcHJmzyoE5IVoLx8qUM7IUmhI5U1vBPSEVNRGYNbMBIhEBtoldUHUYyAZUlXomjVCla45JKLY3bhBeM0B9UCSyuieJLJI4kAMoccaXSRxRNGEIHDDDGIcJMKKuhwgw4tFdHEEU9YIUUWX2RhhhlliCAYdBfVQ1E7EYXj0DULMZOQMAf1MllAAAAh+QQFAwAAACyPAK0ANQAxAAAI/wABCBRIL1myZdGiWePGLVy5cu3cuatn796/iwMzatzIkeM0GF+6SLEC4EiTIkAA6LgBQIUKACFClIgxgwcRI1KydGEjZ04hRpA4hRrVSlYuX76KGYSmT+Mzkh2j3nr1ipUpU6I8ebJEiVIiRIX06JnTpk2aMmm6aAGDo5VGZlmiyp1LV+CcUhqTdanLt69AOas0EgPjt/DcNrA0CitjuDFHNbg09jLjuLLAXGl4acRsuXIuM8Ey/qvFprPjXGCGiW4lx3TjXF2OiTY1x7XhXFqWiQ6lx3bhXFmaidbUx7ffXFSgiaYEyHjfXFKoiQZUyDnfXE+wCdQXCUIEABg0Wf+fmysJNwD+UghKB2CdsgaMxkfNZcQbgF1cNFaDIL9jrSHb/HOFMRqtE8Er/W2UyxDl/COEMwV6YEqCm/2Azj+DuFKgArZQmFEuOrQDQDkXmDPQOpjY4OGHN7wDwD+2XECKM8AogUFiK142QzwDtROJAy/UluNAubAwj2g8BDYkkSrcI1oNbi152Qn7iMZCLFJeJkI/op1QS5YA3CKCRv+EEFmWspygET9jggkLDBrloyaYreCgkT0vgblKShnNAyeYphShETwzgAnAKEto1I6dYIZChUbs8GAoJ3tldA6fWWZCWUbkDGGoJaVlFI6gYE4i5EDdHGEoJL1ltE2iYH6LpdE1TxhaCCQaUTOFoYBYohE0j4KpBycaNRMXmHOIkhcOZYnlByKIPNKVJlqVchVVseSirWVyoKLRO7LI0oooomjyyCOAzDGHGV10kYQRRNRQAwsxncACCzXooMMQRBDxRBNLWCEwGGCYkUYabJRVBIK+7WOPPfBIdM5DDG2TUDMGDYOULbGMa19AAAAh+QQFAwAAACyQAK0ANQAxAAAI/wABCATwr1u0aNa4cQtXrlw7d+/s2cv379/Aixgzatwo8F+SI1YAHGlCZAgRHChPsDgRIsSJGDV+FDFipcsXOHL0IHpkyZOoVa9k+fIlLFmyZgezscP4D8gqjhlrvXq1ypQpT544UaIECREiQHr0yGnTpowZM1m+ZJliZcmPfBf/4WgFta5dqLlOwB34Dwasu4ADA8glgl/cE7IEK4aKSwRTEbcWS456AqO/EJMzD4wFA+O+ypozt7qB8Z6K0JlX8cA4jwXqyaiGYIw347XkUkkwviNtW3GoKRjb6eit2JMWjOh+EBesyQxGcrKXA7bEpmM4Gw4QODCDS3pdSnIINv+7oEwgOCUvvEOFpAeAvQnaLq7zwEj9xkLt0cnImAqJfY2F1LeNExkBk8N/GQFiCQDxgJBRJcAheFEfnBBkAzAXjdOAKRJedIcoArWTwR8AVJNKA290eJEcTwnEjyopOOBDKSpe1MYrGA1TRo0YsWELRr44x+NAZvCCES9pDEmkLxjZUp2SuZQxDEavtKHkYF8cE9cq4UHZRTJxiXLHlblk0UxcnPRBJhXQxGUJIGROQU1cjBRC5hPYxFXIImQusU1cekBC5hHexCUHJWQWEU5cbCwI5RDkxGWGJmT+gE5cWnhCpg5L8TVFKGTe8E5cSdAI5QzxxDUEKmSyME9cPLR0OGQuKtwT1w10QXnCPnHBMIcegHgFyVacYGUVKlPJkksurxHWT1y+iOKJJY8g0scccJShRRZGFAFEDTGw5JJrN+BwQ0kANHEEAFZIYVMWaThHVk7AOvZaPhK94047DYWj0DUHMWPUUL3I8goqoXAyySgCBQQAIfkEBQQAAAAskACtADUAMQAACP8AAQgUmM8aN27hypVr5+6dPXv6/v0bSLGixYsYK0ZjcaRJkSEAbuC4cYIFgBAhVMSoMaRIkixdzMiZAyjRI06gRrWStcuXr2PJkkWLZhBhOX4Vm1nJSFHWq1emTJXy5CkTJUqLECHSo2dOmzZpyqTpQlaKFSkdicAQVnGZFqZw48KdY6risS5y8+oVCKdVxWFl9gpmmotNrYq+zAxebDGXGV4U//FKw7iyQMe+It9SY7lyrjJsB/571aYz41xfikVeJcf04lxdkkUWdcf14FxZmkXm1Me24FxUoEWmBMj33lxTqEVmhMi43lxPsEUutMh53lxLtgn0RytDggQvVln/h5vriDcA/4RwAQdgnasEnsZnzEUkHIBgTioayyAfY60f3fxzhTEVrdOALf019gM6/+RQTYEciJcgRbno0M4/a+hSYAK4TEhhDe8AcE0L6Qy0TiopeEhhDPGg5wgIxphTjRsPSKgiALmwQI9A/2xzBQIZaIHgjZedgE9kM7xCJIUl7BOZCrIsOVAuIfgT2QlDSmnLCRX5E0KHUgIgiwoV8SNCmAK9MkNF+XCJJis6VFSPSWiiAhJF8cSAJgCmGFHROzXsKcoTFbUTJ5qgLEWROj/syQkYFZ1zZ5iWcEaROETsaUlrFHnjJ5qQ6FERN0nsyUhxFGFDKJqIMFIRNVLsgwkIJRVBQ8WefWiSVBZ73iFKW2+hSZddX+zZ119DaAXJVZxQFdUqT9mSSy7GGVYROZk8gkgfc8ABRhdWGFHEDzXEcAJKLKjAgg438EAEEEcscYQVVFABRhZghMXGV1z5oewSkFl2jz30uOMOOwp5c9BQ0ARFjE+2wNKKKJ5Yoi230gUEACH5BAUDAAAALJEArQA1ADEAAAj/AAEIBPAvnrdy5di5c2fPnr5//wZKnEixosWK/0LVAEKExw0cJ1gACBGCxYwaRIw8ydKljRw9iBhZ8iSqVSxcvnwdS5YsWrRr3LiRK3du4byJ/ywBuggg1qtXpkyJ8uTJEqVJiBAB0qOnTRs1ZdJ0GSvFypMjTYYMAVIDh45zEv89KsS0rl2muZ5ci1to0d2/gAHkWrItrh5IgRPjPeItrhxKiiNTzFUkXFw2liRrFphrSLm4YDht1pzrB7q4VkCNlpxLR7u4T0Stjpyrxru4RkzNVpwrRry4QFbtTpyLRb24OloND5zrRL64MWAtB5xLBL+4J2RN/4srhD+C+iJp/ygwgQyu7XVtnRA4L4MhcwDAbclwC/3FWCLtrSElcd0ZLLbYV9EqMRA0QToTVZPBeQJOtAoPBElAUToLNEiRKUQYiKBEClo4USlJEDRIJf05sYaHEoVChUD3jBCHNutU08MIDKIIACddDNSPKh8UoMEeNkqUiRkTiZNhkBJZ0sZE3xiBpEST3DERNyE+KRgjSw30DzZNWCkYIonERY0UXuZSyCRxRbOilbn0kUlczVhRph6hxLWMFmXOoZuWx3xRJhzKaTkMGGWyUUtcvhDJphm8xMWLok/mYoYvcdXCRpllDBNXK3CU+cUxcZkyR5laLBMXKHqUaUUzcWXih6rRxIw1CV1sSmFNXImEyWYT2MQFCCNlJsFNXHegyaYR38TVBhuUUKIJVVGt8tQtueSyXS5EiBNXMIDMAUcZXVhhRBE/zBCDCCSxoEIMONSg1hBNHFGWFGBo8UUaZbDRBhxcAZLVJJTM5AkOcCnWT0PxLHROOeIEZY1PPBGTky2wsDKVJYwgMoccbHTB0m8BAQAh+QQFAwAAACySAK0ANQAxAAAI/wABCATwzx06d+7m2cP379/AhxAjSpxIkSAQHjV0sFABIEQIFTFqEDEiRUsXOHP6JHqkCVSpV7J6+RKWLNmzaNS4cQtXrhzCePbs+Yv4j0UsibJevTJlSpQnT5QoQUKEqI+eOW3amNma5QuVr0eWFBkypAaOGCpYhGgzdOC/E7Yqyp1b8VYJiP5C4KLLty8AWRwf7rvrt3DFVzMg4jthuLFEVjwgzmPhuPJAVEMgxktsuXKpIxDd4ehcWdQUiOwik27sSQvEcz9WN9ZkBiK5zLILW2oD8ZuR3IUnzYHILQlwv4/8QMTW5DjfXIkSCfz3bs0EBCk4OZebq9AkgtYguP8ylw5YhDfbKebykwlAvQnVHo5TYCq9xFpz2nMLAnEdnjT2RZTLHPUdE0d/pEARIES5tNEKANk40V8gZSz4UC5sxNXPBNo8ZE4DqFg4UC5m8ELQMxLoAsA6ylhAhogjmhHMdOxUsYABH1gC44hgEPPQP6zIseOFXRzzYynDDSlQLlow86Mneii5pBXP/GgJIFICkMsU0/z4SCFZ5iKFNT8WskiYS2zzox6QhHmENz/KQUmYRYTzoxo6SpnLEOX8+IV2evKgzo9WgBImD+38+IQoYdbwzo9F1KcnDPL8+MMqYapQz484PKjnCfn8CMNReorQz48n1JIlLiJA9I9eWdaBwthD/LSaJSwwQJTPrFK2MtpD9VCW5SpAaKaCJU+VYgoqStmSSy72mfLbQ6Gy0UUWYpUVwwkebRQDDjWQVcQSR3xFxRdZbGVGVnPo0QdVkFCCrCeiMKXJE4X5E1Q8CPUUjk7URPNMTcL40ktSo4CSySOJ9CFHG9c+YQQRNYAJQEAAACH5BAUEAAAALJIArQA1ADEAAAj/AAEIFOjvXTx79vz9G8iwocOHECMy5HZihgoAIUKciFFjiJEnWbrAkeMn0SNOoVC9kuXLF7Fky6JFw8atW7ly7dy9Q8jvn8+H1KQ0rPXqlSlTojx5okTpESJEevTIacOmTJovWrpIsdIkSRIgRHTgqHGChYgQJTg+axiNisS3cCPaejVHE8N/zbLE3csXQK47ou4m09K3sMRcclDdLfbFsGOHudrAuiuszOPLAnOpwXW3lxnMl3OZ6XX3lhrQj3OVEXYXVhvUjnOBIXYXlRzYhnN1SXZX1B3chXNlaXZXUx/gfXNRgXaXEiDkfHNJoXaXESLoe3M1wSbwX7YqCipg/7GF/W2uJNwA/FMEwti4am4grCofMVeRb/aerUg3cF2qFPRBVAsQ3Pyzhi4NrZMAZwE2lMsP5/yTQzUJcjBfgwzlwgM7/1xhTIINkIfhQLnc8M4/xzjB0DrGZDBihjHEox4SXIADwDquKODJiySyUA9BtmhQgAIvXMijXyfkc1cMkx1Jogj83HVCLU4OhEsI/twlAoNV2nJCQ/2IUOVAscDQUD5fjglAKzg0VM9Faq4CREPymKmmKUY09E4NagIgyhMNtaNDn6BY0RA6P/TJCRgNkTNEn5aw0VA4RfRJyW0MdXNEn5Acx1A2TfSZyHUMWQOomoVMwpZbavqRSUPNGJE6Zi56hNLQMoTNOocpdx3T2KxttEIZo7OyIWJ3nqkpGi93KSfKUUXVkksuGIoWzF3RZPFEEUPUEMMJGbGgQgw43EAEEEYscYQVU2SBVRplqNEGHFEVgkgiTGniCShHtfJKLLLRFpc/CMXjTjs3fcPNNjI1kwwyLeECyypJTbJIIXPAUYYWVhhBBA4zsJDRWgEBACH5BAUDAAAALJMArQA1ADIAAAj/AAEIBPBvnz1+//4NXMiwocOHEBn+Y3RCRIgSMWoMKfIkS5c2cvwkgsRJFCpYtnz5OpasWbRo3LiFK3fOnTt59vAlVAjxnxxKAm29eoXKlChPnihReoQIkR49ctqwKZOmy5csU6wcWVJkyJAaOGCoOBEiBIsZOIgYAVRv4T81liLKndsw1qtWpkzpKOe2Cye6gAMDyMVDnVsqoQQrjpgLRzu3SUYtntww1wx4boeYosxZYC4W89zyWNWZcy4V99zOeFWacq4T+9yqkNV6cq4Q/tyWuFV7sa0TDP2F6L1YlgqG+4ATF/yqBsN7x5cHXsWD4TwY0gObIjKwHy0hCnZ4/8o+d9QSgfM+oHGmbVYELOQjhrICwB6TVAvTRYgb36El+vtI0JArQvTnnxoAtCNDQ858YGBDlMgBwD0XNASMDQ8yBIkeBJngzELr9MBhhgMlgohA3UgAjEDjnLEBiQsV8ohA/6gjRAQJLIAFbzAKBAh/AzVDX48L6QEKQ8toQeRAucyx2ULHfLGkZ3C04pYwYEw5GBu2uNWLGVrmYgYvbuGC4JRiBuMWLG2ECQYxbq0iIZpdJOOWKHeEmUUzbmnSR5hWQOMWJYCEOQU1bjFyIppPYOMWIIyEmQQ3bt0xSZhGfONWG0ASmcsQ5LhlhiZh/nCOW1mMhyYP7LglhShh3pHwjltGPLlkLjHE4xYQpKHJQlsD/YODlWiekI9bMIDSyiux5JILjLmIwI9bcxCBwwwqlKWCCjDgoNFGSxxhhRRZfNFFGmWwAdJTTT1CiSVIiWIKKkPZ4iwAuIhAFz72yGNTOeWEw802LzWTzDEqCYWKKJw8kkgfc7TRRRZNdFVDDCWEIAILJ+CgZUP82GMPsAEBACH5BAUDAAAALJMArQA1ADIAAAj/AAEIFPiv4MCDCBMqXMhw4TsAIWDM4FHkSJYubOToSfSIEyhTr2z58nUsWbNo0bhxC1funDt39OzpM9hw4DkgAGC9WmXKlCdPlihBQoRIjx45bdiUSdPlS5YpVo4sITIESA0dKlicCCEixowfRZZcbBMNoTgiNdOqxfVqp6lSP5Ei9GZErd27AifdQbhtCd6/NRkBQnjtCeDDChExQjhtCuLHAwFZQvjMCmTIejwhZKbl8uM5pRAe6+IZsZxWCIeVKQ04F5taB//5MsP6by4zvGLvSlMb721fsWWx6X03FxhisVnJIW43VxdkBOFd2qCBDS7mNXNlYQbgHzEJnZwZ/9syYRV2hrkAPANwTgK4getcfTi/sFaTZv9AYUK4LgJq+gjl8gQ2/5ABDH89TAbgQbkkwc0/g7jCnwejLMigEd8AEE0QCGmzgIUMDkFOd0i4YQ4A6zgTQR8gDpTLD+cI1M8oEDTQQAWTtOgiD+zEdkQoOjJ4w0MD/WOEKUG6GEM8sQFhXpIA5MJCPbHh8F+SuZyQT2wwxAJllCL0E9sJtnyJiwgI+RPCdVDWcgJC+6D55SsxIITPm1+yogNC87DwJQCoDIEQPDP8WUoSCLWDw5+hUIEQOzz8yQlpB930Zya0HRQOWl9a0sZcR/wJiR58+fXlIoUgZI1hXxYCCULROIf2pWQINWPZl3qAgtAynX05B5IHHWPFK7ikF+RpCFFTQwwihHCCnzrUAMQQRCxxhBVTZPFFF2mUwUYbGulBFCSUWPJTKaas8gosubTr4msN7WMPPS+dU044KqHUTDLHjGTLK6iAwskjiRzFRhdZHFEEDzPAEIKzWeFQAwu9/ClQPvbMU++WAQEAIfkEBQQAAAAslACuADUAMQAACP8AAQgE8M9UjBpEjFDRYkbOHESPLIEq9UqWL1/FkjGLFo0bt3DlzrlzV8/evn//BqpcqfIfoEKtTJkC5SkTpUmIEPXRM6dNmzJpunTJIsXKkSVEhgCpoUMFixIhRBwcUuSJli9w5hQyta/lnUksw4odO/DWq1eoTInyxIkSpUU3vLVsY4ms3btkcxER19JMJryAAwPIBeRcyyyeBCvOy4NdSymiFktmmevGu5ZGTE3eLDBXjHgtgazivDkXi3otcbQiPTnXiXwtYcRiLTmXiH4tT9iivRiXiJX+QuDirVjWiZX7ShBX/GrGSnzHlwdmxWPgv2l8HEgZLf0uqiEC9yH/oeEKQCUFdbrbLZUEgL08glSOa6BJ/VhOTQD4e5BupSsh9onFSRcAxAMCS9VsEGBYmaQBQD4XsKSMCQuyRIkcBH1QjUrrnGFGhStBoodA1FzgjEDrVDJBLSCqlAgiAv2zzQgXcJDADq+0qFIhj6zEzBDD6aiSH3Wp1IwVQq6kRygrJaNFkirNgcpKxXwB5UBt5KiSMGVcKZAat6zUy4dX5mJGLy3hooaXuZQhTEuvtMHmF8W0hMocbGqRTEuhjFimFc20lIkfbFIRTUuPFMLmE9a0hEgibDaRTUt6QMLmEd20JAclbBIRTktpFAllLkMYZl0XnLDJgzotUcFkmTi0ldNSEqWwOQM8LQ0xZZkszNMSD6yweQI+LTmXS5kidGXdEyGEwAIAN9zAwxBDNHHEFFQAYGUaZbDRhhx66JETJJRY4oknMrHySiy5HMsSLiH4E1Y/9tjzjjvslEOOR9RE00wyyVx0CyyohMLJI4noIQcbQx1BBA8zsNAsCyrEgAMORABxxLNe3mNPPO60U0453ZAjUEAAACH5BAUDAAAALJQArgA1ADEAAAj/AAEIFPhuSZEnWb7AmVNoESVPolrF6uWLWLJl0aJt4xau3Dl37ujZ2/fv38CTKFMCEPfDlChPnChRWoQIkB49bdqYMQNGCwApVpIYHDKkhg4VLE6EEBGjxpAiUrSAWViIkSVP51B6M6Kyq1eVuF69QuUSpsxENa3oQbltyde3cN8uKoTSmpS4ePMKLAQJZbQpegO/BWQJZTMrghOr1AMK5TKfiiMLnGMK5bEvkiXDaYVSGJjMkdXcQtnLDGjFZnqhvKXmtOBcZYSd/AerjevAucAQm41Kzm29ubQkmx1q7W+8uaw0G4jv1osTk47HTR4NwL9nEPDMIuXBRC3pX3M9/7EG4JwDbQPXBcoB3mutJNH+aeqEMl0CW+1V5jrS7V8VZSits4Io+aWUCxHh/DMGMAFygEqBKOUyRFa/oIESOAtAGCEP6gDQzwekDKQNB3NoeFIuOLQjED1rSLACBwv0YeKJM8Bz0j4sFDbjiSzMM5sOrOx44gn4zBYDLEIOlIsI/Mx2wndJAoBLCP7MJgIuUQJQywko8SNClgDAAgNK+XCZZSs4oEQPC2CiAgRK8cwAZilHoNROmlmKAthJ7PAAJiddoHTOm1lmYtpJ4RABpiW2neRNnVlCYtxAbYE5V11PgMmXX1SASZhhiGXJGErJBJolZSgVg1mWm3VWBpiikXx2aJSpoTTMCSrEkCYRQCSRxBNWUAFGFjsB0IYcNxWCCCSUXOWJKaas8kosueTiFWyyoYSPPfG400455XTDzTXRQJNMMsH4kkssq4TCCSSJ9CEHG11kcUQRPMzAQgghsKDCDDjoMAQQSyQhRQy7CXkPt96Cyw031kTjY0AAACH5BAUDAAAALJUArgA1ADEAAAj/AAEIBPBPmJUuauToSfSIU6hVsXL5EpYsWbRo2bh9K3fOnbt69vb9+zewpMmTA/9pMuPJEiVIiBDp0SOnTZoyYLJkeSLlyBEiQH7UqHHihIgQJWLMIEJkShYzcO7EzMTJVCtiJv9NKoSyq9eStl69MmUKlKdMlCbFnFlzBrWS/xAl+kq37tdcTbLB1QPJrt+/AHId6QZXDiXAiO8WCQc3jaXEkE/mGlIObhdOkTMLzMVDHVwqoTRnzoWjHdwkpURHzjUDHtwhqFRDzsViHlwdrWQnznUiH1wYsHQjziWCH9wTtYQDxiUiawhcyv/WOpFSXSsGcGJFt/tqhsB/ii5I/0rlRoGf7XRZ8QBgD5STkuAabELvddQPghXGlVznagf9rqUkAcA+F5ykDQb/oRSKFQD0I8FJ1WiQ4EmcfEHQB9Xs1wgUE5pkCRsENeOBNgKtA4wCr3RYEiVyfMdMBTIoYYEGoqhY0iPnDdTPMCqsYqNJicxVEjVT/GgSIIeVBA2DRg7UhyYmMZNFk5vNUWNJx3RBZWBysALXMGBsmQsbyaXkixlipsELXLukIaYZvsAlC4hU5gIGVimt0mKdXyADlyh3iJlFM3Bp0oeYVEAD11ZiSvFWSnKJ2QQ2e/VV52CFJdlkLovBpcZjdVJmGWZ1dvZZaHWWdlpqdbb2Wmx11oJ2m5d1noAPXETccAMQQxSxBABWSNGFFgCg2UYbMxWCCCOUWOKJJ2Sx8oosueRSVy4l7GPSPh6hU0443Gxz0TLJDOMLL7G0IoonkyTixxxtdJHFTzrMoEIIIbBwQg038DDEEE0cYYVTXYjgj4r+2GPPO+6oU4443HAzTTTMJKMoAAEBACH5BAUEAAAALJUArgA2ADEAAAj/AAEIFPiPUxs5gBZR8iTqlSxfvpAlexbtGjdv5c65c0fPHr9//waKHEmy5L8hhSgxQgRIz5w2bcqUsZJlipQlR4oAAVKjxokTIkKciHGDiJEsWdjA6YNoEidRrWBBPBaO5D8crUpq3Qqg1qtWpkx58mRJJUuXMMuk0RIj38h/MGJxnUuXay4R/N6esFW3r18AuESQ9Bfir+G5slSQ3HfisOOSr2aQtKf4sWWBq3iQjBfj8mVTRUi+q+HZsqgnJNlpLu3YkxWS54CwdqzJDElxRGYfttSGpDcjuv/mmnSH5LYlwf3mWgRI5L9wiTpMSl43V6FHA+8xaRGoUYsMqKjb/wVkSaA9H6TSCVyna4Is8VprzSkPgB2Iket6JIJfMpec8P8UEwd+nUzBH0m5tAELAP8gM6BI61Ty2oEi5ZJGLgLBcwF+K1BCYYVm9ELQGnGoB0CEG3xYIRjDDMQPIRJssUUENryi4kC5dHGMc/OwQUR4N+KoBTNvadJHkBVa8cxbkzSHpEC5TEHNW4ns9yQAuTSBzVt6QHIllklw85YcHl6ZSxFVOZcGfU/mMkQ5b3XByZe58KDOW1SEQicO7bx1RCl0zgDPW0AA2SYL9LyFFZ0nuOVcXHTipRdfVwY2WAi4fJnYYo19GdlklV2Z2WYwfAkAaKKR9uVpqa12JSgTinQUm6m13Zbbl7zddsIQQxyRxBNWUPFFFmmUwUYbc+gBCCIKWTJWWK28UksuGPY1iR5WvXNOOd5wc000zySDDERejUIWI4C81EUWRxCBQwwnhCACCyroUAOvvgIrLLFlLOHkgfzYU89G23aLDbjJJEPulgAEBAAh+QQFAwAAACyWAK4ANQAxAAAI/wABCBQ4zw+iR5xErYrFyxexZM2iUePGrVy5du7m2dv379/AjyBDihRIrgYiRHr0yGljpkyXLACkPDlyBAiQGjVYnBAR4kSMG0SOZNECBw4gRJY4mWp1y5ewZMuiRbMHMlyRkVhD1nrVylQpT5woUUqEqI/KNmnMmNHSZcqQSSC5JclKty5dRoBAYntit69fALkQMfr4bxqVv4iz5gJkiXAzK4kjh8ylxxPhZVokaxaYa44pwsXAbNacq00rwsLKjJacS80twrzSrI6cy0wvwrbYzE6cC4wwwq3k7Eac68sxwqXmDP+bSwszwpz6LPeby8qzgf64GVlyenrdXFOoAf/4J+5DkEBbFFzxTjfXE2wA2kFQNtBcDyzssdYqQu0fKEkgjaNAfiPlUkQ4/yDhDEjrcLAKgZMNUU6CC37U4IMQfpQLD+r4B+BHAmYIUi44tANAPfPV10NmIg6UywzxjEfOCEHgkd4Vu7ToIgv1YMcNBXN0pyNnJ+RDmAqxDKmhCP0QVoItSg5kSwkg9SNClAPFogJI+ZyApUCt3ABSPSx8CcAqQIAUzwxmmmIESO3gYKYoUoCkDg9mctIFSOUMYWYmsn1klZmUCPeRXGZCoodefH2ZSCIgUTPFl4tRQtgzkGGZSx+cEMYMi1F2Vgphx3xBqRxCjpcapWxAOdA/vZiSQakZvBB2ixqUlvHbq63AQSkYxRBminKaarEMYaLA0AQAVkzRhRZqAdCGHHr0gUgiYnHiSSlLvVJLLrkQZ0UzIN1DDkVSLZOMML7gIssqomjyCCJzzAFGF0sYoUMNJ4RQAgsw6IADEUQ00QQVVmgBRhlppDGtHjxEk98+9szjTjsWUURNNM0kQ4wvvMQCrycmBgQAIfkEBQMAAAAslwCuADUAMQAACP8AAQgE8M/aJE+iXsny5QtZMmjRsnELV46du3j28v37N7Cjx48gO/4r9UQPgDZtypSxkkWKlCNHhgDRUQPGiRMhAMSYQcRIlixs4ABCZImTqVa7fBFL1iyaNW7d0Hn8x6lPyKsDbb1qZcqUJ0+UKCVC1EePnDZmzIDpkmXKlCRJZnwTSQkQ1rt4seaiMk1kokR5AwsGkOsJNpF6IA1erDcJN5FyKDGe/DFXkXAizWSizFlgriHlRGrx1JlzLh7qREoRVZpyLhztRBox1XpyrhnxRP5YVZtxLhb1RM541XtxrhP5RKqQVXxwLhH9RIrA1VywrRMD/+nDRoFT9cCxYAj//PdrghMAKyp4/461FQ4A9n6BACdwnTIFtNmHLMWDoAZtHa1TCRP67ZcEAPxc8FE1GhQIUihUALCPgh5pk4GDH3HyBUEV0DfQOqQIgaFHlrBBECxBpFNfNQqUMmJHk8wx3icSAFDJFgs88mJHjNg1HjyWfABILTt2hAgjHkUTYZEdAWKJR81kweRAuegBikjJdDGlZ3PkNx4xYGxJWBuwiOSLGWLmkkYuIu2SRppm+CISLCZumQsYw4i0ihxpfoGMSKGYZGcWzYhkiY9T5mIFNCI9UkiaUlgjEiBI2tlENohNkqYR3ojExpN2EiGOSGCslygQ54hkRShp6hBbdkm4oWhnDe+INAQqacIwj0g6tJKmCveIBEOZdpawj0gn2CImLiH405E/JyxhBRVfZJFGGSjpoUchiExCSSYImbKKQrmwOVkt2IkEQDbRQJMMMgzJIosookzySB9zpNGFFEYAUQMLIYjAAgs66FAEEUs0QYUVWoBhRhpqtCGHHn4gAsgM3/VjTz3uuFNOOd1wQ000zCQzjC+5wIIKKJYwUsiVAAQEACH5BAUEAAAALJcArgA1ADEAAAj/AAEIFPhPlilYuHwNS8YsGjVu3cqdc/fOnr1//wZq3MixY8d/IuS0SVPmSxYAUp4cMQLkR40aJ1SECMEiBhAiVLKogeMHkSVOplolXNgsmjVu3iS6u7eRnwiPUAXCeoXKFChPligxQgRIj8g0ZsB0yTJFypEjQ4AAaLMR34mocOPCbYVj4zwWcvPqFYhqyMZ3NfYKhlsqycZ2OgYr7gjKysZzahdLFsgJzEZxRCZPtsRmo7cjmiVP0rMxW5PQixcB2mhNCmrFhSBthEbl9WA/mTYyO2l77x1RG4996a03l5xVA//Z0zSkFnG5udg4B4DPjoQgLRJcwfU8ai4zvADY/8shaaA5JUK6Q631JReAbDQ2pmvwSn3HXGCI/QPVaeM6J4fYx1EuXSTzjyWp+MeFHwJulIsVzQCQDBf+WWBKgxrlQsU0APCDgTEDrUPKB7tgOFAuT2AjEDofcEFKJytsUJ+JAuWSBDcD+dNMCD5QQmOGRYSj0T9m5PbjiUOUM6QWnhx5Ig/qDCkFcE4CkAsO7QxZxIVV5hJDPEPygFyXLNQz5AwzOpnLCfoMeYIsVVopgj9DhsBdlba8pdE+JcQJACwwbHSPCn62kphG8gQaZ19/BRbnKEtsxA4Pfjb2WGRVVrZROJnFaQlbGnUDWpyT3FHaaXEuUshG1LgWZyGPbIz0jGNx9mHkQMxo4edvwQ3X5XFDDhNDFl2AYYYZbcihR0+LUGKJJ6CYYsorr+TinmTRwakRPdE0kwwxvvAiyyqiaPJIIXPA0YUVRhBRwwwzscACDjoMQcQSTVBhhRbGpsFGG3PoAQgijDhLRXi2WfSOO+eU0w031ETDTDLD+IILLFZZopocbHRhDQABAQAh+QQFAwAAACyYAK4ANQAxAAAI/wABCBSoLhYvX8eSPYuGjVu4cuzcybO379/AixgzatwoUBgPM2WyZJki5ciRIUBw1GBxQkSIEzF4EFmSxQwcPYgmcRrV6pavYcmYRbPGzVu5c+7e2cOH8V8vMxw11nq1ypQoT5koQUIESM+cNmpAahk5xSTKGzVUnOh28Z8tNlHjyo2aq4ywtq3kzN3LF0CuL8fajprTtzBdLczaaupjuHHGXACetZ1UyLFlgbmmUGuLKNFly7maYGurB9Jnx7mOsB34r42l041zEQnX1owm2IZzATnX1goo3IVz8WDXdsko4H1z1XjXdggq5HxzwZjHep6IUtD35lJxD8C/byZArP+IsEFU9ri5ROwDsE2CMoHrgCnAfn6jrA71/gkxdnEdKR/12XeCdxBkNM4DAWr0ygwEZpTOAglmtMoP3m2gDUbKjIBLhBeZYoR3uQSRzkDmcIAIhxeJIoVA/zhyQSe6VNIAGShexEkXrJ1zSAVWmFLjRZakgdE3RfyIESV6XcRNEkZe9IgfGFnzRJMDIcIIRtFMQaVAgLx2UTNWbAmAHr9dlAyOW87h40XEgCFmG7Bg5AtUVOaSxoas4SJknWb40hYsbWyZCxjEtGUKYXV2kUxboOghqBXNtGUJIIJOEU1bjJxY5xPWtOXHI4ImwU1bclAiaBHftJWGl03mMgQ5bXWawYmgP6jTlhTm1YlDO20ZsWarM8TT1g+rCMpCPW3hMAVIbLRxhx6F5EQJJ56UYkorr9gC2Wm5nJBPW9gkE4wvtcgyiiiTPNLHHGZ00YQROtRwwkss1KDDD0QY0YQUVmQBRhlppNGGHHoAYiUllngSiiki9ANbPvbE44465YTDzTXRNJMMMb7wAgsqoFjCCCBzsNHFFEaUIVBAAAAh+QQFAwAAACyZAK4ANAAxAAAI/wABCATwr1mwZMuiUePWrdw5d+/s3fv3b6DFixgzahT4D0aXLFqkSDkCAMiPGjVOqAgRIsYMIkaydIEjB9EiTqBawfJ1MFm0ady4OXTnzp49ihf/nbC10SKuV69MmfLEidIkRIj06GnTpkwaLV+mWDmyBMiQGjhOsGDpx2I/EU3jyo0rS4XFfCfm6t0rsNUNi/RY8B0cdxUQi/BmEF6csRTJge10MJ48MBQVi+h+UKbM6YtFcUM2T7bExqI3I6IZT5pjMduS1IsZAbJoTQpswoUeWYR2+TZfP5YsMsvim+8dUQP/8ZpSfK+cVQD6qYLAAcACOM3lsqllbwyXcQLBrf+Ikn1jrTKxzoG4mC4BrPIZc5UJ1qrRxXVbZsO/mAtMMVCd3OcGa/tZlIsWyySDxn0rbFKggVY8s88E1aQj0DrATPCggVNQA0A3FeABjC5bQFDKhgPl0gQ2Au0DywYmtIELiike0U1ybQRHY4pEhJNcGZzsmCIQ5yRnBShCCpQLD+wkl8SJSeZSwzvJDYFKkgDkAsM8yeHQCpa5nIBPcjDEAqYI/CS3FJa4wDXQW1gCUNddeWH5Sg2ACYalYYgphqUpqEEmGZaWYaYZlpx0YRE5oWFJmmmBJrmaRdu8hqVstD0RZyGM7GZFnIDoKNBwcd4RikXHeIalHFcONAwOALRyIYcefSCSCCWWeAKKKai8EksuudzGhpkDveNLL7K0IgonjyAyBxxdWGHEWTCwxAILOuBAxBBNLGEFFWB8kYYZbcBBq6246srrK2DwQlk/9tDjTjvlkMPNNtFAk8wxx8rCiiiaPFLIHG1EO+0MMDADQEAAACH5BAUEAAAALJkArgA1ADIAAAj/AAEIFOguWbNo17iFK6fOXTx7+/4NnEixosWLFXvVADDlSZIiQ3jgiKGiRIgTM34UkdJFjRxAjCyFWhWLl69jyaBFy8ZNXLl27ujZ6yfxoi02GAfKerXKVChPligxQuRHj5w2Zsx0+ULFypIlQ4bgwKGCRYgQMGYYYTfxXys5SePKxQjrFZVibUXNmcu3L4BcWpi11dTHr+Gkuaw8a/uo0OHHFXNNoda20CLImAXmapKt7Z1JmTHnOtKtLRtLoSHnIiKuLRhOqR/n+nGuLZVQsQ/n0tGubZJSuQ3nqgGvLRBUwf3mYjGv7Y1WyfvmOpGv7QlZ0fnmEtEPwD92QiQ0/0iw41X2uLdECPTmQJfAdJgcQD9/sdUJ70KATVwXSAr9+jh4B0FF2mDwn0WoDOGdBBWZM+CBFJWShHcTmEORMiNASFEoVnh3SRzrDJSOB45pOBAnYAjEDxJB6FKNKxYwYeJElrQx0D/NVOGAD7DNONAkd1CUTRM+UpRIiQNRM0WRExUC2kTPdMikQH1oQhEzWkwp0ByjUFRMilrKMd9AwpShJQBq2EIRL2mcaUYvFNWC1JS5gCFMW6vARWcXx+QVJJ1ZNNOWJYBomRg0bTGCZJG5PGFNWzAZusQ2bc3xJJO5GOGNaajROQQ5bXXRI6Y8oNPWFLjRiUNvNxphiqEzxJfT1g+rGMpCPW3NYB6dJ+jTlgrY0SmCP22JwMYcegCCCCSUZOKJKKa08ootuURny31tCSMLKqJY8ogfc6TRxRNG8FDDCSexcIMOQxCRRBNdfQFGGmmw0cYdehSCyCSUcOKJKaa88gousMCQWT72wOMOOuV4ww010TCTjDC+2PKKKJ5AksgccnyRxRFE1BDDWUSeadE+AgUEACH5BAUDAAAALJoArgA1ADIAAAj/AAEIBPBPXDRs3MKVa+dunr1+/wZKnEixosWK/7oYebKEyBAdOFiwCBECRg0iR7J8kXMn0SRPpV7h8kUsWbODCRe6o2fP37+IF/81EXURAKxXpkx54kRpEqJCeua0UWMGTBcrVposGfIx5MiSJ1Nq2ifx3xBURdOqpfgKqVIW8sriaLW2rl0AuU7cK8si1t2/RXOJ4Ff2hC3AiCniEjGxH+PEkAXKUjEx34nIkVvdmDiPBWbIq4BMhFfjc+JSSSa202EacSgqE8/9aA2YE5iJ4ojQ/mupzcRuR3bfnaRnIrYmwu0mQiTwHzUTCxBM8JM8ba5CkwDYW+WhGoB12jxU/6l+sdad7PkcmJOYrgFa8hRzzSkFoJmXievwqIEfHw5dX3/g1wkW/E2Uixq4AICNE/htcUeBEuViRi8A9FOBMwOBp4AsEA6UCwDDEOTNBJIAUE0nCiTSoYddJDPQPZdgMAESrKzooRXNlEUJIDZGOEU0ZSWiYo8C5fLENWXpAQmRRSbBTVltWMIkXkWEU5YZmkyZyxDnlGUFKFrywE5ZS4yiZQ3vlHWWljDENdA/c2mpwl5v9qXlYGWVcMuUizX2GJOTVXbZlJpx5tmUoY1W2pSlBCfRalMC8Fpsok1p20Th6DZlb785yiRxxiE3ZSKFTETNFJFiN1EzPOhRCCKTUGjCiSdJtZXLh8Ll0keWj5biySSJ6CHHF1kcQUQNMJAkEg46DAHAEk1g1QUYZgDQxhyuwiorrabYeqt8ZgLmjz30uNNOOeJwg000zSRDjC+4vOIrsMKCUeyxMSirwgl+RTrQuOWSBUBAAAAh+QQFAwAAACyaAK4ANQAyAAAI/wABCBT47xs3ceXaubN379+/gRAjSpxIsWK9E0uGDLkB4ASAECVi6CjypIsaOYAYZRLVSpYvYcmYRbPGLVw5du7m2evnsCJEeDMo3nrVypQoT5YoMULUR0+bNmXMaNEyRUqSIkN44GDBIkQIGDWKJNFSRk6faBHb6fDJti3EV69MlfKkidIcKhHPAXHLt69ATmAihiPitzBbS20idjtiuLHEXJP0QPyH7YnjywJzJUI0edoUzJdzAZo0uZkV0I5z6eE0OVkX1I1zzTE1eVhg2IVztXk1uZcZ3LnT4JqMiw1wv7nM+JrcCs7xvrnAEJs8as5zvrm0LCPYa0OCBClQXf9nm8vKMwD2rjgBB2DdrASUxles1aTZv2g0IK5zVkE+xVxNZPMPHbpEtE4EsPj32BHe/IOEMwauEIqCEeVChDj/DOKKgRHEQiFEufyAzj/eeJDOQOvo8sGHIOrQDgD/fOIBMOZo88cCtLGY2QzwENTNFQVgEEUtOg6UCwv1TDYDb0UaWYI+k51AZJMC4RKCPxD5E8JwVAJQi0cQ6QNml6/EEFE9LHQp0Co8RASUmgCYYkRaOMApymcQofMDnJy8BpE4Q8BpiXEQecOYmpPcEVE2TaiZCyOATEYNnlTmUsgjkz1zWpe59KHJZMto4egco0xGzG2VytHKZMH8xqkat0yslksajprRy2SwJMYpGMNMZop1nHaRzGSeSMapFc1MRkmknE6B1kD/IKIFIpNQwoknpqDyiiy5+JfLE9iUNkkic8DRhRVGADGDCiGcoMIMNwAxRBJHWCHFF12YYUYbcugBCCKQWIutKa/Akku3RibBTWH72BOPO+iU0w0300STzDG+8BKLKaBQkogecoCRxRFDzNCVCCzAgAMPQ5wgDpwA8GOPPO6oU044/QAQEAAh+QQFBAAAACybAK4ANQAyAAAI/wABCBSoj1w5d+/s5fs3sKHDhxAjShT4L5kKADdqXAxxYsYPI1a6wJmTaJInU7B4+TqWLBo1bt7KqXMnz16/fwwnNvw3DMzDWq9WmQLlidIkRIX0zGljxkyXL1OoHDkyhAcOGCxEhIBRo8gSLWbk+GFkKVS+nb3M6FyrE9YrU6U8ZaLECFEfILt21mLDtq9fALnKBNvJSs7fwxNzfTm2M9QdxJAf5tLCbKclQJEzC8xFBdrORYg0Z871xNpOP49ER861ZNtOOZRUQ85l5NtOM5lkI841hNxOK6B0H87FQ93OJKOE/811493OIaiU+80FQ95OHK2k98114h7BSxoKTP8wg0u7zlwi+AFoh8HQOADatmiQZV5irBAA/q0h1XDdljL1RRTLRf9MkI5D1WQQIESt4JCfBA+l48CCD6EyRH4GIqgBhQ6JskR+eXTSnxNvlMehQJ5kIVA9G/wBzjrVKPHBiQ1lopZA/IQSXgZw0NgQJYY1tM2HPjbEiB8OWSNFkQPlgggjOz1jBZObAWLJTsxoQSVgd4iyUzFfbJmLHKzsFMyNTObChi075YJmkW72shMsbYgJxjA7mTKHmF0gs5MneohpRTM7TYIZlblMEc1OiCQi5hPY7KTHJGIewc1ObFyJKBHh7PQFJ2ICcc5OVIQipg7t7GSEKWLOAM9OPKyhIiYL9Ow0wytinnDWQP+cUIuYIfTTkD8hmMikLSc4pI8IlFjiSSimrPKKLblQCEsMDvVjyVJdTFEEDzGcwJEKONwwxBBLPDFFFmCVwUYbevTxJCWZeFKKKa/Akku1D63Cw1/42ONOO+WIww020TSTjDC+yMJKKJYwAogcZmixRBE1wBBCCCzAgAMPQxyRxBJJbNmPPfK4o0453nBDTacABAQAIfkEBQMAAAAsnACuADUAMgAACP8AAQgE8G+eO3j29v0byLChw4cQIzL81wZGDRUnQqiYMeRIljJy+iyyBIqVLF/CkjWLho0buXIH7en7t1Diw39WQDGU9cqUKU+cKD1C5EcPHDZlwGSxIuXIkR9Aasw4USLEiRhAimT5AkcPIkucULWy1vBfklI200LkiepnUEiIAOmR0+YEvIlAVqndyxdALhbzJs541bewxFwn8k08UcuwY4e5RPRj6C8ErseYBdo60XAf58yYYcVoWI8FaMyreDSEN+P0Y1NGGrbT4dpxqCkNz/2obZjTl4bhiPAubIlNw25HhveddKchtifK+SZCJPBfuzUTEtgQFT0toEkA7B3/k+DK3LhZDeTY6g6x1hxLAPZB0MYQXIJY7B/mmmMKwDMvDa3DRXP5NZRLG7AAgIshAVaiRYEGmrELAMwAyNA6Z8wBIUO5lBEMAPk8AA5D4yhA2IYC5fLFMQQJc4ExAKyjTARvoDhQLlkwU504SCSQwAaZ2HgjFdBMxAh1Qt74BFkD/aMHJEnemMQ2E7UBX5R+FRHORGZogqVfQ5QzkRWhfJkLD+xMdJaZNbyDl15Y/hVYk4OZmdhispgpGWWWfblZZ59hCQsMpJn2ZWqrtfalKUXIRtuXokiRGxBfAsBJF8AJ92VxxyX35SR6OAfdl4kU0lA0VFRaCHgMNWNFpX1wfjIRMr/Fyd9EwyzhSSimsPLKLblseOCJ1XHDRhdSFMFDDCKEwAILOPAwhBFHTCFFF12YAUAbc+hRCCKUWLKrKav8GixEuaRxblr2GMROOd9wQ000yRzjCy+w/DRJInO0gayyzDoLrbRFJGFtFzN8mKQ99LjzbrzzJoOMmwAEBAAh+QQFAwAAACycAK4ANQAyAAAI/wABCBT4b549fv8GKlzIsKHDhwzVnVAhIgSMGkSWaEkjp9AjT6Je4fJVLFk0aty8lWPnzuC/hBAhhisyENYrU6M8WaKUCJGeO23SlMmS5YmUI0WA6KihQkUIETF4EJGShc0cRJM4mWrVy1cyeQu5JYlJluGtV6tMhdI5CVEhPXLamEkzZNJCa0/K6t0rEBGjhdCo8B0cE5Clhcy0EF7c8I4ohf+KfWFMWWAuOawgBzNTmXIuNrYg40rTmXEuM70gv2pTenGuMsMgm5rTmnCuLskga+pTe3AuK80gQyrUm2+uKdMgA/pbXG+uJtggz7HbvGyuI94IPquiQAOb6mRzDf8RB8DemBbGwDlTkqEV+Ie1eIT7FyyIwnWBkLx3mAtHu385OLOQOQvs11AuMcTzDwbpLLROAwYylIsK9/yTgjYLpaNAhAvlIgJCp+BxnysvcKgQLiIItM8If5gDwDqdLICKiQPFosJA+2hSQQEK7OAejQK1gsNC8cQA5EKoDLFQO0MeOZAoeSmEDg9ODuSJYgqRo2SVAFiixkLeHMElAJPQphA2TYzJCCALUTPFmB4t1IwVY/ahyULJdDHmHKZANgwYXObSxiuQ9cJZlbmkgQtktnyHqBnBQMaKHIF+UQxkotwRqBbMQGYJm4hSAQ1kjCAS6BPWQNYHJIEusQ1kbRyghmgR4UBmxp2IDlEOZACEEigP7EB2RCmB1vAOZEBYstUrueRCYy4szAPZI08UcUMMIQDAQgw4AAFEEklYYUUXZZjBRht69IHII5Rw4okpqLwiS7Mx5XJCPjH1Y0887qBTDjfbRNNMMsP4YksroViySB9yDGUEEDOcEMJEN9wwxBBLPDFFF1mkYYYI/dCYjz3vtFNOONxYEw0zyfjSlUABAQAh+QQFBAAAACydAK4ANQAyAAAI/wABCBTYr9+/gQgTKlzIsOHCf5pChIiBo4iULmzmJJrkyVSsXr6SMYt2jZu4cu7g2dt30KFLAP/8MML1qpUpUZ4sUUJUSM+cNmbMZLEiZckRIEBqzDhRIsSJGUSSZDEDxw+iTKJa4fJ1LFm0bgn/yaH0sqzAWK9MlfKUidIiRHrutEljpssXKTjOIfxnJpPZv2ZzDSG31woowIgd5uLBbm+SUokjK8xV491eIKskaxaYi8W8vTNebdac60S+vSdqjZacS0Q/hP5C4Fod2daJhPlu0078KkZCeix2J17FIyG8GsIRmzKSkF3x5H9DUUl4Dgj0v5zADNx3aocDJKyuv/+01Ebgtwp/lFXrpECPeIeL5MAcYQyhNgWt3jNElAjAORkJrYNHGvotBIglADSDhkKuIFGgQnqEAsA2TgRYCRYPJiRHZv08AA5C61jgSYYD5cKGLTD94oEzAoHTgw8klmhGLwL9g40JDSTgABsxlljGMHuVIl+PJXaRzF6a9EFkiVY0sxckhSzJ2RTU7AUII1ICkEsT2Ow1xyRZ5nKEN3ul4ZeUghE20D9ZjIjmD+rstYQoYeLQzl5DoBJmDPHsdUN+aKpwz14qyBKmCPzAJsJsUt5SQkL76CZlLDAkVE9wWbLy3EDwzJAlAKYQkVA7OnwqihTUWZclJ10kFI6oWVqhwiNC3Bzx6SR3JHTNE58mgkhC0UzxKSBkIdRME6/EksuSerg50DZF1MBCCCWoUMMNQwyxxBNTZKGFGQC0IYcehSAyiSWeiGJKK6/gsmxZc5ji0D72wOPOOeRwg000zCQTTC+yrCIKJY/cAUcXVBjBQw0ihMBCDDoAQcQSS1hhBRhmpMEGHEXEkmE/9sjjDjrldLNNNM0kM4wvtbACCpkABAQAIfkEBQMAAAAsnQCuADUAMgAACP8AAQgU+O/fwIMIEypcyJAhPBgxeBSZ0kWOnkSWQK2K5UtYsmbRtnUrh87dPHv+DDZcObDcj1erTIXyRGkSIkB65LQp8yULFSlGjgDhUYPFiRAiIhKRkqXNHUSUOKGC1fFjSAD5EIYrwrLrLZgyadrEqbNMmS5WrCT5YQnhtiVd48oV+KgPQmpS5updiYgRwmdW9gpWCKjtwWRaBiseeEcUQmJgFi+W0wqhLzOSFau5dfAfLjaZBecy46tzKzmh9+YCQ6yzqDup9ebSkqyzJT+x5+ay8qzzIkS55eaaQq2zn0fB4+Zaso3gOUcVUiBPvjKXkW8A7F26kMrZrBUpYlH/Z1jrRzcA0VakG7juTJTxC3PxYPePiTGE4xbAV5irxrt/GZiD0DoN7JdQLizM808K2gyogIEI5XJCPv9YIglCwHwA4UG5iNAPAPhgQIpA6wCjgCcbDlTLCQPNs4YDFjSwQSgpDvTKDAjNUwJnNQ60yg8IvVNDjweVcgRC7PBA5ECgBHZQOUMsKZAmmB30jRFSAmAJHG7BJeUjuB2EV5Z9/eXkkn5kghBiWc7h2EGQZQlHZQddlmUaPBL0mZSjlTbQP6fxyZprsC052zK2hUnkbr39+RufAFhj3HSLMtcZHIYtWgR2f5qhCZ9DlNOZFTQaOl9nR5TCp3+dAVFKLoYmcNiZGiqEcIIKNdwwBBFJSEGRFpi1MYceiCxCSSaelGLKK7LkAqtyEy60jz3vtFNOONxYE80yx/iyiyymiAJJIXOk0cUSRBRlKws44ECEEU1MYQUYX6ShhrDEiuDPfvpQay222ibTbS6viMIJI6AIFBAAIfkEBQMAAAAsngCvADUAMQAACP8AAQgE8C8UjyJWvsjRw8hSqFa2fBFLBm0aN2/l2Lmrl+/fv4EgQ4ocSRBOIVOgOFGChMiPnjZsynTJIkXKESJAbtQ4cSLEiRhAjGQpA6cPokyiWuXydSxZNGvcwpWLF/KfmUwks4qs9QqVKU+ZKDFCpGdOmzRmunSZIiXJkCE/4IH8ZwWU1rt4tebiwW7ukVJ5AwsGkKvGu7k/Vg1erJfFvLkzXjGeLDLXiXxzT9SizFlgLhH9QPYT0blzrRMh86EuTfnVjJDzWLCmvOpHyHc1Zk8udSQkOx66GYOyEpLckOCLM5kJ6c0I8sGU4Az0R+wKBja2nud95EcgOQ1cZun/OrPAkva7gAARHAEMpLMF2c+T9IM1HI2Q65z0kU9yjigAw+AhUidT8DcSHK0AwAwaIjUShoEiqZELAPRIkA5I61gQCoQhmeELQZcEMY5A5mxhA4cg5QIGMQL9Y8sEHHCQwBW3oDhQLlowMxcgatgYUi5UQDNXIoj4mOIT1sylByRG3pgEN3OxYV6ThBURzlxfcEIlYUCcM9cUG1KZiw59DfRPEaZsmcsMcpnJg2JiskDPXDDAouYJ+mQWX5O4hOAPSPyQtqUsqw10jwpbAtDKDSHFE0OiqBwHUjs4JDrKEiGhY9uWnmQRkjhEJJpJGiF109uWk8wREjZPJMqIeiBFlUNFooUwCVIznm7Zh5YgHfNFonOkCZIwYCTahp0gJeOTCjjoMIQRR1AxxRdgmMFGG3r4gQgklHACiimrvGLLhIuZsctI+dTjTjvlfMMNNdAkQ4wvtsAiiibczVGGFUb8sFMILMCgww9ELLGEFVlUa0YbCwGCyCRJCMOfPfO4o0453WwTTTPJCONLLKuAQkkiZkEJQEAAACH5BAUEAAAALJ4ArwA1ADEAAAj/AAEIFBhvihUwcvwwyiTqFS5fx5JFs8YtXLl28Ozt+zewo8ePIDuS4+GJE6VHiPrcaZOmTBYtUpocAQJkxowTIkKwqEGkSRY2cxBN4oQKlq9hyZ5F4+atHDt39fp59GYkpFWPsFqZEuXJ0iREgPTIYWOmTBcqVo4cGcIDx4lYHrE1uUq3Ll1GgDxOm2K3r1+BhSB5bGblr2G6fTR5RNblsGOQc0x5FAbmseWBbWB1/McrzWXLuczk2lyLzefHucoE27xKzmnHuboc2wxKz+vDubI020wp7+2/uaZE24wo0W/gT7BtvjPpuN9cR7oJ/BfP1ochopzbzUVEHAB7rSQI/5rVKAIT7XRr8QgHAJuHcQPTtXiD3mouHO3+MTHmUduE+iHlEkM8/2CQjkfrKAAgSLmocM8/GsDXUYILfpSLCPz8s0cqHimzQYUe2VKCQO9AwB8A6zjTgCUgdgQLDAOdY4MHPXAAASUtdrQKDx6V04FkOXZkSlUdtaNDkB6FQoVH5wCBZEecVNZROEU8OZAlbXi0TRJWCgSJbR1Z80SXACCyiEfPFNYlICx2tIwWZN6RXUfESGmlHK145IsZXeaixi2b4WKalaH5slkrrhEKBjGbiXJHn1oss5klvj2ZixXPbMYIIn1KYc1meghG6BLbbNZGm5YWwd5A/4DBSZ9AnJuzGQCh9KkDO5sZAaSlM8CzGQ+r9MkCPZvBoBmhJ+yz2Q8q4KDDEGot+QUYZrAhhx6ACGWJJ6KY0soruYx2GC4h+OPRPvW4w0453nATzTPJDONLLa2IYskjesBxlhE6xBBCCSzcoAMRPUlhxRdfpKFGG3f0gQgjlHCSiQro8WMPPO6UIw431kSzzDG+5PKKKJww4occZVjxKAABAQAh+QQFAwAAACyfAK8ANQAxAAAI/wABCATwDxsYOX0YZRL1KpevY8yiYeNG7pw7efb8/RvIsaPHjx3/+ZJCCRKiPnfapCljBYCUJUd+8KjB4kSIEjF4FMlSBo6fRZxKteIVLFmzaNm6lVPnjh6+fxs5/rulBqRVgbZerTLlSRMlRoj0zGljxoyWLFaSJBnCA4cKmyzISWUl56rdu1dzgSEmNZQevIADA8ilhZlUSoAEK85LBZpURIkWS/aY64k1qXcmTd4sMFcSblLZWOK8OVeRcFK7cCI9OdePc1KfiGItOZeOdlKHoKK9ONeMeFJxtOKtOJcKe1JVyCIuOJcIfhz9hcDFPPAtEQP/qZPFoI+t6nhjwf8QWG/PBUOdtixYBN6uqRsENXFJJ3BdNQW724M0ZQSAvwfmcLROJ0zoB1IoVAAQDwgeOfOBgR9xAgYA9DDYkTImQOiRJW0QVAE4Av6BhYYc5fJIHwT90gKIAKwDzAKxkDhQLogwItA/vUAQhBIcbDCKjDP6kQlH+6AyQylAljjHj9kNU0aSJbbxilS8mAHljGlQl10tbFzZmRnBSIVKXV7m8sUxUnnyV5lZGJbdJIV4OdgU0UgFCHtlPoGNVHNoVuYR3UiVxpBlEiGOVFZ4Iqdr6EiVBJJl4oBbdkCssmgM8kg1w5RlnoCPVCfUsqgI/UQngpZX2nJCR/msKucrM3SgNA8LcgKwyg8dvQOfnKUc0ZE6PNQKSksckTNErZlYyZE3vspJCZkDebPqEEUAkOAXZZjRhhx6AIIIJZZ4Moopr8iSS2mMJCYVPO2UEw431ECTzDC+yMKKKJY8cgcbXTRBRA0qhHACCzr8QMQSS1iRBRhppNHGHHogsgglmXhiyip9PFJdPvW4w0453WwTTTPJBNNLLFylK4cZWcS0qUABAQAh+QQFAwAAACyfAK8ANgAyAAAI/wABCBT4z5YeRpZEvcrl6xizaNi4lVPnbh6+f/8GatzIsaPHf1/kIPKjp02aMlYASElyBAiPGipOhDgRY0iSLGlETuKEqpYvYsmiWeMm7py7ePb8ZfwoRZTHp7JemRrlydIkRID0wGFj5kuXKVKWDBlyAwaLEABm/ACUb+M/Iqaeyp0719arVTDgucXRiq7fvxpzqajnVoUswIjp5iqxb6M/EbgSS/aISwRHfScma94YiwVHep43i2bFg+O7GqJFmyrCkV3p1JpDUeFIbghszZzAcPRm5PZkS204ZmviW/IjP26nTSmOOFchRhr/hStUIhTzv7n6aBJoj92OFn/wWP9I0fe63FpwQBFM4WrgukojzMvN1QYWgH/YgmxcZ2GUfI+5mLHLfahUsp8bc/zXUS5lCHPfKgZqtA6CCnKUSxfICLQNDftFEFeFgVnRDEE2kOJeICkMCOJAuUxBzUD1XAHCGVtEkEMtKwbWRDbRsYODFR/myKIR3rgFBidCbpTLEOS4RYV1SbLIAztuFRFklLnUoFd0PLASJYss0OMWC7F8KVAuJzQWnQi3mAlAZf5stE8JbgIgiwoc1YOnm63gwBE8M9RpChEctaNDnaJIwdE5QNTJyRcchcOam8BxtM0SdUKiB0fUKOomItBF10xKZubihyVuJdOFm7nM4VR0w5SiwWob5Q30Ty9msJpGZNHJwgarZgTjFioJlvrFMW5xsmmpWYwYXSYxFJHEbF/I2oYcehSSCCWZeGLKKq/YkktqLUbDET7lhMMNNdAkM4wvsqwiylVzpNFFEkPUIBMLM+gwBBFNTDEFGGWkwQa2gCBCiSWelGLKK7Xk8gQ2xfljTzzunCMON9ZEkwwxvtiyCiiUJDIHG1qINYNMJYhTp0dtCRQQACH5BAUEAAAALKAArwA1ADIAAAj/AAEIFJiPkqVQr3D5OsYsGjZu5dS5q5fv38CLGDNq3CiQXQxAetqkKWMFgJQjR4DoqHHiRAgVNYg80QJHDyJLolrtCpasWbRt3sq1e2dv3z+LHMsN4agxVitTojxRgoSoz5w2ZsxosWIF5RAdN1SUCAFDRxEqYJ5h9GaEqdu3Gl+xMgXqThuM2ZrA3ctX4CM/GKdN6UvYbSFGF/81K1m4McZcfTQlPtbFsWWBueaYSiyszGXLudrASpzLzGfHpXklfnX3dOFcYIQlHjXH9esuyRJbAmy7by4rzRIzQtTbtxRqifVAKs4315JtA/txq6FGFnO4uYqEA2DvGYYgbnoo/5Bj6zrTWjy8ATgnodpAbRYSmeeYS0e7f2RmYXSGYf7GXDPA8w8G6WC0jgL+aZSLCvYMWOBFByaYUS4i8PPPFcBgVE0FEmJ0SwkChXOBNgONwwEgHV4ECwwCKTaBF5VwkcAbKV60Cg8X6SMMBXq0UuNFprR1kTo4/nhRKIwNRM5SRg6UiWkXeXNEkwNRIgdG2DxBpUCMoHhRNINtWcgkGDGTxZa56MHJZF+gKQcqiQUDZZO5sFFLYriogaYZvSTWypVUwjZMYqLcgaYWuQ30jyVe0mmFWooiIl+gT1iT2B1kBpoEN4mxYQmaRGynKACeoPnDOYktIQqaOLSTGBBwBpsaQzyJ1fAKmifck9gJdwZa4UX9iIDLlracgNE+JyQx2BeetTGHTYxQwgkopqySUC6uvTIDRv+cww010CQzjC+yrCLKJIXMYYYVRvxQgwglsICDDkQckYQVWYCRhhnO2vSItKGY0gosuWC7yg+u7WPPO+2U4w030TSTTDC8wDIKJ4z0IccXUxSBAwshAKDCDFRsmZE+9rhDj0ABAQAh+QQFAwAAACyhAK8ANQAyAAAI/wABCATwj1uoVrh8HWMWLVu3cuzc2dv3b6DFixgzahz4z9SRNmrKZAEg5QgAIDpunCgRggUOIlPAwOmziJOpVr6GJYNmjZu4c+7k3ftXcaPAf5r6GLUIq5UpUJwoMUKkR06bMmC+UJmSZMgQHDBUhDgxg0gTLW30cMpn8d+jQkvjygVQ65UpUZ4sTeIRrW2fR3MDz83VJFvbNpYEKzaay4i3tmA4LZ6MMdeQcm2niKLMWWAuHuzaEjHVmXOuGfDa4mhVmnIuFvXaqpDVenKuEvss+hOBq/ZiXCIu6jvhe3EsFhfnIS8ueBWPi+9qMBdsygjHfMhCsJo+NxQVgfU0Of8IoiTCC1Tcl1rSQvCSE3MC13XC0Du9RkpyAORzkM7iuh5w2ZcRI4AAgI0TGKWCxC4CYlTIJABY4wVGriDRIEZ6eALAPBdctM4W+V04UC5yoPcPFpIMtI4yC9Qi4ohsuKhfFS1I0okSEGj4omdm9MLRN1KQUEh9OwKQCxjEtAWKHkValIsWzLRFSYFNekYFNG0VkkiVnj1hTVtzQMhlLkdw01YamXBpJBHitGUFKGp+hk5bSZQS5w3utPXDKnHCME9bMcAS5wlscXSCLWoC149F/ASnZi3EWXSPCmoC0MoNF8UTQ6WoDHFROzpUKsoTF50DRKWcdHFROEVUakkbF22qs0SlkDBpETVSVIrIIhc1Y0WlfiRmUTKqqjnHKG0JA0acbbzSVi8zUPFFGQC0MYceiDBCCSeh3ARLLrn4losZDFpEDzXQJDOML7KgIgokgMxhhhVG6BDDWCzo8AMRSzRhRRdfpMFGWoAgMoklnpSCyiu2hOtZGcKUpo897rBTTjfZRMPMMb7g0gooliQyBxtaJAHEDCe0FMMNQ6iQTKUC+WNPPO6UE06hAQEAIfkEBQMAAAAsoQCvADUAMgAACP8AAQgU+I/XLV/HmEXD1q0cu3f29v0bSLGixYsYK/IToaZMFitSjgAAgqPGiRIhWOggQqUMHECPOJmS5avYsoXcyqlzVy/fxIwV7akAOvDVKlOeMlFKVEiPHDZmvnSZ8mTJEB44WJxIiaNISzkwPWGrCG8G0bNoYbUyBYoTJUaF2AypyE4H2rt4BYqSUrHc3LyAgXL6UtGbkcCIL1pqUzFbk8SQBz7qU3HalMiRCz2q2MwKZsh9NFU8Rvgz4jmmKP4LZsZ04FxsZKnGpcY14FxmeqluJcd23lxlhqkWdcc33lxakg38Z68NY+Noc1l5BsDeOSEXenBYAAg60VpLqOP/qzBrYDULhbxnzJWE279QjSpWm6AeYy4i4f7tqFZxXYNb9VmUyw/o/POCNv1FIFuAFOWCQzv/7OFKReYowGBFucAgDwDnSADOQOtsEcWFDZ6QDwD/EANBILN0YkEOuJA4EC4i9DNQPbI8MAUnMlJUywkV3TNUjxS1ckNF8ZhF5ECo/DVQO3YtqdcTFZ0DhJQCcdJFReEUgSUAi1W0zRJfQqJHRdRchiUii3DmGZZ9ZDLalljOUUpFwpSBZS5twKIabnuawctuzy2ZCxjCDDfHnl0ot5wl3UkpXTOqJYLInlJQo5oekOyZxDaqsWHJnkWEo1oXnuz5wzmqLTHKng+qjQbEKnvGEI9qM7yy5wn4qKZCFnq2MYceiDBCCSehmNJKLLkYl0uNqm2TzDC+yIKKKJAAMkcZVhiRVQgnqATEEE1IMQUYZaTRhhx6FGIsJ6AoC0suzVJkC5CQ5UOPO+iQw4010SRDjC+xoOLJI4DIUQYVRXwLgAo48DDEEkng8CUA+tTjjjrlcIONNwIFBAAh+QQFBAAAACyiAK8ANQAyAAAI/wABCBSIztcxZtGwdSvH7p29ff8GSpxIsaJFiv9q4cgCQMoRAEBw1DghIkQMHkWymIFTaBKnVbd8IWsWbZu3cu3g2eMX8SJGU3N84nq1ypSnTJQQAdLTRk0ZK1akGCkCpMaMEyFEnDSicg4iS6BaBZv4T1Mfn2jT3iJaypOlSUqZ3mgm8R+kQmnz6pWYa0q0un4e7R2cNlcTbHXbWCLM2GIuI97qfuHUuDLfIeTqShFluXMuHuzqDkHV2XKuGfDq4mhVunIuFvXqqpDVunGuEvsk+guBqzbjWyIm5jvhmzEsGBPnIS8+eBWPuuSIM99b6iMAe8EqeLCQAMmr6Wk5Sf8B8O/WCm0C0+HZAB5tJjMA+j0YJ3Fdi0XtL04KGi4IxVRI5GdRInhhwwVFuuwgYEWAUAKAPBdMtM4fYSxIkR6hkCeEKxJpkwBrFkokB4jzvOAEAMAEogAjIfKlRm8C/bPMDhqEEUuLfJkx1kD/AIXjRLl8cUxdZv3IVxZ08cgIIkYO1Nc0dfUBSZMCGZZNYotR+VhkPHZBmZZDlFPXE5xpqUM7opGmJWp13QBik7moYE9dJ9RCJQC5iMCPbiLA2KQt0g003J0AwBLDRPIsR+UqP0zUDg6ElpLEROg0eqcnVkwUDhGEWqLGRNxMeuckd0xkzROEJsKkRM9keicgWQ6QlEwXhN5R5kDCgEEoHG8KxAukbcyhByKMUMJJKKa0Iksu7aXhp0DtDOOLLKiIAgkgc5RBhRE3sBACCzDoMAQRTVBhBRhmmBHssJBQ4okopryybEW5lLEjY/jM48454nBjDTTJCNNLLKVwwkgfcHTxRBFXhaACDDcMMUQSU1Axw5BU3iPPvuFwQ80zycQjUEAAACH5BAUDAAAALKIArwA1ADIAAAj/AAEIFPivGbNo2LqVY/fO3r5/AyNKnEixYsV8JbRQWZJkCI8bKkQAiPHjiJY0cxJZCvVql69kzaJxC1euXTx7/iBarCgPhkVcr1aZ8mRpEiJAetqkMZOFipQiQ4DMgHEixIkYQJZkYXMHkaVRrXgJayexHY6daNHWemVKFFFIiPrMaVOGSheJ536k3ctXoqcsEsMV6Ut4ryU1ErclKczY4qQ7EqlJaUxZYqJEEptZqcwZACBLEpPd7Ux5jiiJwsCQptymlcRdaVY3NpMr4r9XbWQXzlVGmO1Rc3QTztUFmW1LgIT3zWWlmW09iJTzzSWFmkB3axwI3MBJuloj0wDk/8vQSeA6YAq6e6+Yq0i4f6EMSTS2YT37H+f+vagmcZ0C+xTlgkM7/2wwTn8N4AKgRLnAEM8/VRgjkTkLLMjgCfgAQA0I6Qy0jhtMWBhRLiL0A8A/n1zgijO6tDCCLSIOVMsJEZ3DxwI7RBfjQK3UIBE8M+woESpDlKWDkBGJ8oRE5RSJpECcjDaQN0Y8KZAluUWUTRNWAgBJHxJFM0WXhTCSGWBW9qGJRMd80eUcpkgUjBldsiGLRLiw0aUZvdjGihxW5gLGMLaBokegWixjGyXJPckcNLYBskigT1hjmxyTBHoEN7aZkUmgRIhjmxWhBMqDOrYZEaejNbxjGw+rBJjKwjy2sRBLoCfoE5E/Iij4JC4h+BPRPiGwIQd0jFDCSSimtCJLbd7JooJE/hwjyyqiQALIHHUZcQMLIbAAgw5DENEEFVaAEVsbc/SByCSWeDIKKq/YAi1FrRzJ2D3zuHNOONxQ80wywvACiyiZMKIHG10sMcQMVbEwAw5DGHGEFVlokcVgQvZjDzztlOPNNtE0g4wvkAIQEAAh+QQFAwAAACyjAK8ANQAyAAAI/wABCBQoL9o1buXYvbO379/AhxAjSpxI8Z+wGE8ADOFxQ0UJADF+HNGiZk4iS6Je8RKW7Bk1buLOuZuX759DihV3pZGI69UqU54sTULk504bM2CyTHlyBAiPGixOhFBxgwgVMHAATeKE6pYvZM2oQfz3qg3OsxRjtTIFShOlRID0wFFjRkuWGM8e/hM1B63fvw9zdUGm1xIgwIjR5rLSTC+iRIkjT8wlRezAf3cmSd4cOAk3vWkscR6di0g4vVZAjeac6wc6vUdKrd6cC0c7vTxWzZacC8Y8vTBg7Y6c60Q+vSJsDU+MS4S/h/s+LkcsSwXEetanA26FQ6C9bTYcIP9wQCaWdrSigAD4J02CMoHgtpg4fzYUlfUZqj1ct2IRfYqalAFAOy1E5IoQ/01EiRwAfBNERMa8kKBEjBxGzwUQrdMJFBNGVIhm//igy0PjNCBKhxDpoRoA8GgQBwDVuNLAGygGJoduAvXTigkP+DBKjYGpcYtesrABJES5mOGLXqb0deRAuXxxjF6a9PEklFk0dhkjiFwpUC5TTKOXHpB4CUAuTWSjVxuieZmLEd7o1QUnZuYyxDl6PXGimzrcdhkQqNQ5Qzx6zfBKnSrco9cJyrkpAj8P8SOCmQDYcgJE92Tn5SszQARPp2aiMgRE7ehAqSgZPXTOqGZy0gVE3hirQaklZj2UTROUQqIHRNFMQSkijEDUTBaU9qGJXsV8UeccpujlCw96FMIIJZyEYkorsuSSYC5syKLXOauAAgkgcoAxRRE1qBDCCTDcMAQRSVBhhRZmmNGGHoAgQkkmnpiyyiu5aEtRkr0kdo887pwTDjfTNJNMMLvIIoolj9yRRhdH/BBDCACooMMPQzQhxRRg1NuGDsMcuU897qhDDjfWRJPMML3EYsprAAQEACH5BAUEAAAALKMArwA2ADIAAAj/AAEIFPivHTdx59zRy/dvoMOHECNKnDjwXx8eQ4DgYHEiBAweRrSkmZPIkihYvIQlg2aNGzl17uzta0ixJoB/aixBhLXKlCdLkxAButPGDJgsT5oc+aHjxgkRIWLwOJIlzR1Elka18kUsWTRs3dpB/GfFk82zAnG9WlXqJyREfeYUBdNlypMkQN49/HekFNq/aHPhEOvwH49VgBNTzAVD3l4YsRRLhpjrRL6H/kTcmsw5rQh/D/ed6NxZlgqI81iQ5txKB8R3NVZPNlUEIjoesiWHogJRHJHcijOZgcgtCXDAuSbN2WvtyfG/uRIV2tvMyvPAgCgNtJdshAIEGnRe/6dYS44mgp9WVAOwTlmE5eMl5oLTSmC7C+kcgktgK37EXGngclMsjTy0ThCP+EdZGcLcdEkqBp5xh4IP5fIFMjfx8oeBLYhHoUC5WNGMQPNAAM5A6zjjgIAfgigFNQQRI4Er4GiDiQIetphLEtxU1A4dCkyARH0tDpQLEeHsZUUoRVb4Azp7GWFKkw7lcoM7e+nACpVGsjDPXirIwiWIJ+iDmQgsconLZw/lM9qYAMSi2kPzwAAnAKvg9lA7ONxZihEQnfPDnaBY91A4tcGZSRoQbbPEnZNMWBg1U8AZHSLUGcplLoDkeNMxXVg6hyh7BTPcmLm08cpeuahhaRq87KbVihyWgtFgYaDoYWkXyew1CSCWWvHMXoAwYukT1uwlh3aoHtFjYWaYkQglmYBiSiux5ELhkeLsdQwlhchhhhVF4KBCCCewgMMQRRxBhRVamKEGHHoUsgglnIRyrSza2pQLD+oAhs887pwTDjfRNJOML7i0Igq4c4xrxA3nsjADDkQYsQS8X6TBhhz1sqBXi/bE004532wTDTPH+GILKp5AMsk+AgUEACH5BAUDAAAALKQArwA1ADIAAAj/AAEIFPhP3Tl38/D9G8iwocOHECMy3HcCwA0YJ0Kw0FHEipk5iSyJgtVrWLJo17iVYwfPXr+FEmMKpMeiYSxWpjxlmoTIz502Zr5kebLkCJAbMzKWiDGkSRc4fR5xQnXLV7Jm1LiFO6iv4bsaMsMCsPXKlChOlBgV0iNHjRktVqgkGQJkRqGG6n6I3bs3FJWG4ojwHRwzk5mG3JIQXvxwkhyG/6xJYUxZYK5Edwf+a2alMuVcgChBRvbFM+Ncd0RBFlbG9OJcbVpBxpXGNeFcZnJBbvXYNt9cYIRBDqXH9+8uySBTAmR8by4rzyADYtRcbK4n1gTWO/UBwAImsqtL/6xVhBqAfjbQgANgLpCD8OIf5iIi7l8rNAzXddoRH2IuHur880I1DaWjQH/y1fDOPxWk09A6DSDoUC4s1POPDQQylM4CEjaUSwn7/HMLF/lV4kOHDNlSgkD9IOFENeto48YEr6A40CszaPbLCwVUgMUtNg60ChANsaNDkA2JskRD5AyBJEOcdNGQN0Y8OZAlbTSEzRNWCvRIH5BB05mVuRQCCWTMaNFlLnpwAhkxYKwpByqQ9XIYmWrYAlksbKxphi+QmTLHml8UA1kmfqyZRTOQLYLImlNMA9kdk6y5RDaQqWHJmkWEA5kVoKz5wzmQHVHKmji0AxkPq6wZgzyQsaYQy5on5MOQPyLg0iUuIvjDUD4VdSmLCg3NU1OXrPDQkDssTGKJJ6asAotuHZpSJUP3WHKHGloYwQMMIZzAAg5AEJEEFVZoYYYacuhRCCOUcCKKKa/YQm1YoIwpUz7zuHNOONxM0wwyvtzSiiiTADJHGVIMUcMJIozLAxFLSDEFGGak0cYdgCAyyRx39tePPe+wUw4310STzDC9wCKKJYnIYQYsAgUEACH5BAUDAAAALKUArwA1ADIAAAj/AAEIFMivHTx7/gYqXMiwocOHC/8xOzGDRYgTNYpQMSMHkSVRsHgJSxYNW7dyBhH+g8hS4T9hYBTWWiVK4CMAgOakAQCGyhQpRXTgiCECwAkeRaSY0bPIkqlYuYg1i3YtXDl18fZF3GWmZctar0yF0kQpESA9bcyY+ULlSZIhOmpYDOeyFRyvePMCyFVGmMtQd/QKhpirCzKXlAANXswwl5VnLgEtYkxZYK4n1lzKoVSZcq4k3FyC4dSZca4h4lxKqVl6cC4e6lwOQdXadY13Lmu0qi04F4t6Lk/U4q03lwh+CvsVJZ7X1omF9lQwz/tqhkB77/hoKDDi5nSWpXgA//hXbkIncOmUWbjyHaKoJ+NNKFOYLgLp9g05fQEQD8TCdaQwgV9DlrQBgDdBMASMDQMyxIhi7/in0DqpINHgQoVMMt4HzkzIgSUXDpSLHqCM5w0ErqSzTjUrCBGiiHLsJhA8ZCyAAAaKvWiZGrnUZaCOIpYRjEuiBAakZQAcg1iORzrWjEuFTHbkXlJkNtA/m025F2gulaGJlrkQkdqVU4QCJmyymQLmbS7dIGOTLNAT3HBT5lKCVgMppyUAtpSw0D3SaVndQvBYp+UqQCzEjnhaitLEQuQMsScnXSzUzRF7FrjQNfBpyYgfC0FDxZ6FeCfQP8lUWieJLglTBphyrIjiEi871cnGLS69MoUnpazyCi4v5mLGkFdG00YXS/xA1Aks4ADEEElQYYUWZrAhhx6IPGKJJ6Og8muPeRWmJEv70OPOOeFwM00zyPhyC02Q+AFHF00MUUNRLOgwBBFNWJFFF2lYq0chjFDiyXtPtrdPPe6gIw431DSTjC+4rAJKvPM2UQRdAAQEACH5BAUEAAAALKUArwA2ADIAAAj/AAEIFPgvn71+/wYqXMiwocOHDf+ZOSHixIwiU8rIKURJ1Ctew5JFw9atXLt49/4lhMiS4b8ipgTWWhUz0yNEgOakMQOGyhQpRXTgmCEixAkeS7Sk6TMJlKlcvog1u8YtnDp38RBG1NGqJURZrUx5yjQJUZ85bcx80UIlSZEhN1icCAHjzr6F/07I8sq3LwBYJ/Qt9CcCl9/DEHGJ8LcQ3wnEkBvCgsEwXozImAeu+sGwnY7MmUclYVhuCGjMnLow9GbkdGRLbRhie+Ia8qM+DKFZqY24ECSGybTwPqyHE95hZYb3zSVnFV5eaZTzzcXm1kB7265AgCAFlnSWtb4Y/wbwb5QHXeCq4XEQ87vDXF2OCSR3Id3Adbo2uH9vpRl5R6kstE4E3u23UC5SUENeFcoI2IInBh6YBDfk7TGLgBY4F+FAuRAhjkDUyLCQMxNsqFAuPKhDEBZOgAMAfgpQYiKHNbwz0D+8aACAAiaMMiOHLNSD1wm1/HiiCHcp1I8IRipky2ML2aNCkwO9MgND8FxJJQComLYQOzxsCYAotC1EjpdUcvIFQ90cISZsDFlTJpWMAMLQM7ttCcgkwKm2pR6g4CVMclQy15VC/+ASXaFp5IJXK3JsmUsZwuAFih6SdpEMXpMUIqkVz+AFCCOSSmENXm1YIukR3eD1hXGFDptBDl5PiCIpD+zgBQQqks4AD14zvCKpCvYMCQoqr9ji6Iy5iMDPYHo8McQMJQCgwg0/DJEEFVZoYYYacuiBCCSWeFLKKq/gsqxftUAJ0T72uIOOONxQ00wyvtzCiiiQ+AFHF00AUUNFLOgwhBFJdAtGGm3M0Qcik5RrCium1LBfPvO4c04420TDTDG+xGKKJozooYYWQbHgJwABAQAh+QQFAwAAACymAK8ANQAzAAAI/wABCBT4r9+/gQgTKlzIsCHDcCJKzBgiBYycQpRAveIlLFk0bN3KtYt376DDkwypSQFQa5UpUZkeIQI0J40ZMFSmSCmiA8cMESdm/HiiJU2fSaBQ5SKWrNk1buHUxbPnz6TCZlZQNozFypQnS5MQ6ZnDxkyXLFSSDAGCg0UJEROfcEt47IvWu3dvvUKVRhTCf77M4B2MMlebV39tqSHMmGGuNLz+rpLTuDLCXGCG/dXUx7LnXFqW/WWEyLPlXFai/dUDyXTlXE2w/WVjyXXjXEa8/QXgyTbjXEDO/T1SyjfhXDra/eWxyvjgXDDi/VURyzneXCfyCaxnqwqCHZmsa/+VFaIeAHspuCgDMCsCFvEnY6kA8I9MJ4TpLNSGz3AVDwD+OKDQLDnwx1ApRwAQDwgKVaPBLgYq5ElW+1ygkDEpRKiQJWzQl4IzCK3jRBsaJgSJHgJ9IwEwApnjBga4lIgQIowMpI4QDTSgQBS2yIhQH5okNIwWPiokByp/8ZJGkZep0eNA/7xCIpMC5WKGL3+JMgeVVX5xzF+UAMIlAKg181chiYyZixTU/CUHJWomMReUZQTJZS5EhPOXFH7dyYM6fw2B5J01vPPXDIjdyYJ5UJ7wJJW5iLAPQvyIMCYAtpyQUD0sXPrKDAm9U8OlqAyRkDr/jSnKSgiJQ8SlnICgkRA3SVxKCWUIqXTpImIihNWlgMCJ0DFdXHpHnwMFY8UrteRCJRyt/AVNETWcIIIKN/AwxBJTWKGFGWrIoQcij1jiSSmrwJKLs7+lAaFD0qkTzjWqESOQKZYsoocZO/FwQgglxPADAEM8kUUXxc6hByCPUJKJKKu8gksZmlmXzzzulPNNNtEsQ0wvsIhiSSJylDEFtdaWYOalCfVDlUABAQAh+QQFAwAAACymAK8ANgAzAAAI/wABCBz4b6DBgwgTKlzI8F+hGD+adJEDCBKoVruEJYN2rVu5dvHuFWRIsqEVS6tGeaLEqJCeNmbAZHmy5AiQGjBUhDiBo0iWNHcQZTJVyxeyZtS4kVP3zl6/fyMV/jNiqmTCWKxMebIECZEeOWzMaLEyJckQHjVUiDhRo8gUM6b4Hfyng5XVuyVtvTIVStOJeXNVyMJLuGSuE/oO9hOBq7BjhbhE+Dt478TjywdhwUAYbwbmzwBW/UDITgdozKKWICQ35PRlTl0Qdjvi+rGlNgitPantmBEghM+s8C5caBLCZLGH49UDCqGwMsrxymk10B67SSY0wIleslYZWAL/Ff+DgEmZLiUYqHNXmAuMMIHuJIAbuC7ViPXsuyQD8A8UpoPrNBALfgjlYsUz/I1hDIA9ZELgQbk8cQ1/e8wCoAejPGhQLkd4I1AzQRykzQIabjgEOeHt8Ic5AKxTTQR6lDhQLjq0M9A+l0AQQQQTMCLjjDHEM9cJdv044wn4HOQPY0YOFFk/B+VjWZMCyaICQvNsRiUArJh2UDs4bAmAKUYgdA4QYoIi3EHfFCGmJWoghE0TYkIS40HRUCEmIosgxIwWYvahCULEgCGmHKggxIsZYqphy1yw4EZlLmb4Mpcoc2yZyxfHzGXJb5Na0cxchSSiKQDUzCUHJZomwc1cZXCloikR4swFgCia8qDOXEMkOmkN78w1wyuaqlDPkLDkMqkIchnkzxMnhMBCDTwMsYQUVGhhhhpy6IEIJJZ4UsoqyX5my5QK7ROPO+qEc000zRDjyy2mWLKIHmZIUQQPJQCgAgw8GJHEE1l0oUUac+gByCOZeCLKKrXkkksrNUSHTzztlOMNNtEkMwwvr4BCSSFyfPHEEDOIUMK0dIp50D71uCPPQAEBACH5BAUEAAAALKcAsAA1ADIAAAj/AAEIFChuyBItbfxMAsUql7Bk0K51K9cu3r1/AzNq3MixI7QlpTxZYlRID5w0YLJIWXIESA0YKkKc0GEkS5o7iziZsuUr2TNr3Mixg2fPH8aOA5dpQYo0FitTIiEh0iNHjRktVqYsGcKjBguZN4pYucmoncZhYJiqXatRVitToDJNWrJK4640bPPqFcjmVsZ/reDsHcw0V5lgf0PpIcx4Y64uyP5OAtS4ssBcVpr9BcTIcuVcT6z9bWPJc+NcR7r97cLJNONcQ8j9XSLKNeFcPNj9BVLX9t5cM+D9hQHL928V9/6K8Gs8Ly4R/QTaazbIgZXezdW+KiFQHxIaqYAF/1LQJ7vaVjgA/HsjKSM4BabMIzVlBMA+Bxs7MZHfEZQVAOrQsJEyJvDHkSV4wQPCRsDYgIuBGkGy2D8YaJPROlu0AaFGiCwiUDIeVCPQOphM8OCGA/WhiUD/PKMBBx4kkMMrKGYkByoatdIEczUOxIYtf72iYY8D5WKGL3+JcgeRRX5xzF+UUMYkAJhpNtA/gHg4ZS5SUPOXHJRMSWUS3PwFRmtbEiHOX0/UtiUP6uyG45bB/TUDjVuqYM9fJwC5pQj8ZLQPd2LWcoJG87AgJgCt3KDRO46KaQoRGqHzw6KhUKFROEUsmokZGmWzxKKTLJnRNFMsmkgiGjGTxaJ+lJuWETFpiTlHfBn1AqqYbNSiESxsLGpGL3/xEoIKMegwRBJPUNGFGWnAoUchj1jiSSmrwJKLZ7l8UQxH++ypTjhlNkOML7eYYskiepghRRE8nHCCCjDwYEQSS1jRhRZpzKEHII9k4okoq9iyLZVZWOlaPvK0U4432ESTjDC8vBLKZHJ00cQPMYhwAgs4DKGCl4t2N48754Szj0ABAQAh+QQFAwAAACynALAANgAyAAAI/wABCBT4b5cVM3cYcTJlyxeyZtS4kWMHz96/gRgzatzIkSAiOJkmIeojh00ZK1SeHOGBY8aJDidwFMmS5s6ihbeCJYN2rVu5dvHw/bvYEeO/OZOKapTVypQnS5AQ6ZGTpkwWKUuOAKkB40QIFjyOZGHT5xEnYRr/mcmktK1bWKtKPWVUSA8LbBn/TQnltq9fALl+fMs7BNXfw0Vz1TiXd8YrxJA15mLRLu8JW5EzC8wlIl7GfSI0a7Z1QiM9FqIzv5qh8V2N1JFRDdGI7gdsyKGmaAxX5DbiTGY0blvi+/CkORqn6S7eN1ciRBjpBYvyATrztrX0QCJYTgOXVJ1aaP94fL1jrjmmBO6roGzgulQfyptnUwvAv2NeMq6zkF6+ZDO92HcJKfpx4Yd/kn1RjH2gdKKfE9YhOFAuVjQj0DY0ZJROArBIiFEuUlBDkBCNpCPQOEow4eGHSXAzUD6DSNDCCglgseKHRIiTkT41FHLLjR/yoE5eQKwC5Ic1wJNXDB0euZkK9uQlwo9OAiYCP5+VViUAtWiJ0TyobdkKDhq1Q+aWpvSW0Tm2bRkKFRp9o2aVwGmETRNbAjCJHhpFA+eWiDCS1zJabJlLH5rkNUwZhsphmFG7pGGoGpgZ1QochpoRTF6h8FllLl0ck9ckhRhaYV6ACPrpE9bk1YYlhh6d0U1eXXBi6BDk5JXEKIbywE5ePBj56QxKGnUECzgMYUQTVHTBaBt6FMIIJZ6UsgosucCWiwr3aLTPPO6c40020SQzDC+yiEIJIHJ00QQQMYQAQAw4ELGEFFSAkYYackQLiSWemLJKLLlkOxAuIvRzWz7xtFNON9hAk4wwubACyiN9sKHFSiqEoMIMOgyRxBNh5gnAPfA4zI01LgoUEAAh+QQFAwAAACyoALAANQAyAAAI/wABCBT4j5KcQpZEwfJVrNk0buLUvbPnb6DFixgzahz4DwajRIDutCmjBcCUI0B01DgR4sQNIlbS6GHECRUuYcmiYfNWzt08ff82ZvQnApdQi7JamfJkCRIiPXLSgMnyJEkRIDVYlAgRA0gTMHAQjlq47WK+E0fTHsX1CpUoTpQQ+ZnD5kuMi/Huqt3LFwCrGhfb6ehL+GipIRfJIS7MGKOnKRe7HWlMeaClMhb/WXtSmXKuR3IyP7PSuXGuQoUyI+tSmnEuPZYyBzPTunAuOaMy22JTm3AuALAyowrdm28uMLwya+pT3LiWYQLtwQumAkip5mprPYH+b9kENADwNP/AYhT7xlxNoP0jJ0HbQHMr3uwyrzFXEWz/1sy6qO0B/fo/ePPPBuNctE4D/2WUyw3l/DMCOAYqkCBGubDQzj+DkGLROtVUMOFFuZQQDwDvQKCMQOtoY8EhH1pkC1oA/BPOCDJs0cMCerRo0SszZHbNBpncoqNFqCw2kDpADHlRKJBZFE4RSlqUCW0WZdNElANNckdm0TQZZS6IJJIZMyVhmUsfmWQ2DBhYApDLHKZkxksabebCRi2ZtQJHnQD4khkoOZrZxTGZTZKamVY0k5kfjNT5hDWZtRGbmUd0k1kXntQ5BDmZJXGdmTq0kxkPq9QZw4gcqSBLnSfkYxFR5UWmiYsIFQ2ED4xYxsLCRfD02OYqPFzETrBtjpJEYkZGyQlrTp4QbBJTZAGAGW3MAUgilHAiCiqvxFqaJW1c9A886ojDzTTNFOOLLKVYgsgcZUgxRA0inBADDkQsIYUVYKjBhhx6IDKJJaCY0kotv4HICCCl5SNPO+V0cw00yQSDyyqcMKJHGlYUsZIIKtwABBFHWKEFEJO0yY897qATzjbRMENMOAIFBAAh+QQFBAAAACypALAANQAyAAAI/wABCBQIr9AjUK14DUsWLVu4c+7s8fs3sKLFixgzVuSmo5CeNma+AJBiZAiPGydCnKhBhEqaO4s4ocoljKFDiPUmasz4j5qUnQNrtTLlyRIkRHrgmAGjRcqRIT9qnBABYEZLMzBl4qq57F7Ff82sAB2r0dZQUEaRykljBsCNVV+LiSRLt24uOaK+9mpbty/QXGlgfYXFxq/hjLnA9Po6as7hxxVzZSH2lRIgyJhzUWn2FdAizJBzLaH2tY0l0I9zFeH2tQsn1IdzARH3dcko2IZz3WD3lQdc3H1zsYD3lUUs4MFLeAVgT50wBpBkIacrq8M8AP80SYgTqMeETdPHyv86gX2UknQC1ylT8Cr8zlU3APiDYK7iukBY3GssRQTAuxYXKWOCfhlxQgUA8IAQ4IAEXmRJW/9AMI59+DV4ESN3YLdKEPUBoJ4Cx1k4UC6AJCLQP6NIwAUeK1TgiYiR3aFJRfQgosJpMEbWhilfyVJYjpGZEeKJpTgG5IiKfWXJZUcKJBllA/1TyGdNApDLFMx8JQclVVqZRDRfffFalbkQkU1teZHJQzhf/fBbk7nMcM5XMAx5ZC4qvFORPyLg0iUuIlw3UD7kdSmLChbFE0OXALCig0XsPNplKUdYRM4QjHqShUXdVNqlJW1YZM0TjDLix1dhdZlLIZN8dcxccOqVEcpXvvAFZxutfFXLj3CawctXRaoKBpQnhhLDEU9QoYUZbMjRByKTZBKKKa/gkgtwuWiRZUX5lNONNc8k44stq3DyyB1mUDFEDSKcAAMORCQhhRVgqNHss9FO+4ot12J0JZiQ6TNPO+V4cw00yQRzS7mP6JGGFURIBQALOsSbLBhpsDHDmUfuM487BWODcDC4vCJoQAAAIfkEBQMAAAAsqQCwADYAMgAACP8AAQgU+C+aJlO2giWDhs1bOXfz9v0bSLGixYsYLf6jJEWOGgBZpCwpAqSGChEiZhCZYubOIk6ocAlLFi1buHPu7PGbmLHnP0CMegKw9coUqEyTEOmRkwaMFilHhvC4cSLEiRtErKTR84jTKl7EmEWbhk5jG0tC016s1cqUJ0uPCulpY8aplSI81FX814WT2r+AAdQaQm5vklKBE/esxYPdXh6rFEu2WCtGvL0qZE3eLLDWiXwV+4nAxXmzLBH+Kt5TUXpzKxYW4c1oPbnUD4vqeNCWDKqJxXBEdiu29MXitiXCE0OSY3EaleSBCyGiaI/cohiRoaetNQfSQHlVPHD/UdKAyS3tPXPBMSXQn4lUA9NtEYI+Y640tQD8e+akYroGr9R3US5g+KLfJPBRtI4TiQhoUS5WHKNfJAkOtOB0DlKUyxTNCIQMFxWt00ArGWqYhDUC9ZMBMBYG8kKJGhLRzUDtpBBEI4FY8EJ+MAqUCw/lUPTPNhtk4UmPGtbQzl44kIjkQLmoIM9eJ/D4JAC5iAAaRfyIcOVAuISQGkX1wPYlAK+YSdE7NZwJACq6VYTObWeKksRvRbiZiRYWZePbmZO0YVE0z52JiB97LcPnl7n0MclewoBxZi5yiLIXLmlMyoaTA/3DCnOMlkGakJ7oMWkXwuzFSCGTUpHMXnp4sMfoE8/slQZajBqBopBUhDIpEN7sRQR7jOJQmJA1cPpkLiwsKeQJtkxawmUU9XNCE1R0YUYacuiByCSWgGLKK7bkAp0tJ2h0TjbRJCNMLq2IAkkfalhhBFUnsKADEUlIYQUYarAhRx/faiIKKq/gYm5GrbS52T7zuFOON9hAk0wwt6zCySN3mDHFEDV4GQMORCwxhRVfpNHGHHIMcWU+8rRTDjfWNHOML7GUYsl5AgUEACH5BAUDAAAALKoAsAA1ADIAAAj/AAEIFOgvFixfx5pR41auXbx8/wZKnEixosWK+Uq0KZOFypMjQGqwOBEiBpAnZeYgsmTqlrBk0bKFO+fOXr+IF3MCiBcjJ65XqEJlmoRIj5w0YLJ8HMLjBskTN4xkYdNnUqhWvYop5MatXb6J7HjoHEtRVitTniwxAnSnjZkvWaYs4VFj0URxQ8jq3SuQU5eJ3JLwHazTUpuJ1KYQXlxxEaCJzLIwnjwQkCWJ/4iBoTy51pxRmHmZ4cy4FhtZmF8dJk24lplemEPdYd36yzHMkwrRHlzLSjPMfR7t5lvriTXMbC4P11vrSLeB9sKxQLRcLywe3AD8u6ZBBgAOFTJV/9dZS0e7f94uVBO4TpmCUuMv1ooh798OZRLXucoR32KtExBBQJE5DvRXUSwi+PPPBBSls4CBFK0yg3YjrCeRMSNAONEoeWUmQzoDjWMBJBpKxIli2o1ygSCp4KHAGyVKZMloA7kDyQZqtBKjRIzoMRE0VOw4ESCMTJTMX0IOdIcmmAVTRpIC5cLGKpjdwgaUAORiRi6YrSIHlrl0IQxmmvQBphXJYJYIdVDmIgU0mM0xCZhHYINZGUy2OUQ4mEkhCpg6oIMZEKiACcM7mMEAC5gn1CORPyLgAmYI/EiUzwlYAlBLCRPxlGkrE0rEjg6ZlpKXROScCqUnKA4UWKYzIpzWapKMzDFRM1ZkCkgiExHzRaZLYuZLDFls1oYehTxiiSemtFILl8vl0oYpE9EzDTPE9CKLKJP4wUYWRuBwQgks6DDEEU9MAUYabMjRByKTaCIKKq/gAu1FWqJGGD/1uHPON9hEk0wwuKzCySN3mDHFEDWIcMIMPAzRBBVZfGFGG3cQeQRsJeYTTzvkcENNM8f4AosolAAyh50ABAQAIfkEBQQAAAAsqwCwADUAMgAACP8AAQgE8O9cL2LMpnEjxy4evn8DI0qcSLFixX+2cHSxIuXIDxwwToRgwWMJGDmILJm6FSxZtGzhzrmz1w+ixZsC/5maY7HWKlOiADwCNKcNGwBUliQx8iOGCIE/npjRs8gSqlzEkgG4Fi5cPHv+Iv6z5Aen2YiyWJXyZIkR0TZmNnYcMoNFjHNiESU6y7cvgFxUoomVQ8mv4Zu5lmQT+4XT4ccTcxEJJ3ZJUMiY//JQJ5bHqsyYc82AJ5ZFLNCQc6m4F9GfCFyoH+MS0S/iPRWxH8vCHRHejNyHV/GQqG44cL+jlkgMR+S4X05fItbrdcN5X0hqBPb75KAFgARaYFv/v5moEME1Z8wJHKdEyPibgCwBUOdBYroGn99TnGMKwC1DEq1zxh36TVQLG7UAwEolAeLRRoES1WKGLwBE40SAK2QCYUS1dHEMAP1koMxA6wAzwYYcWvGMQOho4MUsrigxQX8oClTLE9cM1A8xH9igh3g1AlCLEd6IBUAoQXIIBF4D/TMEKkkOVAsO7Yg1wytR2sjCPGKVYEuWQpawT0T6nAAmALCYGZE8MJy5SnURtaPDmaIUIRE5Q5zJiRUSdXPEmZMcFZE1T5yZSB8SNcMnmH5AItEx0YEpB5JN9mLGmWpg2WQsgkaZSxm8iCUKT1nmogUxYlECCJiANSMWIIywp9oENWK1IV+pRnAjlhaOlfoDOWIdUQqrN7Ajlg6ssMpCPKVZYUYbc8BqiSelsCJLLu/lIkI+Yl1zjC+ylGJJIXB0kQQPKoykwxBGNDEFGGmwIUcfiEyiiSiovJILtmbhEkJYfvVjzzvnhJNNNMkIg8sqnDxyhxlTDBFDCCrMwMMQTVihRRlptKFHIZBYYglvEOITDzvkcDMNM8T08gookPTBhhWkAhAQACH5BAUDAAAALKsAsAA1ADIAAAj/AAEIFPivWbJo28Kpe2fP38CHECNKnEgRQD8RAKYsIQKgBosQLHgs6SIHkSVTtoIlg4bt2zl39fr9q0hzoD0VE2u9AiAq0yNAegCwAUNlSRIjPGCICHHixxMzehZZQpWLWLNo1xSqazjz4bsaNcMCkNWqlCdLjADNYWOmi5UnR4bgOFHiRCiI6HiI3bs31BOI4YrwHUyTExiI2ZoQXixxkhyI0awwnjwwESKIybpQptwnE0RhZTZPloPq4T9cakQvzsXmlmlUj1UPzlVGmGlNfWTP7pLMtGXdfHNZgWZ6ziTge3M1wWZz3hFLyMXWGsL8nzohEiwASGEqOs1cP9AB/2AHAZjAdbMUsPJOMVeNd/+u6Hq4jpQP9hNzqaj3b0I6iOY4gJ9EuYjAT38RrbPAgBHJgtM/G2gDkTMaMAjRKnr9Y4sTD6WzQlAWDlRKEgTlAYIryqQSARMhPsSJZgR5Q8YETHDS4kOWtAEZFTdCtAggEDGjRY8PAQLdQ8McRqRAc3T3UC5pLCkQG7WY1kpsRNZihi+meQJill0cYxojhUhZixXPmHYHJGY+cY1pZni2ZC1GeGMaFXfNCcQ5pg1R2pw4tGPaDDvNycI8D/kjgmtzirDPQ/mcICUAr0j6UDwxTLoKDhC1o8OkohgBETlDTKqJZA9xQ6KUk7ABETVTTJaKiB8QNZPFpH1QAhExSi4phygQ9XIDG3P0kQglnIiySiy5DKgGLJ0GYwsqmiAyRxlP/PARCzj8QMQSVnxhhhpy6IHIJJmEgsoruCRXRi+D2fOOOuFsE00ywuTCiieP6GEGFUPUIMIJM/AwRBNWaFGGGW3oUQgkloBiChXFMJhPPOyQw800zBDDyyug9KuGFUXAwBwAAQEAIfkEBQMAAAAsrACwADUAMgAACP8AAQgU2A4aNm/n3NXr92+gw4cQI0qcCOBfqxtNjADBoULECR1HusABZGmULF/Inl1DqJBfQ4owB/4DpUfiKlGZHiECMCdNFypTpBjhAaNEiBM/npjRs8gSqlzEkgG4Fk5dPHf/Xjr896hQzJi1WpnyZIkRoDttzHyxIuXIEBwsjtboAm+rHkhf8+q11cqIta1mMukdHDOXEW9bqYQizFhiLiDntg5B1biyw1w42m2d8cqy51ws5jn0J+KWZ8u5ROxzmO/Eacu1XDuMF+N15VY4HrLTYbuxKSMPyQ3pzdhTlofckhAnbImNQ3vJliwfjOiOwH+8MEQAMOHQ9K+AKFX/5BMEnMBqHMx8hzlHFIBzHh6OS1Br/UQ2sACskvRwnZJF9klkRi8AXEIKRGfUFOBDuXxxDADBxNHfCpssyKAVzQBwDwTaDLSOMgxYyOATfwEQDQSYOKMMHgssJuJAuRzRzUDzXALBB1rU9yKMQ0Qm0xCm7MhgZpt1JiSMoW1Vgi1HwljCagPpI1uTANgypUDy1EYlABc91A4PWwJgShHBDbclKFYgd0SYzT1EjRRhMuLHQ82kuSUgkzxEzBdh3uGeQ72ot2Ub+cn0ShthDrhVKNZRWcsXxWw1iVeOYmjXI1vWQuJWbFiSqYxbWQFKpkOUsxURQTpKpEw1tJJpkjKdfcCkoydAKdA+IcihByKTZBIKKq/gYiEsVwLgD5eePKKHGVQMUYMIKszAwxBNWNGFGWnAsWuvvwaby2Cr1DAYPvGwQw430TAzDC+tiAJJH2lY4axH0lJrhRZlmNGGHoVA4qspr4hCxIL5lHvuNMwQwy4oyqZBBREzdOCcQAEBACH5BAUEAAAALKwAsAA1ADMAAAj/AAEIFPivG7dy7eTp+zewocOHECNKHNjvRJIhOGCcKDGjiBU2fSaFgtXrWDNr3RDO28dwokuH9Vg8rLVKVCZKAADNSdMFQBYpRXTAUBHiBI8lZuT4sYQqF7Fm0a6FUxdvXz2J72q8dGmrlSlPlhgButPGTBcrT4wAwcFCRAkcRgAMc3jux9a7d195RfTE4be4eAO/zGTGIba+ghNHnHTH4TMriiM7RMTIIbIvkjMD0MOp4T9fhTVHlsPKcy02ohXnMpPLc6k5qRPnKjN34D9LgGILzqWFmWdAi3QHzkVlmuc2loTjzZVkW0N7VDIpv1sLiHMA8+hMQKCASazpLnPx/2AHAN4EUgLTBXpQC7zEXDHi/SPjquG6P1HcR8x1It+/Cek4pE0F+kGEiwj+/APBQ+ssUOBDsMAAwD8VmONQNRo86BAqQ0x4yR/29QCHhg2FMoVA++TgBADgGLPCC7uQOBBhtgVjQwIpHCJjQ4w5BtmODRVSWUPH9ATkQHp44hBoRw4kRyueyYJak7mkEaNto8BGJRjEeEZJblRm4ZttgAx5ZC5TUHNcclQmwY1nWShJ5RDkeGaEKU0CkIsO5NmGA5RUxufZCe1R2V9D+4iQJwC3INjQPDLl+coMDrWDw6Ic0gXEoqFQ4ZA3gDVpSRoOWSPFopDo4VAzPzZZCCQOHZeDWZ56gOJQL6E12QagBMEyRCGPWAKKKa/Y0lqBtaTBi2ffhDJJH2xYUcQMJZwAAw5DJDFFFpi1ocerloRCLC7H4lULl3jtA4A64VzTTDLE3GKKJX7IYcYSPJxwggow6FCEFFl0oUUacwDyCE6irGJLLVk0414+8bRDDjfTMEMML62AwogeZkwxxAwhuIXNog+9E48/AgUEACH5BAUDAAAALK0AsAA1ADMAAAj/AAEIFNgvHLp39vwNXMiwocOHEBf+46biRw0VIVj8eFJmDiNOrHgNYzaNG7l28fL9i8jS4b9oUxbWWmVK4CNAc9KYKZPlyRAdMDCe4LHEjBw/llDlItYs2rVw6uLxWwnxHzMtLSHeemXKkyVGgO60MdOFyhMjQG5gVHFjSRc5idhJFAYmq92WskyN4kQJQM2B/3KluUu4ZS42tiSiklO48cNcZYJJ1NTHseWFubokk4go0eXPuahAkyin72fLuZpkk/iF02nURcJJTDLqteNcPNRJ5LHKduNcM+BJVCHLd+FcJ+4t7CcCl3HCuEQoHOjuxHPCrVQI/MeuyoQCGA5d/8+6CgiAf9Yk6AKwrpoHJuNZipJyHkO1hekseIoPMZMZAOfQwNA6nUTBn0O5THIHANR40ZAuPhzYUC6ILAKAOjIMWAkWEjKUix77/bOBMwuZ00ApHWImRyvnhQMBKQCYA0wEZKSIGQC7DEQPIRAokIImNmIGBjESTQJIkB5m0YxEfjyCJGZSUCMRG5Y8OVAuR3AjkRWgWClQLkOQIxERf1mZiw7tSDTDK14CkAsL80h0QmJeIrfPQvpY16Yteg4UDwxtAtDKDQyxo0OgphjBEDlDBOqJFQxxk0SglrQhETUx1QmWRMxk0WYugJi23TBlfDoHioAJ9ikbtUjECmN1mqbhy2SV1dkFMhIxgsinVjwj0RyTfNoENhKB4VqdsUn0RGmciLKKLLnYmMsP6EjESyJyfNEED2vdAIQRT1ChhRlt3AEII5Z4YsortkT7Ww3vZLVPPOqEoyUAxOSCiiWL6GHGEz+cEEIJMOhQhBRZdKFFGnMA8kgmnjiLS7S5qGDPePrE0w453EzDzDC8sMIJI3OUATALIagQQ8D9BDqQP/acg45cAgUEACH5BAUDAAAALK0AsAA2ADMAAAj/AAEIFPjvXrt5+/4NXMiwocOHEBv+K6WCRYkTOIx0gVPIkilbwpJF2yaOXbx8CiOqhPjvUSGGojI9AqQHAJsyVpYM0YFjRogTPJaYkePHEqpcxJpd4xZOXTx+KVX+0wNppUNcr0yBsjTzzk0rUpIQ4VFDRQgWPIyYubOIUzCJaSxZnRsRFipOmSYh0gODG8N/VELRHbwy15Byf4egIsz4YS4c7f7CgNW48sJcLOYx9CcCl+XPuUTsY4jvxOfPtUwzhDfjtOVWOBqq4+G6cqkjDcMRqd2YU5eG2ZrwZkxJzl9oVIYPzpUIEUN7wrIop1tLz6SB/7D5cJDAR6vpheWY/yJ4CYSzdONIKcgEPmIuNbcEkvOQbuA6ZRXaQ8wFRhiAf5OQwtA6HCymX0O5aMHMf2QAM2APch3IUC5TRPNfJKkMyMF4El6WxDYChUOffc5M0OGEQ4hDUCQtOLNOOqkkEOGJAuWiAzvYSWNDAQvksAqNl8EQz18n2ALkhCfow5A+qh050C0lNBQPDE4u9EoNDbWjQ5UDmbIbQ+QMwaVAoFjREDdJjAmAJWw0NM0UajICyF/MaDFmLoBQ8pcwYNw5xyh/5ZLGnWzU8hcqxnGZSxlvLfRPJn3c2UUyfyGSyJ1UQPOXHHoq2gQ2f3XByZ1FhPNXEqXcyYM6f+nAyp0zwK5DpKGKnoAPQ/yIoCYuIvjD0DwsqAkLlQy1E9uYqADR0Dk1WAKKKa94BmQocDIUTyFsWEHEDCKcEAMPRBwxRRdlqDEHIIlY4okprdiSi2WZmGHVPvG4I9A1zRCTCyylTKKHGVL8cEIIJcCgQxFSZNGFFmmc+0gmopiyCi7vCgRJTdPtM0875HBDDTPD7LIKJ4vI8UUSPJwgAgs48HAED1WpKVA/9bjTTTfW4ChQQAAAIfkEBQQAAAAsrgCwADUAMwAACP8AAQgU+M/evX8DEypcyLChQ4b/eKgIAWMIlTR9IImC5evYM2zh0L07+LBkyX4icAGotUpUJkoC56TpQmVJEiM/Zog4wWOJljR+LJnKRaxZNADh1MXjh9AkgHoqnC6EhSqUJUiF7rQpY0VKEiI8Zkxk8eOJljuPQLXydU7huxpS4zKkGooSVj1trCRReA6I3L8lRT1R6M0I4MMMM5lRaG0w4scCJ+lJ+K+ZFciQC0GiTAwMZsS59ICizGvxZ8C52ryi3ArOadRmelH2NPm13FwAjlFehMj2bSvNKN+Z5DturifXEtoDYKm41FpDkgPwd2sHgA1+nJvM9aNtvhdeqpn/U9YihUrtDXPVePfPkaGE65SwQZ9ehb1/FcwprJaBPkNcIvTzjwQLrbOAfwvFEtU/E6SjkDYVIKjQKj8A8M8aqcDnBhYSJiSYQPFUgEk665gTRwW1dDiQYgPdwwcECDgQxS0qDiSZQpbVqFAhj3D2hY4DhTbaQP+UBqRAqbXCmmtH5hLbbLUBmcsXxezWW5PACUdck8hRVoYmRwKQixHeUPaEKGFy1xaRPKyS5nqUqSBLmvYlhNJ5QALYT0JQhQmAgm7BFSaFfFUY5ocJFeYniwk15uckd+B4WZiFMOJjmqKRZpqUbShJZGtpPkkkKGWUsoosuKmYCxjEUHZMF0nob3ACACzgMMQRU2QBRhpy6IEIJZyMcmqqoGVpkjrhXNNMMgDcUgolfqQhRU4hlAADD0ZIkUUXP80ByCOZiGLKKrgQK+YT1tjGDz3tlMMNNc0QwwsrnCwiB6w8nCBCrUMUoS0LZYa5brvUwHtMPgIFBAAh+QQFAwAAACyvALAANQAzAAAI/wABCBT4r9/AgwgTKlzIkCE1ESd4JPkihxGnVryINbPm7Zy7egYbihT5j9iXWq8GPgI0J00XAFmkGOEBAyKPIlLS+LFkCpfGaNfCqYvH79/Igf96mTl6MNYqUZkmFdLTpkyWKUuI8JihIgSLH1LMyIEkCpavZND8HfzXqg3TtwhhoQplaVGhO2zMdInBbK0nPXADN8z1pdjaRYgEK06Yy0qztXMmLZ4sMNcTa2vBcKI8OZcRb2uXiOK8ONePc2t5rCKtOFeNd2tPyGItOJcKewf5iaAtGJeIkALpseAdONbwg+1wEIe7CgjCbjyWv+WUhGC9SykcMEkpXWSmpf+yQf/AVK2aJAWQujeEBJjfhGoHqym4pX5hoUcAoHFBuE5J4voI5XLHaLI0klAjZQAYYBuwAEBMHPydMYeCB+ViRi8AzCOBOQeZ0wArFA6USxfHAPDPKSvAt041HIwRoohWPENQMx8kkMAEh7woYhPYrKXFZjqKWEQ4ax1RSpAi8qDOWji0gmRlM8ATmy1PApDLCfgctE8JVQLgm1oDzXPck6/EgFByXaIyBELkrFllKFQgxE11VVqiBkLTTNElI34gxIwWXQJCyVrCgFFlLnOMshYubBzKRi1rmTLhkxYGs5YlgBzaRTJrAbLIoVNEs1Yblhy6RDZrAeDJoUQQiVQRphyfygM7a9XgJKUxxDPloSfkc5A+IqDySi5I3iICmALtY8YQMISgQg0/FPEEFV+Y0YYehUySiSirxEIsZ6/M0NA+8agTDjcCEZMLKpb4kYYWS/AQwgkz/GCEFFNQoUUacwDyyLamrILLtweZUgRt/djjzjneWNMMMby04skjd5jRBA8nlMACDkQs8YQWZlhhRZX80NNOOdwww8wwuzwmUEAAACH5BAUDAAAALK8AsAA2ADMAAAj/AAEIHPhvoMGDCBMqXMjw35wZRay0AWTJ1C1hy6JxI9du3r6CDEOKBPBvCChTniwtAjRHDZgsU47wqMFCxAkcSbrIQZQJFS9izax5O/fOnj+QIwnCeJUUQC1WpThNQqQHjhktVJoU+VHjRAcWPJ6YuVNIFCxfyaBla4fQnwhcTeMCgIUqVCZIfu6wMdMl65B+B++dkEt4Ya3BB9/VKMz4ICsdCNH9aEwZwKgkCL8VqdyY0xeE155wZjxJDsJmVkYXRsQIYbHPquXq4XTwXy8zsePmgtOqdqs2uZvmMsOrNig9wZPm+kLsoD1AgJKPrDXlGEFvgyqkoCQ9ZK4n1gT+/xsEwpWzWRxywO2eMJcRbySFBUk3cJ2SMOzb/zhH8kW1g9pMkB9CudTwDkkCHrSOAgMelIsK9pCUgTkHpbNAgwbhIgJg43Vi0DquvIDhQLGwMNA8E7gi0DqzKGDKiAKhAoRB8YzhQAQNmPAijACEMgVC3EzG40CZ4HYQNVIMORAkyB3ETBZKClTIJAgNU0aUAMwhSm25pBFlLmzEUhsqpik5nC+1WeLHl10gU1shiXwJADS1tWHJl01kU1sWnnxJRDi1GbHjkLnwwE5tN/RmZgzx1HaCLV+ekM9B+SCm5C0i+HNQPDFg2cpiB7HDA5ambHZQOERg6UlqB2WzBJaWAJx3UDQ/RrkSQsl0gSVFCAVjpJJyoFJbLWZASigbt9RGTA0lnBADD0QsMUUXZrAxByCPWBIKKrDkMlouYAiz0D4RCnRNM8TkgoqacpixBA/NzvCDEUksQUUXaVz7SCaimLIKLt4SmAUzqtnzzjneWNNMMb20IgqTZjTBwwklsIADEU1YkUW1cvAwjZL8zNNOOdxMQ4wwuJjCyYECBQQAIfkEBQQAAAAssACxADUAMgAACP8AAQgUGK6IFDN6JomK5StZtGzh2MXL92+gxYsYM2oc2KxJqEyQCt1hYybLEyNAcMAoUaKGkSxsAFkytYtYM2rdzrmr56/ixo3EwPy0aKuVKU+UEvWRY6aLlZM/apwIoYJHEzN3HmWC1RAaRHb9LP7blWaoWY2xVokCWUgOyS5UlhBh8UwsKzln8+oFkMtML7Ga+uwd/DNXl2NiESUizBhjLit1B/6TQ6mxZYG5mmAT24XTZcu5ioQTa6TU58a5eKgTi6PVaca5ZsATe8LWa8K5TuSzqO/EbcK4RPizGA/G78GvZlwMd+P4XlFABvYLNqYCm1vOz4KyIlCdhjO6dJ3/ceAp+1BLbQD422DMojIH2M1rZAQIALcgF9cpQSRfo0wAvAiCUSNd9JfRHKYAQEwc+eFRloEW5aIGdvFIkI5F60RgGoQD5QKGMAD844gT4Ag0jhI7cBihFswI5A8sEHDAQQJY4KJihwBQI5YV9d0YYRLciDVFKD5GOAQ5YgGBSpEd4tCOWCzEwiRmLMxjUT8i2DhlLiLsY5E9KkwpkCy+WfRODWICsAoPF53zQ5qiLHGRN0akqUkZF1nzRJqT3HFRM9yJWQgjFwWVph6gXERWmm28YhdeW/oFmGBbfoGYZIqJ+VhkAk1W2ZZPbCZZZ5qKJtYRGzKZGjqsubalbLTZjbblCfhYtM8JuYgZ3HAD5cODCCzgMEQSU2RRRhpyALKIJZ6Y8oqWr70Sw0bxqBPONc0QkwsspUyihxlP/HDCCTPgoMMQS1DRRRpzAKJVeavgkqtGpgxxWj7wWIvNM8f4Iosok/RhhhQ/sAAsDkQsYUUXYLAhhx9yBHojP/S0Uw431DDDCy6mWAJILQMFBAAh+QQFAwAAACywALEANQAyAAAI/wABCBT4b1IXOYw4tepVrNk1b+je3fs3sKLFixgzVvzHAxIlRHrgmMlCZQkRHjNOhIgBhEqaPpRK3RLGbBq3cu3m8aOosee/E7J6CsT1yhQoS4wAzVEDJouUI0BqqAhxgseSMncYgTLlCxk0bOHUxdtnkZ8IoWgxylolKtOkQnrUmNFipcnJGGYszmORtq9fgbBgWGyn469hoaiAWCQ35LBjjKGoWOSW5LHlgZbSWIw25fLlR30sLtPi2TIgShaFlSn9eM4oi7bYsHbMptbGUnNmG85VJthGSoB0/83VJVlFe3MQCfdb6wkzgu1afSCCannaXEm2Afg36kIjV40UkP+xLjTXEHH/kLVIN9Ach+DkM+bS0e5fimoWnWmIL5/FvH8TXLTOAvxhlEsJ+wB4UToEFmhRLSdsVwUwFs3ygoMWsVIYAOVA4IxA6yijgCgYVjRKZdt5M4IHPXBQgSYlVsTJFxYlE8MqMVo0SW4VNWNFjhYhwohFxIABZEV6eGLRLpodKVAbrWzUihxOCmRGLxtpEpqTuXxRzEaIJFJlLlY0s5EcqHH5BDYbdcHJmEV8s9ERpYzJAzob4RAllzPAs9EJtox5Aj4V6RNhlbiI4E9F8QhW5SszWMQOD1UCYEpjFYVDRKWg/FhRNktUakkbFkEjWZVJWYRMF5UCYolFvuSYVeUcplgki2xVqnHLRqLcMSYYwmxkygk1/GDEE1Z8YQYceiBCCSeltGJLLrrlosVzFu0TjzrhXBONQLeUQokfaUjxg0olwKDDEEtYUUYacwDyCGqirIILtRrlMgU1l2nLjjjbRJOML7WI20caVAzBQggqrLsEFVqYYYYcfSRiyRDcxNhPPe6c0w01zAzzyiqZFNKGGe8IFBAAIfkEBQMAAAAssQCxADUAMgAACP8AAQgU2E6OH0qlbglbNo0buXb0+A2cSLGixYsVsQFhBGiOGjAApBwBUuNEiBM8lpi580hULF/Jom0T107evn8Ycw5sZkUngFqrRHnK9EggGwBUlgzRAaOEwB9S0vixZKoVsWbXwpUT6I/iv2NffIodCHQUp0mI9LQB08VKEyI8Ypw4EW3iv15mxuodm0vOKrut4OwdnDNXml12OekhzLhiLjDE7CZC1LiywFxWmtmVQ8ly5VxPrNntwslz41xGvNk9Uso041w/ztnF0co14Vw13tk9Ycv24Fwn7k3Ud8L3YFwiug5kx8L43lXNBf77pokCI+djTQ0RaA9JC0mVelT/MIVdJ6ie/4SQGrgO2ANc5TFaagOgHQiK63okin9xESAAyMRRUSdS8GfRVAAwgwZ+lWBhIEV9/RXPBfitMMmDExmWCwD/2OFGOgKtU8kGGGYIxjAC9ROJBEo4EYENsZQ4UC5ZMDNRPU1k8ZeMM0pBjV1gaMJjhkd0Y9cSogw5IxCyDfQPDzsqiZtuTp5Qi5KXqVDPRPuIgKVAyPUz0TzRYQkLDBS1o8OXAKCy3UTivIllKFRQtM0SbFqiBkXRTMEmI35QlIwWbALSmZPB5IVlLnOQ52QtRy3Kxi12iTLHl48JY9ckhWCqhY1O6gEJplNMY5cZmWCaBDd2SZHkokOQnGPXD1EOmQsO7dilgiyYskDPRP2IAN+iJUg0UD4s4DBEElN0YQYbcxQCSSairBLLhsbJokJF9rRDDjfRJBOMLaVQ4kcaUwzBQgjJErGEFV88OwcgjFgCCiqw5IJtTqvwUFk/9bRTDjfUMCMMLqhYAggbVgwRA7vKMqtFGWmw0UcilngyyRMy2vPOOd5Y0wwxu4SSSSFtZFHEqAIFBAAh+QQFBAAAACyxALEANgAyAAAI/wABCBT471oiTq16HXuGLZy6ePn+DZxIsaLFixb/oXqiB46ZLFOSDNEBo0SJG0a6yEGUaRWvhQ3ZxdMnEaPNif8s+bk5MNMjQHPSdKGyZCQMFSFO/JCSxo8lU7l4NbvmMJ69fzUp/iuUiKdXALZaleI0CZGeNmasECVCsgQAHmDiaW1j6atdr7VWFcGm1Qqou4Bt5iISTusQU4ETV8zFg51WGK8USxaYK4bcif5E4JosOdcJfRTtqeAs2daJiu9qkFbcCkfFc0BWJy6VpGK3I7IDc/qilZqU3HdzTZoTmhgV4HZrAQKEc5ucGKiQe82l5y+Af+dMBAm0JQKSzdIx5v9qA0tgvgnGBqZzwiS8eDO9rsPCQ9FcglvuLebqcuz6GGAUrbNCKPktZgU015EB4EQCEljgRLk0kc11ttA3kX34PTjQYIUBoE8FCwKQjhJRaAhhYwSp8wINbmzRABQmQgiDPDh9U4EfrMQIYQn7UFTPaDpOVMtpFLlzQ5ATrcLDa7EhKZAoS9iGm5MAaFJGb785KdwdWjGjBZW5FAKJVsJcqeUdDg70zy1sgMlGeTiZQpyWZviiFSXMadlFMlr5wQiYVESjlRp1abnENlpRkWaQuQwhjlZARKelDu1oxUIsYLIwD0X9aAYmjxTRwwKVAMhC5ETtuEalkhWRMwSpojyNURE3tVGZiRlaTTMFqZDooVUzLBTxhBW8ydFHIpZ4Ysor4AEX5pgU+YPON9c0QwwvrHCCCBxdHHGDCCrcMMQRUmRRRhrGIqsss1/lcocokuEDDzreWGMtL6toUggcVhBRgwgs4DBEElNoYYYacujBiCWgoALLmybe88459TYzTC6o/MSGFUPAEEJ/AgUEACH5BAUDAAAALLIAsQA2ADMAAAj/AAEIFPgvmKhawpZN41bOXT1/AyNKnEixosV/RNSwAQNAyhEgNU6EYAFkSho/lkzlItbMmjd08PL9s0iT4j8YryzWWiUq0yNAc9J0AZBFipEfM0Kc+CElTZ9JpXARK3YtnLp4+2Za9CcCV82vAG61KsWJEiI9bcx0kbKEiA4YIk7weGKmFsSI91SA3btXFk9LJya+q8G3MNhWOCaeA2K4scVRSSZ2O+K4skROHCP+oybFsmcAk+5I/Mcsy+fKuQpBGi0s82nDue6EGn2LzevGudjAGl1qzm3YZnyNpgTod+FcXZJJtCcnkXG+tZ4wi8iPG4A5Xp9/zZVkG0FmFZyc/1nxYLV2mrmGkAPwD9sFbQLXVVMw+3zFXDjasbfhLOK6WS/sYh9FubAwD3sTTJSOAwMSWAI/CCq4QIMTxaIXeylU4x8wKVAo0SqMsccMCObEB04ElngYUShTDPSPLRAA0AkXCuihYkSWqCHRPJZ0oEcsN0bEiB+jHaNFkBHlAgglo/liBpID5TKHKaPB0gaUAuWixi2jgWIjlrkAMMxojBSCJQC5ZDGdZnNMcmYuT1gz2hecvGmEN6MlUcqbP5wzGg6tvFnDO6OdYMubJ9wjUT6BnYmLCHcNFE8MZwLwygwTqcNDpaYUMVE4np7piWkSYfNEpZZcqVkzVlSaCCKjEavzxZt9aDLaLmm8KUegmrEix5tm8DKaJn28+cUxoxXiHJhWPDOaHjxMoUUZbMyhWiairFJLmNrBic1o8XAzzTLB2FIKJX2YIQUPJ5wQAw9ENGHFF2a0oQcilHBiSiu4cAtWLkWEU9k+8agTzjUC3VLKJH2kIcUP7c7wgxFSZNGFFmn49gi2q/TLAzsU4gPPOd5Y08wwuZhiyR1sUAEECyOdcGClEvVTDzwRBQQAIfkEBQMAAAAsswCxADUAMwAACP8AAQgUeC8Wr2LPsIVjF2/fv4EQI0qcSLHitxhmskxJMkQHixIndCwpcweSqFrCmFHrdu6dvYcVY0609kRmRDZlskgx8mOGiBM8lpjRM6lULmLNnoVT1xAmxX/NrNiUieuVKU+WEvWBY+aLlSNEdMD4yePJ0EntIP4jBmaqW5uyVonKBGmKJrW50rzdazNXm1ZqUcnhS5hiLjO91FoCVLgxxFxdjqkFxMix5VxUoKlVY8my41xNsqmlEspz41xExKkFssp04Vw60g78pyKWa8K5WMyDyK8Ertt8c5XYB7HdCeB8Wx0X+G9fsxC2kbtdxUNgv08OgvRIIESWdJuipAD/+MeHizmB6QKN+C4zkxkA8iREXOehM3uKj/oAWIZmfiUt91EECCUAFBPHfJ2IF2BEucxhCgDogDCfEowt+Jgat4yXgysDrQPMA79ZOFAuZQwj0Dw5BAEAKT1UIIqIj2XBzGzXlJBDISHCKFAuT1ijVhec6MigEd6oZUQpQj72wzlq1QBYkjvW8A5E/ohgC5Q7noAPRPksh+UtIvgDETwzYClQKzVEhM4PZgJgihEReQOnmZx0ERFNbVIyGETNZNEmIpXNNkxbWOaihydq4aJXoW28opYpc5h5WGKzUVIhlLlogYxafgSKaWZqpWEfpktso9YUpRU6hGqz/dBaobGpm6WCd4XqxpsIOSaZiwj8QDQPC23KokJExlnxhRly9LGIJaCgAksuAVIXkT/bNEMML6toUkgbVgwBQwgs4EBEE8aqwcYdhUzCSSmt2ALtXuERtk886oRzjbW5oGKJH2lI8cNxM/wwxBBLUKFFGnMAkkgmoqyCC7SWqBFgPvCo8829xOyiLyBlUDEEC+DicEMhbULUDz3tkDOlQAEBACH5BAUEAAAALLMAsQA2ADMAAAj/AAEIFPgvnDBm1Lqde3fv38CHECNKnEiRIKQhAKQc+VFDRYgZRbTAKZRpVS9k0baRazevX8WXE//dmSSx1ipRmR4BmpOmC5UlQ3TAEHGCxxIzeiaVwkWs2TVs5QjCBPDPTKapFGOhCmWJkR85ZrT8/CG0xAkdS8rMFJUs4r8lorDKnWgTJ6SdLMhB/Iej1dy/FXPdcLf3hC3AiCPmUmEPYr4TiSMPxCXC5UN4MSRLhpUZojoemiObwgjxW5HQiT1ZiWjtCWrEltpEbLb69d9EiPYSA2P7bx9NEO29MtNbbi02ox7+25dITXGsucz0IviOiYQWESZQev4yV5djAu9V/5glcJ2zBtu5T8xFBRpVS5IgOsOgfv2SbFRfaIO4TkF9ibkQIQ5VI4DDXwO4/AdRLjq0Q9UYukA0zgIKLsjCPAJ5c4E5A62zhRQVPpSLCPsQtIsEkgBDigU5JBiiQLKoAFE8lkwQxVUvDrTKDxGJQ0SOEIUyRUTZNAHkQ5Y4BxE0tR0JACOA7HVMF04KBIgle/VCnJO5yIHKXq3AUWV0u+ylSR9jgkHMXogkMqYVzezVBpZcPnHNXlZ4MmYR4ew1hClj8qDOXjHAMmYM8UDkjwguHpnLCfoEJ2OVtkAGkTs3VAkAKzpEVA5pTo6SRETcjFqlJmVENM2QVUKiR0TJaKShaSE0KRfMlk7OEZdysrAxJhu17CUKD2WwcQetnJTSymH15VKGMHu1s0wwtYwyiR5mNKHDCSfcMMQRU2hhBhtzAPJIJqKsIksugOWiBTN/7ROPOuFc0wwxuaBiiR9paLEEDyGUAEOnS1ChRRrlPkJJuriwC0AuUlCj3j7ysBMONs8UwwsrmRTSxhNDwBACCzgMkQQL3Wg6UD/1tEMON9OUKFBAAAAh+QQFAwAAACy0ALEANQAzAAAI/wABCBTor9mzbOLYzeM3sKHDhxAjShwY74SVJkR0sBChAggVNYAsoeJFrBm2cOzi7fs3sWVEdTwe1lolKtMjQHPSdKGyZIgOGCVCAPghJY0fS6tyNVQXz59LgeGKPI0oi6ZNnDqtLCFSAygAHEvK3IEkypYweA6xPZnKFqItVjUhFZqjZgkgh82stN3bMhEih8TA8B0MsY+mhv9ypSHMWGAuOa0Qo5LTmHEuM70QW7pbeXCuLscQ+2HU2TMVaIjTWCrNN9eSbIiliGK9N9cQcYh5rKLdNheOdg3tlXjFm22tE8AF/rPXoTjbXCIY/nu24QKABFFsOW8ZSwWAf788VP8TaO7MiO0TUQEB4A8CuIbrVpBGDzEUFQDigjxMhYQ+REtsAICNEw/psoN/DzFylzweOLROIF0g6NBR3/kwS0PaKMCKhA3JsRsA8YzABQDKNKIAZxwCcNkuA/kjTAoZTBFZio51UQxigCxCY0O5UPEMYmystqNjTWCDGBWhDOkYEeEgBgQqSqrIAzuIsRBLlLnAIE9D/YiAC5Yl7NPQPCxECYAsJzjUjg5mrhJTQ+QMYaYoUji0TRJmWrJYQ9DcFyUjfjh0TIRRhoRYL2aYKQeUA/3TChxYpqFUo5r0gSUYxCCGSCJYWtEMYm0IOWQuT1yDmBWeYFlEk40OYQqWPKiSgxgMsGAZQzxceonlCWIOZI8IacgBCCOWhLKKLJPSZ0uaDfmTzC6rZAIIG1QAwUIJMPBARBNWfAGAHH0sYgkoqMSS7F6ssNnYLaVMoocZS/AQArY6DLEEFV2kMQcgj2TiySq3nCvKWsX1M0875GwDzTG9tMIJIm1YwQMMIaiAwxBJTJFEomb6Uw/C3ESTzDYDBQQAIfkEBQMAAAAstACxADYAMwAACP8AAQgU+K8dNW/n4OX7N7Chw4cQI0ps+E/UDSM/ZpwogSMJmDuPRNUSxuxgwoUTU078twiRSjZlskjBOCPEiR9S0vixtCoXsWbXwoWL14+hSoJzJh19aKtVKU6TCs1hA8bKkyI8WJwQUePIlzkhZZHk9vBfF05L0zq85RRqoTswtdQg5/CfEVNq807M9eNc3Rmv9Ap+mKvGO4f+RNwazFhgrhP4HN470bjxLRH+HL6rUZlxK84OzwHpPLiUkYfdjpAWzKnLQ2pTVuudNOfhMi2y8xZ69BDXl9xq5WSq24oN8LRsag3cF2lCAwAjRh1PmauMMIH9RhhKB2CdLgVop0f/zKWFGYB/suI4NKZB/Hgp1M77cOZwnQJc7gkf6XY+hbb6EciSn0N8+fXPGMA4lI4CAxI4w2EAWAMCdwKt04gPDTb0WGTnaeLBLNUYo0QGAmYo0GWZERQOGQq8IIeJDX32kGgwOmQaaqrVOFBrr8Wmo0C02YbbjwDs9lAwZRAJwB2i1CWLcUSyEUtdodxBZHXB1MVIIVdqsUxdSV05RXwUnXXlfnUZUcqVQPhFUQ2tXGkYYopdecI9DuFDGZG4YKbZDEq+AlpD5/yg5I0OpaYkjw7BpmSQDt2mZCGMHJkkkXeE4iSUP0pZlyhD6IHIJJyY8gp+A+ZiRpYUhSOLKJDcaVFGEjeIwAIOQyxhxRdqtCEqqaaiKhh5yaS1TzzqhHNNM8TkgoolfqQhxQ8nnDDDD0ZIkUUZacwByCOZiGKKLbkQOOZx97xzDjfTJBPMq7HOGoOtuOr6RRoxkKVkuud0Q80ywdRSz0ABAQAh+QQFBAAAACy1ALEANQAzAAAI/wABCBT4zxu5dvX8DVzIsKHDhxAZwjsxBAeLEDCGWGmDiFOrXsiicTuYMKJJk+eALKy1SlSmR4DmpOlCZckQHTBCnOCxxIweSqhyEWt2LZw6df3+nVzY7cjShq9MeaKESE8bM1qmHAFy40SIGUW0yFkEClawZNMA4GNITcrTtwtxReU0qSobrFN4iGKYTAvcvyYLQWIYzAzgww7v7B34LxYbxJAHsqm18B8oPZEh5yojrPIiRJkR59LCrLKcSaEP55JCrXIXTqkB5zLSrbIRU7H/5vpxrvKMV7nh5poBb2G9ELKCv61VovjAeyqUv7V1QuG/cDsgFJjgR/rJVjcA/P9LdkGZQG0rkHiPWCoJgH4TtC1MFyHU+oecwADoFqRhJSz3OTTJHQA0g0ZDrqgXIEOFPAJAOTQwtE4gZSzI0Bx7/aOBMwuB08AqFi40mUDhTICJNuDM0gAcIQ6UCxidCXRPJBM4kMNiLQKQSxalMSYHJTkulMsT1lSmBWxBCjSbN5URgVuSOv6ATmUxAAflcM4J5I8IuECp4wn5LGRPdF5Sp9BA7oTnZSs4MESOSl6O4t5C3DjlpSYVLhTNFF4CAAlmCyXTRZ+FoLaQL4Z5Occolb3SRp9s2FKZJ4Am+WKMBCUC2pVZNFMZHEBeSWRlVnji5ZKVDfGkpTxMyRgMsJyTStxC/XB5aglhDlQPmVBSx1A7JwACSSairFJLLiGyyVA+q1CihxlP8HDCCTHwYMQTWVQ4h7DEsmILspDJudQ+8agTzjXNEJMLKpb4kYYUP5wAwAw/GCFFtmls+wixq8ACLkOZJBpbPvCg4401zAhziymU9GFGEzqIcMINQyRBRRdmsGFFpUESfI431CRciyieChQQACH5BAUDAAAALLUAsQA2ADMAAAj/AAEIHJjvHLx8/wYqXMiwocOHDP8ROzHjRAkcScromVQK17Bm18Kpi7cvIcSTJ//VYgOR5ZIhOmCUOMFjiZmNpXIRAykynjyTKBX+EzUnqEJZq0JZYuRHjpksUowAqXGigwogVNgUytTKV7Jp3M69i/iokNGzA2GZ8mQJkZ42ZrRMOQKERbiF/+5MQssXYq4p0fB24dS3MMNcSbjhNVLKsGOBuYCcw1uj1WPHuWqMVehPxK3LhnOduLfw3gnQhnGJ8LfwXQ3UhVu9XngOCOy+pYww5HbkNl9OXRbaY/bEN1pGcPAm02LcaK5Cjwb+Y5ZiQYIcq5qfzDVHlMB/e2RU/wOQLpUCwtod5mJTC8C/bS0UrlNWIb16AMLcD3K1cJ0FVvYdlgUz7lWhTH8toBfgQLk8YY17hPAnXwSWLcigEd4I5A0I6Qy0jjEZWKhQLjyg810kLSiTDjiYKBCKiAzOAI901whRwARCxAIjgyfosxA9LOy4kC2nLdQODkIqtAoPDIkzRJIDiVLcQtksAaVAmZiB1zNWXAnAI33gdcwXV+YCiCV48aIllLnIgQpeq8hRZhq74GWJH2WCQQxegDBSphXN4KUGmmw2gQ1eU7zIJhF3CcVDdmzqwA5eJ8hSJgvzLLSPCF7mIgI/C8UDg5exqMCQOkxeiYptC4VThJegUJjB0DVTQmlJG3g10+WViZgl1DBglNmHJnjhUsQknJjySi4wtlmhdNwsIkcXRMQQggo4DJGEFV2YAUcfiVgSCiqxMPtYLmb0YtgtpUyihxlL8BBCCTDoMMQSVDA3kCer1NJeQ7loccxt/MzDTjjYNEPMLqvcmYYUPJxWAxBHTKGFGWzMUcgQ0EAJDzzoeGMNM8LUIgqYkwoUEAAh+QQFAwAAACy2ALEANgAzAAAI/wABCBT4D5+8fQMTKlzIsKHDhv8KnRChAgiVNoU0teqVLBq3c+/u/XtIsiRBMJwA1FolKtMjQHPSdLEixciPGSEA/JCSxo+lVQKjhVMXb189kwz/HSmFVGAtAC1fzgFAZckQHTBEiOCxxIyeSaVyEWt2bWi8fgv/4WjVtGkrVKAsJdLTxoyWKUeA1Dhh5Z5CfyJutR38MJcKewrvnSDMmCEuEf4UvqvRuPLAVzMWlgNi2XIpIwr/cUvSuTKnLqGjTSnNONekO6GRoWY9OFehR6F7maFde46o0K3a8G6bi40thfZeD29aqwuv0IUSLUeaK0uzgf5ovTBQ4c30krmeWP8TqO8FmmrrqinZcPx7w1xFvgH4d0lQwnVnsLh/z0Pd/AzjKKTNBPsxlAsM8cxHoELrLFDgQrmUgNA/GJijEDgQPKiQLCoQpIgk9+ERhYYJrfLDQPhsIMg464zjxgRPkShQKFQktI8mEyAAARbtyQiAJWyE1owVPiaUSyKAhDYMGEUOlEsfmoR2ixpNCpQLHGwl9E8pU1WZCwC9hDZJIVUCkEsXx4R2xyRl5kJFNKGh1GYS3IS2VJtDlBNaDVk2mcsN7vwVWJsq+JXQPR2WeQtkCrlDWZmtPJpQOUOUCUApRyw0mqWcfJHaamUqp6VsbRbCppa6tTnHKMDB0SYbgmmYqUkfbZYxDHTSeWnFdVqyYUmbT1wTGhV6hLKKLEXCJ5+WrbBBBRAqlAADD0U8AQAYasxhKieltIILa7n0V5I96oRzTTPE5IKKJX6kIcUPJ5wQgw5DLEFFF2nMAcgjmfz2rUMHykObPe2Qsw00x/TCiiaAOAsvACz8YMQUWpjBhraTcCJhkfuoo4431jAjTC2iQDJHF0EOFBAAIfkEBQQAAAAstwCxADUAMwAACP8AAQgU+C+fv4EIEypcyLAhw30wQsww8uXOo1G4hjW7Fo7dPH4OQ4ocGC8GQzYAlgzRAUPECR5LzPSxhCoXsY0DD45ciI7HTgC1VonK9AjQHDZlskgx8kNFCBYx9UwqhesmR3Xx+v1T+K3Iz521TIWyxKiPHDNdpiQBUuOECBy9EP6z9uSrXYe3GLWRyyzL3b8KcyVCJFdYGcCIBebSw0luLZSJAedqA0tuqDuRJZvxJZcR4cx3c2lJJlcOJdChp0yTm8UTaru5jnSTO8TU66+5fpxDaE8Fq9s/a7FAh7CfCFzAd+Y6kQ9AwUsvEuQYlVykrRPOy02QVA2cqwZ7qzf/XOXz3wdlCME1QCWeoai66mQkXBeITPuFltIAgOZF4Swh9ynECCAAhBPEfJ1IESBCufhhCQD+TKANQutY0NiCismxinPNXGAMAOtoswKAGCpmBi8EibNDAglAgFmJinVxjFx3QAIjg1RAIxcAF94IQC5JbCPXEaX4qNgQ5MhVQytG/nhDOwj5I8ItTeaigj28qdAkALiIoJNA7eCwZSs1JETOEFuWckRC2yyxJSdgyAUNFVtCoodcx3RRJSCTyMWLGVXOYdtA/6wiR5VpIEeoJX5UCQYxcgHCSJVWNCNXGg8amUsT2Mj1hChVEhGOXDxsqKkO7Mh1gi1VsjAPQvlgk9ckLiWANBA8M2wJCwwJnXPDKK1QeSMqaCIEjxpJ3OBSDUMkQUUXZsjRByOWiLJKLbmg5okVDu0TT0K3lDKJHmYUgd0MPxghRRZlpDEHII9kYi0u2TpEyaGR6QMPOt5Qs0wwsoSCCBxWDMFCCTHgoK4WZrAxRyGTcGJKH4uUyI884YRzTTPD2CIKJHd0YcQMrwwUEAAh+QQFAwAAACy3ALEANgA0AAAI/wABCBz479/AgwgTKlzIkOG/aCd4TGEDSFOrXsmidTsHL5/BhiBDEvTVZVUoS4v6wCmTRcqRHzNOlNCxxEwfS6Z6HYvG7dw7fAVFOmzVRugrUZkeAZqTpguVJ0ZghjiBQ4qcSaVwEWt2LZy6eP0+JvzHSY9QkbZagUoKSE5TK0mG1Dgh4kYSNvIQ/iuU6KzfhrdajTrCTC8bS38TL8wlxZreKaEUSz6Yq8g3vTxWTd6ci4c6vSdqbZ6cC0beg/pOjCYtYh9CeDNWS46lIiG6H7IVoxqS0JuR3IlBWUnYrAnwv5DS6E2m5bhfRH0F/mNH6AOGNrich8ylB5R0WhJSVf8z5qRCK+0Nc7GJJfDcBXMD15FKgZ5hrjLBAPxzlArhugai1ZdQLloU9g8Szvi3gigCDvgENfqtAYx/FpzXIGVGeKMfMk4gVA0EFyLU2Wf67RAHfOso0wAjIVIWQzwD8fPJBAA0oAEnLVJWgmsHxcNCjgnJUhtC6vAAJEKrANHbb0cOBAoVCVHzRJMDWVLUQf8w0xyVACSCiF7BlMEldzhiKQsbY7YBi16gmEVlLmb4opeXY2qRjF5tUDKmFBBiaYV3b2ao1xCojPkDOnqpwN6bM8CDED8iZPfmCfogJA8MXAJQi2pEGsnlKp4e9E0RmYYyRULWSJGpJWgixEwWmSaXUohewoAxZh+a6FVLq03m0oaFBImiRiy59GpGL3r1MsSPMPBQxBNZgMHGHYVMwokpsBSbWy5d3AlSOdc0Q0wuqFjihxlL8BBCCTDoMMQSXaQxByCPZCLKKrdom94U06y2TzzqcCMuueamIQUPIgAAQw3vQjlvvffackQ3LfpDTzvbYCMuLqZMcscXRswwFTuZKuTPPQcFBAAh+QQFAwAAACy4ALIANQAzAAAI/wABCBT4DxCRLnMgibo1rBm2cO3m9RtIsaLFixgr/htiidOkQnPUdKGyBMgNFSFgFEH4aCExhxDp+ctIU6MKWTUB1FpV0QzJITpghDjxI0kaP5ZW+Wp2LZy6ePz+ZdwnIqdVga9KWfo4Jw0YK02I4GARYoYRMHeGVYwH46rbmriyckp0oqI6Hm/z1lz1o6I3I3oDXwxFpSK1J4ITD7TUpiIzLYoVJ0JE8V+wMpET6/FUORabzIFztYFVGZQe0HpzmQlWGRFl1G9zaVlG0V6aSbDf1mrSrLIVULnd5jLijWC0QRCGmApuNRcPdAD2IaExC0AnBW+Y18wVI96/QYIomv+LwEl7xlwl9v17kK6iqx3mMcpSAYAeCIvVNMS/uApIdAkWOTPCfhaBUtg/I1TTnkDruBEGgRUxJtA1EjjDICYQ3AIhRZMR1I0JEXCQwA6vbEjRZpWxkoWJFeXCBmkD/ePJaSwOlEsZrMWISCI12qgFM5W1YUmPAuUiBTWVUREKkQAMV1yMP/BEpHPqVHYCTlN2R9E+JTDZZHoUxRODl/NVhA5eTKLiH0V/eQmKFYZJ4aWEFCUDGZM7VuaLGV7qAVyMrzQ25YuVcUJjjzfmSFAhPE75Y2VsDDnlE9YkueSUxFXGg5SI8lBljCfUwmQuMMSzZQm2jArmQPkYccIJNQBrcQQVXZghByCMZCJKK6nmVuZF+8SjTjgD3VLKImlI8cOrM/AwxBJU3AkAJaKsYksuV6mpWLDDXiOQscgqyywPP0CrRRoAIKKrtbm8CeE975ATDTTH8LKKJXqYkcQNIpwAwx1eWnSPO/MMFBAAIfkEBQQAAAAsuACyADYAMwAACP8AAQgceM6KGkCZWvVKRq0bOnj6/g2cSLGixYsWoxmxxKgPnDJWpBjhEaPECR5S0gDSBCsYM2ve1MXbJxGjzYrHutystUpUpkeA5rApk0UKABgiTi7p4sfSqlzEAHCTya8mxn+8zNzcKjAWKlCQEN1hAybLkyI8WIiAMaTLHEij8lH8h0oO17tbYZniNKkQkFtzLQHCS3hrLjBRJ/7TA6mw44u5rDSbWybT48sTczXBNjdJKcygcw0RN7dGK9CYc+FoR9GfCMCoH+dSUY+iPRWxL+MS0Y9iOxy5H7+aUZHbj+COQw2pmG0J8sKcwEzc1+vKhkXP8ULSI/DftgpuZpH/arEhVvatgCgJtAeh2sB1nUzsOm9TjimBtv5QXBeBFX3Iacz3zx667BdEY/9VlMsXxQDwjyKu7CeDJQkqaMUzAj0TxDoTjZMAbBUOlMsS23RngyTpCATOCmSESJFo5AyUDx8SrOCBAmy4+OIN7lCkzwai6KjgCfdQVA8LQlZ0iwj++KZDkhS1AhxF4RAB5USjJFERNk1cOVAmWlHUjBVeCvRIHxUNI12ZgFCo2C1qlAmAHKvMJcocZeZiBi9zQVJInl0cM5cck+RJRTRzdcFJnklwM9cQ93mZCxDnzAUDLHnW8A5F/IiAS54nyDXRPEiWacsJTU7EDg9yrvIklUXIpynKExVZQ2uZlqRRUTNZyMnIYBQJs6aXfVimWC05lgnHaYrlIgILPBTxRBZgsHEHIpaAgoosuWSnZy82lXNNM8TkggolepixBA8hlICDEVJkUUYacwDyiGWvdHtXLlokA5o96oQzLjG3lDJJukvEAMAMPxixhBVd0GuvJ6vY0m0uU0wToj7wnNMNM8n00komgKTxhA4nnDADECx0IydF+bxzDjf8DBQQACH5BAUDAAAALLkAsgA2ADMAAAj/AAEIFPiP1ZxHpW4Ra4ZNXLt6/wZKnEixokWL/6ToKTQnTRcqR4DUOBGiRpIyeiiZ4nUMGrdz7/JFvEiz4j8drGoKpASo48cnRn7MCAGgiBk5k0rlWngtHIB7M2v+O2FLZ01bq0RZKtQHjpksT4rwgCHiBI8pbAqBksWNYr4TVuPWlIUKlCVEd9ic6DfxXQ25gK3CgkGx3JDAiC+aKkJxW5LEkCdy6kIRGpXImAFMukPx2JfMkQtNmvhvVxrQkOeUIo1KDmrEudLgIs3zdeBcYIhNtCdnkW3AtaQgI11G02+5uZZkG/hP3S0KZmQdt5prCDmCji4YAnBGwaHpNXPh/2gH4N8pJxK1KRAF/mIuFfbKTxg3MZWQ9hZvifAHIN8FitVogF9Frdwg0D7/TVTNBgNSNMpj5WmgjUTrNBJFgxNlYsZAy3gwIQDrAKPAKxhK9EgfzBUzgQxKcKBBKCVKBIglE/GTyQ+mxDiRHKuQJsocOkqUixm8kAZJIUEOlEsXx5CGVJIC5TJFNKRpwQmUAORyRFsS/TNEjlDmAsQ5pLEQC5a5zABPjSLMFuYJ+UwkDwtYAmALXBOxw0Odq+w50TeMYRmKFBRZ80SdlrBBETNZ1JkIkhMFU0adehjXZSyKYtkGiV16ogeaZfhCGiKJoKnFMqS1QWOYUlBDGhUwhqJphDek/dBjmDyoQ9oJtaAJQzwT6YNnmCXssxsLMwCRBBVdpCEHIJBoUkorbh4niwoV5fNOOdtAcwwvq1jShxlN3CCCCjgQ0UQWZbAxh2icmBJLLoGhAkRk+wALQDTE5IKKJX6YsQQPIZQAwxBSUFFGGnMA8kgm7NErkCdWDMiPPOyEYw0xwsTiCSJtUPEDXDH8cMQQrtU5kD7wnNMNNdcNFBAAIfkEBQMAAAAsuQCyADYAMwAACP8AAQgcyC6Rpla+llHzpi7evoEQI0qcSLEigGZD+rQpk+VJER0wRJz4QaUNI1G2hjXDFq4dPX8WY1IcVqZirVWiMj0SyAbAkiEgRf6QkgZQKVzEml0L1xCmTIG2ej6liKtVKU2Q9Mgx09HIjxknSvBoksaPJVbBmPWL+E/UnKlwJ9rCaWmRRjMzkrFdhCiuX4u5uiBjK4fS38MSc02JxtaKJ8SQBeY60o0tEFSRIef6cY6tClmZEeeaAS/ivhKhRZ/QFzFejNSHa52QiI4H7L+rfki0RuS2X05NJFKT4juupTYQ/WGbc8JU8amJ+go8NyJIIwARkOB6HlMPKIH5Jij/G5huC5Pt3CmygSUQFp6I6RLYSj8xVxlhAP6RARZxXYvH9EWUSxbM5LcGfxCts0IoAQr4hDUC4RJHROYkcEuDEOVSRDgC7YMBggCYo0QUu2A4UC48sEOQDQCcsYUCUZiYIQvzQPSPNxQA0oqMEOFSAj8RvVMDjxHBAoNE5QxBJESm9BbRNkksORAnXUgEDRVSCjTJWxEdU2WWhUAi0S5pZAnAHKWwZYocZqaB3kD/UAJIlrmAQQxbeogpZS5WPMPWF5zQuUQ2bBmR5p5DkMPWDK/QeUM7EfUjwptE5qLCPRHRw4KZt4jg1EDt6GBmKzhIFI6TUooSZUTYPGFmJmZIpdSMFWYy4odEwoBhplkS1SKVlHKwwlYod5hpRi9saRJDEU9kUQYbeiRiSSir1JILd4ENFpE+7HxjDTPCyAIKImxY8cMJJ9wwxBJWfJGGHIA8kskorVA6lWKM/bVPPOqEc00zANxSyiJpSHHuCTCIusQTZswRbyairELpZJWlV0874mDTDC+4iALJHF0MwYIIMPDAbBYqdGYmAPzIo463zAzzkEABAQAh+QQFBAAAACy6ALIANgAzAAAI/wABCBT4T5goXMSaZRPX7t6/gRAjSpxIsSKAf0/MpOlC5ciPGicA3Fhipo8lVLySUfOGLt6+hxZjTvyHo5VFT48AzUkDJosUIzhEnOBB0g+jVbmSXQunLl4/mDIB+DthKypFWahAUSokRw3HJEBAhqiRpIweS6Z6IYvWTiK+kFbjRsTValSmnHLMdJkyxF9EdzfkCo4JC4ZEckMGK55oiojEbEkWSx7IqYvEZ1QmT540RyIxMJolA5oU8V+uNKEXzzFVulTn1IJP7yoNqRDs2F+KRbTXhtFtubWkJCuthdPvuLmSbBv47561DraPR80FhBxBWhC4AFhRwZP0mLlqvP+7uEvGOIHrlCmw+Z1irhP4LlYAB3FdIyntKdo64feeB4nOfJDfRKvoIBA9IEhUzQYDSiTKEwRNcN5A61TCRIMRWaIGQasokQ561SSwCoYQLQIIc59c4EYjSjhAGokD9aFJRPCwcQIiuMA4UC5tvFKaJnroCFEuZfhSWiGJCLmjFsuUpoYlSgqUyxPUlCaFKFECkEsR3pTGw4hR5sKDOqVRlWUuMMgTUT5whSkCPxG9U0OWAMTCgkTlJJalKXpCtE1kWVYmETSZZcmZRMVYlmUhj5R2Gp1zjFKaKa8pedotpU1yYphgEFPaHS9aasUzpXVhXJhLZFNaEayFOYR1EP2hEwMsZ97gTkT9iJBjmCfcE9E8d2Zpiwh+QeTOCUlY8UUacwACCSelvJJLfq3gINE/6mwDzTG8oGJJH2YkMUMIMPBghBRamMGGHolYEsoqtUw7mChNSFbONc0Qk4spk+hhRhEhzfCDEU9QYQVqiGQiyiq3yDuQJWa0lw8853ATzTGwrGKJH2YscYMILPBQBLod+0GnVPS0Ew42zQhTyzUQBQQAIfkEBQMAAAAsugCyADYAMwAACP8AAQgc6A8Xr2PRup2Dt2+gw4cQI0qcOHDeCTNWpADgEaPECR5T2jASdWtYM2zi2t37R7ElRXY8ItZaJSrTQDNUlgzhMSMEgB9a9EzylItYMwDl4vFj6XLgv29Emka0xUqUJUZ91ICx0mSIDhYhYBj5cmeSqV0IuZ3T9/CftSdS4z58VYoTJEBy0nyZcuSGqLbLtMgdTDFXokJtfZkhzBhiLj2c2rZq07iywFxtYLXV1Mdy5VxlgrUFxMhz41xZmLU1Y8k041xPrLVt8tf14FxFwrXF0cr2bR3sHtYTodl33Fon2j20p8K4XFwi+jnFlyxEcecuX80YyC+SBCc9Egj/qYW9ZSkjAv+RiZMuHYB0eFKUp6ipjMB2Fx6us1B7/sNckOgBwD/B/KFfIGn45xggrf3DiyH6NRKGgv/JsYpA39CgXwuTUOhQLmbwkl4Kswy0ji4T4OLhQLl0gcxA8dgQRCWd9ICBKSuyOEU0Drk1Ag+J5PjhEd209cOFQrL4wzltnUBekpfFEM9D+ZQAJYsnNOQQPNtdCYAszT10DhBeAoDKEBBxk0SZnljRVjRUlEmJHG0d84WXuRTySFu7JHhlLnP0l54pdP6Zxi1tTQIInmAQ01ZZeFrxTFtdRPbnEtm0RQSOfw5BTlswXJdkLjW48xA/Jaj45wn4PCQPC2XapnKCPw+pE5OXq+gAkTdFlCkKXD1So5GXlrABmGB/HtaWMDEIpAYAhVACyiqyKPiYJhDdg00zw9xSCiRyWDHECSfUMMQSVnyRhhyAQMJJKa/kclobrwy2Tzzq6CYQLJb4kYYUPIhQAgxDSJFFGWXMAcgjnqxii7z/hYZdP/Ow8401zARTFyBqSKFDCSzoMEQTWZjBxh1DqOblPe2Is+0wtojyiDoDBQQAIfkEBQMAAAAsuwCyADYAMwAACP8AAQgU+A9eMGbWwrGb12+gw4cQI0qcOPBfshkAmgzBwSJEjCNl9FgyxSsZNW/q4vGjyJLlv15mJlICNCcNmCxSAMAQcYKHlDR+QLUi1uxaOHX3/rWE+I+VnKUQa60CkAnRnDJdAEgxgoMnjydALcUiajSlv4f/LAGCynagLFScJhWaY+aLlSRAZpwgh1YPpLaAKeay0gwtGE2BE0PM1QQbWiOlFEsWmGuIOLQxXk2WnAtHu4f9RODarDiXCnsP57EgrfiWiLMO2fFgnbgVDojfitAOLOrJQ3vNluwGPAkM2mVahrPNtWhtRX2erCiHmksPYgAFr0iQYcFBouksc7X/gSUwHwZX6wCsqxbhO3iJuQAEw37qz8NqE97Dz8IMuw9nD63TwC36LfaENdjZUE2AFmhWoEO5EBEOdny48pA5Cjz4UC46fAbAORKAM9A6ZzChIYQs0EPQMBA0ogspHNgw2okC4SJCQwPNw8kEUVhCo0Ot1ABROET8+NAoSUBkjW9GDpRJTA79w0wWTQ7EiB9oBVNGlQDk0oePUcLCBpe5wNEKWpzoQaYZvqBViHtN5qJFMmipAWacUlCD1hOikFmEN2jhcGaVufDAzkP+lGALmSzM85sKXAKASwkrOdTObVy+EgNE4gwRaSlGQIRNE5FyYlyUzUjHJSRqRinMqXECqnInQbWMSagcU0UJSqtxmsELWoggQmYXyKDVxqw/5jLFNGhlkUQZbfTBiCWitDKjfrkc0Q1a5DATTCuaAJLGEzqIwIIOREihhRls6JEItassytkP6CTGTTPE5GLKJHpo8cMJJ8SgAwBLdJEGHIA8kokosMQXUS4wxKPcPe2Ig00zw9zCCSNtWPHvCTgMsYQVZagxRyGTiLBPlfm8Q042zxCDiyiPyIHlQAEBACH5BAUEAAAALLwAsgA2ADMAAAj/AAEIFPgvXLNs5N7l+zewocOHECNKbPiPTRGBNU6c4EGlzSJRtoYdTLhwosmT/5aIalhrlahMjwSaobKkyI8ZIWYsMdPH0ipbza6FUxfP38mI/260OsrSJUxAAMDQtIlTJ0+fvoIOLcrQob8St5iKBdAylCVEd9R8sdJkSEYAevg5rKdirF2TtUT0c9hOx92/EF/NeBiOCODDA0sdeWjtCWLEmcw4/Mcsy+PDjPpMDlbm8t9cPSfDauP5bi44Sylq0lPabi4zvhzau1Oo9dhaVoRNTmPJtthcT6hR3Pdjpe+juYp8I9jNxAUACXzAOm4yFw92AP5Zu+BMYDpJE8JS/4+Yi8W87B+qNVx3RvJ4iLhK7M333KEyE+8DDwYQD8TDahvk95BiAvnjQDrrueKDgA5FRtAehjQ0TgScMNhQZgPpI0QQACjTiQJvWDgQaL0N9M8zOWAQhSkijojaZJpo1uKIsE0GyCIzjqhFMpOZUWKOwAlHkUo5CpTcchQpVSQA1mHXkD8iiAekeXOxsCQA8e3VUF9XCkaYYUsS6FBjVzpIUWVXYkgRZ0uSONkrpBV5WmomxthmjRQBwkibO/b444xBTpaEcUAqN5mScl7nVZRtUtlQPVYumSVffi3ppUPhqJCGHIBMwokpseTCYClGPJRPMrygYkkfXwzBQgkzDFyxhBVfpDFHp5ygEupjmnTG1D7xqBPONQLBYokfZizBQwgq/GDEE1Ro0YYej2Qiyiq4TKRmacCi0000x6S6iB5duApArLPWequncvxpIbDnfBuuKZDMocUQwTQUEAAh+QQFAwAAACy8ALIANgAzAAAI/wABCBzoz5o3dPH4DVzIsKHDhxAbqjthhEeMEjCKgNFjaVWvZNS8qZvXL6LJkwK9GXFICdCcNGCyJNEBQ8SJH1LkTCqVixcAburi9fuH8uG0KUUbtpzDpotMmjZ/aNEzyVQuYtHCBR3q8F8yLUmL4molKhOjPmxiPiGiQ4UIHU+wMfzXy0zYuxBvsVLDaS4qOXgDN8zFRtbcloITC8wFRtjcO5AUJ85lpdncLn0lB87VRO7Cf0NMad48RNxcFrFG4811ox3DfSJwqb6b68Q9hupYzL4LS0Q9hud+7A67isdcbEeGJw1FZeC/XBUkIKgQWblJS20E/nvjBByAdc4sAP+2DhFRIoHhQDAEp0A2+cF3QgH496kTw3U9KL0fzMbWfEKu3LdFIfsxxNgw88kiyH0ciFLgQpRZBoA8D3gn0DrAVPAghEtko10yEpBSjTJ4LODghosNQc5C8USiwAhk1ILiQLnU8M5rJ8xo4An5MATPDDouVEuOwAER5ECrCMcQN0kcKRAoVjQETXNOUjKec8R84SQAhTAyVy5pOJnLHKPMNcocYqbhnnOMEHhkLl8QM5cc+r1JBTRzWQGKmElsM9cPq4gJxDlznSDjmzPAw1A+RL55gj4MvVPDlrI0OhA5Q2yJSqYMZbPElp5k0VAzUTo5CZqfDQPGloU8MpctbIiSOYdon4VyR5q7zLXIEXckYokoq/j3IJzHzNWNLaIUwsYUPJygAg5ESKGFGWz0scivraw52RR4hsVNM8TcUsokckjxQwkY6ZBEFmCkgSYlwN6SS0S5HMGNav7Qw0441jATTCuZ3JFGEzeIAMMPRkzxRRpyAAKJJqXA8gOhKPYzDzvfUJNML6xYogcYRsDAwjwDBQQAIfkEBQMAAAAsvQCyADYANAAACP8AAQgU+C9euHb2/g1cyLChw4cQG/7jFAPHCRE8pLBBFMrWsGbZyL3LpzCiyZMA/vlhNPCVqEyPBJqhsqTIjxkneCwx48dSLGLFroUDcK8kSof/zGQ6CqDWqpeP9KTp8uSJERwickpJs6hULmLNrpWLx8+oxCSlmKKMZYoTJEByzGiRYoQHCxEzkpgZtY/hvxmv1Ap++KpUJhjsGPYrgWuw44a5VNRjOI/F48sDb4nwx1AdD8yYW+Fo6M0I6MuinjScNuX0Y0tqGiLr4tpxokJ+eZmpPViPJ4b2RLHhrbZWmlV+KQEizjQXGGF+70BifjSXlWYD6dGZAGBBFFvUTeb/aoJN4LsJpASaw1OhVniIuYaQS3ll1sJ1brS8f5jrhruUEDRUTQb7OZTLCfikJEFD6ThQYEO2nMDZPxOkw5AzHzzI0CqfpURII/f1IIeGC4VCxUD5vOCFM+Yos4INJC5ESRsL+bPLCAmYgFuMAxWyiF+5pMEjQ3OI4tcocww5UJC3+MXIjkrm8gUxfslBiZIC5ULFM35ZAQqWAOSSxDZ+/YAclrkAcY5fJ7iH5gzwMJTPCWCGeUJfC71TQ52yqNAQOUPUiUqgDGXTRJ2c0MZQM1bUOckdDQ1TRp2ATOJXLcOBKQcqfoGiB5i5mLGLX4gkAmoXx/jFhiWgThGNX08YqommEd34hQMroPKADkP+lAAemjDEw1A9foKJSwn8MNTOCYBAwkkpsOQSIywwNJTPK5boAUYRd8HAwxFTfJHGHIVM4gkqskh7milFHGWPOuFcIxAslvhhxhIxnDADD0MsQUUZcwCSSCam2KJuRJqAUds+8agDwDXJ5IIKJXEVccIJMegQ6KRJPuLJKrZExSM+7YiDTTPCwKIJIGkscUMIJ3BSp0P+zJPPQgEBACH5BAUEAAAALL4AsgA1ADQAAAj/AAEIFPivXbx9AxMqXMiwoUOG8U7EEMFiyJc7llb1SkbtG7t5/h6KHDnw3A+BtVYJRDQnDZgsSXTAEAHghxY9k0zlArAsnLp4IUk65JZE6EBPjwDNYQPAyBAeM0LMWGLGj6VYxJpd83nv30NoU4yOtLUqlKVCLcFYOcIDRomKXe5QQqewWBexeBnGMsUJkpVFCf/dSpO3MMM5ogKLmmO4scBcaW4FXoTIceNcX4gFbmPJsuFcVKAFphLKc+FcSbgF5qHSNN5cP84FPmHL9esZ8BK+O2Ebb60Q8RK2w9FbbCwVCsUNKW7U1HIA/7btcIAghSnmIznd/TfKgzIA6XQp/wCM3SGkOwDaXTCXUNsCXOUbAqIEgFUjhetadI6/UI7KSK7gx0Uf/CmUixm8AACLIfi1kEmBCeWiRTIAvCMBewNV8x6EA+UiBTXQ0XIBMOmYk0oCkHDYYRHeEBROFQU4kENrKgKQCw/sJNSPCPDV2CEL8yQ0Dws+JoSLCP0kxA4PRQ7USg0KeWNEkwKNUlRC1EhBJQCWmKFQMlpsuQggCvVCGJV6aBIYKnJsyQYsgVFCZpO5gCFMYHekSKcVzQTWBSdU5tIENoENcR2dQ4gTmAqxBHpDOwntU8KWuZxwT0LwzLClLScEJZBJW67CZEJEbRkKFQpBgyqVlrShEDFfbJtZCHkEDbYlYooxRmcaPRLESBaWhLJKbSrWqdlA/zSzSBtT8HDCCTgQ8UQWYLTRByOZjNJKr5aB9oxI+wTHTTPE3FLKJHJIwYMIJeBghBRWaJGGHo9QIsoq3DqEmmqeuRPONeTCYokfXSzB5Aw/FLEEFWbMAcgjmZhiSy6wyVbgPvCcs80zxOAiCiNtUOEstCcEt2VC+LRD10ABAQAh+QQFAwAAACy+ALIANgA0AAAI/wABCByYj96/gQgTKlzIsCHDf5xKAMDxRE0hULWGNctGDp6+gw5Dihz47w4kgaYyPQIEwAyVJUV+qDjB40kaP6ByEWv2rFw8fiBHNvzXhdPIWqtEZUI0Jw2YLEsAwBBx4ocWPZNM5QIQLZy6eP5E/iNiSmhIXK1GZWLUhw0YK0mA1DgBgIeUNo9ENVP4T0Uss4AX2loVilKhOSfeJdwnMbBjhrlO4EsIL8bjywltnQiL8BwQzKABrOKhcFuS0JhBUVH4zArqy5TgKCQG5vXjQowU3kpj2/GcUQntaZLTO3CZVwn/JUJU3GyuLsWSt7HUXGguKtAG8guVAkAGltVD5v86wk3gvA1/tAFw1sJGeIe5fpwD8I8MKYTretx5DzlGPPoPKGSMCfwtlIsI+wCwzwUKgVMBLgUmBAsLAv3jgELOfBBhQqYUUWEVs+CnhGwbDsTJFwO5UwEmAKwDjhMfQFiiQJDogdA9fDiAwARmyDgjAIBQh9A/rbTxY0JwtJKcJX0cOVAuZviSXB+5OQlALlosk1wZmlh55RPWJGdEKV7mUkQ4ycGAnJW56NBOQvyU4OORuahQT0LxwOAlALeIwNlA6JDmZSs4KNTNEXuK8oRC0UyxpyVsKHRMF3sup1AuvHmpByjJlTLHnmzUkhwkhZQJxjDJyUFJmVbsNaQVnLKwuUQ2yf2wSplDkJPcCaKyWYNiCOVDV5kn5JPQOzXsKcuwCJFTgyalwLLVj6h8RlkhYBgBQwkw8HDEFF2kMUchk4CySi3TvuaJayHZo0441wDgCypMmlHECSfEoMMQU5QhLiCUeLLKLemGNMmnoe0TjzpcEZOLKZPIkcQPJXA7hBRWaJGGHo9kIsoqMgIyyYb9zMOON9Qkw8sqlOjRxRAqADCDXGXtiZA+8JyzDTwIBQQAIfkEBQMAAAAsvgCyADYANAAACP8AAQgc+I/fwIMIEypcyLDhvhgngFiZM8kUr2PUvLGb16+hx48J4cWotUqUQD1pwGRJogOGCAA/tOihtApAsmvY1AH4BxLkuR89TWV6BAiAGSpLhvxQcYLHkzR+QOUi1oybunj9eH7kdqSnR1moOE0CJMeMlSZDcJwIcWOJGUCcbBF7lxAaFa94E+JqJcpSojtqjhQ9+I8YmLyIGSJihPDfLTWJIx/MNcckYVF3JGvOleZW40SINEvO1YVYYzaWREfORQVaYymWVefNdYRbYxysZCPO9eMcwnoiYOnOW4uFzoP1VAyfLWIfwnY4luOFBYMgvEEjFiB5JR2kqSIC/zX/g0BKW7VKClJ3b8jpMAB8ELQdrLYA13qGj/oIJBYH4boek9y3UB+p/RNKJ/7hAYeACeXSRisC5fKHf04UwiBCuZThi0DvXJDOQeMkIMuFk2XBTHiftFANAOs4YwEbJE72xDUENTMCAAlgQEmMkxERTmMqxMIjhji0g9A+JQyJ4Qn3IATPDEoeZMsJ/iB0DhBRDrQKDwltk0SWAoVyF0LPWAEmAJa00ZhhZxbCGGG2wJglZaM0Bkpmc6ZhH2GIJAJmLl8Uc5p6UbIWTWNPxKYkbbYRhgOEc/6ADkL+lODZnDDE8xsLZ+IigkEHsaPDma9Uh9A34IFZihEJUfPEmZmUp5FQMlqcyYgfjfVixpl9ZNLYKnL82QZ3hFGSxiq1FGpGMI0FYwUQJ5xQwxBNWAEGG30wkskoreSyXC4mOqQpANEQc0spk8ghBQ8ilICDEU9QoUUbgDziKyze9pTLE9io5k441zTjCyqW9GEGtCfEMOoUZaQxByCUiLIKLvnmMoQ4F+bTjjjYNCNMK5n4YcYRMYgQAw9HTHGCkWcKxE886HQDDTMdCRQQACH5BAUEAAAALL8AsgA2ADQAAAj/AAEIHPhvoMGDCBMqXMjwX7gaQ8DosdQqGLNr4drlK8iwo8eD/5pJMcUJEiA4YKwsAVLjxAkeU+BAKsULGbVv4eb5+8jznzAwHWutEiVQTxowWZLUgBECQBEzfSyt8tUMozt+HD3+i8WG50JcrURZQjQnjRYpRngwhZEEqqVXwpph6weSkx6veA++KpWJUR82KWM8AwmIUd7DCnN1QQbSTCbEkA3mkkINpJFSkTPnKuINZIxXmSPn0sHuID8RuEJDzsWC3sF4MFRDxlWCrkF0P2QjboXjoD1qRXQf9nQEJLQpwvNa6mrwH7Euyb3mQoSI4LlBGzTcje4x1x2iAP6B//LgCgCwHhtkcWeYi82t8Nk8pBu4LpCQ9QtzgSEWfgywg+kogF9iVEATXgraHLROBOoNeFAuR3ATng/OKKhAag5K9sM54cESh0HrKJNBhg/GEI9A/HwgyXzrAKOAJiQahIsI+wyUjyIPNNDABqHEaBAssR30DRA+IlSKESBRI0WRB2VSBkjJaMHkQLkw4gdIvJgxpUC59AFjc6bIsSUAubQBC0iTFDKmfsKAJMcka1rRDEhWgLJmE9iA9MMqaw5BDkgn1LJmDe8chM8JY5J5Qj4HtXNDorIgepA4QySKCpHNYfNEopxI2RwzWaw5yRwgBaPllrkAQglIrbSxphx8NqxnyZWomtELSHpAsqYWyYD0BSdrPmENSESYsiYR4YDEwii2oMpDOyC1wYMIKvBQxBNamCEHIJBwgkqDyeWiQj0dlXPNnACA4ocZS8Rwwgw8DDFFGWmQSokopmDolS0l7ATZPvGoA0A0xNxSyiJpSHFDCCr8UMQSVAAwByCPeLKKLbkYtIoODgJ8DjfPEIPLKIuwIYUOIsDwwxFUpLRkogD4Mw873lBzDC/oChQQACH5BAUDAAAALMAAswA2ADMAAAj/AAEIFPiPV5I0hTzZIvZs27l4+wZKnEixokWL/xDJsbRIj5ouUozwgCGCxREzfTLFGtYsWzl0+/5dnHnxnxpLNAF4egRojhkqS4roOHGChxQ5k0zlSnYtnLp4MnMO/NdElNSLsUxpeuSnDRgrR4bMKHHih5Y7lEz5YtY0HsV/N1pdnTtRFipOkADJAZPlCREibiX2E4GLruGZuWAEHjiPxeHHFXGV4DdRHQ/ImAe+ikGxm5HMmUslmfgv2hTQmC2ZIX3sC+rHuRIVIo0rzevDufR4mmhPk5zbhmulWUV6ESLgdHN9GUaaDU7kV3NReTaVmqIKPFBBl5oryTaB/KrI/3BlrFKDN9tp5vpxDsA/RX8kjovAKf3FXDHc/nuQTuK6WTvYZxEuIkRkDwgUVaOBgBXBAgN4ElDkzAe7MDhRKZ+5N0I1/Qm0jhtkWDhRJmUQdI0EznjYyQO2iDhQLoz4MRU3JkTAQQI5sOLii31oQhooXxS244tswELaI7MN+SIYwpAGByVKvmhFM6RREUqUAnWXDWk8EIdlLkCUM5E/JbT45QzwTFSPClhmeYI+E7WDQ5sAxMLmROEUQacpQ1BEzRN0cuKaRP8kowWdj/RBGi+rfdnHc1Oh8tuXbchFKCRJRplLGcGQhlSbuUxJmhWggNoENlx6qekQ5JB2Qi2g1pzwzkT3nEBnLifkE+ecbcpiK55E0IlKnxNZc4SQUXKSRWc4hOCYEVN0kcYchVgiCiu3pDfJHDO5E45AvqBCiR5a/FBCCTAMIYUVWrQByCOZmAJLLoblAgikj3l7TTPhWtKHGUWIcEK662qRhh7wijLvRLnIoaN99bATjjXJ8LKKJXNYAQRRPBAhhbRyDNELnQDg087EzPRysTgSBQQAIfkEBQMAAAAswACzADYAMwAACP8AAQgc+E9Pm0emeB2j9o3dvH8DI0qcSLGixX0nABSaYybLEyI4VADQ8YTNo1K7FjZsB9GiS5fvarh8JSoTAD1pwGRJooOFiBlLzPgBhYtYM27q4vV7SZHcEKYza95MA2CnjhghgAolahQpgKUSsy2BSnairVWhKG1Mo0VKER4qREn818xK2btQKcmZG6wM3r8VcxV6NLdVG8CII+aSY2qupT6JI+cyw2uuHkiRE+fSkmxuF06ZEeeSQm3ukMah/+YqEk6ivROtUv+tVYOcRH0ZZePNpcKexJi68do64W9gv2N1KBQKXnYVD4H/zmngkipVDwyrmDMFRUVgPwzKBq7/m4VB+0u9AptxkbjOAyjzgQcD+BeqE3s3c+BTXNz4H6tK7HEBmX4STVYZAOG0sE5E6TTACoEFcgYdFH+kI9A4SiABYYFPlCbQPpE4sMIKCWCBy4aKsSbRPh1YcguKBerQzm25wahYb7/JZGNEwxUXkVM7RuTcRNg0EeRA3M1V15ECTbJXRP/0xaRGmEFpGJP8OTZgkAZaViWXEkL5GZYdmoYalypCqYIsWOIwY0S4TcmbbxEBx2SPEgHJ5JASFTklKHZJtCSTTvLlF5OFfAndlUcuhoqWWFJmGWGNhklQIiXMAEQTVoDBRh+MaGJKLLmYN5qHK8ajDgDREHNLKYukWfEEDyfM8NwUZaQxByKZiLIKm6oR0dpf+6jKqquwyvqcrQDgqiuvvp44US5umhcPPORg04wwrWTihxlEsADADUM0kYUZbfjxyAn1MLkPttpya4kefvgIQEAAACH5BAUEAAAALMEAswA2ADMAAAj/AAEIHBhOj6VWwZphIwdP38CHECNKnEgRwL9hRQDBAWMlyZAZJU4MAWOwlbBm2c7Bi1exZcV/sNhMrLUKACVAc9h0WVIER4cTP6TIobTKV7Nr4dzx++cy4j9NfZpKpOnpEU4zVJ4YwSECqBY9RI0iVcoU4j8/jKSqHfhKlKVEd9RwPMIDRogh7cyCybS2b0VcTaKZJWLKr+GIuYp4M6si1uHHAnPpYAdx3wnIkHOpqAfx3QzMj22V8AeR3BDQh1fxiIitCWrDoahELDbltV9IaswGK2O7b6FHZlu16a02l5zCAv/RG3YDSCviTXOZ4ZV8F4Q4ndwoeIMLesVcWpJZ/5zmYdzAcRwKeaeY6wk1izucQXSmYf3ExOEsToi4boF9ibngkNc/+0HU33+IqWCPRVUA89A6wIyAIES2nEAaAORIUI1A61TTAF8TDqTaQP9go4EMW7TgQFohDgSKFRD1EwsLnHTX4kCTyGGWL2bcCBEgk5jFio4+RiZHTQ/9c1ORkU1n1hxBMgneMmZlwQmTALRnjVlAoIJlLkTkl+QJtXwpIET4XPblCfhA1A4OWAJQi5oPhUNEnKgAEZE1T8TJSRYRLaNFnJPcYVYvPWIJiCVmoUJkkbnA8VySkwDyZRm+mCVHlJBmwYxZAIDyZRPYmMUDkpAOIQ5E/pxgy5c1vJsDkT0qxJnLCfm4CSeWstA5kDon4EDEE1mYIUchk4SyyqvroXJaRPi0E441yfCCCiVyWPHDCSzwYAQVYKQxRyGWiMIKLmUaxkkXj5VzTTO+XKuHFj+UEAIORjxBhRlzAPKIJ6vckstEkOgBnT/tqONNNMXkUsoibEjBVQw/JEFFGWzcsYglbDBaZD/yoNMNNMTcAkohZiQhzEMBAQAh+QQFAwAAACzCALMANQAzAAAI/wABCBT4DxeoW8SgeVM3r9/AhxAjSpxIEcC/H2zSaJFSRAeLEDeWpEE0atcxat/Y1atXsWVFfydqTTSV6ZGeNGCyJNERA8CMJWb8gMpFLFo4dfH8uZRoT8VSia9EZUI0h02ZKUN4zDjB40maRaZyJbt29N4/ie1wPF0rUBYqTpAAtQFjpQmQGSVYGIkFMRwRtoArxrI0BCI1KYETS+TUBSKyxoojC4Sk5+G/XWkkS+5jybKpOZoV52rzyjKjQqET5wIjzHKbzqkB57LS7KG9JJxiA65lJJplHKx0s80FpNzDfiJuCV+bawY8gupyUQC1/GmuEvsA5BvjAQ8ADiNaVf9vCQuGRSSYBq5LhWHXeIqljABgBwLiuhWU3k/MZAbAMO8QVQKZfhAtAoh/AD7USBgERqSHJ/PV99B9sDUoUC5syPRPFZKoR0oGFj602jAC5UOGB2e4wYEJpYV4IRXPDPRPOyFoIYqLIh7BjWUztIjjhT+c8xA/JeDy40C5wBDPQ/GYd6RAuJTAz0Pn/PCkQK3MANE2SVwJgChLQNSMFV5awgZEw4DhJSKIWCbLmVfOcaOMmlT2ZC5pGCmjH4xcmcsXx1hWhiZ+TuGbjEWY4qcR3limAl938sDOQ/uc4GUuLNDz0DtaXnlLCUoNRE5hV66iA0TYNOFlKFSImYWXlLSmYVkwZXhZCCSWtSLrlXIoKqMlB95pBi+mzXCEFWCooQcjmZQCSy765dJFMhDlg043zxBzSyiApNEEDCXMAMQSWZjRhh+PcGKKLNCKJgU1bO0TjzrhRKNtKYuk8UQMJ7CgQxJZgJGGHo9kIkos7UqUCxHhCJfPOeJcw4wvq1iiRxZAnMCVEVN8kcYchVgSCis4tPPjPe2EYw0yvJjySBtS6FBDPgMFBAAh+QQFAwAAACzCALMANgA0AAAI/wABCBzobhWvZdbCtcv3b6DDhxAjSpw4kJmOMlaWAKlx4gQPLXcssRLWLFs5ePsoqlz5r5cZiLVWiaIEaA6bLkuK4BBR4ocWPZRW+Wp2rVw8fg1XRvy3So7Sh69WeXoEqE0XK1IAwBABoIiZPpZiEWvGTV08fxP/0XzKFlcrUZYKzUmj5UkRHR1/WNFj7+G/OZPYCqYY0xORZH6teBrMWGKuJ9b88ljVuLLDXEPEPfR3wpblz7luuHtYT8Vn0CfyPWSn47RlWScgfiviurKpIRCbNand2JIViMe68Gb8SI/fXGmGD+6TyWE/cmas3FLOtg0sgf+waQiypYWDQ9RX5v8CI0zgOQnV0gmsFsFSeIq5rDQD8O+KrofKNryfmGtJNvoVqOfQOgrs5xgQ5wAIEYEGRpRLDPDQh4QxD1WDQYMQ4SJCSgBscwE4A43DASAYQhXDQP8IMwEAnbihwBolPlRKEg/ZY8kHc7QS40OWvPTQMGDsCFEihfhVCxtCPnQHKH55YlySAuWixnQO/QPIIlBG+QUxfpnRXJa5TBGNX0aUkiUAuRjRjV8sXAcmD+o8tE8JuJyZCwvzPPTODGcCgEsJ/TxEDhB9soIDRNjsdmYoU+T225mUtAFRMGX0WQgkfrUi6ZlzmOKXJSSCacYuft2BKZhaIFalFpzY+QQ1fgGmgYqdRITj1wm12IlDOw/dE5udJ9zzUDuHnlnLCWg5RM4JTWQBgByATOLJKp41uMoPEPlTDjbM+LKKJX1k8cMJKvBgxBRgpDFHIZaI0kqdn3ny6GDlXNOML6hQoocWP5RQwgxFLNGFuoBQIsoq8E4EyR3U7VOOrcnkYsokckjBQwim4VYpAIhkIgosgLgn5D7wbNuMMK1YokcXQ5wggpt9QpRPoAMFBAAh+QQFBAAAACzDALMANQA0AAAI/wABCBT4j9mwZtvOxeM3sKHDhxAjShz4D4AVKkd4sAgRY4mZQqJwHaP2jV29ihNTpuxX4tZDU5keAWjTxUoSHTFCsHiSZlEpXMSihVN3D6VKiPNYHHW4SlQmRHPYAFhS5IeKEzykyKG0yleza+Hc8TP6UB2PpWhjlcrESA8bMFYywghx4wmbRdYcdjOCtq9EXK1EWZJTxCE0Kn4TS8xkxiGxL4ojO1wEqOE/W2okawagx5NlUHo2S2ZTyzKgRKIV5wJDzLKZTKkT56ICraG9IaFi+61VhJplGLB0983FA13DfSVwCUebi8U8gvuihbC1fCmuEv0A8LvkIMiKBFBcVv+f2AoHgH9k3Aw0d8bG+ImhpABQ58Hhugil3ke01AYArz8P4dGffg8VwggAtTTyUCBpEPjQHKYAkE0Q9rVAiYMN5WLGLgD48wEwA62jSwXKYShQLlokI1A7IziRCik9VBChiSc+4RtBzVAgRCE0ZkhEOJaVUFqPA+WCQzsN3XMCkRmecE9D7ZjHpEC1nOBPQ+EUNiUAqADhEDXybclJFw4hQ+aWkITW0C4NbumHJZaVMseWM7Vi2SI8TplLGcFY1gacelrRjGVSiLJlLktkYxkOduoJRDkNsVQik7nMAE9DSdF53T4NoXPWlq/A4BA3R9BZSqkNHUanJY01RAwYdCarkudAtUi15R2gWOaJmlOqIR5BgCxy6BetUcTGEF2kMUcilojySi4OzlYbRe1EU0wupSSixhM1iDDDEE9YYUYbfjzCCSqyQKtZLkd0g5Y96oQTDTG3lLJIGk/EcEIMNSSRxUyAPJKJKbaoKxFx6sS2TzzhcNMMMbBY0ocZRZxQAg5GPEGFGXMAQokoq+DS3HMY+jOPOt7Me0sohZiRRAwiwKBCdnQeBw+SAwUEACH5BAUDAAAALMMAswA2ADQAAAj/AAEIHPgumbVw7fD9G8iwocOHECM29DXjSREcJ04A6aLHUithzbKdi7dPosmTAv+tksOw1ipRlADNYQNgyUURJ3Bo6WMpFrFm18rF64dS4r9JgIoKrGXK0yNAbbpYSaIjRogZS8z4AYWLWLRw6u4tNDpnktKTtlaBQirHjJUlQ2aUOEGkTJ9MwRz+s+LprF+HsUplYqQnBraG/3is+svYYa4h4hr6K2GrsWWBuWq8a1hPxeXLuU7ka8iOx2fLsTw39GbkdGNTRBxGm+KasSYwDn1lqf0X0RyHt9Lw9qtHE+JQd4afZVOL4b98bAopL5oLzLCU4V5cEDjC1HSTuag8/xMoToIygetmLWj1PWKuI9wA/BNirCEmJO0h5uKBTj4Eh+BMkN9DubAgj3wSOJSOAwM6hIsIRP2TATgNGTNCgw21ckNKrDjBUDocIIIhQ6I8MZA/eYBACjCdNIDFiAxZ0kZD4USBgRSlwMhQIYs41MqMOjI0h3fOWeJHkAyZsQtiekCCJGZaJINYFpw8CUAuT1CDGBCoWJkLEeEgdkJzT+aCQzsN3XOClVeecE9D7eDAZi1r0lgEm6gA4RA1UrDJSRcOIQOolZDo4dAuwlnphyWIjfKblW28ghgjIpYJhjCIscFomVY0g9gToni5RDaI1cBemUCc01A/IuDiZQzwNKYUDwxsPlgSQ+f8wOYrMTjEzRFsjpKEQ9DAAAYcgEDCySpkNmiJGQ7d04wwrVjSRxdAZKSDEVOAkcYchVgiSiuunpaIdEXtE0851zTjCyqU6KHFDyKo8MMQS3TxLSKZiLJKLijdEWpt9qiDzTXJ3FLKImk80WsMOiSRRRdtAPJIJqbYAnAa5WKYjzvhWMNML6ZMIscUPIjAAg8sHMOmZPOo482bAwUEACH5BAUDAAAALMQAswA1ADQAAAj/AAEIFPgPW7Zz8fgNXMiwocOHEBneO7HkR4wSMZKkKSQq1zFq39jV+xexpEmB7XQwNJXpEYA2Xawk0REjxIwjaRaVypXsWjh1+EiehPityFAAtlZ5yoRoDhsAS4rgEHHihxY9lFb5anatXLx+JqlJOWoSVqlMi+6kyfKECA4VInhIgTPJVC94DJF1IcuXYdJQkwDJMbKIYa40fRM77GNp4T9RcxRLHtjmleNEiCZPBiPMsZrGmhPnstLMcRJRoUUn2eZ4huXUfHP9OLdwXghZsPnWYqFuYbwYufniKqFw4Lkfwcm+muE4WpLkR0UtEdgvFIQLACZAgm7S0tN/SNyY/xPozMId7hERJQJALUi6hdoWoIc4BzUhVwzXrQg132GaXACsAUx+PYDW30C5aHEMAKNUkl8ErRy4UC5SUAPAOxKAM9A6rnwg4YRFfAPAP8dI0IkzwGwxwSofIqhDOwPFE8kCNrCBS4sIqmDPQu3ggKNfJ/izUDhE/LjQKkAwJJaRA3GSRV57MQkAJOcttAtiUgJioEClRCZlGxEO9M8imUlZRjCOsbEljqOVJuYTqDGZyxLZOFZDmEbmAkQ5C/Ujwo1yzoBXjDBICcBw+yx0nKGvALcQN89JOUqkAzVjhaGWYDmQMGUYihlDsDwl5R38ialJH4amcYtjfbgk5xcLiqTZBSdS5jJFNI4NYUqtRnjjGAsAzIGIJaK0AqCEufDAjmPQ7GIKI2xIUYMIMwzRhBVmtOEHJJygIsuxmuXCAj0n2aNOONEQc0spi5ixRAwnxKBDEVZo0QYgj3iyyqon2RJkaPvEU84zzRADCyV6aPGDCCXgUMQSXaQhbCairHLsKjxI2I886HDzzDCxZNIHGEOocEINRBBxqaED5eNOONaIs1BAAAAh+QQFBAAAACzEALMANgA0AAAI/wABCBz47hs7e/8GKlzIsKHDhwz/IbrB48SJH1b0WGolrFm2c/H2QRxJUuE/M5kE2lolCgCiOWwALCmCQ8RFKn0sxSLWjJu6eP5KkvxnpJTQWqYoPQLUpouVJDpihJjxJM0iU7mSXQunLl/CoTBgCR250hMkQHDAUDnyA4YIGEnMFBKF65g4hvtKjN3b8NUoS4nmpPlyw97CdzX4Kn6Iq0S/heSGLJ68sBUOhtiaUN4MINQUhsyycKZMqQ1DX2ZGTy4EieEqOaoXyzG10F6iPrEVg5G18J+cSbn35tKSrLcVUMHH5npirTePVcmF5hpyF8C/cDkgIHCQJjrJXDXcCf98JkGZQHBKXuzy/jDXiXzWK2hTuM4DcPYNZakQqE4Gw1RI4NeQKZIBsI0TDAGTg4AMaQKGQPGAwFAlUjC4ECN+CPSPDcAoNE4DRlk4kB6aDNQOBn8AoE0qDbwhokJsxKLQPqpUMIEPo7yoEBjD9IaSjgrlQsUzvRUF5EC5HMFNb2EdKVAuPKCzUF64OAlALizMc9gMVgLQ2GMKRdalZZhpZmUoFS4UWpeWmLYQal2yxhArsFk5W2+UANKlGbz0Nsd9Rw5XnEnHWblccyY9ZygR4SzkTwm2GHpDOwvVs5+h7y3Ejg5dynICQ94Y0SWBDEXzmZWcfMFQMapayQhuC92T0p2VJDIkyhB+QMIJKrXoyIZYC4XzSiZ+fDGERTwUMcUXacxRiCWitFJlbDyWtE885VzTjC+oUKKHFj+IoMIPRRjRRbOIZCIKLLlIZwWRo9mjTjjLEHNLKYuYsUQMJ8SgQxJWaNEGII94ssotSCppYT7thGNNMryYwggbT9zwFg9HWMHCOV0O1E886GzTzDH8KBQQACH5BAUDAAAALMQAswA2ADQAAAj/AAEIHMjvHLx9AxMqXMiwocOG1E7AEBEjSZpConIdo/aNnb1/D0OKVFjsi8BaADw9AtSmi5UkOmKEmPHkyyJTuZJdCwcgH8iRIm+lGWlrlSgAiOawAbCkCA4RJ35o6WMpFrFm3NTF8wcUQKg7XR++EmUpqZkuT4bcOFGCh5U7lFgJa5Zt4T9EicLqHVhrFSdILMFYiWFN4T8zmfYqXpjLyjPDRkotniww1xFuhmHAojw5Fw90CveVwMV5cS4W8xTCm1F6Ma4S/RSSG9JacSscC58dqb2XU5KFzLLw1mupzUJfZoaHLQRpISs5yrvKMTVwn6UMCRQwiRVdpBleAvN9/xBkDoC5Rg5edX+oJZnAS4YUVhKyvmGuJ4X/aQCn0NyCXfUxRgRP/0yw0DoKBMhYDe4A8M8I2igEzgMKKpTLCfkItMoZCa3jRhQVJiSLCgP1I4QTAKRTjRIa3BLiQKbQNtA/wpiAwAZvvJiQJmAsRIxJOibEiB8LCRVkQnposhAoehw5EBvcJfQPIHk5CQAYwxiGmJW5UPGYlJFxeZlhLGzmpGegJSQaaWeiptA7rFmJiwixJTSblQDcthA2TeAZyhTACWclJcYphByehTyy0CrQWSkHKoZNAgie3xkmxyR4tmeYFaBwiZ9hPKzCJQDiKORPCbZwyaBC9LCA54UZJprEDg94xkKiQt7EUIglorTCZogxLiSPKYuw8cQNFP1whBVgsOEHJJygUksuvHECZEj2qBNONMTcUsoiZiwRwwkx6JDEFFq0AcgjnqziYldDlrZPPOVcU4wvqFCihxY/iKDCD0Us0UUacyCSiSiwUDuQHpwoyE8852zTjDCvWKJHF0OccAIORTzRhQ6y4DkQPu2EY80xvJyTUEAAACH5BAUDAAAALMUAswA1ADQAAAj/AAEIFPgvHr1/AxMqXMiwoUOG/VioKMHDyhxKrII1w0YO3r6HIEMqjAdD4CtRmRDNYQNgSREcIk780CLHUixizbipi+dPpMhzP0TWAuApEaA2Xawk0REjxIwnaRaZypXsWjh3/BCK5HbE50NbqzhBOgqGihEeMETEWGKmkKhcx6iFu6fwmRWveBW2EmVJZZouUnhwUiisTN7DDhMhUgiLJeLHCe+EUpipD+TLANLgSvhPzyPMkLsc49xlMOjDuaZM4wwA1WnURbwltFfi1eu8tW6IS4jvxO28uVTYS9gOx2+8tk70HBiOyHGvq4IC+IdthwMDOVY9D+np7r9PIJQJ/0yVwNL2h5PmADh3IV1CZxDOOwRk/lMnhes8iJLPsE0rAHbospASn/GnUBnBAGAffvoZqJAVzazX3nvxOThQLktkMx14yqxjDnnmWShQLkCcM1B1BTiQg2sijhgDPAmR1KJCuIjw0UBAzZjQKzEotE0SOg4kCpAJNXNXkABYogZhYCAJACKL7diGk3Psl5AlfjipGWd6QOKkFqMN9E9pSOYiBTWcAcGijrkU8Q1nJwwVZC44tJPQPb6VeQJdAxXnZC3KJRROEU6iAoRC1EjhJCddKHRMo0hCoodCu6ThpB8hCqkekm3YJqZiToIhDGdqZKojhJwlYSWbSWzD2QyAcI5iiiy5tEiiiWK20gcYQ5xwwg1FPJFFGnMUYokorWx2Wy4xxPPQPvGUc02EsFCihxY/iKDCD0UsYQWxiGQiCiy1eoVLCfxcZo864UTDyy2lLGLGEjCcEMMQUlihRRuAPOLJKsoO1MoM/OXTTjjWHMOLKYywIUUNIswwhLBmfLGEkwDwE8852TQjTCthChQQACH5BAUEAAAALMUAswA2ADQAAAj/AAEIHLhv38CDCBMqXMiQ4b9EIlgcMVMI1K1i0byxq/evocePCf914VRrladHgNp0sZJER4wQM56kAVQqV7Jr4QDk6wgS5D8gqD6+EpUJ0Bw2AJYUwSHixA8tfSzFItaMm7p4/noK/HdCltaFQy0lmmNGy5MhN06U4GHljiVWwpplO0cvIb4TX/MKLMkJUkowVpYAkGLwYDscehMrrHUi68FwRRRLHogKSEJqUiZP5pQl4bEumiVD0pMwV5rQiv1YSihqDurEbVol9APotd4uuxD+Y7Pa9lcrzXQnEeVba64l2XTPeFW8Zy4A5wbSIzSiwAtPzT/mihFPYDgIncCN/9MVYU32hrhK8APwT4Ozg+YamDoPdobAczISNtJCX6EowQBE40VCswjRX0KWIAVAODQkVElmBx6ECCMC+VOBNgelE0EoER40xygDRSMBMACsU40HTHR4UBq8HIQOEgkkUEEhKh7UBTK6WYFdjQPlIgU1ugGwCo89EpHTQf6cUAuRAuWCQzsI2aMCk02ecA9C7OhAJQCMJeRNZFSiMkRC00yxJSegIfTZlqMlhMtpVPaRCWt3bMkGLAkhksiWYAijWxq9MQmccKVQmUsS3OgGA3NM5vJDdAftIwIuhsLQ3UHw2EdleusdRM6YVLZyQ0LYNLGlKE8kxExnVFrSRkK+mJ+xZSEUIsSKHFvOMR9ClIAhSiuU8mhGbggl04YUN4gAAw9HWAEGG308wgkqsjznmxbJeGSPOjklc0spi6TxRAwnxKBDElYA0AYgj3iyyi155fKENZPtE0851zRjCyqU6KHFDyKo8EMRS3SRxhyIZCIKLNYWeWR2/MRzTjbNCNNKJn10McQJJ+hgBBVgHMwClFve00441ByTyyiWFCZQQAAAIfkEBQMAAAAsxQCzADYANAAACP8AAQgc+O/fwIMIEypcyLAhsxI8rMyhtMpXM2zk4O1ryLHjwlpsXonKhGgOGwBLiuAQceKHFj2LYhFrBqBcvH4ecwr0pIdjrVWeHulp08VKEh0xQsx4kmaRqVzJroVzx8+gTgCAGF1NaGsVAJIA2HRJubKllj4AZALgpi6eP4T/zGTaulWkpZJpukgpoqMGO7hFTNEdnDDXkW5wVcQizFhgLh7qEOo70bhxLhbzEL6rUZnxLRE4D4ob0pnwKh0JrT0pPRgUlYTDrLCm++gkwl5mZm8FNCkhKjm6r8rxivBRoeA6zfQiGKyKgw+QkHvMwkygvhxOlGkD5mGH9Ia5mmD/ExhJ0MF1Lfh8X5hrCDkA/yaYQ+jsw3qFuWa8gy8hYToH9xV2wkb/QJCQNhgEiBAsLAj0zxWznIcHFgoeVIoRA7UzQSoCpfPHBLVUOFAmuQ0kDxkLILAAE7KIOFAigCQkSxsuIqQHKAlpglaNA6lxC1x9aMWjQF8UA9cXnAwp0BTRwDWEYEPmYoQ3cJ3QYpQ6/HVQPpQpmYsK9SDUzg1KAmBLCW8dFA4RZa7CQ2qrKemJbAglo0WZk8yR0C4lDgkIJQmZoqeScLSSECPHKWmGL3C1YUmZVtB00D9PiOKleHDVYGiU7iHUjwi4eBkDPAjFA0OZuJSw0UHn/FDmK6cilbRNEmWWQitCzwQmSy48WtLnQN+UMYQKJ9RAxBNamDFHIZaI0kqowSWS6EL7xLNWM8TAYkkfWvwgQgk4FLFEF8oikokosPC61R2WMmaPOuFEQ0wrpSxixhIxnBDDEFJYoUUbgDziySrQIpRGwcjl00441iDDiym1SVGDCDMM8UQWZgBMxDFl8hPPOdk0I0wr2743UEAAACH5BAUDAAAALMYAtAA1ADMAAAj/AAEIFPiOhxEzgEDdIhbNG7t5/wZKnEixosWK3YqUysTojhotUojgUAGAx5Q5kzwFa4aNHLx9ES/KtAiNysxXojIhgsMGwJIiOESc+KGlj6VYxJpxUxfP30yKxMA8lVkLgKdHgNp0sZJER4wQM56kWWQqV7Jr4dzxizmwVs+pcCfWWsUJUlYwVpbwiCEi2kROeuIKnsqmqkRAjAYrvviFmMR/ZTQtnjyRCrTHRExR3pzLSLfHKmRtppyLhzqJ+UqMJs1insRzMVZPjiWinkRxQ2QvXsVjorUnuhWDsikxmZbggyfJGXhu0IcMgZHDBTQJwD9QF1w5A9Bjg2jpM+Ws/wKQDUQ6iYGEgJ9pxheAMcAmpkuwXmYWZgBSaJu4LsL3+hQ1gQ0APmwn0ToK4AIgRbkMQQ4AsMQxkTIZLMjgDO8AwM8Hkpy3DjAKZGLhRLmcsI9A+SjiQAMNbBDKiBPBAsNE3OQGI0WlGDHRM1bcSFEmZkw0jFQ+SpRIITG+VaRAd4AykSZ9LDlQGrdM1McjUgr0RTGPdcFJlgBM4ddA/wyhmZSdefPYCf8VmYsO7KB2Api5qGDbQO3gAKYtJzg1UDhEgMnbRNQAl6UnPRZ3XJaT3DHRLkFmCQglE5UyB5hwtDLRIkhmWUYwj7FhCZhWNPPYE6JkmcsS2TxWg6ZoApxRjkT9lKAgmjPAI1E8KrBya5G4iHDiQPN0oYMILPBwhBVgsNEHI5qYIksu4L0y40XuhHNNMrmYskgaT8RwQgw6JGGFFmoA8ognq1Sp2ChJTLZPPOVcY6oplvShxQ8ilIBDEUt0kcYciGQiCizUUmSJGuv1Ew862zQzDCyZ+PHFECecYNAUYAyMSBqIZJlPO+FYgwwvoyzCxjASBQQAIfkEBQQAAAAsxgC0ADUAMwAACP8AAQgU+I/NFDiTUPVidk3cu30DI0qcSLFiRX4lQlECJMeMlSVDZpQ4UcRMH06siEXzxm7eP4swYcaDAbPWKk+PAKnpYkXKkBghZiwxs6hULgDRwgHA9zKmxHM/nMJ8JSoTojlsACwpgkPEiR9a+liKRawZN3Xx/E3clkSq24mvRllKNCfNFylFAJw40UpiMytvA0u1pEaiMDCCE1tEtEhiqzaKI0ucM0qiJT+SMwNIs0uiHkiaJXdBFvGfFk6hI0uhFtEej1KpE9cagq30iVqxBefC0S7iPRW5dZ+4F7GdjuCBa50YmI8VkgpwcCGXimqIQGwT/hjTtYWBqekxOXX/WQqhWkRdGMDDhKQHwK84EtdxEKW+Yp9MACKlmsgFc/2JbMACQCidTKQEI/9NBIYwAHzTgkTmJIBbghFZ0QwA/2BxhjkCaeMBGRRKlMQ2AvUzygMRWODAHCFGlMsP50TETwd9tegiDPFEBM8MNkqESwn8RFQOED1G1EoNEmHTRJEDifKEX4AxCYAlkEUUTBlSAlAIgkbCkeUc30W0UZZm8DLZJFlqkUxpVniS5RPWlMbDKlLmQoRSA/lTgi113tDbQPUAV+cJ+UTEznFSyrJcRN4YkaUp1kUUzRRZcvKFRMRcKiUjfUh0SxpZ6qGJRKC0JyUbsUgESCJZfjFMaWbglSclFc+UZgQoRxWZyxHclHYHCyfMMMSTZshRCCWhsCLddLnwgA5F+8SjDjfNEAOLJX1o8UMJJeBQxBJdpAEHIpnQl6tuLMwTmTtKJZOLJ4uk8UQMJ8SgQxJWaNEGII94ssotFf3Yz3T5tBOONcnwggokbEihgwgxDNGEFWa04Qckk+DAZD/xoLNNM8O8YokeXTQ2UEAAACH5BAUDAAAALMYAtAA2ADMAAAj/AAEIHMiqDCBOtohB86Zunr+BECNKnEix4r8ufRjpUdNFShEdKkLokAJnkqlazLCJg7evosuXAP4NQVXxlahMiOaYAbCkyI8TJ3ho0UNpla9m18rF6wdz4r8TsppOrLXK0yNAbbpYSaIjRogZT9IsKpUr2bVwAPD9m4jvhNS3A22tAjUJkJwyVpoAmSEiBiSmENvhgEv4JasTDyGGI1K48cRVPyRSk+K48kBPViQi62LZMqQ7Enel6VwZkCWJo+aQdtymlURAgFY3/pJLIpvTsglbaRbx3xJRuQkvydZ7xqvgb3MBOTfwXzNHD9jYQt40V4x4Aue9cJIKwJkFuKlX/8RVgl/MHa4gOlsQVTzFVzMEugMh8Qwc9xRFJRH4DI1EV0jgN5ElbAhkDRcSkRKFgBIhkohA+jhgDkTrrDAJgxHNAZxAofQAjkDp4PHBLhhClAaJAv2TCwQcrJAAErWUCFEXx/RmhB+3yBiRFNT0BgRNOg6USxFoQeTPCTEGKVAuOLQTkT0qKCnkCfdE1I4OUgpUC2IRfVNElgCgAoRE00wBJiecRXRMmlJCoodEuYyWZR/hDSSKalmyAUuDD2YJhjC9pVFnkFTwBtE/SYwCZhLb9BbDcVLm8gNzEO0jAi5Z5gIDdhDBE1+W5JkHUTljZtlKDRJh0wSYojwhUTOZZaFpSRsSBVMGmIUsIlEr92U5RykSURJblieiJgILPBgxBRhq6MFIJqXEUpt4WiRTkTvhXJNMLqYsksYTPJwwAw9JZPEFAHM8AoAp0zn2hDWN7ROPOtw0QwwsjPShxQ8llIBDEUt0kcYciGQC3LRwElFkcP7Mo043zxBjiyeAmEGECifcQIQUnM1RiCWi1OCkkvm0E441yfBiyiNtPJFEPhAFBAAh+QQFAwAAACzGALQANgAzAAAI/wABCBwIrc0jU7yWWQvnLt+/gRAjSpxIsSIAUVkKzTFjZQmQGSVODAGjJ1MtXs+6qZvnz6JLl4gQUay1CgAlQADAUHkyBEYIAEXM+AGVi1i0cOruPXw5UY0lphNficqEaA6bMlOG8FBxgocUOZRW+WoGoFy8fhT/JREFta3AWKUyMdKjRqcRHiwA8NBjL+K/Ga/cCq5oa5WOcxH5icA1uLHEXDDiRYQXw7HlgbhK8ItYDsjly61qSMy25LNlUU8kNrNi2rElNhJxfWndGBDOiK3a0B48p5RES7d3t03DS+KdScLdakkG8RyrDVRiJYf6hJpAf3s8SErlRkHw6RRzEf8JJ/ATF4jaGrAFHx5HOwD/IJiLSEoI+/An8AG4B0JiNQ33TSTLCQLtc4FEznwQoESoDCHQPxpoE1EgWCwYESddDMSMBxICsI4uC0hn4UCP6AHRMhWsoIQFH/g24kB9aBKRP4UswcqLEbEBi0SFJIJjRGUI45cZT/04EBXP+HWEi0YCkAQ3fsGwY5O5/IAYRPuUwBiVLMgz2QxNCoSLCGhBRI5nYbZyg0TYNBHmRalFxEwWb1qiW0S+mPFmIYxIxIocb85hikQ3vWlGcRHJgVyYy/llBShvPmGNXzzUROV4M5ZgS5i53PAeRPXkxekJ+UTEDg9vDiiRN0a8aYqDEUWWM8WbnMwWETG2NsmIHxIdU8IMQzyRRRlyADJJKKtsyl6ME+0TjzrcNEPMLaD0YUYRBOJgxBNUlDGHHpSIssqWjbEh4mDuhHNNMrmYkogcT/Bwwgw8JJHFbHo8AoApylIExjDT7fOOONcw08sqlshBBQ8iwPBDElaUwYYejGRiihRJ/ujPPOp08wwxtXDiBxhE1CAORAEBACH5BAUEAAAALMYAtAA2ADMAAAj/AAEIHIjOjyVYw5pxQxev38CHECNKnEhR4LIhfdh0mWKEB4sQN5akWVRqlzBr4drl+1exZUteaSiayvRITxotU4bwUHGChxQ5k1D5anYNgDt+LmXKSRqx1ioAlAABMEPlCQAYIgAUMeMHVC5i0cKpA8By4qNCTNMCwMUqlKVCc8xkeUKkxgkVQ9LMi9iGktq/FGWZOsIM4j8poQArltgEm2EcrRZLFphrCDmI/Urcmiw51wx4EOWx4Ny5xD6I6HiQXgwLRkRqRFYrDjUk4jMrsgFbMhNxGJjcfxOhhQiLDXC1d0A9pEdMx5DIx5Om2UyWF4Q4nc4AeBPd5ZdiAql5/xg3cJyFRN0rTokmcIcyiM40pKdoxBvZCRHXLZgvMZcOdvfltx9/EOWiQj0CMQEMRMCMQCBEtpzgj0DiSFDNQNU0kMmDD62i2kDXZCDDFi04wAiHD3mC20P9tMICJ7ig+NAkd0S0C28yPgSIXxCVMkeOD8EB3UOLDAckAGUEw5clRwpkRTOGPSFKkwAskY1hNQyZYy5AlIOZCDEe6RloD8XjWpO4iHDaQ+f8QOUrMUS0TRJUjkInRM1QQaUlMUEkzG9NIoJIRMVROceUEFnSB5VphPmQHpBQ2cUxhnXBCZVTTGMYEKhQWcQ3hp1QS5P+tQPRPSdQaaA9ELWDA5W1SIsIUThFUIkKEBF501MRUnyRxhyJWDLKK7nMp6JE9bDjzTTF4FIKImk0EUMJNQzRhBZmyAEII6CsYkuxi9EI2D7xqMNNM8TcAkpcRaQKwxBPUGHGHDuKsoqjEhkUHT3KRkMMLqIAksYSMJxwAxFPYKvtJKGswoaWHO4DDznYNOPLKpTIYQUPJVA6UEAAACH5BAUDAAAALMcAtAA1ADQAAAj/AAEIFHjPUileyKyFa5fv38CHECNKnEgRgLgac8xkaTLkxokTPLTosdRq2LFt6OL1q8iSpbUnEmutEkUJUMYnT4zgEAGgiJk+lmIRA8BNXTx/LScu05JUoqlMj/SkATNlCI8ZIKXImWQKQLJrANzxo9jLTNOzAGSh4vSoDxswVo7wgBHixhM25yCikoO270RcrURZWQXxUSG/iCWa8QWxDaXEkAdmYfbw35RQkSM3wVYZR6vMkIeQe9ivxC3QiHPNePewnQrUiGuJiPcQHQ/YfmGxgMjtCO6+pYxAfEblN9pMZgX2s8YmBivjTRMBEshNg5NGWxpggd5SDygA8B5U/0sn0FyLNdwrqjkdqRNEcAvSU/wyNEe1iBFkyZc4JRoA+/jptx9ERngDwCWYvBffgA/lwgM7AMgDgTMDjbMCGww2yAI9AoXzQRBuONFAGBk+ZEsJSAnkDzEdFPJKiQ+tcttDL8EIEShWQJQMUzYONAlfD/GSXI8AAPLYQ6YASaQczz0EyWFEArBYY5ZECcBklUmBWZSbdfYZkbmIRpppUaoGz0Pz7FZmCfvUNiORsMDAm29RBjdccVEiB9EwYFiZCJQDyYJhlHd895AmeliZxmkP9cGIlV8UA9EXnFjZX2VDdBVlgZWpIGCPuegA4UD5nGBlLirU85A8APzQhBVgtH4BCCScrGLLfiemOJA852TTjDCtWNKHFkCcoAIPRkzxhRpzJDKJKK/kEpmMiJUDli+oUKKGFDyEcCwAU5SRhh6PZAJALNJS5EmOuO0TjzrhCHQLKH6YUYSpMAwBQHFzAECJKABA0i+M9bDzzTTH5CJKIWkkQVelVka0z1gDBQQAIfkEBQMAAAAsxwC0ADUANAAACP8AAQgU+I8VK2HNsJ2Dt2+gw4cQI0qcKDBfCThgqBzhAUMEjCRmConCdYzZN3b1/lFcubIdDommMj0C0KbLlCQ6YoSY8STNIlO5kl0LByCfSpYRwxFB+tDWKlEAEM1h02VJERwiAPzQ0sdSLGLNuKmL52+itSdM0wJ4JcpSojlpvkgpAuDEiR9W9Gx7mEyL2r8SnXpSM+fhLjOAE0cEZOlhqcKKIwts0+rhokKSJZcJ9rBN48yKrTRz+O8JVNCJl2RzaA/GKtSJeXRz2E8ELth/c82A5zAeDNx/cYloOPDcD+BqX8UY+O9cqBPI045KIvCdjxZuAChgcjs6RUtpAPT/06BrncB0W5B09x4xESIAxLw8TJdAFnuJc6AOmgWxB6X7EaVxGx/8PRTEJABC1MUxAASDxnwJxJLgQ1NMA8A+GAAz0Dpu+DDhQ0V4IxA7KQAQCB4R7HDLhwPlogM7zFnDwBylsOhQLirY45A7OtjY1AllDaSUjw6tcpxD1KBFpECeWMGXX0sCMAlkAx0WJQCMOUYlkZRZhlmUm3X22ZKikWbalaqRVkNlUQJRDm22RakbbwP5dqVwxAlk3JXKPbQNdVFO91AzTkYJ3kPClHGlew/BwsaV+T2USR9XCviQHjNFueBDXXByZYWkDYHKlSGSpsMQT3SRxhyFWCJKK7kAd+gijL2FY80xvJjyCBtS1CDCDEM0YYUZbfgBiSWo1JIZjvWoZY864URDzC2g+FEVDCfEMIQUVmjRBiAAeLLKeoEBiVw51zTjCyqU6KEFDyKo8EMRS6gaVSYAwGKkjfzEc042zQjTiiV6dDHECSUgdiVE+Og4UEAAACH5BAUEAAAALMcAtAA1ADQAAAj/AAEIHFjsVrFo3tjR+zewocOHECNKFPiPx5csT4jgOAGAhxQ5k0z1avaMHLx9E1Oq9FfC1sNXogAgmsMGgJEiP06c+KFFD6VVvpoBKBevn0qJ9VQcdVgLgKdHgNp0sSJlSAwAM5aY8QMKF4Bo4QDcYxiRnY6laG2tCjUJkBwzVp4MmQGAhREzgKI59FYErd+JsUplujPEYbQpfxNL1ATGYbEviiM7ZOTH4a00kjMD0KPJIag7miWzieWwUKLQkb8Mc9iFEmrFUpI1/Gek1OvER7jNBgDrtt9cPNA13FfCq++luVjMGzivWIfjaHGVMKpvjwQuPSL4aAp9YiscAP5V/zGUbiCeFLm6SwwlBcA5EA7XWYipHqKlNgB2CXqIp2b9h4U8AoAtjTwUCGb/OSSHKQB0Q0N8K2SSoENm8BJeCrM05AoGu0zYkBayARBPDjRUUskKG7DiYUNPWNPQNhQ0YcmKDhER1kAsuUTjQLnc0E5DSe3YUC4n5NOQWUIOJAtHDXljRJICmVJYQ4dBCQAnkDX0mJWM9GEZgkn20VlDoYAGJRu9NWSalWCs1pAZM0JpxTOzHWEblEnoNhBDr0CZyw/nDCeCcULmAoM8DcFDF5TSGTUQOVMm2coNDmHThJWiPOFQM1ZYeZ9DvphhZSGMONQKHFbOwWBDlABipRkdNpA0xyRWgkjhD1R8wUYfjGhiiiwTPkHNQ9w8M0wsmvhhBhEqnHADEVJ0AcAchVjCCSuESmYjWvvEAwA3QsFiSR9U/FBCCTgUsUQXacyBSCYxpTdRLjj8+Jo96oSVTC6mLJLGEzGcEIMOSVihRRuACGiKLUTis2I+7oRjzTK8mAIJHFLoIAILV1npkD/zeDtQQAAAIfkEBQMAAAAsxwC0ADYANAAACP8AAQgcSK0Xs2vi3ukbyLChw4cQIzZk08TKkiEzSpwgUqZPJlvEnlFTN8+fxJMoAfxLIqphrVWeHgECYMbiEBghABQx4wdULmLRwqlTmTLivxmvig58JSoTAD1sykwZwkPFCR5S5FBa5avZNQDu+J3kVwKX0pSyTGli1IfNFwBHeOC8IaXNo2UO48U4y/chrlaiLBUKIZbhOSB9Ez9sNcNhtiWKIw8UBblhMyuSJVti41AYmMyRESVy2KoNaMVzWjaEpOd04jKwHOqB5Lpvl2MOu3CqzVcKtYb/gKDifbbIN4b7wm0grjQXjnYC/6l6EKRFgxxJmUvMdeKewEtOxgn/XFcpg3aJtU6Y1OcgXcMeiM5DRIUYADYnDlMxkf+QUxaB1HjhkCtC8OcQawLFc4FDZ8BhYEN+WDJQFZgw5MwCsjzIUButDIQPEjJ0QooTDuym4UBlBOMQCTnoYdaJA1nRDHBNqAbjQElkA9wMHd44EBDnNNRPWT4KlEsM8DQUDwxFCoSLCPs0dM4PTQLwyl4NbZNElaNsaRlmTVqiRmefNYlIfA3BwlmTqTmUSR9VpvEiQ7NVeVtuJhY5xTTADTFck0V4A9wJGRaZiw7sNITPCVXmokI9DbWDQ5W2qNdQOERUuQqVDVHzRJWegMlQMlpUOckdDu1iRpWAUOJQKXNUjglHjwxZooMVZsgByCShrGLLg2b48tA1zPSyiiVzWMGDCCz8kIQVZbChByOZhBJLLqBlwQxf7oRzTTK5mDKJHHGdMAMPQ0zxmR6PAGDKryg1gU1t+8QDADfNEHMLKH2YUQSjMAzxBBVmxEqJKKuYNQQ5MNLDjjfRFHNLKIWYkQQLAMxwQpJVNrQPPEMxFBAAIfkEBQMAAAAsxwC0ADYANAAACP8AAQgcKG7YM27o4vUbyLChw4cQIza09GOKER4sQtxYkiZRqV3JrGFrl++fxJMoBd6B5NBUJgB60oCZ8oPHjBM8nqRZZApAsmsA3PFLeTILJ6ICa60CQAnQHABdnhjBIQLADy19LMUiBoCbunj+Tv4DggppylaiLCGaY0bLkyE3TpTgYeXOJK4N/52oZbavQ1urPEECdKJdw3sq/Cp+mOvEvYbtdCyePLDWibAMvxWhTBkVEIfUpHCezKmLw2OmRyuGpMchLDOqFeth2VDU09h927xymAgR7r5ghDlkY+m3WSvNGP5rN8OTcaRLsg1cVkHGCgAvWj1HCeScQGIetA3/JPXg1vaIuWLEA/CvgniGZ9Kch4irxNB4IBwae4FrvsNXMwjUjgwOOTOCfw6JkoRA/TiQTkOdMIHgRGoMNMgfDGmjQE8TDoSIbwLxc0ULpMyChwKAdMjQHKI0xA0OI6QRi4oMpdFfQ7PR2FAXxzjUxVE6DjTFNHkNUVaQAhXhTV4nyIIkALnowE5D+JzwJJQq1AMZDlfacllD4RBx5So/OGTNE1d6YoVDyWhx5SR3OLQLbE8CQklLtyEJh3YNMVLIlWYE41AbxT2JnENStPhkE9jkdQOfSA5BTkP9lHBjkLnMAE9D8rBwZS4l7NMQOjxcCQsMDnFzxJWlGOHQM1RclmkJnQwNA8aVifzZ0C0zfKHGHYlYMsoruUyoBygOzRNNMbiIUkgaTcRQQg1DNJGFGXIAAoknpdiiGhveErVPPOoAEA0xt4DihxlAWAnDEFJYYcYcKXqyyqUSfYEXbuUA5QsqlMghBQ8hqPBDEVOUIR8iL8FS7BTRqMhPPOdk04wwrViiRxdDnHACl0te2VA+7Yiz0EABAQAh+QQFBAAAACzHALQANgA0AAAI/wABCBzY7hi1cO3u/RvIsKHDhxAjNrx140kRHSdO/Miix1IrYc2wdYO3T6LJkwNB3WFoa5UoAIjmsOmyZAgOEQB+aOljKRaxZgDKxeuH0mShREUZenoEoE0XK0l0xAgxY4mZRaVwAYgWDoDCk2ksJT3ZEtQkQHLKQAUwo8SJImX6aBr2MMmosXgdxiqViZEeGN0a/oPxKq/hhzzQNdwnQuvhxwBysZDXEN4MyJBxiSDKkNwQzI9b3XCIrQnow6KeOCw25bThSWYcBivjOm8hRg5btamNd44ph5YA8R5rZlfDe10WDU+qJdlAbyY8eEiQAtXyk0+oCfQmQdlAVwsKX/+PSKQrABveGTaCMh5iLhztAPyD4FAbhlztHeY6cQ+AvwsOjTNBfg7VcoJA/1QwTkPAvOAYgQKh8plAo3DBkDkWTAIhQ5x0MZA/a4CQCjCVNLDGhgxBokdD3jCRARa/oTgQTw6NMoeMDbUhHkOJIIIjQ2AI4xAbYv0okBVANbTES0YCsEQ2gs3QSpMAAHFOQ/2U8CCOucQQT0PxwEAlLiXw09A5P1D5ymUNbZMElaK82VAzVlBpiRoOCQMGlYj42BAsbFA5B5MMZdIHlWlsKZAeTDXZxTEOdcEJlVNMI9gQMRpZhDeCnSALlTqw01A+BzaZiwr1NNTOaE3acoI/DYWWQwSVq/DgkDWqNelJnQ0xEwMYbQACCSeo1LLhJHI4VE8zwrRiaBdDZMSDEVN8kcYchVgiyiqKHgaIhmOVc00zvqBCiR5a3FQCDkUs0UUaMGXyEn4nycFKbfao01Uyt5SySBpPxHBCDDokkUUXwTJlii0CleELivm4E441y/BiyiRwTKFDCCzwoAIzVDbkzzzqeJMPQwEBACH5BAUDAAAALMcAtAA2ADQAAAj/AAEIHDivGTZy8PYNXMiwocOHEBsui9EESIwSLI6YAQTqFjFo3sLN8xexpMmBvMwsrAXA0yNAbbpYkcIDRggARcz4AZULQLRw6gD8O1nSlByiAl+JygRAD5syU4bwUHGChxQ5k0zlSnYNgDt+JyEVQmpSlilOj/qw6TLFCA8WIWIsSVNIVC+HciiR3csQVytRlhDNufGs4ZRQfBM7bIKN4T8crBRLHjiEHMN+JW5NlpxrxjuG81hs5nxC4UJ1PEYrhiWaobUiqhOLGtIQGpXYfDOpZEgMDO69iQA1rMXmN1k9oC4vumMcKRtbA9shkcABwAhTzU1+ISbQHQRdA3Up/0CVPSIVaALXuGKYKkd5iEe6CayQjmG6Be8f8gj6b0LDdfjlx1AuLMwjkAnaMFQNBj0JOBAuJfQjEC9BLLROC3k4uBArOAz0zyAAuKJMKhYgoeFCoUzB0DdXTIAEUycOREkbDfmyW4wDFQJJQ60cheNAcmDHECXC/SiQGbw0NMckRgqkRTINWeFJkwA8YY1jPKxCJRHhMOTPCdAZmcsN7TBUjwpU5nJCPgyxowOVspzQkDewNWkKbQxNo2KTnHTR0DF+NvmIHg3lkgaVfcC4kChzUMkGLA0lggiVYAjTEBuWUGlFMw0tIQqVSWzj2AyvUPnDOQzxUwIuTeYCQzwMxZYTA5UQgrXQOT9Q2coMDXHDghlzFGKJKK2w6qAoSTSUTzK8oDIJHFPoIAIMPyRhRRlq6MFIJqW00uBmlqiBlD3qdJlMLqYsksYTNZwwAw9DTOGbHo8AYEqYJiGSSGz7wMpNM9yB0ocZRcgJwxBPUAGsQJ6sYuwcn2pYDzveTHNMLqIUksYSF80Kg7FUDsRPPOdkY+BAAQEAIfkEBQMAAAAsyAC0ADUANAAACP8AAQgUqG9aN3Xz/A1cyLChw4cQGWZjYYQHixA6pLR5ZIpXMmvhyOX7F7GkSYHMsix8JSoTAD1pwEwZcmPGCR5P5EwyBSDZNQDu+J0s6cvMUAC1VgGgBGgOgC5PjOAQAeCHlj6WYhFrBqBcvH4mW8E5GlaUpURz0mRpQgTHiRI8pOjkCXahJUBk8zK0tQrUJEByAAxjeGeS3sMOtSRjaMUT4scDn1hb+O+HUsiPiYRb6O9ELcyPcbRbaE8FaMS5TuRbSK7G6cOvSjD8VuS1XlNDGFKbYjsvpy4MjwHvffSRHsqt0hA/2sclAHp0HlgA8EHUcpNsYAHIh6ETw1DXI4L/EQZAUyOGwEaEh2iFqwltDNcpWP8wyTYAGcw1bEDf4Y9zACChDEPjLNAfQ7nEEA8AzbSQzkJnRHHgQriUIBQAl3gAgDO6rGDCLRMO9MoMC4kzhgM7HBLiQqIkwVAzVqzIkCVqMCRMGTIuhAgiDMHCRo4DzWHdQpr0AaRAaeDCUB+MHPnUMQx9wYmTU0RD2RA8HWmEN5QBIIuTOrCzUD4nOJmLCvUs5I5rR9pygkIDiUOEk6vwwJA1TzjpSYwLLaOFk5M4tVAvRh0JCCUMoRLYkXKwwtAjhThphi8MyYHokVkwwxAV4B3ZBDaU6XAZkEOQw1kJthyZSw3vLDQPC2aejKDPQuycoIYejGRSSiy5TBiLaQvtc8wtoQCSxhEsnHDDEE1oYYYcgEDiySranWbKnCbtsyA3zRBzCyh+mFEEVTAMIYUVWrSB17QgnpQJjq+V85MvqFCihxY8iKDCD0Us0YVyiGRiXa8AMIJXf/zEg842zQwDSyZ9gDGECifU0NaUTg6UjzvhWDPaQAEBACH5BAUEAAAALMgAtAA1ADQAAAj/AAEIFNgPW7h2+P4NXMiwocOHEBmeU1EEx4kTQLTcsdRKWDNs5dDti0iy5MBsSwbWWgWAEqA5bLosKTJDBIAfWvRQWuWrGYBy8fqZJNnMytCBnh4BaNPFipQhMEIAKGLGD6hcArmpA+CvpDAwR0neWhWKUiE5ZqwsAVIDwAkAOTkKw8fwVZuweBnKQsUJkh82PGAxtNQnr2GHaXgx1APpsOOBXZAx7MLp8WMp1Bb+G4LKsuMi4TSfkOX5MI52C9+VKG241ol3C9vhYJ3XddeB4YjQxosKCENrT3aH5ZSFYTEtwo9CuiNw36UJERAkHwrIEoB+Kf6kEwgMgPXpENu0/wLQiwtDZxjAQywTDEAVYw0b2FLv0IpPG9UaWhhPn2ETbAC8oQtD6ySAS38MDUEOANx4wFAlORyIoEC5zACPQKNcMEs1xiiBQSwTDpRLCSMJdA4ZCrwAR4gLwQIDQ90cwSJDpRjBEDRUzLhQJmYwRMwXOg6UCCAM2aJGkALpAQpDoOiBJABszLcQIIk8+QUxDJmRyZNUQMOQEaU8eUQ3msEgGJI8bDXQPiVIqGMuLMyzEDwzPImLCEINRM4QT7Iy20LYNPFkKFMwVNSTlNy1UDBlPFlIYwu1omiQcpgyGJFImqHYQndAGqQWyTCURWVIPmGNZkB0hiQRoQ30zwm1PIl52kL3hAAHIJBwskqsE+Zywj0L+UMMK4RpAcRbOhgxBRhpzFGIJaK0Qlpprh1VzjUA+IIKJXpo8UMIJeBQxBJdNNuSKAC4SRIqfHpmjzqhJZOLKYukEdwJM/AwxLIA6KGUKVICwEkXCOrzjjjYMOPLKpTMYQUPJajAQxFAOPnkQPWw8w01Cw4UEAAh+QQFAwAAACzIALQANQA0AAAI/wABCBT471s5ePsGKlzIsKHDhwzjnQAyQwSLJGYAgbpFDJo3dez8QRxJcuC5Hws9PQLQposVKUNUhABQxIwfULmIAeCmDoDIkhC3JQEK4JWoTAD0pAEzZQiPGSd4PEmzyBSAZNfCAcD3j2QzKkRH1kLFCRKgNmCoHPkRwyJGP5w4zlsorEzYuwtfjcq06I6aIZwWwmKDt3DDOaMWZupjuPHANLsW6lnpuHGXYwu7BK5sWAq1hUOsci5c5JtCeydajS5cg5zCfCdW482lwp7Cdjdk37V14qfAcER0h12FUqG1J8KJerIi0B8tDA0EgkpOctIdAP+qcAE3sAEj6hABUf8CQI3GwmoPwD+UwwoAn1kMOaBS39CMLwBXjDFssZm+wizMAHAJKQxF8Ip/CzWBDQDnXGCOQrpskAuCCg3hGgCwCKSNM244MB+FA9XwjkJrJPCBFraAOFAuJ+ijEDs8qLhQLCos5I0RMipkShELRTNFjgNlYpdCxXwBpECMALLQLWkcmVR/AoVy3ZFs1LIQIok4CcYwC6VhiZNUPLNQEokdeQQ3Cv0Tw4FH8oCOQvyIgMuRubAgj0LwxOAkLiX0o9A5QDjZSm4KZbOEk6Igp1AzzB1pSRt0geEkIt8p9AqkRyK2kCWMHQmZZJA4eVlmUMroGWiiAVlamie0UYglorB/MieIPLCTJgCoTALHFDqIAMMPSVhRBht6MJJJKbBYORpt9ZTkjlbJ5GLKJHJIwYMIM/AwxBR2TYYULBOWxJtvhsUTj0DREHMLKH6YsQQLAMAwhBRWaNGGkp6sohBxCN7TTjjWIMOLKYywIcUNIcB7hBFZODlQP/Ko080z3SgUEAAh+QQFAwAAACzIALQANQA0AAAI/wABCBxYTp28fgMTKlzIsKHDhfwA8GAR4sYTNoxM8UJmLVy7d/8eihw5EN6MhKYyAdCTBkyWJDpYAJjxJM2iUgKjhQNwLyTJh+eA/LS1SiCiOWy6LCny44RAKXIorfLVTKC7iCO3Jfk5MlapTIz0qOkipUjMikvSIBq161g8hc2scJ27EFcrUZYKzUljBJFCYWDoCnaIiJHCV20GK1Y4Z5RCS30WSwaQZpdCPZAmL+5yTGEXTpoVS6GmkIfj0IKHYEsYUhZqwTraJczn9PXcXCrsJWx3w/ZcWyf8JQxHxDfXVTwE/kv2YYFA0MZFepILgJAMbQKNAQAU/eGkOQDIef9QqG0Bru4NAVECAKrTwhYq0S+UwwrAoFkLnSSSv9CMLwCsSLKQB6Lwp1AWzADwjgTjJKTMBAYq1MRqAPAiEDjaNKKAJxEmNAQ5A6kDAAIZMBFLhwnV8E5C9MiEYkK5nKBPQuwk9+JAsaigkDdG3DiQKcUlFM0UPgqkSWAJFfNFkQAw4odCt6TBpB6aKBTKHUyycWJCiOxXJBjDKJSGJUxa8YxCSZzmYxLcsBbDK0z+cE5C/Ihwno+5wPDWQPHEwCQuJWAl0Dk/MNlKDQppxaQoS8BFnY+WsPEXkj52qRAskhY5R4EJZRJZkWncOZAejzDJmWfQ+TjFNAoNocYimZR+AksuKBrhjULIhAJIGkvAUEINQzSRhRltAAIJJ6jUYpsO7Ii0TzwiRkPMLaD4YUavAMSgQxJWaFGsQKbYwhVu9YRWzjVVwQKZFj+UUAIORjxBRRngUVKgqMAJh54/86jjDTTTglKIGUnEIAIMPywhhY1MArAPPOdk04w1CQUEACH5BAUEAAAALMgAtAA1ADQAAAj/AAEIHNiu3b1/AxMqXMiwocOF/27gOHHihxU9llgFa4aNHLx4D0OKTLivBC4AtlaJAoBoDpsuS4r8KHGChxQ5lFb5anYNgDt+I0XCmxG0FgBPjwABMEPlyRAYIgAUMdPHUixiAsvF6zey3I+gIXG1EmWppZksTYjcOCHCJpxJpngxe6cw2xKweBemDDUJkBwzSeAobGYlr2GHlNooDFbmsGOFhSApbKX4seU5phRaUmr5sRleCu9I7uxYSzKFUzKRdrykmUIgqFYfJhIuIUKjsvPiaJfw3onceXMBuJewHQ7geGud8CcQ2wsHBZCDRQVEoCoPzgZGmCM9JKcuAOBJ/zCXEFwCW90dQroDYNefhUoWpW8IyBIAUJ0WxhE8f2GbVgAEE8dCPYzWX0JlBANAPRCAk1A1C5x0YEJWuAYAMRIAMA44pCTwyIQKNYHNQOwINIEPq4Co0BDkJORPCbeouNAM8CQ0DwsyKpTLCfskpA4POSYEC44JdWNEkAOVcmRC0UyBpECZmKEQMV88CcAinA10SxpW6uGJQqCw9yQbuA1USCJWgoFVQmbY9yQV0CiURClWHsGNbTG8YiUP6CTEjwgSBpkLC/IkBE8MVuIiAlcDnVPdk63cUNddT4ryxGCFPWlJZQMJA4aVhcgnJBtWzkFnQpn0YWUaoCWkx4dPdoNxjEJfmAEJJ6jIkqMU1CiUjCV6dDEERTcQ8YQWAMhRCCWhrIJebkV409U1rsFiiapF/IaDEU9QYQZ3R60S6Eg68NaZO7UB4AsqlMghBQ8hqPBDEUt0wSUiqgEgnEC5qGBPf/zEc042zQxjbR9gDKHCCTUYa8VyVgqUzzviXMOMhQIFBAAh+QQFAwAAACzIALQANQA0AAAI/wABCBwID96+gQgTKlzIsCHDJjAAsChSxo+mWsOecUMXT57DjyAR/lMhC0AtAJ4eAQJghsoTIzg6APihpY+lWMQElovXLyTIfCV8AjCVSWCbLlaS6IgBYMYSAH5A5RLITR0AfyHf1RDq0NaqUJMAySljZQmQrScAaLljiZWwZu0SkhvCtS5CWag4QQLQBkyTLgmvPbFLeCEoKwmZZSnMeOAkOQl7mWncGNCkhKsgUy4sZ1XCsJsLm+mVkA2j0ISt5ERoBRRqu0+sJeTh+TXXIeIQYrVlm2sNdwjrqegtdGo+geSQQBBYlPhHWWkBCLtgDOEb5w5N0c33ABzCcQBeYf9nyAkwMzQKz8wZv/CRHgC3GilsFIa9wj5Fm3lRuOW9fYRswAKAPgBogxA4CcTyH0JgCCMQMwKZY84sDfi3oEBWNDNQO2QY4MALolyI0BLbiHRDKyImBMQ5CPVTAi4pIhQDPAjJw0KMA+EiwkEDocMDjgK9whRC3BwBJAClJJHQM1QcaclkCBEDxpGJFJJQLWwceYdrCHliYYxq3JIQIIsc+cVqA5nRHI5TRJOQEaUcaUQ3IrEgIJA8WDXQPi8CmQsL8yAEzwxH4lJCTwPNdSQrOCSETRNHhjJFQs0gBqQlbSQUTBlHFnIaQq1kCuQcpiRkiR9HmrFLQnp8QUkoq4h9KWIXyCQGCRxT8CACCzwYMcUXacyRiCWitDLVa1JQA5I74QjkCyqUyCEFDyGc8EMRS3SRBgCIZBJiXUQ025g7VkVDzC2lLJLGYCfMwMMQvwKgxyMCKYgQDnGNp8874mDDjC+rUHKHFT+kpUMRagFgz5EC3dNOONYgUwxCAQEAIfkEBQMAAAAsyAC0ADUANAAACP8AAQgcWC8ev4EIEypcyLAhQzMqRMxYogaRqFzFonljN4+ew48gE/5YJdBUJoFtulhJoiNGiIlm/IDKJZCbOgD+QoL0d6JWyFeiBOpJA2bKEB4zTvB4kmaRKQDJroUDcO9fyHsndH6shYoTJABwwAA48mOGCABFyvTJVGvYM4XtcGidqzBWqUyM9LD5ImVJwnBF6ApuiGpIQmpSBitOyKlLQmSOF0uGpCfhrjSSJfexlLDUnMyL27xKCAgQaMVddiVsw/m0YCvNEkoJ5VrwkmwI/+FoVZsukHII+5W41XvuDHgC212pAGBE6+Ifc5XYBwCahFnp0gGwEAb6R1gwAPT/m6ANobkGqLw3LGUEQDYnCvGYUc8w0/xicRSSgkJ/YSLT28CXEB6Y9ZeQHqCIN0FC55FkIEJs+ASANAJlZ0wEazyYEBjEIDRGAgqMcJKGCFEBTUJHlEKiQkdwkxsMo62IEA/oIMSPCLjIOFAuLMyDEDwx6DgQLiL0g9A5QAgpUCs3JJSNX0qK8kRCzVihJACWtJGQMGIpicgiCcHCxpVzjJJQJn1cmYZqCOnxyJVdHJNQF5xcKQU1CQ3xlJJFfJObCrJcqQM7COWTlZK5qFAPQu7UcKUtJ+Q0kDiGKbkKDwldM6WSoFiJEDNZXDmJHAn1Mp+SgEyS0CqkKimHgwNRhGKFJaK0QtOKZvSS0DOFqLHEDADA8MMRVoDBRh+MZFJKLMVpscxH9twEVS6mLJLGlCewwMMQU3wBgJsCwXKrTk9YI9k+N3ETGwCg+GHGEiwAEIMOSVihRRumAWCKLXmK0x8+7YRjTTK8mPIIHFPoIIK2RnQLQDtX4jSPOt5EU0wwRgoUEAAh+QQFBAAAACzIALQANgA0AAAI/wABCBx4b96/gQgTKlzIsGHDOycA8KACZ5IpXsmshWuXr57DjyAVPhEF4BVJAHrSgJkyhMcMETyepFlUSmC0cADuHQwJ8t+NViBfrRKIaA6bLkuK/IgIQIocSqt8NRPojh9PAP1K3LraMFapTIz6HJ1ihAeLEDGWmCkkClexaAvnseBKF2ErUZaKpukyBUi/hOh41B288BUMhd2OEF48sJTihNCoMGacyYxCYl8mL04ESKEtNZoJ6wGl0NKc0IPNsFJYKBHqumCIKTRj6TVdKtAUHqlp++oRbgn/xXjV+yoPdAPj1dFQnCuLeQK5PUg1biCW5g5xlfj7T4OzhBFGYf9n2OqGwHMyFFa6Pl6hqCc2vSicJQRX+4SW2ggsR0P9lPsJIbKIQP9gUA1C6URwEoACzSGeQNhAINA6znAQBYMIpbELQu4IlIAGj2CIUBfHKPQFJyImNAU1Cg1hSooIFeFNcCrIAuNAOrCTkD5M3ZiLCh4h9E4NNwpkywn+JCTOEEUCsIpgCWEDX5GgWKEQM1k0OYkcCvliWZGATKIQK1wWKQcqClHSWZFm8KLQHWIWqcUyClnhSZNPWKPQD0MVSQROCCVZS5M3tJPQPT3CmAsA+STUDg5NypKoQOEU0SQqTCZEjRRNctKFQslo0SQkeii0y5c3+lFbQqZIoYkpNqaB2AZQCUXTBxhDsFDCDEM0kaUcgEDCySqD2lZGMB/tEw8A3DRDzC2g+GHGEnMBoEMSVmjRxpqm2EKXFVNpVs41AsFiSR9aLFUCDkY8QYUZpwHgySr2IbRENu35Mw873kRTDC6lJMLGE0TGMMQSVpTBAjlNCsRPPOhs88wwueiDUEAAACH5BAUDAAAALMgAtAA2ADQAAAj/AAEIHKgv38CDCBMqXMiwISMRJ4B0uWOpVbBm2MjB29ewo0eFZTLVWgWAEqA5bLosKfLjhEApciih8tXsGgB3/D7qBFDElE5PjwABMEPliREcIgD80NLHUixiAsvF67fzHwtYOxm2EmUp0Zw0WaQU0SEQRxM2j0rtQmaNXcJ9JbLKHYiLVSgAhQRqeQLA4MF3M+YKVoirBNWD5IYMXjyQFY6E2JowZhxqSsJmViYvptQmYbAymgcXepRwFJvQguF4SmjJD+q5ZnYl1APptVwtyRJq4WQ76xNqCYeg6r2zSLiB9xSNIJ4VRzuB5yZgAmdO4BXmDXOduCcwhbKD6QCA/8K+0NYJfwDggUhIigl5hat+COzmJCEwG7neI/SU+eZ6hKkgoR9Ck9wx0AbOHLQOB5YMeBAglAzEzUHVrCCEgwfJwcpCFbiG4UBm+JKQHJN8iFAWzCRkxXgmDvSETQjxQFKLAg0hDkLo2UKjQDW8g1A9KuwIQH5+DcQOWTvKEiRC3hQhpCmKIUSNFEJy8kVCx3Qh5CN9JJRLGkL2kUlpcwjJBlYILYKIkGAIk1AbDe5oRTMJPSGKkEtkg9A/N7QiJBDnINRPCbcIGQM8CM3DgpCFcXSQOjwI+QoMCXVzhJClXIoQNFQImYkZCRFz5Y6JCIXQLUt4skotLeqxGkLW3HBhRUsn6FDEE1qYMUchlNxVqG1ssOpROTDCYkkfWrRUwgxGPEGFrgKp+utOYEA1WTnHAeALKpTIIQUPSfG0RBdglnRnQlRA8x4/8aDDzTPE2OIJIGkcwcIJNQDQRBZmxDChkADsA0852DQjjCz2HBQQACH5BAUDAAAALMgAtAA2ADQAAAj/AAEIHMhv38CDCBMqXMiwIacQLIyYAaSp1rBn29DF49ewo0eFciYJ9PRIoBkqT4zgEFHih5Y+llYNLBev38ebAKx4+mgqk8A2XaxIGQJDYBEzCLmpwznwh0ymCXGxElgIANInQ26cKMFDCpxJpnoxW+jvRC2oaG3JnARIjpksAIbMQ2hPBdq7CnOdyIewnQ68gAfKOpEwXJHAgVENSUhNCmLAnLokRCb58V1IehLCKmP5rh5ICU3N6Yy2TauEjKqSZlomWMI2llYztdIs4ZRQsnE2yTZw36cXCEzkvjmEnMB2GAxpAwCMA5ThHWfAE+hDF0ILsaHnLWEw34WEroRo/1cIi4VAdDQSOhsxPmEpIwLrfUeoK0d7hJk4CxSOcAWi+wcxAshA4TwAwDoAaNPDCwAepAcnB70zEARwNHgQG2chhMh/Fh4ExjAJqZFdhwJZ8UxCS4hC4kBJcIPQPzOctiIAP5yDUD8l4DIjADDEg1A8Rc2ISwkcHXTODzu+MkNC3ByxoyhJJPQMFTtaokZCw4CxYyIcHlQLGzvegRtCnmQ2Yxq3JATIIjt2UUxCZvg04xTRJGREKTsa0c2LMMCyIw9LHbSPCDqumAsLcx0Ez5JClmDTQeUAsWMrOCSUTZQzhuIYQs1YUWUbCQlzBG5pdogIIwltA8cUOojAAg9GTGnRRRoAIGKJKK0UStoco3jkTjgC+YIKJXI4JoJRS8wqECUq6npTGrwgZg+wACSTiykiCRSCCjwMMYV+iMiZC0JdIDPePvCUk00zwrSSiR9mEEGYQFJoAcAN1OwoUD7viHMNM7604uNAAQEAIfkEBQQAAAAsyAC0ADYANAAACP8AAQgc2K/fwIMIEypcyLDhKgAzlqhBJApXsWje1M3z17CjR4WIEgEwlUlgmy5WpAyBEeJEETN+AMQiBoCbuo84B6ax5HGVKIF60oDJkkRHjBARAfgBhQtAtHACOeZc8jOnQlurQE0CJAeAlSVAagA4ASDLHUqogjXDpvDfjFZW4wqshYoTJABwylgBAAQeQn4imsodnBBGPITxYBBePBBXCX4Iz/1gzLjVjITcjlBeLGpJwmd7Nw+2pCYhLy2iBwPqk7AWm9Ry71Q9yEkP7LhpbiUExOi21S/FEpop6RvnlGgEV+1IUDynkW4C422IUw2cQCaCmy/kcRPAFVcIOdz/1b6QxTwA/Rwk1JWDvELHBuGBSFhNwy73CFnhELhPQkJjKdyH30ChSDGQDcYg1INtAw5kSRsDkXPQOFt80OBBhfR20BULIOBAGNldOEcpCVnC2oUIpcFLQnqMh+JAXSCTUBecvHiQFNQkNIQpNg5UxDcI/aOCLD0KhEM7COVDVpG5qFAPQu+IVaQtJ0g1kDhDFAnAKjwkdM0TWoIS2kHMZKHlJF0h5IsZWgIySUKspNmjHKgkRAkgWpqxIkJ3vFmkFsskZIUnWj5hTUI/PFQkEVAd9M8JtWh5JEL3LNljLifgg1A7+xVZi6UDhUOElqgAkZA1YBbJSRcJJQOAKK3kfmLjJHck1I0aSVwWww9HWAEGG3owkkkpsch6GyCUdGRPd8nkYsoiaTzBwwkz3DDEFGUIhAhxxubUBlyL7XOYU8TcAoof0cZwQgw6JJEFGADo8YhAsSRURjDu5eOOONcw48sqJmphKgA6GDEFqzowo6VA97QTjjXJ8IIKkgMFBAAh+QQFAwAAACzIALQANgA0AAAI/wABCBz479/AgwgTKlzIsKEtETymwHlkilcya+Ha3TPYsKPHhJYAvRIlUE8aMFmS6IgBgMWTNABA4QIQLZxAfx9zArgDqaMtUwIRzWFTZsoQHjNO8Hi5qFSugxt1AujCSapCWag49YQDBkCSITNKABgCRo+lV8IAZFs4BJXVt7JMaXrUh03XJjzaIfx3Qtbbvwpx6D2I7wTgwwNznbiHsB0OxIhrncB5MBwRyIdRAUlo7QlmwJyyJBRm5fNfRm0S9jJj+i0gSglRyWltVU6rhJMA0ZZqxldCOZN268zCbKC/W0gWAIAt3GMTbALvpfDiTJtAJE+bMxwiTiAdTAfXef84pJ1hjXcA/j1IhxDYi5nlESrOByDfhYTaKmSPP1CWCoH/OJCQMx/sxx8ApgwxkA/AILQFTAcOxEkXA6EDgSsCmeMGBvBFCMAjehwEj0AJLHDFLR4O1IclCZkyR4oItfFKQowUAuNBYKQVI4s3CmRFMwlNEUqPAi2xFkI4sEIkAECUg5A/JaBI5AwjHjQPC0vmUsI+CLHDw5KwYImQN0YsWUqZCEUzxZKZsIbQMRQSyYhuCOECYY96VIWQKC8SyUYtCSWCyJJgDJMQGzz2aMUzCT1BEpFHcJNQDbcR+cM5CPUjQoc3whAPQvKI2SMuJfCDEDpfEvnKDAlxc8SSoyR5kVA0RJgSS4+WuFmZGUSwcMIMQDQhUBuAQMIJKn7tloiNDO3zKU3E3AKKH2YswVIMNSSRRVd6PCLQrVbdAcpn3AA5kBlFGAaDj1oQK5AptiSkhpTa3dNOONYkwwsqlMhhxZcspPpFGjwQs6RA9LDjDTXH7FKKOgcFBAAh+QQFAwAAACzIALUANgAzAAAI/wABCBwY7MQPK3corerF7BoAd/kGSpxIsaJFi6HkrBKIaA6bMlOG8JhxoobARaZyJXMI4N6/izAvIkoUs5ZASoAEdllS5IcKgVLkTDIFYKVAfDEpsrGUNGYsU5oY9WHzhYoRHjBEsEhipo+mWsSecbPYRFTTsxZhlcrESI8aAFSO4GBHccYrtHib/jg3sV8JXHkDX4QRb2I8GIITT8RVgt/Ecz8USwbwagZFbkcmKxaVhGIyKZoTTypDkRiY0IITIaJYiw3qwHdCUfSk53XeNLcoAlpkG+8XYgP/CavioDfeKdEE6svhRNlAIcaTHukmUJGhiStyRr/IQ53ACRSVjf/Itd0ii3kA/EmgOA5C+YqM+wl8QLFahvcUW+EYiISiGy34TSTKEwOx88AsAqXzxwQ2BTiQJW1YpAATsjgoESK8TQSLaxZONMcoFGnSR4cTpbELRX0wQqJEXRxDERiarDjQFNNQRARRMgJghDcT/aNCLDkCoANdEu1zQpAAqFDPRO9YluMtJfgzETlDBLmKDhRh00SQoVBBUTNWBEmJHBQFQ1qOhTySX4Q5yoGjRJb4EaQZvFCkByRBapEMRV1wEuQT1FA0BCpBFhFOjydUmCMO7UyUz5E55nLCPRO5Y1KOtpwgpUTiVJnjKjxkOaiiJIIS5pRfDHFkDUQ8kYUZZE5cAsoqthg3CZlJcdMMALAwBUARR8LAgxRWaNGGdqbUmhcgk2jGDUu9jijREE94OZAnG1Gk0XvzsOMNNcfsYsojbEihgwgw/JCEFWCw8UMvSPozj3fQEHOLKORIFBAAIfkEBQQAAAAsyAC1ADYAMwAACP8AAQgceEzFEDB9LL0S1ixbOXj7BkqcSLGiRYus1JjS9KgPmy9UjvyIIQIAkDJ9Mska1mzbuXj8LsqUSQnQTIGeHgk0Q+WJERwlf2jRQ2mVr2YC3cW8KfHOJKYyX43KtEiPmi5SigBgEWLGEgCFRN0qFs1bu4pZOEFdOxFXK1GWEs1J82WKEQDoKP5YxbbvzCHiJv47Ucuv4Yo3zkq8d+Kw44G5TuSb2A7H48eyGk8MR+SyY1RDKDb76tlwJioUk2kpbRiSHoq9zLD2C8gSRVRyZvdt04oipEK62ZYJJpHZGAjB2WZhJpAfkiDAAOgC4CP5zSbYBFrCM7EFH+syh5D/E4hh3ERnG8BfnPEOwL+K6Raorxh5MgDkE7VVwDV/oiwVA10xy0SBRNHfRKaEJlA7ELgykCQPxHKgRJx8UVEDAAgBy4QSPfLaRLuUwSFFKVFkyhwjTtTGKxQxAlyKA4EhDEVt2AajQFYgNdEUodwo0BLZUIQDKz6aVM5E/pRgS5EzwDMRPSwUmQsAEUnEDg9FwhLlRN7c5aMpWk0UzRRFZiLiRMd0USQjNk2USxpF6qEJRaKg6CMbEk7ECCJFljEMRWzYeGOOFD0hSpFJbEPRDb35+MM5E/UjAn8+xhDPRPNseSMuIlQ5kDpY+vhKDBR1A8QqS8JYipcSoZMFDyKob8BDEVJ0kcYchVgSCiu3JJeJbDOVcw0AvqACQB9a/ABACTgM8QQVZtjpySq99pVIm465kx2xqFCiR7IlMOtlGXYKRKlEeoCiXj/yqNMNNMTgIkohajxRAwAxKFiGGkMUViQ/8aDDzTMA1MJJOBIFBAAh+QQFAwAAACzJALUANQAzAAAI/wABCBTYLEYSM4A41SL2jBu6ePwGSpxIsaLFirbKlMrESI+aLlKM8GARIgYRhJ5uEYPWTZ28fhdjXvSkRyYAUZkEtuliRcoQGAKLmOljKRYxgeXiwbQ5sFAiphdxtRJlCdGcNFmeANAhEEcTNYlG7TpG7VtFM5agqp14i1UoAIUEgiwC4NzEI6XW6pV5pNvEGK/2Cq7IQ51EfiJwDV48kMU8ifFiMGaMq8RSged+TF7c6sbEaUY2D/Z0ZGIzK6IFW2IzcRiY1HsRMZooizXstXNETdRU87baNIoFSqMzAcAk31C7HAPQ74oMXdWQq50SDYAqLhN7tJEe04g3ABrATf+sloH7RR7sABSfuM78RRb01KebOO5BLvdsRcAk42piJSG74CcRKzgI9M56AKxDygKtCChRKFNU1IANDTo4kCXbSSSMFhZSVMhsEsGSYYcDzZGXRJn0QaJEafAyUR+PrDhQF8hM9AUnMgokBTUTDWFKjgAUYdZA/6gQC5A6pDeQPicACYAK9Uj0Tg1A2lKCPxKRMwSQq/AwETZNAAkKFaahliMlckwUTBlAFhKjRK2MuKIcqExkiR9AmuGiRHpAAqQWyUzUBY45PmFNj3XmSEQ4Ev1zgixA4tCORPk0mWMuJ9wjkTtU5mjLCVgORA4PrQRHYpcTsWPFDSGwAIARU3xpoQYAT4lSKnKgmGmRO4wOhKYUAIgw0BJdpCEQJbqZqtYkcyxmj2EAJJOLKZPIIQUPIajwQxHEGgsAshYBcpx0/MRzzjbNDGOLJ4CYkQQMJdQAxBJZmMHGEasAuQ8852TTjDCwZLKNRAEBACH5BAUDAAAALMkAtQA1ADMAAAj/AAEIFDgNRxM1hUTdAhDNm7p5/gZKnEixosWKvLSIspRoTposAIroEHijSBpEonAdm+aNHcSLMC+akhPTYpKRIQb6kchNXU2Kjwr9vHhrVSgAQs0IHHLjhAgeUtpAKsUrmbVwFeVMGsp1oq1VALYCMJPlCYAa4iZSOdq1Lcwm2CbyAOu2LkUg5CT6K2HLrt+BM95JrKfi799cJ/RJZDfSsN1YhSVeG+LYriggE6lJqVyXE5iJx7pwdsuoz8RdaUa37ZNpYqk5qruygTVw2x4MACjFHgpGGAB/b0AAcDYLwI7dNa00A2DLCcU3yGEmyQZghLaJ2ipEvwik3Ha3MeAB/9A+0ZwDXN8n5iqxDwCdVBNJ7ciVXiIsFgLFS4RPt77AUkZQFAEAL6Din0SZlAHaFAdSxAgg6qXWoER6aDKRKLBNOBAbsUy0CCIaDlTGMBOxYUmIAlGxnERPiIIiAElsM9ENrbz4wzkS9SMCeijGEI9E8+CHIi4itDeQOjy8+AoME3VzxIsAThQNFS9mopRExXzx4iIQSnSLhCHq4clEodzxIhu1TIRIIi+CQaJEapyIohXPTLSEiygmwc1ENdSI4o05lsBjiDD8OJA8TA5ZAj8SoXPDK/Rp+EoME7UzRQwixPDDEVYAwIYejGRSCiyRqlZKEhfZ4xMAyeRiilg8hEigwg+qWQJmW/sYGg0xt5SySBpmnTADD0NMoSAAiLRmUSJCIbcPPOVQJ8wrmexEBAsn3EBEE1oA0EYTY6KoGDlxAdCKJddIFBAAIfkEBQQAAAAsyQC1ADUAMwAACP8AAQgUiI3HlDaPTPE6Ru0bu3r/BkqcSLGixYrCrIQCUAiAGQBPhtw4IYJHEoSleCWzFq6dvYgXY1ps1UbmK08C9aQBk0VgDAAzlggElWuiP5kTM/VBGtMWAFCTAMkBYKXJwBIAqMyZZAoAs4t9HjEdW7EWAJxSBxKBEW5iF05k4zKVQm3ikK5y81os8k3iPxWy9AqeiKOdRH1YBysGoKKexHc1Fg+2deLoQG4/JAs2dWMiNqua84KiMpFZz9ByKU2VGKwMarmFxEqk+TquHLwAvBHSUDuuGV4A/g0C4GpgDly9ZWpJBiBYkIlKXCe/+KTui2oUJ0y/SKStRQXbLRb/BoDB3MR0C4qGn3jiHgA+pCa6srF+IuWj8SbOUoC7PoBVPFBkAQAj9OcfKFaUlgRy/k00yWoD+fJRgxMBMslErEBIoUByoDIRJYBsKNFvE91xoYgCLTeRFnChCJI1EwHhoYvd+XVCYC6ONxA+J7gIQC7tSdROZy7WUplE4RDh4yqZSWTNEz56kqBEzGjh4yRzTNTLhCgCQslEq2i4oRyrfBiii2b0MtFWPmbxlURW4OTiEzBK9EOZNIpjo1ku3mDYQPf06CKQ+Ag5QyxFCjoQPFKwUMIMQFgFBgBhaWIKjrWhAoRF++QHQDTE3FLKImlAecIMPPwwhXSIZCKQenFxPWJlaKD44RMAMegg0BcA6CEbLLAOBMkd0+XzjjjYNMeKJX10MYSiUgCQhhxTWOJjPu2Ecw0zvaxCCTQSBQQAIfkEBQMAAAAsyQC1ADUAMwAACP8AAQgUyA2IlTmTUPVaZi1cO3wDI0qcSLFixWJTQE0CJEfgkoEnADRBaAoAs4H5LKpUeUuNSlurBCKaw6bMlCE8Zpzg8STNolK4AEQLt7JiqDtFVdYCwAmSwDIAlgCZASBkljuUAARrhk3cu4mIECUdS1EWqqZPBQ5hMTGNJbJwk1KBJjGJqLh4LR7hJnHGq7yAJf5AF7EfgKCBE8OIFzEejMSJcZXgFzGcDsiBV7GNyO0IZsCikkiERuVzXktpJBIDYxpvIrERbbFpHfcOqIHkIn2gHZeNLYGRLqRS5oo32S/EACSTkU4iGeMrp9DN4UwiuAfQVe4FUCF7XB6ENYz/k7hOgfeKLOQBINRJoq4U5ydKNjzPPYC78SO2qiExgsAP+OU3kCgfRfRMEbcIOJElLkU0DGsKShSWRLXMFmFEdwQokCd6XBhRGglGBMgiHg70RTESmZFJiQJREY1ER5TCIgBHdCNRDH+xyIM6EfEjAmIlslDfQPHEMON8EZ3zw4yt3CDRNqKxKMoTEj1TGouWWDjQgzMikohEsmjp4RwaMtUhi2kAKRAgjMz4xTEprsjiFC9GZISMLBphY0QwwDLjjhHt8+OMQjbGgiws4iKCYUQuccIJNRDxRBYAyAEIJJygspRxTa7ETTMCgeKHGUsYGYMORWTBmh6PCOQnXlNCNDYNqAOR+phASVAqUSwUZeldO+FYw0wvMemRBRAC4VDEFF0IZAWJLN4jkDXJ8GLKJLQKFBAAIfkEBQMAAAAsyQC1ADUAMwAACP8AAQgU+K1IlzuWWAVrhk3cu3wDI0qcSLFixWRSOEESCMYKACAxSgD4MeUOpVULG76zyLIlLzMsawmkBEhglyVFfqgQKEWgqVzJrgm096+lRFNyjLKUZUqgnzZgABwRKHIIGD2WWgkTSA7eREiFlIqt2PTR045NgJzwJlEOpbFwlVppJpFKqLh4LTbBJpHHqryAJQ4hF9EfAFuBEwOYsXJgvZ2KAec6oS8iuRuRAbc6IbFg5rymhkik1vNzXE5fJCLrYjruoz4Sd8FsPbZPpoHoLpmgDbfNK4GfAJAyxnssmK3PVkzEUpzlXABIlE100NzikmwAMKSb2KB6RSCEP4D/8y52hldHmCQCG0Fe4uTK9CpEBAbAU/uIsSBH5ABAg/37A5lChETRDIEYgBFxElVEqyEoESOwRbRLGg5GZJtEpcxR4UBswCLRI2FtCMBxErXxlojPRTTFXSJeJ5EOf4kIRDmFlXDghuZF9JiIAOQCwD4RsaMDj7GwIJE3RfBoSpIRUTMFj5qUIdExrInIiB+xUShiH5pgqKGIHT4Y4oYkRtSGJTymONCKPLoYEQ6s8AjEOTXeWGGOjp0g04a5lADkQPQkIRAOAmkx2ySgrGKnabAYaVE5QgEAiyWwFcEZDAJZoUVEpiwqVilGJFbOMwJNWumlQ0ihaRs1AdApRZlII1mcPQMlwwsqlMhhxQ8AsMBDqACYMUcXWIpYDzsSQZJMRAEBACH5BAUEAAAALMkAtQA1ADMAAAj/AAEIFChuCZg+AF4JE0gO3r6BECNKnEiRYrMlmh71YfOFypEfM0QAGGJFj6VWC7OVc1ixZctgZVy2PDFQziSJ92RGbNVGZ8VYpTIx2tgRwI8YIokMfCUw27mJlvz4nBoRqNCNApf8ANAtoh5IVMO61JIsYhdOYtNOfGIt4hBUauMOJBIO4j8VsuTKxdEOYj6aeuXmHHguRmC1sETUg0huyOG0q3hExNbksVhQViIyy2I57CQ5EWF2pgropsB2nFJ0sDTapxxTAlVJ6AQgFQAbrWWa4QXgmgdzELdMyd2SLIAqwCKOW7CLOEW2ADQAd+6TLgAT2qj75AvgkqSIxjZo+p+Y015EZQAyjYdo64Q/iREwaFoPMXJEazzy0oeIWTPn/RB9FpEvZgAIUWk7wWFgTXBBZAkgCwq0m1dgRWgcRFqgFSF0EL0VIQDWDfTPCfotyN1Af30IwAmDCeRODR+2995A4jgWoX0QUfahJ5lBtNmHAkJE4IcIQtSKghHK0eBAD344IURffXjhQBl+yOFAHkYYokAjlmjgiQLlU4ItH6pg3kD3GCGCCjoUIUUXacxRiCWhOCejTL40qMVWAg2xhEBtQCjXKnym5U5dAOQp0J5q8UjcPOx4Q80xAJgyCRxT8FACRF+kAUAZoC3ozzwASHrMLqMwQgxEAQEAIfkEBQMAAAAsyQC1ADUAMwAACP8AAQgUeO6JGUCcag17tu1cPH4DI0qcSLFixWdHMjHSA6DLFCM8YACAkURLH00KGTqEaLGlxWFgXALI9EigGSpPjOAQAeCHFj2UVvlqJtAdS5kDa7FBavHVKIF61HgEKZKkmZO1iDEEEM+fRE8cmYqN6BSqGoFHBHKTCGjR2LcuvxyTaCYT3LsUp0STaKQU3r8DjXiTCOMVYMA81EXkJwLX4b8s5kVUx+IxXlkh6EU898Py3VY3JG5L4hmuqCcSn1Ep/dbS0ogwWY9F5LboqBcjZIudI0ogrQuVgOkWm8bx2olShreUC2CMLoq5lFfUC+ADOIqOpU8UDOBFNe1MEwP/0DRRWQbwEyMDuCfRWQNL6CPiEtEvogQAFirAjz8QtERsN8DCn0SnpWbFgBK5JlFsCA5Em0SyvNYgALxJxElYExbHFiMTCsRcRHV1CAB1EfUlIncRwSBgh+INxFh2E6o3UDwxiDhffQNxJmIrOIhGWocFRvTMgR0qCFtMHSLCYUQRilhhRBeKqGFEgCw54YcDhdghiYH51SGKA6koYosCvSiijALlU0QILPBgxBRfCIQIAKK0AiNrN1bkTjgRURJWCSXgYEQSVJgxh0CerHLLZz165qdAgAr6RKGHApDoohMFKVt9ikVTDC6lLMKGFDqIAMMPSVgBxllpSIggpwB4CYqLKIgEE1FAAAAh+QQFAwAAACzJALYANQAyAAAI9wABCBQIzcjAgUcOKlzIsKFDhcQeSpxIcaGtig9LDWSDsSGoOx1DMvxycJvCQolEqmTYpdhCSytjPkwySqbNbgpn2NzJs+dCdip8qpwn1GYNhdwSFo0JbanMiE4rIhr4TmAHSlE7ShBIKuvEWwIvpFMYxStLlwCAKTRn9uGIthVxwu34qZFCZxjmLsTHEKteiX7/Hj2Yrcarvw+hUUH8ECpjgVMP1nrsEBRlgWAPoqTc8uXlhTQvyx044/Dn0w9hoF4N4AZSpasVswbg+HFKybMBWL6ceeDmx50VwmQdmvJogaVz92Ys76A+g5RL5HadO7ea3L4OBgQAOw==\" />"
      ]
     },
     "metadata": {},
     "execution_count": 87
    }
   ],
   "metadata": {}
  },
  {
   "cell_type": "code",
   "execution_count": 88,
   "source": [
    "h_control/4"
   ],
   "outputs": [
    {
     "output_type": "execute_result",
     "data": {
      "text/plain": [
       "0.0125"
      ]
     },
     "metadata": {},
     "execution_count": 88
    }
   ],
   "metadata": {}
  },
  {
   "cell_type": "code",
   "execution_count": null,
   "source": [],
   "outputs": [],
   "metadata": {}
  }
 ],
 "metadata": {
  "orig_nbformat": 4,
  "language_info": {
   "file_extension": ".jl",
   "name": "julia",
   "mimetype": "application/julia",
   "version": "1.6.2"
  },
  "kernelspec": {
   "name": "julia-1.6",
   "display_name": "Julia 1.6.2",
   "language": "julia"
  }
 },
 "nbformat": 4,
 "nbformat_minor": 2
}