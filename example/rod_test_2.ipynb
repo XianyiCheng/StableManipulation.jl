{
 "cells": [
  {
   "cell_type": "markdown",
   "metadata": {},
   "source": []
  },
  {
   "cell_type": "code",
   "execution_count": 1,
   "metadata": {},
   "outputs": [
    {
     "name": "stderr",
     "output_type": "stream",
     "text": [
      "\u001b[32m\u001b[1m  Activating\u001b[22m\u001b[39m environment at `~/.julia/dev/StableManipulation/Project.toml`\n"
     ]
    }
   ],
   "source": [
    "import Pkg; Pkg.activate(joinpath(@__DIR__,\"..\")); Pkg.instantiate()"
   ]
  },
  {
   "cell_type": "code",
   "execution_count": 2,
   "metadata": {},
   "outputs": [],
   "source": [
    "using LinearAlgebra\n",
    "using ForwardDiff\n",
    "using OrdinaryDiffEq\n",
    "using Plots\n",
    "using Convex, SCS\n",
    "using JLD\n",
    "using StableManipulation"
   ]
  },
  {
   "cell_type": "code",
   "execution_count": 3,
   "metadata": {},
   "outputs": [
    {
     "data": {
      "text/plain": [
       "Main.RodWorld"
      ]
     },
     "execution_count": 3,
     "metadata": {},
     "output_type": "execute_result"
    }
   ],
   "source": [
    "include(\"../models/rod_corner_frictionless_concave.jl\")"
   ]
  },
  {
   "cell_type": "code",
   "execution_count": 4,
   "metadata": {},
   "outputs": [
    {
     "data": {
      "text/plain": [
       "1.0e-5"
      ]
     },
     "execution_count": 4,
     "metadata": {},
     "output_type": "execute_result"
    }
   ],
   "source": [
    "dynamics! = RodWorld.ode_dynamics!\n",
    "conditions = RodWorld.ode_conditions\n",
    "affect! = RodWorld.ode_affect!\n",
    "affect_neg! = RodWorld.ode_affect_neg!\n",
    "\n",
    "domain = RodWorld.domain\n",
    "guard_set = RodWorld.guard_set\n",
    "jumpmap = RodWorld.jumpmap\n",
    "\n",
    "n_contacts = RodWorld.n_contacts\n",
    "Δt = RodWorld.Δt\n",
    "modes = RodWorld.modes\n",
    "\n",
    "tol_c = RodWorld.tol_c\n"
   ]
  },
  {
   "cell_type": "code",
   "execution_count": 5,
   "metadata": {},
   "outputs": [
    {
     "data": {
      "text/plain": [
       "no_controller (generic function with 1 method)"
      ]
     },
     "execution_count": 5,
     "metadata": {},
     "output_type": "execute_result"
    }
   ],
   "source": [
    "function no_controller(x, contactMode)\n",
    "    return zeros(3)\n",
    "end"
   ]
  },
  {
   "cell_type": "code",
   "execution_count": 6,
   "metadata": {},
   "outputs": [
    {
     "data": {
      "text/plain": [
       "3-element Vector{Float64}:\n",
       " -4.900000000000001\n",
       "  0.0\n",
       "  0.0"
      ]
     },
     "execution_count": 6,
     "metadata": {},
     "output_type": "execute_result"
    }
   ],
   "source": [
    "# goal: hold the rod at 45 degrees at the corner\n",
    "xref = [cos(pi/4)*RodWorld.l/2; sin(pi/4)*RodWorld.l/2; pi/4; 0; 0; 0]\n",
    "\n",
    "nominal_mode = [true, true]\n",
    "\n",
    "function wrench_control_2_body(x, control_u)\n",
    "    u = [control_u[1]; control_u[2]; \n",
    "        control_u[3] - control_u[1]*sin(x[3])*RodWorld.l/2 + control_u[2]*cos(x[3])*RodWorld.l/2]\n",
    "    return u\n",
    "end\n",
    "\n",
    "function control_discrete_dynamics(x, control_u, mode)\n",
    "    u = wrench_control_2_body(x,control_u)\n",
    "    xn = RodWorld.discrete_dynamics(x, u, mode)\n",
    "    return xn\n",
    "end\n",
    "\n",
    "function control_dynamics(x, control_u, mode)\n",
    "    u = wrench_control_2_body(x,control_u)\n",
    "    dx = RodWorld.continuous_dynamics_differentiable(x, u, mode)\n",
    "    return dx\n",
    "end\n",
    "\n",
    "control_u_ref = [-RodWorld.m*RodWorld.g*cot(pi/4)/2; 0; 0]"
   ]
  },
  {
   "cell_type": "code",
   "execution_count": 7,
   "metadata": {},
   "outputs": [
    {
     "data": {
      "text/plain": [
       "ref_controller (generic function with 1 method)"
      ]
     },
     "execution_count": 7,
     "metadata": {},
     "output_type": "execute_result"
    }
   ],
   "source": [
    "function ref_controller(x, contactMode)\n",
    "    f = wrench_control_2_body(x, control_u_ref)\n",
    "    #f = [0;RodWorld.m*RodWorld.g;0]\n",
    "    return f\n",
    "end"
   ]
  },
  {
   "cell_type": "markdown",
   "metadata": {},
   "source": [
    "# LQR"
   ]
  },
  {
   "cell_type": "code",
   "execution_count": 8,
   "metadata": {},
   "outputs": [
    {
     "data": {
      "text/plain": [
       "lqr_controller (generic function with 1 method)"
      ]
     },
     "execution_count": 8,
     "metadata": {},
     "output_type": "execute_result"
    }
   ],
   "source": [
    "# LQR controller\n",
    "# compute infinite horizon K\n",
    "A_lqr = ForwardDiff.jacobian(_x->control_discrete_dynamics(_x, control_u_ref, nominal_mode), xref)\n",
    "B_lqr = ForwardDiff.jacobian(_u->control_discrete_dynamics(xref, _u, nominal_mode), control_u_ref)\n",
    "# Q_lqr = Diagonal([1.0; 1.0; 1.0; 0.5; 0.5; 0.5])\n",
    "Q_lqr = Diagonal([1.0; 1.0; 1.0; 0.5; 0.5; 0.5])\n",
    "R_lqr = Diagonal([0.1; 0.1; 0.1])\n",
    "\n",
    "Ks, _ = StableManipulation.riccati(A_lqr,B_lqr,Q_lqr,R_lqr,Q_lqr,50)\n",
    "K_lqr = Ks[1]\n",
    "\n",
    "function lqr_controller(x, contactMode)\n",
    "    control_u = control_u_ref .- K_lqr*(x .- xref)\n",
    "    f = wrench_control_2_body(x,control_u)\n",
    "    return f\n",
    "end\n"
   ]
  },
  {
   "cell_type": "code",
   "execution_count": 9,
   "metadata": {},
   "outputs": [
    {
     "data": {
      "text/plain": [
       "3×6 Matrix{Float64}:\n",
       "  0.206036  -0.206036  -4.42748   0.124395  -0.124395  -1.20322\n",
       " -0.206036   0.206036   4.42748  -0.124395   0.124395   1.20322\n",
       " -0.291379   0.291379   6.26141  -0.175921   0.175921   1.70161"
      ]
     },
     "execution_count": 9,
     "metadata": {},
     "output_type": "execute_result"
    }
   ],
   "source": [
    "K_lqr"
   ]
  },
  {
   "cell_type": "markdown",
   "metadata": {},
   "source": [
    "# Hybrid Controller"
   ]
  },
  {
   "cell_type": "code",
   "execution_count": 10,
   "metadata": {},
   "outputs": [
    {
     "data": {
      "text/plain": [
       "dVdx (generic function with 1 method)"
      ]
     },
     "execution_count": 10,
     "metadata": {},
     "output_type": "execute_result"
    }
   ],
   "source": [
    "# Lyapunov function\n",
    "function V(x)\n",
    "    q = x[1:3] + x[4:6]\n",
    "    dq = x[4:6]\n",
    "\n",
    "    v = 0.5*([q;dq] .- xref)'*Q_lqr*([q;dq] .- xref)\n",
    "\n",
    "    return v\n",
    "end \n",
    "\n",
    "function dVdx(x)\n",
    "    res = ForwardDiff.gradient(V, x)\n",
    "    return res\n",
    "end"
   ]
  },
  {
   "cell_type": "code",
   "execution_count": 55,
   "metadata": {},
   "outputs": [
    {
     "data": {
      "text/plain": [
       "hybrid_constraints_matrix (generic function with 1 method)"
      ]
     },
     "execution_count": 55,
     "metadata": {},
     "output_type": "execute_result"
    }
   ],
   "source": [
    "# problem specific numbers\n",
    "\n",
    "const n_modes = size(modes, 1)\n",
    "\n",
    "const n_u = 3\n",
    "const n_β = 50\n",
    "const n_α = 2*n_modes - 1\n",
    "\n",
    "function hybrid_constraints_matrix(x, u_ref)\n",
    "\n",
    "\n",
    "    n = n_u + n_β + n_α\n",
    "    m = 2*n_modes - 1\n",
    "\n",
    "    A = zeros(m, n)\n",
    "    b = zeros(m)\n",
    "\n",
    "    nominal_mode = [true, true]\n",
    "\n",
    "    β_idx = 1\n",
    "\n",
    "    Vx = dVdx(x)\n",
    "    Vv = V(x)\n",
    "\n",
    "    # mode dynamics\n",
    "    \n",
    "    for k = 1:n_modes\n",
    "\n",
    "        m = modes[k,:]\n",
    "        \n",
    "        d_ineq, d_eq = domain(x, m)\n",
    "        \n",
    "        # TODO: debug this!!!\n",
    "        # if sum(d_ineq.<tol_c)>0 || sum(abs.(d_eq) .> tol_c)>0\n",
    "        #     b[k] = 0.1\n",
    "        #     continue\n",
    "        # end\n",
    "        \n",
    "        n_ineq = size(d_ineq, 1)\n",
    "        n_eq = size(d_eq, 1)\n",
    "        \n",
    "        dfdu = ForwardDiff.jacobian(_u->control_dynamics(x, _u, m), u_ref)\n",
    "        \n",
    "        b[k] = -Vx'*control_dynamics(x, u_ref, m)\n",
    "        \n",
    "        # α\n",
    "        A[k, n_u+n_β+k] = -Vv\n",
    "        A[k, 1:n_u] = -Vx'*dfdu\n",
    "        A[k, β_idx:β_idx+n_ineq-1] .= -d_ineq\n",
    "        A[k, β_idx+n_ineq:β_idx+n_ineq+n_eq-1] .= -d_eq \n",
    "        A[k, β_idx+n_ineq+n_eq:β_idx+n_ineq+2*n_eq-1] .= d_eq \n",
    "        \n",
    "        β_idx += n_ineq + 2*n_eq\n",
    "        \n",
    "    end\n",
    "        \n",
    "    # TODO: nominal_mode isn't always the last mode\n",
    "    k = 1\n",
    "    for k_ = 1:n_modes\n",
    "        \n",
    "        mode_from = modes[k,:]\n",
    "\n",
    "        if StableManipulation.is_same_mode(mode_from, nominal_mode)\n",
    "            continue\n",
    "        end\n",
    "        \n",
    "        d_ineq, d_eq = guard_set(x, mode_from, nominal_mode)\n",
    "        \n",
    "        # if sum(d_ineq.<tol_c)>0 || sum(abs.(d_eq) .> tol_c)>0\n",
    "        #     b[k] = 0.1\n",
    "        #     continue\n",
    "        # end\n",
    "        \n",
    "        n_ineq = size(d_ineq, 1)\n",
    "        n_eq = size(d_eq, 1)\n",
    "        \n",
    "        xp = jumpmap(x, mode_from, nominal_mode)\n",
    "        \n",
    "        dfdu = ForwardDiff.jacobian(_u->control_dynamics(xp, _u, nominal_mode), u_ref)\n",
    "        \n",
    "        b[n_modes+k] = -Vx'*control_dynamics(xp, u_ref, nominal_mode)\n",
    "        A[k, n_u+n_β+n_modes+k] = -Vv\n",
    "        A[n_modes+k, 1:n_u] = -Vx'*dfdu\n",
    "        A[n_modes+k, β_idx:β_idx+n_ineq-1] .= -d_ineq\n",
    "        A[n_modes+k, β_idx+n_ineq:β_idx+n_ineq+n_eq-1] .= -d_eq \n",
    "        A[n_modes+k, β_idx+n_ineq+n_eq:β_idx+n_ineq+2*n_eq-1] .= d_eq \n",
    "        \n",
    "        β_idx += n_ineq + 2*n_eq\n",
    "        k += 1\n",
    "        \n",
    "    end\n",
    "    \n",
    "    return A, b\n",
    "\n",
    "end\n"
   ]
  },
  {
   "cell_type": "code",
   "execution_count": 56,
   "metadata": {},
   "outputs": [
    {
     "data": {
      "text/plain": [
       "hybrid_controller_reference (generic function with 1 method)"
      ]
     },
     "execution_count": 56,
     "metadata": {},
     "output_type": "execute_result"
    }
   ],
   "source": [
    "# use LQR as the reference for the hybrid controller\n",
    "function hybrid_controller_reference(x, contactMode)\n",
    "    control_u = control_u_ref .- K_lqr*(x .- xref)\n",
    "    return control_u\n",
    "end "
   ]
  },
  {
   "cell_type": "code",
   "execution_count": 69,
   "metadata": {},
   "outputs": [
    {
     "data": {
      "text/plain": [
       "hybrid_controller (generic function with 1 method)"
      ]
     },
     "execution_count": 69,
     "metadata": {},
     "output_type": "execute_result"
    }
   ],
   "source": [
    "function hybrid_controller(x, contactMode)\n",
    "    \n",
    "    u_ref = hybrid_controller_reference(x, contactMode) # from reference controller\n",
    "    \n",
    "    α_ref = 15\n",
    "\n",
    "    n_var = n_u + n_β + n_α\n",
    "\n",
    "    z = Variable(n_var)\n",
    "    A, b = hybrid_constraints_matrix(x, u_ref)\n",
    "    \n",
    "    problem = minimize(sumsquares(z - [zeros(n_u + n_β); α_ref*ones(n_α)]))\n",
    "    # problem = minimize(sumsquares(z - [u_ref; zeros(n_β); α_ref*ones(n_α)]))\n",
    "    problem.constraints += A*z + b >= 0\n",
    "    problem.constraints += z[n_u+1:end] >= 0\n",
    "    # problem.constraints += z[1:n_u] <= 10\n",
    "    # problem.constraints += z[1:n_u] >= -10\n",
    "\n",
    "    Convex.solve!(problem, () -> SCS.Optimizer(verbose=false))\n",
    "    \n",
    "    z_sol = evaluate(z)\n",
    "    if any(isnan.(z_sol)) || sum(z_sol) == Inf # infeasible\n",
    "        z_sol = zeros(n_var)\n",
    "#         println(\"Infeasible: \")\n",
    "#         println(x)\n",
    "#         println(contactMode)\n",
    "    end\n",
    "    \n",
    "    u = z_sol[1:n_u] .+ u_ref\n",
    "    \n",
    "    # return space wrench\n",
    "    f = wrench_control_2_body(x, u)\n",
    "    \n",
    "    return f\n",
    "    \n",
    "end"
   ]
  },
  {
   "cell_type": "code",
   "execution_count": 70,
   "metadata": {},
   "outputs": [
    {
     "data": {
      "text/plain": [
       "3-element Vector{Float64}:\n",
       "  0.14954819322614732\n",
       " -0.004062386375550611\n",
       " -0.06011413534924316"
      ]
     },
     "execution_count": 70,
     "metadata": {},
     "output_type": "execute_result"
    }
   ],
   "source": [
    "hybrid_controller(x0, [false, true])"
   ]
  },
  {
   "cell_type": "code",
   "execution_count": 71,
   "metadata": {},
   "outputs": [
    {
     "data": {
      "text/plain": [
       "3-element Vector{Float64}:\n",
       " -4.897939636770726\n",
       " -0.0020603632292752064\n",
       "  1.728040923473658"
      ]
     },
     "execution_count": 71,
     "metadata": {},
     "output_type": "execute_result"
    }
   ],
   "source": [
    "lqr_controller(x0, [false, true])"
   ]
  },
  {
   "cell_type": "code",
   "execution_count": 72,
   "metadata": {},
   "outputs": [
    {
     "name": "stdout",
     "output_type": "stream",
     "text": [
      "Simulation status: Success\n"
     ]
    }
   ],
   "source": [
    "controller = hybrid_controller\n",
    "\n",
    "x0 = xref .+ [-0.01;0;0;0;0;0]\n",
    "initial_mode = [false, true]\n",
    "\n",
    "tspan = (0.0, 1.5)\n",
    "callback_length = 2*RodWorld.n_contacts\n",
    "\n",
    "h_control = RodWorld.Δt\n",
    "\n",
    "prob = ODEProblem(dynamics!, x0, tspan, (initial_mode, controller, [0.0], h_control, controller(x0, initial_mode)))\n",
    "cb = VectorContinuousCallback(conditions, affect!, affect_neg!, callback_length)\n",
    "sol = solve(prob, Tsit5(); callback = cb, abstol=1e-15,reltol=1e-15, adaptive=false,dt=RodWorld.Δt/10)\n",
    "# sol = solve(prob, Tsit5(); callback = cb, abstol=1e-15,reltol=1e-15)\n",
    "println(\"Simulation status: \", sol.retcode)"
   ]
  },
  {
   "cell_type": "code",
   "execution_count": 67,
   "metadata": {},
   "outputs": [
    {
     "data": {
      "text/plain": [
       "301"
      ]
     },
     "execution_count": 67,
     "metadata": {},
     "output_type": "execute_result"
    }
   ],
   "source": [
    "n = length(sol.t)"
   ]
  },
  {
   "cell_type": "code",
   "execution_count": 73,
   "metadata": {},
   "outputs": [
    {
     "name": "stderr",
     "output_type": "stream",
     "text": [
      "┌ Info: Saved animation to \n",
      "│   fn = /Users/xianyi/.julia/dev/StableManipulation/example/anim.gif\n",
      "└ @ Plots /Users/xianyi/.julia/packages/Plots/YAlrZ/src/animation.jl:114\n"
     ]
    },
    {
     "data": {
      "text/html": [
       "<img src=\"data:image/gif;base64,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\" />"
      ],
      "text/plain": [
       "Plots.AnimatedGif(\"/Users/xianyi/.julia/dev/StableManipulation/example/anim.gif\")"
      ]
     },
     "execution_count": 73,
     "metadata": {},
     "output_type": "execute_result"
    }
   ],
   "source": [
    "n = length(sol.t)\n",
    "interval_n = 1\n",
    "# n = Int(floor(0.77/Δt))\n",
    "x = zeros(Int(floor(n/interval_n))+1)\n",
    "y = zeros(Int(floor(n/interval_n))+1)\n",
    "θ = zeros(Int(floor(n/interval_n))+1)\n",
    "for i = 1:interval_n:n\n",
    "    k = Int(floor(i/interval_n)+1)\n",
    "    x[k] = sol.u[i][1]\n",
    "    y[k] = sol.u[i][2]\n",
    "    θ[k] = sol.u[i][3]\n",
    "end\n",
    "\n",
    "RodWorld.animation(x,y,θ,Int(floor(n/interval_n))+1)"
   ]
  },
  {
   "cell_type": "code",
   "execution_count": null,
   "metadata": {},
   "outputs": [],
   "source": []
  }
 ],
 "metadata": {
  "kernelspec": {
   "display_name": "Julia 1.6.2",
   "language": "julia",
   "name": "julia-1.6"
  },
  "language_info": {
   "file_extension": ".jl",
   "mimetype": "application/julia",
   "name": "julia",
   "version": "1.6.2"
  },
  "orig_nbformat": 4
 },
 "nbformat": 4,
 "nbformat_minor": 2
}
