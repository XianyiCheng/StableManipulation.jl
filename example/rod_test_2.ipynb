{
 "cells": [
  {
   "cell_type": "markdown",
   "source": [],
   "metadata": {}
  },
  {
   "cell_type": "code",
   "execution_count": 1,
   "source": [
    "import Pkg; Pkg.activate(joinpath(@__DIR__,\"..\")); Pkg.instantiate()"
   ],
   "outputs": [
    {
     "output_type": "stream",
     "name": "stderr",
     "text": [
      "\u001b[32m\u001b[1m  Activating\u001b[22m\u001b[39m environment at `~/.julia/dev/StableManipulation/Project.toml`\n"
     ]
    }
   ],
   "metadata": {}
  },
  {
   "cell_type": "code",
   "execution_count": 2,
   "source": [
    "using LinearAlgebra\n",
    "using ForwardDiff\n",
    "using OrdinaryDiffEq\n",
    "using Plots\n",
    "using Convex, SCS\n",
    "using JLD\n",
    "using StableManipulation"
   ],
   "outputs": [],
   "metadata": {}
  },
  {
   "cell_type": "code",
   "execution_count": 3,
   "source": [
    "include(\"../models/rod_corner_frictionless_concave.jl\")"
   ],
   "outputs": [
    {
     "output_type": "execute_result",
     "data": {
      "text/plain": [
       "Main.RodWorld"
      ]
     },
     "metadata": {},
     "execution_count": 3
    }
   ],
   "metadata": {}
  },
  {
   "cell_type": "code",
   "execution_count": 4,
   "source": [
    "dynamics! = RodWorld.ode_dynamics!\n",
    "conditions = RodWorld.ode_conditions\n",
    "affect! = RodWorld.ode_affect!\n",
    "affect_neg! = RodWorld.ode_affect_neg!\n",
    "\n",
    "domain = RodWorld.domain\n",
    "guard_set = RodWorld.guard_set\n",
    "jumpmap = RodWorld.jumpmap\n",
    "\n",
    "n_contacts = RodWorld.n_contacts\n",
    "Δt = RodWorld.Δt\n",
    "modes = RodWorld.modes\n",
    "\n",
    "tol_c = RodWorld.tol_c\n"
   ],
   "outputs": [
    {
     "output_type": "execute_result",
     "data": {
      "text/plain": [
       "0.0005"
      ]
     },
     "metadata": {},
     "execution_count": 4
    }
   ],
   "metadata": {}
  },
  {
   "cell_type": "code",
   "execution_count": 5,
   "source": [
    "function no_controller(x, contactMode)\n",
    "    return zeros(3)\n",
    "end"
   ],
   "outputs": [
    {
     "output_type": "execute_result",
     "data": {
      "text/plain": [
       "no_controller (generic function with 1 method)"
      ]
     },
     "metadata": {},
     "execution_count": 5
    }
   ],
   "metadata": {}
  },
  {
   "cell_type": "code",
   "execution_count": 6,
   "source": [
    "# goal: hold the rod at 45 degrees at the corner\n",
    "xref = [cos(pi/4)*RodWorld.l/2; sin(pi/4)*RodWorld.l/2; pi/4; 0; 0; 0]\n",
    "\n",
    "nominal_mode = [true, true]\n",
    "\n",
    "function wrench_control_2_body(x, control_u)\n",
    "    u = [control_u[1]; control_u[2]; \n",
    "        control_u[3] - control_u[1]*sin(x[3])*RodWorld.l/2 + control_u[2]*cos(x[3])*RodWorld.l/2]\n",
    "    return u\n",
    "end\n",
    "\n",
    "function control_discrete_dynamics(x, control_u, mode)\n",
    "    u = wrench_control_2_body(x,control_u)\n",
    "    xn = RodWorld.discrete_dynamics(x, u, mode)\n",
    "    return xn\n",
    "end\n",
    "\n",
    "function control_dynamics(x, control_u, mode)\n",
    "    u = wrench_control_2_body(x,control_u)\n",
    "    dx = RodWorld.continuous_dynamics_differentiable(x, u, mode)\n",
    "    return dx\n",
    "end\n",
    "\n",
    "control_u_ref = [-RodWorld.m*RodWorld.g*cot(pi/4)/2; 0; 0]"
   ],
   "outputs": [
    {
     "output_type": "execute_result",
     "data": {
      "text/plain": [
       "3-element Vector{Float64}:\n",
       " -4.900000000000001\n",
       "  0.0\n",
       "  0.0"
      ]
     },
     "metadata": {},
     "execution_count": 6
    }
   ],
   "metadata": {}
  },
  {
   "cell_type": "code",
   "execution_count": 7,
   "source": [
    "function ref_controller(x, contactMode)\n",
    "    f = wrench_control_2_body(x, control_u_ref)\n",
    "    #f = [0;RodWorld.m*RodWorld.g;0]\n",
    "    return f\n",
    "end"
   ],
   "outputs": [
    {
     "output_type": "execute_result",
     "data": {
      "text/plain": [
       "ref_controller (generic function with 1 method)"
      ]
     },
     "metadata": {},
     "execution_count": 7
    }
   ],
   "metadata": {}
  },
  {
   "cell_type": "markdown",
   "source": [
    "# LQR"
   ],
   "metadata": {}
  },
  {
   "cell_type": "code",
   "execution_count": 8,
   "source": [
    "# LQR controller\n",
    "# compute infinite horizon K\n",
    "A_lqr = ForwardDiff.jacobian(_x->control_discrete_dynamics(_x, control_u_ref, nominal_mode), xref)\n",
    "B_lqr = ForwardDiff.jacobian(_u->control_discrete_dynamics(xref, _u, nominal_mode), control_u_ref)\n",
    "# Q_lqr = Diagonal([1.0; 1.0; 1.0; 0.5; 0.5; 0.5])\n",
    "Q_lqr = Diagonal([1.0; 1.0; 1.0; 0.5; 0.5; 0.5])\n",
    "R_lqr = Diagonal([0.1; 0.1; 0.1])\n",
    "\n",
    "Ks, _ = StableManipulation.riccati(A_lqr,B_lqr,Q_lqr,R_lqr,Q_lqr,50)\n",
    "K_lqr = Ks[1]\n",
    "\n",
    "function lqr_controller(x, contactMode)\n",
    "    control_u = control_u_ref .- K_lqr*(x .- xref)\n",
    "    f = wrench_control_2_body(x,control_u)\n",
    "    return f\n",
    "end\n"
   ],
   "outputs": [
    {
     "output_type": "execute_result",
     "data": {
      "text/plain": [
       "lqr_controller (generic function with 1 method)"
      ]
     },
     "metadata": {},
     "execution_count": 8
    }
   ],
   "metadata": {}
  },
  {
   "cell_type": "code",
   "execution_count": 9,
   "source": [
    "K_lqr"
   ],
   "outputs": [
    {
     "output_type": "execute_result",
     "data": {
      "text/plain": [
       "3×6 Matrix{Float64}:\n",
       "  0.206015  -0.206049  -4.42749   0.124351  -0.124422  -1.20323\n",
       " -0.206045   0.206019   4.42749  -0.124413   0.12436    1.20323\n",
       " -0.29139    0.291396   6.2614   -0.175942   0.175956   1.70159"
      ]
     },
     "metadata": {},
     "execution_count": 9
    }
   ],
   "metadata": {}
  },
  {
   "cell_type": "markdown",
   "source": [
    "# Hybrid Controller"
   ],
   "metadata": {}
  },
  {
   "cell_type": "code",
   "execution_count": 10,
   "source": [
    "# Lyapunov function\n",
    "function V(x)\n",
    "    q = x[1:3] + x[4:6]\n",
    "    dq = x[4:6]\n",
    "\n",
    "    v = 0.5*([q;dq] .- xref)'*Q_lqr*([q;dq] .- xref)\n",
    "\n",
    "    return v\n",
    "end \n",
    "\n",
    "function dVdx(x)\n",
    "    res = ForwardDiff.gradient(V, x)\n",
    "    return res\n",
    "end"
   ],
   "outputs": [
    {
     "output_type": "execute_result",
     "data": {
      "text/plain": [
       "dVdx (generic function with 1 method)"
      ]
     },
     "metadata": {},
     "execution_count": 10
    }
   ],
   "metadata": {}
  },
  {
   "cell_type": "code",
   "execution_count": 11,
   "source": [
    "# problem specific numbers\n",
    "\n",
    "const n_modes = size(modes, 1)\n",
    "\n",
    "const n_u = 3\n",
    "const n_β = 50\n",
    "const n_α = 2*n_modes - 1\n",
    "\n",
    "function hybrid_constraints_matrix(x, u_ref)\n",
    "\n",
    "\n",
    "    n = n_u + n_β + n_α\n",
    "    m = 2*n_modes - 1\n",
    "\n",
    "    A = zeros(m, n)\n",
    "    b = zeros(m)\n",
    "\n",
    "    nominal_mode = [true, true]\n",
    "\n",
    "    β_idx = 1\n",
    "\n",
    "    Vx = dVdx(x)\n",
    "    Vv = V(x)\n",
    "\n",
    "    # mode dynamics\n",
    "    \n",
    "    for k = 1:n_modes\n",
    "\n",
    "        m = modes[k,:]\n",
    "        \n",
    "        d_ineq, d_eq = domain(x, m)\n",
    "        \n",
    "        # TODO: debug this!!!\n",
    "        # if sum(d_ineq.<tol_c)>0 || sum(abs.(d_eq) .> tol_c)>0\n",
    "        #     b[k] = 0.1\n",
    "        #     continue\n",
    "        # end\n",
    "        \n",
    "        n_ineq = size(d_ineq, 1)\n",
    "        n_eq = size(d_eq, 1)\n",
    "        \n",
    "        dfdu = ForwardDiff.jacobian(_u->control_dynamics(x, _u, m), u_ref)\n",
    "        \n",
    "        b[k] = -Vx'*control_dynamics(x, u_ref, m)\n",
    "        \n",
    "        # α\n",
    "        A[k, n_u+n_β+k] = -Vv\n",
    "        A[k, 1:n_u] = -Vx'*dfdu\n",
    "        A[k, β_idx:β_idx+n_ineq-1] .= -d_ineq\n",
    "        A[k, β_idx+n_ineq:β_idx+n_ineq+n_eq-1] .= -d_eq \n",
    "        A[k, β_idx+n_ineq+n_eq:β_idx+n_ineq+2*n_eq-1] .= d_eq \n",
    "        \n",
    "        β_idx += n_ineq + 2*n_eq\n",
    "        \n",
    "    end\n",
    "        \n",
    "    # TODO: nominal_mode isn't always the last mode\n",
    "    k = 1\n",
    "    for k_ = 1:n_modes\n",
    "        \n",
    "        mode_from = modes[k,:]\n",
    "\n",
    "        if StableManipulation.is_same_mode(mode_from, nominal_mode)\n",
    "            continue\n",
    "        end\n",
    "        \n",
    "        d_ineq, d_eq = guard_set(x, mode_from, nominal_mode)\n",
    "        \n",
    "        # if sum(d_ineq.<tol_c)>0 || sum(abs.(d_eq) .> tol_c)>0\n",
    "        #     b[k] = 0.1\n",
    "        #     continue\n",
    "        # end\n",
    "        \n",
    "        n_ineq = size(d_ineq, 1)\n",
    "        n_eq = size(d_eq, 1)\n",
    "        \n",
    "        xp = jumpmap(x, mode_from, nominal_mode)\n",
    "        \n",
    "        dfdu = ForwardDiff.jacobian(_u->control_dynamics(xp, _u, nominal_mode), u_ref)\n",
    "        \n",
    "        b[n_modes+k] = -Vx'*control_dynamics(xp, u_ref, nominal_mode)\n",
    "        A[k, n_u+n_β+n_modes+k] = -Vv\n",
    "        A[n_modes+k, 1:n_u] = -Vx'*dfdu\n",
    "        A[n_modes+k, β_idx:β_idx+n_ineq-1] .= -d_ineq\n",
    "        A[n_modes+k, β_idx+n_ineq:β_idx+n_ineq+n_eq-1] .= -d_eq \n",
    "        A[n_modes+k, β_idx+n_ineq+n_eq:β_idx+n_ineq+2*n_eq-1] .= d_eq \n",
    "        \n",
    "        β_idx += n_ineq + 2*n_eq\n",
    "        k += 1\n",
    "        \n",
    "    end\n",
    "    \n",
    "    return A, b\n",
    "\n",
    "end"
   ],
   "outputs": [
    {
     "output_type": "execute_result",
     "data": {
      "text/plain": [
       "hybrid_constraints_matrix (generic function with 1 method)"
      ]
     },
     "metadata": {},
     "execution_count": 11
    }
   ],
   "metadata": {}
  },
  {
   "cell_type": "code",
   "execution_count": 12,
   "source": [
    "# use LQR as the reference for the hybrid controller\n",
    "function hybrid_controller_reference(x, contactMode)\n",
    "    control_u = control_u_ref .- K_lqr*(x .- xref)\n",
    "    return control_u\n",
    "end "
   ],
   "outputs": [
    {
     "output_type": "execute_result",
     "data": {
      "text/plain": [
       "hybrid_controller_reference (generic function with 1 method)"
      ]
     },
     "metadata": {},
     "execution_count": 12
    }
   ],
   "metadata": {}
  },
  {
   "cell_type": "code",
   "execution_count": 41,
   "source": [
    "function hybrid_controller(x, contactMode)\n",
    "\n",
    "    # TODO: \n",
    "    # (1) check K_lqr, same K_lqr for every mode?\n",
    "    # (2) computation of u_ref for every mode, how?\n",
    "    \n",
    "    # u_ref = hybrid_controller_reference(x, contactMode) # from reference controller\n",
    "    \n",
    "    a = RodWorld.compute_a(x[1:3])\n",
    "\n",
    "    m = abs.(a) .< tol_c\n",
    "    if StableManipulation.is_same_mode(m, [true, true])\n",
    "        u_ref = control_u_ref .- K_lqr*(x .- xref)\n",
    "    elseif StableManipulation.is_same_mode(m, [false, true])\n",
    "        u_ref = [0;RodWorld.m*RodWorld.g/2;0] .- K_lqr*(x .- xref)\n",
    "    else \n",
    "        u_ref = [0;RodWorld.m*RodWorld.g;-RodWorld.m*RodWorld.g*cos(x[3])*RodWorld.l/2] .- K_lqr*(x .- xref)\n",
    "    end\n",
    "    \n",
    "    α_ref = 15\n",
    "\n",
    "    n_var = n_u + n_β + n_α\n",
    "\n",
    "    z = Variable(n_var)\n",
    "    A, b = hybrid_constraints_matrix(x, u_ref)\n",
    "    \n",
    "    problem = minimize(sumsquares(z - [zeros(n_u + n_β); α_ref*ones(n_α)]))\n",
    "    # problem = minimize(sumsquares(z - [u_ref; zeros(n_β); α_ref*ones(n_α)]))\n",
    "    problem.constraints += A*z + b >= 0\n",
    "    problem.constraints += z[n_u+1:end] >= 0\n",
    "    # problem.constraints += z[1:n_u] <= 10\n",
    "    # problem.constraints += z[1:n_u] >= -10\n",
    "\n",
    "    Convex.solve!(problem, () -> SCS.Optimizer(verbose=false))\n",
    "    \n",
    "    z_sol = evaluate(z)\n",
    "    # print(z_sol)\n",
    "    # print(any(isnan.(z_sol)))\n",
    "    if any(isnan.(z_sol)) || (sum(z_sol) == Inf)\n",
    "        z_sol = zeros(n_var)\n",
    "        println(\"Infeasible: \")\n",
    "#         println(x)\n",
    "#         println(contactMode)\n",
    "    end\n",
    "    \n",
    "    # u = z_sol[1:n_u] .+ u_ref\n",
    "    # u = z_sol[1:n_u] .+ [0;RodWorld.m*RodWorld.g/2;0]  \n",
    "\n",
    "    u = z_sol[1:n_u] .+ u_ref\n",
    "\n",
    "    # return space wrench\n",
    "    f = wrench_control_2_body(x, u)\n",
    "    \n",
    "    return f\n",
    "    \n",
    "end"
   ],
   "outputs": [
    {
     "output_type": "execute_result",
     "data": {
      "text/plain": [
       "hybrid_controller (generic function with 1 method)"
      ]
     },
     "metadata": {},
     "execution_count": 41
    }
   ],
   "metadata": {}
  },
  {
   "cell_type": "code",
   "execution_count": 67,
   "source": [
    "controller = hybrid_controller\n",
    "\n",
    "x0 = xref .+ [0.1;0.1;0;0;0;0]\n",
    "initial_mode = [false, false]\n",
    "\n",
    "tspan = (0.0, 10.0)\n",
    "callback_length = 2*RodWorld.n_contacts\n",
    "\n",
    "h_control = RodWorld.Δt/5\n",
    "\n",
    "prob = ODEProblem(dynamics!, x0, tspan, (initial_mode, controller, [0.0], h_control, controller(x0, initial_mode)))\n",
    "cb = VectorContinuousCallback(conditions, affect!, affect_neg!, callback_length)\n",
    "sol = solve(prob, Tsit5(); callback = cb, abstol=1e-15,reltol=1e-15, adaptive=false,dt=RodWorld.Δt/20)\n",
    "# sol = solve(prob, Tsit5(); callback = cb, abstol=1e-15,reltol=1e-15)\n",
    "println(\"Simulation status: \", sol.retcode)"
   ],
   "outputs": [
    {
     "output_type": "stream",
     "name": "stdout",
     "text": [
      "New mode from IV: Bool[0, 1]\n",
      "[0.32755199445219885, 0.35718626461320657, 0.7957270085172965, 0.04193014410649084, -0.06668708659485287, -0.19059850238100634]\n",
      "New mode from geometry: Bool[0, 0]\n",
      "[0.36258772218794416, 0.32588140711820107, 0.7085867089809575, -0.03550287058204789, 0.037185956444900935, 0.09654411676752515]\n",
      "New mode from IV: Bool[0, 1]\n",
      "[0.35901534820168834, 0.3350433939099208, 0.7343257014448576, 0.0245910624143825, 0.006652574915775561, 0.01792453546670854]\n",
      "New mode from geometry: Bool[1, 1]\n",
      "[0.37641236146177154, 0.328600775107219, 0.7170680101566267, 0.020849745297409378, 0.03374836261863384, 0.0895151754926714]\n",
      "New mode from geometry: Bool[0, 1]\n",
      "[0.37636909951014114, 0.32853647739047737, 0.7168974794712523, 0.022238871285626762, 0.03025259243917879, 0.08022737107281488]\n",
      "New mode from geometry: Bool[1, 1]\n",
      "[0.3763988227432135, 0.3285689466587212, 0.7169835809942602, 0.024806857171905925, 0.021945538587308834, 0.05819034001406459]\n",
      "New mode from geometry: Bool[0, 1]\n",
      "[0.37636909951014114, 0.32853647739047737, 0.7168974794712523, 0.022238871285626762, 0.03025259243917879, 0.08022737107281488]\n",
      "New mode from geometry: Bool[1, 1]\n",
      "[0.3763988227432135, 0.3285689466587212, 0.7169835809942602, 0.024806857171905925, 0.021945538587308834, 0.05819034001406459]\n",
      "New mode from geometry: Bool[0, 0]\n",
      "[0.37703338871686126, 0.32900527264882357, 0.7181411369565663, 0.04693888754468618, 0.003021201442975652, 0.00798851995615488]\n",
      "New mode from IV: Bool[0, 1]\n",
      "[0.36136084765164644, 0.3362717278353782, 0.7376402783290287, 0.01234578492476466, -0.03598204947985514, -0.09724124225923853]\n",
      "Simulation status: Success\n"
     ]
    }
   ],
   "metadata": {}
  },
  {
   "cell_type": "code",
   "execution_count": 68,
   "source": [
    "n = length(sol.t)"
   ],
   "outputs": [
    {
     "output_type": "execute_result",
     "data": {
      "text/plain": [
       "4008"
      ]
     },
     "metadata": {},
     "execution_count": 68
    }
   ],
   "metadata": {}
  },
  {
   "cell_type": "code",
   "execution_count": 69,
   "source": [
    "n = length(sol.t)\n",
    "interval_n = 20\n",
    "# n = Int(floor(0.77/Δt))\n",
    "x = zeros(Int(floor(n/interval_n))+1)\n",
    "y = zeros(Int(floor(n/interval_n))+1)\n",
    "θ = zeros(Int(floor(n/interval_n))+1)\n",
    "for i = 1:interval_n:n\n",
    "    k = Int(floor(i/interval_n)+1)\n",
    "    x[k] = sol.u[i][1]\n",
    "    y[k] = sol.u[i][2]\n",
    "    θ[k] = sol.u[i][3]\n",
    "end\n",
    "\n",
    "RodWorld.animation(x,y,θ,Int(floor(n/interval_n))+1)"
   ],
   "outputs": [
    {
     "output_type": "stream",
     "name": "stderr",
     "text": [
      "┌ Info: Saved animation to \n",
      "│   fn = /home/xianyi/.julia/dev/StableManipulation/example/anim.gif\n",
      "└ @ Plots /home/xianyi/.julia/packages/Plots/FI0vT/src/animation.jl:114\n"
     ]
    },
    {
     "output_type": "execute_result",
     "data": {
      "text/plain": [
       "Plots.AnimatedGif(\"/home/xianyi/.julia/dev/StableManipulation/example/anim.gif\")"
      ],
      "text/html": [
       "<img src=\"data:image/gif;base64,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\" />"
      ]
     },
     "metadata": {},
     "execution_count": 69
    }
   ],
   "metadata": {}
  },
  {
   "cell_type": "markdown",
   "source": [
    "debug takeaway:\n",
    "\n",
    "* Control not stable: use smaller control step size\n",
    "* Simulation not expected: use smaller step size\n",
    "* need to use right distance function (compute_a) and correct contact constraints matrix (compute_A), compute_A don't have to be the jacobian of compute_a. \n",
    "* For event-detection, you can hack a bit according to the actual case\n"
   ],
   "metadata": {}
  },
  {
   "cell_type": "markdown",
   "source": [],
   "metadata": {}
  }
 ],
 "metadata": {
  "kernelspec": {
   "display_name": "Julia 1.6.2",
   "language": "julia",
   "name": "julia-1.6"
  },
  "language_info": {
   "file_extension": ".jl",
   "mimetype": "application/julia",
   "name": "julia",
   "version": "1.6.2"
  },
  "orig_nbformat": 4
 },
 "nbformat": 4,
 "nbformat_minor": 2
}