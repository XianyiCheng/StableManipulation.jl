{
 "cells": [
  {
   "cell_type": "markdown",
   "source": [],
   "metadata": {}
  },
  {
   "cell_type": "code",
   "execution_count": 12,
   "source": [
    "import Pkg; Pkg.activate(joinpath(@__DIR__,\"..\")); Pkg.instantiate()"
   ],
   "outputs": [
    {
     "output_type": "stream",
     "name": "stderr",
     "text": [
      "\u001b[32m\u001b[1m  Activating\u001b[22m\u001b[39m environment at `~/.julia/dev/StableManipulation/Project.toml`\n"
     ]
    }
   ],
   "metadata": {}
  },
  {
   "cell_type": "code",
   "execution_count": 13,
   "source": [
    "using LinearAlgebra\n",
    "using ForwardDiff\n",
    "using OrdinaryDiffEq\n",
    "using Plots\n",
    "using Convex, SCS\n",
    "using JLD\n",
    "using StableManipulation"
   ],
   "outputs": [],
   "metadata": {}
  },
  {
   "cell_type": "code",
   "execution_count": 14,
   "source": [
    "include(\"../models/rod_corner_frictionless_concave.jl\")"
   ],
   "outputs": [
    {
     "output_type": "stream",
     "name": "stderr",
     "text": [
      "WARNING: replacing module RodWorld.\n"
     ]
    },
    {
     "output_type": "execute_result",
     "data": {
      "text/plain": [
       "Main.RodWorld"
      ]
     },
     "metadata": {},
     "execution_count": 14
    }
   ],
   "metadata": {}
  },
  {
   "cell_type": "code",
   "execution_count": 15,
   "source": [
    "dynamics! = RodWorld.ode_dynamics!\n",
    "conditions = RodWorld.ode_conditions\n",
    "affect! = RodWorld.ode_affect!\n",
    "affect_neg! = RodWorld.ode_affect_neg!\n",
    "\n",
    "domain = RodWorld.domain\n",
    "guard_set = RodWorld.guard_set\n",
    "jumpmap = RodWorld.jumpmap\n",
    "\n",
    "const n_contacts = RodWorld.n_contacts\n",
    "const Δt = RodWorld.Δt\n",
    "const modes = RodWorld.modes\n",
    "const n_modes = size(modes, 1)\n",
    "\n",
    "const tol_c = RodWorld.tol_c\n"
   ],
   "outputs": [
    {
     "output_type": "stream",
     "name": "stderr",
     "text": [
      "WARNING: redefinition of constant modes. This may fail, cause incorrect answers, or produce other errors.\n"
     ]
    },
    {
     "output_type": "execute_result",
     "data": {
      "text/plain": [
       "0.0005"
      ]
     },
     "metadata": {},
     "execution_count": 15
    }
   ],
   "metadata": {}
  },
  {
   "cell_type": "code",
   "execution_count": 16,
   "source": [
    "function no_controller(x, contactMode)\n",
    "    return zeros(3)\n",
    "end"
   ],
   "outputs": [
    {
     "output_type": "execute_result",
     "data": {
      "text/plain": [
       "no_controller (generic function with 1 method)"
      ]
     },
     "metadata": {},
     "execution_count": 16
    }
   ],
   "metadata": {}
  },
  {
   "cell_type": "code",
   "execution_count": 17,
   "source": [
    "# goal: hold the rod at 45 degrees at the corner\n",
    "xref = [cos(pi/4)*RodWorld.l/2; sin(pi/4)*RodWorld.l/2; pi/4; 0; 0; 0]\n",
    "\n",
    "nominal_mode = [true, true]\n",
    "\n",
    "function wrench_control_2_body(x, control_u)\n",
    "    u = [control_u[1]; control_u[2]; \n",
    "        control_u[3] - control_u[1]*sin(x[3])*RodWorld.l/2 + control_u[2]*cos(x[3])*RodWorld.l/2]\n",
    "    return u\n",
    "end\n",
    "\n",
    "function control_discrete_dynamics(x, control_u, mode)\n",
    "    u = wrench_control_2_body(x,control_u)\n",
    "    xn = RodWorld.discrete_dynamics(x, u, mode)\n",
    "    return xn\n",
    "end\n",
    "\n",
    "function control_dynamics(x, control_u, mode)\n",
    "    u = wrench_control_2_body(x,control_u)\n",
    "    dx = RodWorld.continuous_dynamics_differentiable(x, u, mode)\n",
    "    return dx\n",
    "end\n",
    "\n",
    "control_u_ref = [-RodWorld.m*RodWorld.g*cot(pi/4)/2; 0; 0]"
   ],
   "outputs": [
    {
     "output_type": "execute_result",
     "data": {
      "text/plain": [
       "3-element Vector{Float64}:\n",
       " -4.900000000000001\n",
       "  0.0\n",
       "  0.0"
      ]
     },
     "metadata": {},
     "execution_count": 17
    }
   ],
   "metadata": {}
  },
  {
   "cell_type": "code",
   "execution_count": 18,
   "source": [
    "function ref_controller(x, contactMode)\n",
    "    f = wrench_control_2_body(x, control_u_ref)\n",
    "    #f = [0;RodWorld.m*RodWorld.g;0]\n",
    "    return f\n",
    "end"
   ],
   "outputs": [
    {
     "output_type": "execute_result",
     "data": {
      "text/plain": [
       "ref_controller (generic function with 1 method)"
      ]
     },
     "metadata": {},
     "execution_count": 18
    }
   ],
   "metadata": {}
  },
  {
   "cell_type": "markdown",
   "source": [
    "# LQR"
   ],
   "metadata": {}
  },
  {
   "cell_type": "code",
   "execution_count": 19,
   "source": [
    "control_urefs = [[0;RodWorld.m*RodWorld.g;-RodWorld.m*RodWorld.g*cos(xref[3])*RodWorld.l/2],\n",
    "        [0;RodWorld.m*RodWorld.g;-RodWorld.m*RodWorld.g*cos(xref[3])*RodWorld.l/2],\n",
    "        [0;RodWorld.m*RodWorld.g/2;0],\n",
    "        control_u_ref]\n",
    "\n",
    "Q_lqr = Diagonal([1.0; 1.0; 1.0; 0.5; 0.5; 0.5])\n",
    "R_lqr = Diagonal([0.1; 0.1; 0.1])\n",
    "\n",
    "K_lqrs = zeros(n_modes, 3, 6)\n",
    "for i = 1:n_modes\n",
    "    A_lqr = ForwardDiff.jacobian(_x->control_discrete_dynamics(_x, control_urefs[i], modes[i,:]), xref)\n",
    "    B_lqr = ForwardDiff.jacobian(_u->control_discrete_dynamics(xref, _u, modes[i,:]), control_urefs[i])\n",
    "\n",
    "    Ks, _ = StableManipulation.riccati(A_lqr,B_lqr,Q_lqr,R_lqr,Q_lqr,50) # compute infinite horizon K\n",
    "    K_lqrs[i,:,:] .= Ks[1]\n",
    "end\n",
    "\n",
    "K_lqr = K_lqrs[4,:,:] # for the nominal mode"
   ],
   "outputs": [
    {
     "output_type": "execute_result",
     "data": {
      "text/plain": [
       "3×6 Matrix{Float64}:\n",
       "  0.206015  -0.206049  -4.42749   0.124351  -0.124422  -1.20323\n",
       " -0.206045   0.206019   4.42749  -0.124413   0.12436    1.20323\n",
       " -0.29139    0.291396   6.2614   -0.175942   0.175956   1.70159"
      ]
     },
     "metadata": {},
     "execution_count": 19
    }
   ],
   "metadata": {}
  },
  {
   "cell_type": "code",
   "execution_count": 20,
   "source": [
    "# lqr controller for the nominal mode\n",
    "function lqr_controller(x, contactMode)\n",
    "    control_u = control_u_ref .- K_lqr*(x .- xref)\n",
    "    f = wrench_control_2_body(x,control_u)\n",
    "    return f\n",
    "end\n"
   ],
   "outputs": [
    {
     "output_type": "execute_result",
     "data": {
      "text/plain": [
       "lqr_controller (generic function with 1 method)"
      ]
     },
     "metadata": {},
     "execution_count": 20
    }
   ],
   "metadata": {}
  },
  {
   "cell_type": "markdown",
   "source": [
    "# Hybrid Controller"
   ],
   "metadata": {}
  },
  {
   "cell_type": "code",
   "execution_count": 21,
   "source": [
    "# Lyapunov function\n",
    "function V(x)\n",
    "    q = x[1:3] + x[4:6]\n",
    "    dq = x[4:6]\n",
    "\n",
    "    v = 0.5*([q;dq] .- xref)'*Q_lqr*([q;dq] .- xref)\n",
    "\n",
    "    return v\n",
    "end \n",
    "\n",
    "function dVdx(x)\n",
    "    res = ForwardDiff.gradient(V, x)\n",
    "    return res\n",
    "end"
   ],
   "outputs": [
    {
     "output_type": "execute_result",
     "data": {
      "text/plain": [
       "dVdx (generic function with 1 method)"
      ]
     },
     "metadata": {},
     "execution_count": 21
    }
   ],
   "metadata": {}
  },
  {
   "cell_type": "code",
   "execution_count": 65,
   "source": [
    "# problem specific numbers\n",
    "\n",
    "\n",
    "const n_u = 3\n",
    "const n_β = 50\n",
    "const n_α = 2*n_modes - 1\n",
    "\n",
    "function hybrid_constraints_matrix(x, u_ref)\n",
    "\n",
    "\n",
    "    n = n_u + n_β + n_α\n",
    "    m = 2*n_modes - 1\n",
    "\n",
    "    A = zeros(m, n)\n",
    "    b = zeros(m)\n",
    "\n",
    "    nominal_mode = [true, true]\n",
    "\n",
    "    β_idx = 1\n",
    "\n",
    "    Vx = dVdx(x)\n",
    "    Vv = V(x)\n",
    "\n",
    "    # mode dynamics\n",
    "    \n",
    "    for k = 1:n_modes\n",
    "\n",
    "        m = modes[k,:]\n",
    "        \n",
    "        d_ineq, d_eq = domain(x, m)\n",
    "        \n",
    "        # TODO: debug this!!!\n",
    "        # if sum(d_ineq.<tol_c)>0 || sum(abs.(d_eq) .> tol_c)>0\n",
    "        #     b[k] = 0.1\n",
    "        #     continue\n",
    "        # end\n",
    "        \n",
    "        n_ineq = size(d_ineq, 1)\n",
    "        n_eq = size(d_eq, 1)\n",
    "        \n",
    "        dfdu = ForwardDiff.jacobian(_u->control_dynamics(x, _u, m), u_ref)\n",
    "        \n",
    "        b[k] = -Vx'*control_dynamics(x, u_ref, m)\n",
    "        \n",
    "        # α\n",
    "        A[k, n_u+n_β+k] = -Vv\n",
    "        A[k, 1:n_u] = -Vx'*dfdu\n",
    "        A[k, β_idx:β_idx+n_ineq-1] .= -d_ineq\n",
    "        A[k, β_idx+n_ineq:β_idx+n_ineq+n_eq-1] .= -d_eq \n",
    "        A[k, β_idx+n_ineq+n_eq:β_idx+n_ineq+2*n_eq-1] .= d_eq \n",
    "        \n",
    "        β_idx += n_ineq + 2*n_eq\n",
    "        \n",
    "    end\n",
    "        \n",
    "    k = 1\n",
    "    for k_ = 1:n_modes\n",
    "        \n",
    "        mode_from = modes[k,:]\n",
    "\n",
    "        if StableManipulation.is_same_mode(mode_from, nominal_mode)\n",
    "            continue\n",
    "        end\n",
    "        \n",
    "        d_ineq, d_eq = guard_set(x, mode_from, nominal_mode)\n",
    "        \n",
    "        # if sum(d_ineq.<tol_c)>0 || sum(abs.(d_eq) .> tol_c)>0\n",
    "        #     b[k] = 0.1\n",
    "        #     continue\n",
    "        # end\n",
    "        \n",
    "        n_ineq = size(d_ineq, 1)\n",
    "        n_eq = size(d_eq, 1)\n",
    "        \n",
    "        xp = jumpmap(x, mode_from, nominal_mode)\n",
    "        \n",
    "        dfdu = ForwardDiff.jacobian(_u->control_dynamics(xp, _u, nominal_mode), u_ref)\n",
    "        \n",
    "        b[n_modes+k] = -Vx'*control_dynamics(xp, u_ref, nominal_mode)\n",
    "        A[k, n_u+n_β+n_modes+k] = -Vv\n",
    "        A[n_modes+k, 1:n_u] = -Vx'*dfdu\n",
    "        A[n_modes+k, β_idx:β_idx+n_ineq-1] .= -d_ineq\n",
    "        A[n_modes+k, β_idx+n_ineq:β_idx+n_ineq+n_eq-1] .= -d_eq \n",
    "        A[n_modes+k, β_idx+n_ineq+n_eq:β_idx+n_ineq+2*n_eq-1] .= d_eq \n",
    "        \n",
    "        β_idx += n_ineq + 2*n_eq\n",
    "        k += 1\n",
    "        \n",
    "    end\n",
    "    \n",
    "    return A, b\n",
    "\n",
    "end"
   ],
   "outputs": [
    {
     "output_type": "execute_result",
     "data": {
      "text/plain": [
       "hybrid_constraints_matrix (generic function with 1 method)"
      ]
     },
     "metadata": {},
     "execution_count": 65
    }
   ],
   "metadata": {}
  },
  {
   "cell_type": "code",
   "execution_count": 299,
   "source": [
    "# use LQR as the reference for the hybrid controller\n",
    "function hybrid_controller_reference(x, contactMode)\n",
    "    control_u = control_u_ref .- K_lqr*(x .- xref)\n",
    "    return control_u\n",
    "end "
   ],
   "outputs": [
    {
     "output_type": "execute_result",
     "data": {
      "text/plain": [
       "hybrid_controller_reference (generic function with 1 method)"
      ]
     },
     "metadata": {},
     "execution_count": 299
    }
   ],
   "metadata": {}
  },
  {
   "cell_type": "code",
   "execution_count": 300,
   "source": [
    "function hybrid_controller(x, contactMode)\n",
    "\n",
    "    # TODO: \n",
    "    # (1) check K_lqr, same K_lqr for every mode?\n",
    "    # (2) computation of u_ref for every mode, how?\n",
    "    \n",
    "    # u_ref = hybrid_controller_reference(x, contactMode) # from reference controller\n",
    "    \n",
    "    a = RodWorld.compute_a(x[1:3])\n",
    "\n",
    "    m = abs.(a) .< tol_c\n",
    "    if StableManipulation.is_same_mode(m, [true, true])\n",
    "        u_ref = control_u_ref .- K_lqr*(x .- xref)\n",
    "    elseif StableManipulation.is_same_mode(m, [false, true])\n",
    "        u_ref = [0;RodWorld.m*RodWorld.g/2;0] .- K_lqrs[3,:,:]*(x .- xref)\n",
    "    elseif StableManipulation.is_same_mode(m, [true, false])\n",
    "        u_ref = [0;RodWorld.m*RodWorld.g;-RodWorld.m*RodWorld.g*cos(x[3])*RodWorld.l/2] .- K_lqrs[2,:,:]*(x .- xref)\n",
    "    else \n",
    "        u_ref = [0;RodWorld.m*RodWorld.g;-RodWorld.m*RodWorld.g*cos(x[3])*RodWorld.l/2] .- K_lqrs[1,:,:]*(x .- xref)\n",
    "    end\n",
    "    \n",
    "    α_ref = 5\n",
    "\n",
    "    n_var = n_u + n_β + n_α\n",
    "\n",
    "    z = Variable(n_var)\n",
    "    A, b = hybrid_constraints_matrix(x, u_ref)\n",
    "    \n",
    "    problem = minimize(sumsquares(z - [zeros(n_u + n_β); α_ref*ones(n_α)]))\n",
    "    # problem = minimize(sumsquares(z - [u_ref; zeros(n_β); α_ref*ones(n_α)]))\n",
    "    problem.constraints += A*z + b >= 0\n",
    "    problem.constraints += z[n_u+1:end] >= 0\n",
    "    # problem.constraints += z[1:n_u] <= 10\n",
    "    # problem.constraints += z[1:n_u] >= -10\n",
    "\n",
    "    Convex.solve!(problem, () -> SCS.Optimizer(verbose=false))\n",
    "    \n",
    "    z_sol = evaluate(z)\n",
    "    # print(z_sol)\n",
    "    # print(any(isnan.(z_sol)))\n",
    "    if any(isnan.(z_sol)) || (sum(z_sol) == Inf)\n",
    "        z_sol = zeros(n_var)\n",
    "        println(\"Infeasible: \")\n",
    "#         println(x)\n",
    "#         println(contactMode)\n",
    "    end\n",
    "    \n",
    "    # u = z_sol[1:n_u] .+ u_ref\n",
    "    # u = z_sol[1:n_u] .+ [0;RodWorld.m*RodWorld.g/2;0]  \n",
    "\n",
    "    u = z_sol[1:n_u] .+ u_ref\n",
    "    # u = u_ref\n",
    "    # println(\"z_sol:\", z_sol[1:n_u])\n",
    "\n",
    "    # return space wrench\n",
    "    f = wrench_control_2_body(x, u)\n",
    "    \n",
    "    return f\n",
    "    \n",
    "end"
   ],
   "outputs": [
    {
     "output_type": "execute_result",
     "data": {
      "text/plain": [
       "hybrid_controller (generic function with 1 method)"
      ]
     },
     "metadata": {},
     "execution_count": 300
    }
   ],
   "metadata": {}
  },
  {
   "cell_type": "code",
   "execution_count": 302,
   "source": [
    "dfdus = zeros(n_modes, 6, n_u)\n",
    "\n",
    "for k = 1:n_modes\n",
    "    dfdus[k,:,:] .= ForwardDiff.jacobian(_u->control_dynamics(xref, _u, modes[k,:]), control_urefs[k])\n",
    "end\n",
    "\n",
    "\n",
    "function hybrid_constraints_matrix_mode_agnostic(x)\n",
    "\n",
    "\n",
    "    n = n_u + n_β + n_α\n",
    "    m = 2*n_modes - 1\n",
    "\n",
    "    A = zeros(m, n)\n",
    "    b = zeros(m)\n",
    "\n",
    "    nominal_mode = [true, true]\n",
    "    nominal_idx = 4\n",
    "\n",
    "    β_idx = 1\n",
    "\n",
    "    fuz = 1e-2\n",
    "\n",
    "    Vx = dVdx(x)\n",
    "    Vv = V(x)\n",
    "\n",
    "    # mode dynamics\n",
    "    urefs = zeros(n_modes, n_u)\n",
    "    for k = 1:n_modes\n",
    "        urefs[k,:] .=  control_urefs[k] .- K_lqrs[k,:,:]*(x .- xref)\n",
    "    end\n",
    "    \n",
    "    for k = 1:n_modes\n",
    "\n",
    "        m = modes[k,:]\n",
    "        \n",
    "        d_ineq, d_eq = domain(x, m)\n",
    "        \n",
    "        n_ineq = size(d_ineq, 1)\n",
    "        n_eq = size(d_eq, 1)\n",
    "        \n",
    "        \n",
    "        b[k] = -Vx'*(control_dynamics(x, urefs[k,:], m) .- dfdus[k,:,:]*urefs[k,:])\n",
    "        \n",
    "        # α\n",
    "        A[k, n_u+n_β+k] = -Vv\n",
    "        A[k, 1:n_u] = -Vx'*dfdus[k,:,:]\n",
    "        A[k, β_idx:β_idx+n_ineq-1] .= -(d_ineq .+ fuz)\n",
    "        A[k, β_idx+n_ineq:β_idx+n_ineq+n_eq-1] .= - (d_eq .+ fuz)\n",
    "        A[k, β_idx+n_ineq+n_eq:β_idx+n_ineq+2*n_eq-1] .= (d_eq .- fuz) \n",
    "        \n",
    "        β_idx += n_ineq + 2*n_eq\n",
    "        \n",
    "    end\n",
    "        \n",
    "    k = 1\n",
    "    for k_ = 1:n_modes\n",
    "        \n",
    "        mode_from = modes[k,:]\n",
    "\n",
    "        if StableManipulation.is_same_mode(mode_from, nominal_mode)\n",
    "            continue\n",
    "        end\n",
    "        \n",
    "        d_ineq, d_eq = guard_set(x, mode_from, nominal_mode)\n",
    "        \n",
    "        # if sum(d_ineq.<tol_c)>0 || sum(abs.(d_eq) .> tol_c)>0\n",
    "        #     b[k] = 0.1\n",
    "        #     continue\n",
    "        # end\n",
    "        \n",
    "        n_ineq = size(d_ineq, 1)\n",
    "        n_eq = size(d_eq, 1)\n",
    "        \n",
    "        xp = jumpmap(x, mode_from, nominal_mode)\n",
    "        \n",
    "        up = control_urefs[nominal_idx] .- K_lqrs[nominal_idx,:,:]*(x .- xref)\n",
    "\n",
    "        b[n_modes+k] = -Vx'*(control_dynamics(xp, up, nominal_mode).- dfdus[nominal_idx,:,:]*up)\n",
    "        A[k, n_u+n_β+n_modes+k] = -Vv\n",
    "        A[n_modes+k, 1:n_u] = -Vx'*dfdus[nominal_idx,:,:]\n",
    "        A[n_modes+k, β_idx:β_idx+n_ineq-1] .= -(d_ineq .+ fuz)\n",
    "        A[n_modes+k, β_idx+n_ineq:β_idx+n_ineq+n_eq-1] .= -(d_eq .+ fuz) \n",
    "        A[n_modes+k, β_idx+n_ineq+n_eq:β_idx+n_ineq+2*n_eq-1] .=(d_eq .- fuz) \n",
    "        \n",
    "        β_idx += n_ineq + 2*n_eq\n",
    "        k += 1\n",
    "        \n",
    "    end\n",
    "    \n",
    "    return A, b\n",
    "end\n",
    "\n",
    "function hybrid_controller_mode_agnostic(x, contactMode)\n",
    "\n",
    "    α_ref = 10\n",
    "\n",
    "    n_var = n_u + n_β + n_α\n",
    "\n",
    "    z = Variable(n_var)\n",
    "    A, b = hybrid_constraints_matrix_mode_agnostic(x)\n",
    "\n",
    "    urefs = zeros(n_modes, n_u)\n",
    "    for k = 1:n_modes\n",
    "        urefs[k,:] .=  control_urefs[k] .- K_lqrs[k,:,:]*(x .- xref)\n",
    "    end\n",
    "    \n",
    "    # problem = minimize(sumsquares(z - [zeros(n_u + n_β); α_ref*ones(n_α)]))\n",
    "    problem = minimize(sumsquares(z[n_u+1:end] - [zeros(n_β); α_ref*ones(n_α)]) \n",
    "                    + sumsquares(z[1:n_u] - urefs[1,:])\n",
    "                    + sumsquares(z[1:n_u] - urefs[2,:])\n",
    "                    + sumsquares(z[1:n_u] - urefs[3,:])\n",
    "                    + sumsquares(z[1:n_u] - urefs[4,:]))\n",
    "    # problem = minimize(sumsquares(z - [u_ref; zeros(n_β); α_ref*ones(n_α)]))\n",
    "    problem.constraints += A*z + b >= 0\n",
    "    problem.constraints += z[n_u+1:end] >= 0\n",
    "    # problem.constraints += z[1:n_u] <= 10\n",
    "    # problem.constraints += z[1:n_u] >= -10\n",
    "\n",
    "    Convex.solve!(problem, () -> SCS.Optimizer(verbose=false))\n",
    "    \n",
    "    z_sol = evaluate(z)\n",
    "    # print(z_sol)\n",
    "    # print(any(isnan.(z_sol)))\n",
    "    if any(isnan.(z_sol)) || (sum(z_sol) == Inf)\n",
    "        z_sol = zeros(n_var)\n",
    "        println(\"Infeasible: \")\n",
    "#         println(x)\n",
    "#         println(contactMode)\n",
    "    end\n",
    "\n",
    "    u = z_sol[1:n_u]\n",
    "\n",
    "    # return space wrench\n",
    "    f = wrench_control_2_body(x, u)\n",
    "    \n",
    "    return f\n",
    "    \n",
    "end"
   ],
   "outputs": [
    {
     "output_type": "execute_result",
     "data": {
      "text/plain": [
       "hybrid_controller_mode_agnostic (generic function with 1 method)"
      ]
     },
     "metadata": {},
     "execution_count": 302
    }
   ],
   "metadata": {}
  },
  {
   "cell_type": "code",
   "execution_count": 303,
   "source": [
    "# compare difference between two hybrid controllers\n",
    "x0 = xref .+ [0,0.1,0,0,0,0]\n",
    "initial_mode = [false, true]"
   ],
   "outputs": [
    {
     "output_type": "execute_result",
     "data": {
      "text/plain": [
       "2-element Vector{Bool}:\n",
       " 0\n",
       " 1"
      ]
     },
     "metadata": {},
     "execution_count": 303
    }
   ],
   "metadata": {}
  },
  {
   "cell_type": "code",
   "execution_count": 304,
   "source": [
    "hybrid_controller(x0, initial_mode)"
   ],
   "outputs": [
    {
     "output_type": "execute_result",
     "data": {
      "text/plain": [
       "3-element Vector{Float64}:\n",
       " -0.0827974983571359\n",
       "  9.371213830360109\n",
       " -0.11640931450368885"
      ]
     },
     "metadata": {},
     "execution_count": 304
    }
   ],
   "metadata": {}
  },
  {
   "cell_type": "code",
   "execution_count": 305,
   "source": [
    "hybrid_controller_mode_agnostic(x0, initial_mode)"
   ],
   "outputs": [
    {
     "output_type": "execute_result",
     "data": {
      "text/plain": [
       "3-element Vector{Float64}:\n",
       " -1.1941496575201054\n",
       "  5.93595707100097\n",
       "  0.7528823973505356"
      ]
     },
     "metadata": {},
     "execution_count": 305
    }
   ],
   "metadata": {}
  },
  {
   "cell_type": "code",
   "execution_count": 1,
   "source": [
    "controller = hybrid_controller\n",
    "x0 = xref .+ [0.1;0.1;0;0;0;0]\n",
    "initial_mode = [false, false]\n",
    "\n",
    "tspan = (0.0, 10.0)\n",
    "callback_length = 2*RodWorld.n_contacts\n",
    "\n",
    "h_control = RodWorld.Δt/5\n",
    "\n",
    "prob = ODEProblem(dynamics!, x0, tspan, (initial_mode, controller, [0.0], h_control, controller(x0, initial_mode)))\n",
    "cb = VectorContinuousCallback(conditions, affect!, affect_neg!, callback_length)\n",
    "sol = solve(prob, Tsit5(); callback = cb, abstol=1e-15,reltol=1e-15, adaptive=false,dt=RodWorld.Δt/20)\n",
    "# sol = solve(prob, Tsit5(); callback = cb, abstol=1e-15,reltol=1e-15)\n",
    "println(\"Simulation status: \", sol.retcode)"
   ],
   "outputs": [
    {
     "output_type": "error",
     "ename": "LoadError",
     "evalue": "UndefVarError: hybrid_controller not defined",
     "traceback": [
      "UndefVarError: hybrid_controller not defined",
      "",
      "Stacktrace:",
      " [1] top-level scope",
      "   @ In[1]:1",
      " [2] eval",
      "   @ ./boot.jl:360 [inlined]",
      " [3] include_string(mapexpr::typeof(REPL.softscope), mod::Module, code::String, filename::String)",
      "   @ Base ./loading.jl:1116"
     ]
    }
   ],
   "metadata": {}
  },
  {
   "cell_type": "code",
   "execution_count": null,
   "source": [
    "n = length(sol.t)"
   ],
   "outputs": [
    {
     "output_type": "execute_result",
     "data": {
      "text/plain": [
       "4009"
      ]
     },
     "metadata": {},
     "execution_count": 307
    }
   ],
   "metadata": {}
  },
  {
   "cell_type": "code",
   "execution_count": 2,
   "source": [
    "n = length(sol.t)\n",
    "interval_n = 20\n",
    "# n = Int(floor(0.77/Δt))\n",
    "x = zeros(Int(floor(n/interval_n))+1)\n",
    "y = zeros(Int(floor(n/interval_n))+1)\n",
    "θ = zeros(Int(floor(n/interval_n))+1)\n",
    "for i = 1:interval_n:n\n",
    "    k = Int(floor(i/interval_n)+1)\n",
    "    x[k] = sol.u[i][1]\n",
    "    y[k] = sol.u[i][2]\n",
    "    θ[k] = sol.u[i][3]\n",
    "end\n",
    "\n",
    "RodWorld.animation(x,y,θ,Int(floor(n/interval_n))+1)"
   ],
   "outputs": [
    {
     "output_type": "error",
     "ename": "LoadError",
     "evalue": "UndefVarError: sol not defined",
     "traceback": [
      "UndefVarError: sol not defined",
      "",
      "Stacktrace:",
      " [1] top-level scope",
      "   @ In[2]:1",
      " [2] eval",
      "   @ ./boot.jl:360 [inlined]",
      " [3] include_string(mapexpr::typeof(REPL.softscope), mod::Module, code::String, filename::String)",
      "   @ Base ./loading.jl:1116"
     ]
    }
   ],
   "metadata": {}
  },
  {
   "cell_type": "markdown",
   "source": [
    "debug takeaway:\n",
    "\n",
    "* Control not stable: use smaller control step size\n",
    "* Simulation not expected: use smaller step size\n",
    "* need to use right distance function (compute_a) and correct contact constraints matrix (compute_A), compute_A don't have to be the jacobian of compute_a. \n",
    "* For event-detection, you can hack a bit according to the actual case\n"
   ],
   "metadata": {}
  },
  {
   "cell_type": "markdown",
   "source": [],
   "metadata": {}
  }
 ],
 "metadata": {
  "kernelspec": {
   "display_name": "Julia 1.6.2",
   "language": "julia",
   "name": "julia-1.6"
  },
  "language_info": {
   "file_extension": ".jl",
   "mimetype": "application/julia",
   "name": "julia",
   "version": "1.6.2"
  },
  "orig_nbformat": 4
 },
 "nbformat": 4,
 "nbformat_minor": 2
}