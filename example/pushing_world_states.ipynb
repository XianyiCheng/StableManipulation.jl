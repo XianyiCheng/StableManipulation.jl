{
 "cells": [
  {
   "cell_type": "code",
   "execution_count": 1,
   "source": [
    "import Pkg; Pkg.activate(joinpath(@__DIR__,\"..\")); Pkg.instantiate()"
   ],
   "outputs": [
    {
     "output_type": "stream",
     "name": "stderr",
     "text": [
      "\u001b[32m\u001b[1m  Activating\u001b[22m\u001b[39m environment at `~/.julia/dev/StableManipulation/Project.toml`\n"
     ]
    }
   ],
   "metadata": {}
  },
  {
   "cell_type": "code",
   "execution_count": 2,
   "source": [
    "using LinearAlgebra\n",
    "using ForwardDiff\n",
    "using OrdinaryDiffEq\n",
    "using Plots\n",
    "using Convex, SCS\n",
    "using JLD\n",
    "using StableManipulation"
   ],
   "outputs": [],
   "metadata": {}
  },
  {
   "cell_type": "code",
   "execution_count": 3,
   "source": [
    "# (1) system properties and contact\n",
    "\n",
    "const g = 9.81\n",
    "\n",
    "const m = 1\n",
    "const μ = 0.5 # pusher-slider friction coefficient\n",
    "\n",
    "const w = 1.0 # width of the slider (x axis)\n",
    "const h = 1.0 # height of the slider (y aixs)\n",
    "\n",
    "const M = [m 0 0; 0 m 0; 0 0 m*((h/2)^2+(w/2)^2)/3] # inertia matrix\n",
    "\n",
    "const A_ls = [1 0 0; 0 1 0; 0 0 1.5] # ellipsoid limit surface\n",
    "\n",
    "const modes = [0 0; # free\n",
    "            1 0; # sticking\n",
    "            1 1; # right slide \n",
    "            1 -1] # left slide\n",
    "\n",
    "const n_contacts = 1 \n",
    "\n",
    "# simulation step size\n",
    "const Δt = 0.05\n",
    "# tolerance for contacts\n",
    "const tol_c = 1e-5\n",
    "\n",
    "# q = [x_s, y_s, θ_s, x_p, y_p]\n"
   ],
   "outputs": [
    {
     "output_type": "execute_result",
     "data": {
      "text/plain": [
       "1.0e-5"
      ]
     },
     "metadata": {},
     "execution_count": 3
    }
   ],
   "metadata": {}
  },
  {
   "cell_type": "code",
   "execution_count": 4,
   "source": [
    "include(\"../models/model_utils.jl\")"
   ],
   "outputs": [
    {
     "output_type": "execute_result",
     "data": {
      "text/plain": [
       "rk4_step (generic function with 1 method)"
      ]
     },
     "metadata": {},
     "execution_count": 4
    }
   ],
   "metadata": {}
  },
  {
   "cell_type": "code",
   "execution_count": 189,
   "source": [
    "# only consider the block is pushed on the edge of x = -w/2 \n",
    "function compute_a(q)\n",
    "    p = q[4:5]\n",
    "    # p1 = R_2D(q[3])*[-w/2; -h/2] + q[1:2]\n",
    "    # p2 = R_2D(q[3])*[-w/2; h/2] + q[1:2]\n",
    "    # d = -((p2[1] - p1[1])*(p1[2] - p[2]) - (p1[1] - p[1])*(p2[2] - p1[2]))/w\n",
    "\n",
    "    p_o = R_2D(q[3])'*(p-q[1:2])\n",
    "    d = -(p_o[1] - (-w/2))\n",
    "    if (abs(d) < 1e-7)\n",
    "        d = 0.0\n",
    "    end\n",
    "    return d\n",
    "end"
   ],
   "outputs": [
    {
     "output_type": "execute_result",
     "data": {
      "text/plain": [
       "compute_a (generic function with 1 method)"
      ]
     },
     "metadata": {},
     "execution_count": 189
    }
   ],
   "metadata": {}
  },
  {
   "cell_type": "code",
   "execution_count": 6,
   "source": [
    "function compute_A(q)\n",
    "    A = ForwardDiff.gradient(compute_a, q)\n",
    "    return A\n",
    "end"
   ],
   "outputs": [
    {
     "output_type": "execute_result",
     "data": {
      "text/plain": [
       "compute_A (generic function with 1 method)"
      ]
     },
     "metadata": {},
     "execution_count": 6
    }
   ],
   "metadata": {}
  },
  {
   "cell_type": "code",
   "execution_count": 7,
   "source": [
    "function motion_cone(vp, p)\n",
    "    # vp: pusher velocity in the body frame\n",
    "    # p: pusher location in the body frame (assume pusher make contact with x = -w/2 edge)\n",
    "\n",
    "    # return (pusher motion relative to the slider)\n",
    "    # 0 sticking, 1 right slide, -1 left slide\n",
    "\n",
    "    Jp = [1 0 -p[2]; 0 1 p[1]]\n",
    "\n",
    "    fl = [1; -μ]\n",
    "    fr = [1; μ]\n",
    "\n",
    "    Fl = Jp'*fl\n",
    "    Fr = Jp'*fr\n",
    "\n",
    "    Vl = A_ls*Fl\n",
    "    Vr = A_ls*Fr\n",
    "\n",
    "    vl = Jp*Vl # vl[1] > 0, vl[2] < 0, slider sliding to the left of the pusher\n",
    "    vr = Jp*Vr # vr[1] > 0, vr[2] > 0, slider sliding to the right of the pusher \n",
    "\n",
    "    if vp[2]/vp[1] > vr[2]/vr[1]\n",
    "        return 1\n",
    "    elseif vp[2]/vp[1] < vl[2]/vl[1]\n",
    "        return -1\n",
    "    end\n",
    "    \n",
    "    return 0\n",
    "end"
   ],
   "outputs": [
    {
     "output_type": "execute_result",
     "data": {
      "text/plain": [
       "motion_cone (generic function with 1 method)"
      ]
     },
     "metadata": {},
     "execution_count": 7
    }
   ],
   "metadata": {}
  },
  {
   "cell_type": "code",
   "execution_count": 8,
   "source": [
    "# quasi-static: x = q\n",
    "function solveEOM(x, u_control)\n",
    "    # u_control: velocity of the pusher in the world frame\n",
    "    if (abs(compute_a(x)) > tol_c)\n",
    "        return [0;0;0;u_control]\n",
    "    end\n",
    "\n",
    "    R_WO = R_2D(x[3])\n",
    "    vp = R_WO'*u_control\n",
    "    p = R_WO'*(x[4:5] .- x[1:2])\n",
    "\n",
    "    if (vp[1] < 0) || (abs(p[2]) > h/2)\n",
    "        # leaving\n",
    "        return [0;0;0;u_control]\n",
    "    end\n",
    "    \n",
    "    mc = motion_cone(vp, p)\n",
    "\n",
    "    Jp = [1 0 -p[2]; 0 1 p[1]]\n",
    "\n",
    "    fl = [1; -μ]\n",
    "    fr = [1; μ]\n",
    "\n",
    "    Fl = Jp'*fl\n",
    "    Fr = Jp'*fr\n",
    "\n",
    "    if mc == 0\n",
    "        # println(\"stick\")\n",
    "        t = [-p[2];p[1];-1]\n",
    "        D = [Jp' inv(A_ls)*t]'\n",
    "        Vp = [vp;0]\n",
    "        V = inv(D)*Vp\n",
    "    else\n",
    "        if mc == 1\n",
    "            # println(\"right slide\")\n",
    "            V = A_ls*Fr\n",
    "        else\n",
    "            # println(\"left slide\")\n",
    "            V = A_ls*Fl\n",
    "        end\n",
    "        k = vp[1]/(V[1] - V[3]*p[2])\n",
    "        V = k*V\n",
    "    end\n",
    "\n",
    "    V_w = [R_WO [0;0];0 0 1]*V\n",
    "\n",
    "    return [V_w; u_control]\n",
    "end"
   ],
   "outputs": [
    {
     "output_type": "execute_result",
     "data": {
      "text/plain": [
       "solveEOM (generic function with 1 method)"
      ]
     },
     "metadata": {},
     "execution_count": 8
    }
   ],
   "metadata": {}
  },
  {
   "cell_type": "code",
   "execution_count": 9,
   "source": [
    "function continuous_dynamics_differentiable(x, u, mode)\n",
    "    # u_control: velocity of the pusher in the world frame\n",
    "\n",
    "    if mode[1] == 0\n",
    "        return [0;0;0;u]\n",
    "    end\n",
    "\n",
    "    R_WO = R_2D(x[3])\n",
    "    vp = R_WO'*u\n",
    "    p = R_WO'*(x[4:5] .- x[1:2])\n",
    "\n",
    "    Jp = [1 0 -p[2]; 0 1 p[1]]\n",
    "\n",
    "    fl = [1; -μ]\n",
    "    fr = [1; μ]\n",
    "\n",
    "    Fl = Jp'*fl\n",
    "    Fr = Jp'*fr\n",
    "\n",
    "    if mode[2] == 0\n",
    "        # println(\"stick\")\n",
    "        t = [-p[2];p[1];-1]\n",
    "        D = [Jp' inv(A_ls)*t]'\n",
    "        Vp = [vp;0]\n",
    "        V = inv(D)*Vp\n",
    "    else\n",
    "        if mode[2] == 1\n",
    "            # println(\"right slide\")\n",
    "            V = A_ls*Fr\n",
    "        else\n",
    "            # println(\"left slide\")\n",
    "            V = A_ls*Fl\n",
    "        end\n",
    "        k = vp[1]/(V[1] - V[3]*p[2])\n",
    "        V = k*V\n",
    "    end\n",
    "\n",
    "    V_w = [R_WO [0;0];0 0 1]*V\n",
    "\n",
    "    return [V_w; u]\n",
    "end"
   ],
   "outputs": [
    {
     "output_type": "execute_result",
     "data": {
      "text/plain": [
       "continuous_dynamics_differentiable (generic function with 1 method)"
      ]
     },
     "metadata": {},
     "execution_count": 9
    }
   ],
   "metadata": {}
  },
  {
   "cell_type": "code",
   "execution_count": 10,
   "source": [
    "function discrete_dynamics(x, u, mode)\n",
    "    xn = rk4_step((_x,_u)->continuous_dynamics_differentiable(_x,_u,mode),x,u)\n",
    "    return xn\n",
    "end"
   ],
   "outputs": [
    {
     "output_type": "execute_result",
     "data": {
      "text/plain": [
       "discrete_dynamics (generic function with 1 method)"
      ]
     },
     "metadata": {},
     "execution_count": 10
    }
   ],
   "metadata": {}
  },
  {
   "cell_type": "code",
   "execution_count": 11,
   "source": [
    "function ode_dynamics!(dx, x, p, t)\n",
    "    # p from integrator: (contact mode, controller, t_control, h_control, u_control)\n",
    "    \n",
    "\n",
    "    contactMode = p[1]\n",
    "    controller = p[2]\n",
    "    t_control = p[3][1]\n",
    "    h_control = p[4]\n",
    "    u_control = zeros(2)\n",
    "    u_control .= p[5]\n",
    "    \n",
    "    if t > (t_control + h_control)\n",
    "        p[3] .= [Float64(t)]\n",
    "        u_control = controller(x, t)\n",
    "        p[5] .= u_control\n",
    "    end\n",
    "    \n",
    "\n",
    "    dx .= solveEOM(x, u_control)\n",
    "\n",
    "end"
   ],
   "outputs": [
    {
     "output_type": "execute_result",
     "data": {
      "text/plain": [
       "ode_dynamics! (generic function with 1 method)"
      ]
     },
     "metadata": {},
     "execution_count": 11
    }
   ],
   "metadata": {}
  },
  {
   "cell_type": "code",
   "execution_count": 190,
   "source": [
    "function ode_conditions(out, x, t, integrator)\n",
    "    c = compute_a(x)\n",
    "    out .= c\n",
    "end"
   ],
   "outputs": [
    {
     "output_type": "execute_result",
     "data": {
      "text/plain": [
       "ode_conditions (generic function with 1 method)"
      ]
     },
     "metadata": {},
     "execution_count": 190
    }
   ],
   "metadata": {}
  },
  {
   "cell_type": "code",
   "execution_count": 191,
   "source": [
    "function ode_affect_neg!(integrator, idx)\n",
    "    # if debug == true\n",
    "    #     println(\"down crossing.\")\n",
    "    # end\n",
    "    # u_control = controller(x)\n",
    "    # integrator.p[5] .= u_control\n",
    "end"
   ],
   "outputs": [
    {
     "output_type": "execute_result",
     "data": {
      "text/plain": [
       "ode_affect_neg! (generic function with 1 method)"
      ]
     },
     "metadata": {},
     "execution_count": 191
    }
   ],
   "metadata": {}
  },
  {
   "cell_type": "code",
   "execution_count": 192,
   "source": [
    "function push_controller(x,t)\n",
    "    return [1;0]\n",
    "end"
   ],
   "outputs": [
    {
     "output_type": "execute_result",
     "data": {
      "text/plain": [
       "push_controller (generic function with 1 method)"
      ]
     },
     "metadata": {},
     "execution_count": 192
    }
   ],
   "metadata": {}
  },
  {
   "cell_type": "code",
   "execution_count": 124,
   "source": [
    "# straight line pushing \n",
    "pusher_u_ref = [0.5;0]\n",
    "nominal_mode = [1,0]\n",
    "xref = [0,0,0,-w/2,0]"
   ],
   "outputs": [
    {
     "output_type": "execute_result",
     "data": {
      "text/plain": [
       "5-element Vector{Float64}:\n",
       "  0.0\n",
       "  0.0\n",
       "  0.0\n",
       " -0.5\n",
       "  0.0"
      ]
     },
     "metadata": {},
     "execution_count": 124
    }
   ],
   "metadata": {}
  },
  {
   "cell_type": "code",
   "execution_count": 16,
   "source": [
    "# LQR controller\n",
    "A_lqr = ForwardDiff.jacobian(_x->discrete_dynamics(_x, pusher_u_ref, nominal_mode), xref)\n",
    "B_lqr = ForwardDiff.jacobian(_u->discrete_dynamics(xref, _u, nominal_mode), pusher_u_ref)\n",
    "Q_lqr = Diagonal([1.0;1.0;1.0;1.0;1.0])\n",
    "R_lqr = Diagonal([0.1;0.1])\n",
    "Ks, _ = StableManipulation.riccati(A_lqr,B_lqr,Q_lqr,R_lqr,Q_lqr,50)\n",
    "K_lqr = Ks[1]"
   ],
   "outputs": [
    {
     "output_type": "execute_result",
     "data": {
      "text/plain": [
       "2×5 Matrix{Float64}:\n",
       " 2.0   0.0        0.0      2.0  0.0\n",
       " 0.0  -0.255704  -1.92241  0.0  3.04558"
      ]
     },
     "metadata": {},
     "execution_count": 16
    }
   ],
   "metadata": {}
  },
  {
   "cell_type": "code",
   "execution_count": 17,
   "source": [
    "xrefs = zeros(20, 5)\n",
    "for k = 1:20\n",
    "    xrefs[k,:] .= [k*0.1,0,0,-w/2+k*0.1,0]\n",
    "end"
   ],
   "outputs": [],
   "metadata": {}
  },
  {
   "cell_type": "code",
   "execution_count": 73,
   "source": [
    "xrefs"
   ],
   "outputs": [
    {
     "output_type": "execute_result",
     "data": {
      "text/plain": [
       "20×5 Matrix{Float64}:\n",
       " 0.1  0.0  0.0  -0.4  0.0\n",
       " 0.2  0.0  0.0  -0.3  0.0\n",
       " 0.3  0.0  0.0  -0.2  0.0\n",
       " 0.4  0.0  0.0  -0.1  0.0\n",
       " 0.5  0.0  0.0   0.0  0.0\n",
       " 0.6  0.0  0.0   0.1  0.0\n",
       " 0.7  0.0  0.0   0.2  0.0\n",
       " 0.8  0.0  0.0   0.3  0.0\n",
       " 0.9  0.0  0.0   0.4  0.0\n",
       " 1.0  0.0  0.0   0.5  0.0\n",
       " 1.1  0.0  0.0   0.6  0.0\n",
       " 1.2  0.0  0.0   0.7  0.0\n",
       " 1.3  0.0  0.0   0.8  0.0\n",
       " 1.4  0.0  0.0   0.9  0.0\n",
       " 1.5  0.0  0.0   1.0  0.0\n",
       " 1.6  0.0  0.0   1.1  0.0\n",
       " 1.7  0.0  0.0   1.2  0.0\n",
       " 1.8  0.0  0.0   1.3  0.0\n",
       " 1.9  0.0  0.0   1.4  0.0\n",
       " 2.0  0.0  0.0   1.5  0.0"
      ]
     },
     "metadata": {},
     "execution_count": 73
    }
   ],
   "metadata": {}
  },
  {
   "cell_type": "code",
   "execution_count": 127,
   "source": [
    "function lqr_controller(x,t)\n",
    "    # idx = argmin(sum((xrefs - repeat(x, outer = [1, 20])').^2,dims=2))[1]\n",
    "    idx = min(ceil(Int,(t+1e-5)/0.2), 20)\n",
    "    xref_k = xrefs[idx,:]\n",
    "    u = pusher_u_ref .- K_lqr*(x.-xref_k)\n",
    "    return u\n",
    "end"
   ],
   "outputs": [
    {
     "output_type": "execute_result",
     "data": {
      "text/plain": [
       "lqr_controller (generic function with 1 method)"
      ]
     },
     "metadata": {},
     "execution_count": 127
    }
   ],
   "metadata": {}
  },
  {
   "cell_type": "markdown",
   "source": [
    "## Hybrid controller"
   ],
   "metadata": {}
  },
  {
   "cell_type": "code",
   "execution_count": 19,
   "source": [
    "# Lyapunov function\n",
    "function V(x, x_ref)\n",
    "    v = 0.5*(x.-x_ref)'*Q_lqr*(x.-x_ref)\n",
    "    return v\n",
    "end\n",
    "\n",
    "function dVdx(x, x_ref)\n",
    "    return Q_lqr*(x.-x_ref)\n",
    "end"
   ],
   "outputs": [
    {
     "output_type": "execute_result",
     "data": {
      "text/plain": [
       "dVdx (generic function with 1 method)"
      ]
     },
     "metadata": {},
     "execution_count": 19
    }
   ],
   "metadata": {}
  },
  {
   "cell_type": "code",
   "execution_count": 20,
   "source": [
    "function domain(x, u, contactMode)\n",
    "    d = compute_a(x)\n",
    "\n",
    "    R_WO = R_2D(x[3])\n",
    "    vp = R_WO'*u\n",
    "\n",
    "    p = R_WO'*(x[4:5] .- x[1:2])\n",
    "\n",
    "    Jp = [1 0 -p[2]; 0 1 p[1]]\n",
    "\n",
    "    fl = [1; -μ]\n",
    "    fr = [1; μ]\n",
    "\n",
    "    Fl = Jp'*fl\n",
    "    Fr = Jp'*fr\n",
    "\n",
    "    Vl = A_ls*Fl\n",
    "    Vr = A_ls*Fr\n",
    "\n",
    "    vl = Jp*Vl # vl[1] > 0, vl[2] < 0, slider sliding to the left of the pusher\n",
    "    vr = Jp*Vr # vr[1] > 0, vr[2] > 0, slider sliding to the right of the pusher \n",
    "\n",
    "    if contactMode[1] == 0\n",
    "        # separating/free contact\n",
    "        # vp[1] < 0\n",
    "        # d >= 0\n",
    "        ineqs = [-vp[1];d]\n",
    "        eqs = zeros(0)    \n",
    "    else\n",
    "        if contactMode[2] == 0\n",
    "            # vp[2]/vp[1] < vr[2]/vr[1]\n",
    "            # vp[2]/vp[1] > vl[2]/vl[1]\n",
    "            if abs(vp[1]) < 1e-6\n",
    "                ineqs = [ - vp[2]; vp[2]; vp[1]]\n",
    "            else\n",
    "                ineqs = [vr[2]/vr[1] - vp[2]/vp[1]; vp[2]/vp[1] - vl[2]/vl[1]; vp[1]]\n",
    "            end\n",
    "            eqs = [d]\n",
    "        else \n",
    "            if contactMode[2] == -1\n",
    "                # vp[2]/vp[1] < vl[2]/vl[1]\n",
    "                if abs(vp[1]) < 1e-6\n",
    "                    ineqs = [-vp[2]; vp[1]]\n",
    "                else\n",
    "                    ineqs = [vl[2]/vl[1] - vp[2]/vp[1]; vp[1]]\n",
    "                end\n",
    "                eqs = [d]\n",
    "            else\n",
    "                # vp[2]/vp[1] > vr[2]/vr[1]\n",
    "                if abs(vp[1]) < 1e-6\n",
    "                    ineqs = [vp[2]; vp[1]]\n",
    "                else\n",
    "                    ineqs = [vp[2]/vp[1] - vr[2]/vr[1]; vp[1]]\n",
    "                end\n",
    "                eqs = [d]\n",
    "            end\n",
    "        end\n",
    "    end\n",
    "    \n",
    "    return ineqs, eqs\n",
    "end  "
   ],
   "outputs": [
    {
     "output_type": "execute_result",
     "data": {
      "text/plain": [
       "domain (generic function with 1 method)"
      ]
     },
     "metadata": {},
     "execution_count": 20
    }
   ],
   "metadata": {}
  },
  {
   "cell_type": "code",
   "execution_count": 21,
   "source": [
    "const n_modes = size(modes, 1)\n",
    "\n",
    "const n_u = 2\n",
    "const n_β = 15\n",
    "const n_α = n_modes"
   ],
   "outputs": [
    {
     "output_type": "execute_result",
     "data": {
      "text/plain": [
       "4"
      ]
     },
     "metadata": {},
     "execution_count": 21
    }
   ],
   "metadata": {}
  },
  {
   "cell_type": "code",
   "execution_count": 22,
   "source": [
    "fuz = 0.0\n",
    "\n",
    "function hybrid_constraints_matrix(x, u_ref, x_ref)\n",
    "    n = n_u + n_β + n_α\n",
    "    m = n_modes\n",
    "\n",
    "    A = zeros(m, n)\n",
    "    b = zeros(m)\n",
    "\n",
    "    nominal_mode = [1,0] # sticking pusher-slider contact\n",
    "\n",
    "    β_idx = 1\n",
    "\n",
    "    Vx = dVdx(x, x_ref)\n",
    "    Vv = V(x, x_ref)\n",
    "\n",
    "    for k = 1:n_modes \n",
    "        mode = modes[k,:]\n",
    "        d_ineq, d_eq = domain(x, u_ref, mode)\n",
    "\n",
    "        n_ineq = size(d_ineq, 1)\n",
    "        n_eq = size(d_eq, 1)\n",
    "\n",
    "        dfdu = ForwardDiff.jacobian(_u->continuous_dynamics_differentiable(x, _u, mode), u_ref)\n",
    "\n",
    "        b[k] = -Vx'*continuous_dynamics_differentiable(x, u_ref, mode)\n",
    "\n",
    "        A[k, n_u+n_β+k] = -Vv\n",
    "        A[k, 1:n_u] = -Vx'*dfdu\n",
    "        A[k, β_idx:β_idx+n_ineq-1] .= -(d_ineq .+ fuz)\n",
    "        A[k, β_idx+n_ineq:β_idx+n_ineq+n_eq-1] .= -(d_eq .+ fuz)\n",
    "        A[k, β_idx+n_ineq+n_eq:β_idx+n_ineq+2*n_eq-1] .= d_eq .- fuz\n",
    "\n",
    "        β_idx += n_ineq + 2*n_eq\n",
    "        \n",
    "    end\n",
    "\n",
    "    return A, b\n",
    "\n",
    "end\n"
   ],
   "outputs": [
    {
     "output_type": "execute_result",
     "data": {
      "text/plain": [
       "hybrid_constraints_matrix (generic function with 1 method)"
      ]
     },
     "metadata": {},
     "execution_count": 22
    }
   ],
   "metadata": {}
  },
  {
   "cell_type": "code",
   "execution_count": 202,
   "source": [
    "function hybrid_controller(x, t)\n",
    "    \n",
    "    idx = min(ceil(Int,(t+1e-5)/0.2), 20)\n",
    "    xref_k = xrefs[idx,:]\n",
    "\n",
    "    u_ref = [0.5,0]\n",
    "\n",
    "    α_ref = 5.0\n",
    "\n",
    "    n_var = n_u + n_β + n_α\n",
    "\n",
    "    u = u_ref\n",
    "\n",
    "    stop_thr = 1e-3\n",
    "\n",
    "    du = [1,1]\n",
    "\n",
    "    iter = 0\n",
    "\n",
    "    while any(abs.(du) .> 1e-2) && (iter < 100)\n",
    "\n",
    "        iter = iter + 1\n",
    "\n",
    "        z = Variable(n_var)\n",
    "        \n",
    "        A, b = hybrid_constraints_matrix(x, u, xref_k)\n",
    "\n",
    "        problem = minimize(sumsquares(z - [zeros(n_u + n_β); α_ref*ones(n_α)]))\n",
    "        problem.constraints += A*z + b >= 0\n",
    "        problem.constraints += z[n_u+1:end] >= 0\n",
    "        problem.constraints += z[1:n_u] > -0.2\n",
    "        problem.constraints += z[1:n_u] < 0.2\n",
    "        # problem.constraints += z[1:n_u] <= 10\n",
    "        # problem.constraints += z[1:n_u] >= -10\n",
    "\n",
    "        Convex.solve!(problem, () -> SCS.Optimizer(verbose=false))\n",
    "        \n",
    "        z_sol = evaluate(z)\n",
    "\n",
    "        if any(isnan.(z_sol)) || sum(z_sol) == Inf # infeasible\n",
    "            # z_sol = zeros(n_var)\n",
    "            println(\"Infeasible: \", x, \" t \", t)\n",
    "            u .= [0.0,0.0]\n",
    "            break\n",
    "        end\n",
    "    \n",
    "        du = z_sol[1:n_u]\n",
    "        \n",
    "        # println(\"iter \", iter, \": du = \", du)\n",
    "\n",
    "        u .= u .+ du\n",
    "    end\n",
    "\n",
    "    println(\"u, \", u)\n",
    "\n",
    "    return u\n",
    "end"
   ],
   "outputs": [
    {
     "output_type": "execute_result",
     "data": {
      "text/plain": [
       "hybrid_controller (generic function with 1 method)"
      ]
     },
     "metadata": {},
     "execution_count": 202
    }
   ],
   "metadata": {}
  },
  {
   "cell_type": "code",
   "execution_count": 154,
   "source": [
    "hybrid_controller([0.1;0;0;-0.4;0.1], 0.0)"
   ],
   "outputs": [
    {
     "output_type": "stream",
     "name": "stdout",
     "text": [
      "u, [0.5591152480861931, -0.24994398597129547]\n"
     ]
    },
    {
     "output_type": "execute_result",
     "data": {
      "text/plain": [
       "2-element Vector{Float64}:\n",
       "  0.5591152480861931\n",
       " -0.24994398597129547"
      ]
     },
     "metadata": {},
     "execution_count": 154
    }
   ],
   "metadata": {}
  },
  {
   "cell_type": "code",
   "execution_count": 158,
   "source": [
    "ceil(Int,(0.3553154692729009+1e-5)/0.2)"
   ],
   "outputs": [
    {
     "output_type": "execute_result",
     "data": {
      "text/plain": [
       "2"
      ]
     },
     "metadata": {},
     "execution_count": 158
    }
   ],
   "metadata": {}
  },
  {
   "cell_type": "code",
   "execution_count": 159,
   "source": [
    "xrefs[2,:]"
   ],
   "outputs": [
    {
     "output_type": "execute_result",
     "data": {
      "text/plain": [
       "5-element Vector{Float64}:\n",
       "  0.2\n",
       "  0.0\n",
       "  0.0\n",
       " -0.3\n",
       "  0.0"
      ]
     },
     "metadata": {},
     "execution_count": 159
    }
   ],
   "metadata": {}
  },
  {
   "cell_type": "code",
   "execution_count": 160,
   "source": [
    "compute_a([0.5404297117798483, -0.08807322369851396, -0.021952042399671454, 0.04274373678794523, 0.022811198217499242])"
   ],
   "outputs": [
    {
     "output_type": "execute_result",
     "data": {
      "text/plain": [
       "8.358514103079528e-9"
      ]
     },
     "metadata": {},
     "execution_count": 160
    }
   ],
   "metadata": {}
  },
  {
   "cell_type": "code",
   "execution_count": 136,
   "source": [
    "lqr_controller([0;0;0;-w/2-0.05;0.1], 0.0)"
   ],
   "outputs": [
    {
     "output_type": "execute_result",
     "data": {
      "text/plain": [
       "2-element Vector{Float64}:\n",
       "  0.9999999997135423\n",
       " -0.3045579249970693"
      ]
     },
     "metadata": {},
     "execution_count": 136
    }
   ],
   "metadata": {}
  },
  {
   "cell_type": "code",
   "execution_count": 208,
   "source": [
    "controller = hybrid_controller\n",
    "h_control = Δt\n",
    "\n",
    "tspan = (0.0, 5)\n",
    "\n",
    "x0 = [0;0;0;-w/2-0.1;0.1]\n",
    "\n",
    "prob = ODEProblem(ode_dynamics!, x0, tspan, ([0], controller, [0.0], h_control/2, controller(x0,0)))\n",
    "cb = VectorContinuousCallback(ode_conditions, nothing, ode_affect_neg!, 1)\n",
    "\n",
    "sol = solve(prob, Tsit5(); callback = cb, abstol=1e-15,reltol=1e-15, adaptive=false,dt=Δt/10)\n",
    "\n",
    "println(\"Simulation status: \", sol.retcode)"
   ],
   "outputs": [
    {
     "output_type": "stream",
     "name": "stdout",
     "text": [
      "u, [0.710268961195225, -0.03719151255833299]\n",
      "u, [0.6704288266790454, -0.01951679428725442]\n",
      "u, [0.6598881473849121, -0.008693120559656037]\n",
      "u, [0.6718738425522746, -9.518800272749293e-6]\n",
      "u, [0.9206476933567679, 9.349307121698619e-6]\n",
      "u, [0.7438064539625465, -2.6381614766645033e-7]\n",
      "u, [0.6399814096348512, 2.0602182321736717e-6]\n",
      "u, [0.6416654016552327, -1.0493430735617532e-7]\n",
      "u, [0.7444445395400348, -2.0710637518455984e-5]\n",
      "u, [0.6527429622593572, -5.458234422865792e-6]\n",
      "u, [0.6862285796927122, 1.4558321324960947e-6]\n",
      "u, [0.5550993268419796, -0.18024703516937246]\n",
      "u, [0.6487142471831033, 1.4171250040206143e-6]\n",
      "u, [0.6794152748733937, 9.17094720823764e-6]\n",
      "u, [0.5636078487013719, -0.17301798477072394]\n",
      "Infeasible: [0.41350107422412746, -0.03554694851801814, -0.04044347093354123, -0.08217907310485613, 0.08133351955758142] t 0.7608878125319232\n",
      "u, [0.0, 0.0]\n",
      "u, [0.658810237883149, 5.625006060745514e-7]\n",
      "u, [0.6515062513708889, 1.067343871278501e-5]\n",
      "u, "
     ]
    },
    {
     "output_type": "stream",
     "name": "stderr",
     "text": [
      "┌ Warning: Problem status INFEASIBLE; solution may be inaccurate.\n",
      "└ @ Convex /home/xianyi/.julia/packages/Convex/uI27T/src/solution.jl:263\n"
     ]
    },
    {
     "output_type": "stream",
     "name": "stdout",
     "text": [
      "[0.6750260372837056, -0.11062083701955742]\n",
      "Infeasible: [0.5085713984513619, -0.0456685905093284, -0.050007119726720686, 0.014031660071929703, 0.0759469823403269] t 0.9630228125319235\n",
      "u, [0.0, 0.0]\n",
      "u, [0.6952380142517129, 2.42024486482074e-6]\n",
      "u, [0.7138289231120936, -6.628564244900669e-5]\n",
      "u, [0.6862508476171327, -0.20129223380018124]\n",
      "Infeasible: [0.6132394988225008, -0.06185189616687686, -0.057570165497407594, 0.11963326748588762, 0.06350049454295623] t 1.1671928125319198\n",
      "u, [0.0, 0.0]\n",
      "u, [0.7128306511320525, -2.651819219837906e-6]\n",
      "u, [0.7939318693687359, -0.001018549568721258]\n",
      "u, [0.6017876504324692, -0.6409204833331791]\n",
      "Infeasible: [0.7227161742633842, -0.08420945944333526, -0.06195015512283536, 0.22911921445452235, 0.034554928989716356] t 1.3713878125319154\n",
      "u, [0.0, 0.0]\n",
      "u, "
     ]
    },
    {
     "output_type": "stream",
     "name": "stderr",
     "text": [
      "┌ Warning: Problem status INFEASIBLE; solution may be inaccurate.\n",
      "└ @ Convex /home/xianyi/.julia/packages/Convex/uI27T/src/solution.jl:263\n",
      "┌ Warning: Problem status INFEASIBLE; solution may be inaccurate.\n",
      "└ @ Convex /home/xianyi/.julia/packages/Convex/uI27T/src/solution.jl:263\n",
      "┌ Warning: Problem status INFEASIBLE; solution may be inaccurate.\n",
      "└ @ Convex /home/xianyi/.julia/packages/Convex/uI27T/src/solution.jl:263\n"
     ]
    },
    {
     "output_type": "stream",
     "name": "stdout",
     "text": [
      "[0.7417925756064107, 1.7534158046615e-5]\n",
      "u, [0.8475909539407522, -0.029384662361827334]\n",
      "Infeasible: [0.7969456120013673, -0.08661083081816633, -0.07411655081544025, 0.3049935535177028, 0.040419757007624436] t 1.5258878125319122\n",
      "u, [0.0, 0.0]\n"
     ]
    },
    {
     "output_type": "stream",
     "name": "stderr",
     "text": [
      "┌ Warning: Problem status ALMOST_INFEASIBLE; solution may be inaccurate.\n",
      "└ @ Convex /home/xianyi/.julia/packages/Convex/uI27T/src/solution.jl:263\n",
      "┌ Warning: Problem status ALMOST_OPTIMAL; solution may be inaccurate.\n",
      "└ @ Convex /home/xianyi/.julia/packages/Convex/uI27T/src/solution.jl:263\n",
      "┌ Warning: Problem status ALMOST_OPTIMAL; solution may be inaccurate.\n",
      "└ @ Convex /home/xianyi/.julia/packages/Convex/uI27T/src/solution.jl:263\n"
     ]
    },
    {
     "output_type": "stream",
     "name": "stdout",
     "text": [
      "Infeasible: [0.7956364482514049, -0.08648700756078849, -0.07395852808089634, 0.30366432077239797, 0.04046583944307218] t 1.5762879402364338\n",
      "u, [0.0, 0.0]\n",
      "u, [0.8345949450073187, -2.409081169829249e-6]\n",
      "u, [0.959582819139257, -0.04406131296997003]\n"
     ]
    },
    {
     "output_type": "stream",
     "name": "stderr",
     "text": [
      "┌ Warning: Problem status ALMOST_INFEASIBLE; solution may be inaccurate.\n",
      "└ @ Convex /home/xianyi/.julia/packages/Convex/uI27T/src/solution.jl:263\n"
     ]
    },
    {
     "output_type": "stream",
     "name": "stdout",
     "text": [
      "Infeasible: [0.8948612754144697, -0.09513386918444278, -0.08697486382563516, 0.40458280301820576, 0.03821183486999895] t 1.728022812531908\n",
      "u, [0.0, 0.0]\n",
      "Infeasible: [0.8938200495300124, -0.09502312441622572, -0.08684808351540689, 0.4035246747226681, 0.03826042111087588] t 1.7808878125319068\n",
      "u, [0.0, 0.0]\n",
      "u, [0.9177753384815837, -2.2887364447575203e-5]\n",
      "u, [1.0282473651374584, -0.03629999006467514]\n"
     ]
    },
    {
     "output_type": "stream",
     "name": "stderr",
     "text": [
      "┌ Warning: Problem status ALMOST_INFEASIBLE; solution may be inaccurate.\n",
      "└ @ Convex /home/xianyi/.julia/packages/Convex/uI27T/src/solution.jl:263\n",
      "┌ Warning: Problem status ALMOST_INFEASIBLE; solution may be inaccurate.\n",
      "└ @ Convex /home/xianyi/.julia/packages/Convex/uI27T/src/solution.jl:263\n"
     ]
    },
    {
     "output_type": "stream",
     "name": "stdout",
     "text": [
      "Infeasible: [0.9870543931583436, -0.10356409968509188, -0.09966717509972614, 0.49850771307233405, 0.03599349740787759] t 1.9321928125319034\n",
      "u, [0.0, 0.0]\n",
      "u, [0.7602843132028244, -2.1991530185904176]\n",
      "u, [1.1853091288090316, 0.1735521207017096]\n",
      "u, "
     ]
    },
    {
     "output_type": "stream",
     "name": "stderr",
     "text": [
      "┌ Warning: Problem status ALMOST_INFEASIBLE; solution may be inaccurate.\n",
      "└ @ Convex /home/xianyi/.julia/packages/Convex/uI27T/src/solution.jl:263\n",
      "┌ Warning: Problem status ALMOST_OPTIMAL; solution may be inaccurate.\n",
      "└ @ Convex /home/xianyi/.julia/packages/Convex/uI27T/src/solution.jl:263\n"
     ]
    },
    {
     "output_type": "stream",
     "name": "stdout",
     "text": [
      "[3.3435655115124763, 0.6005796469099447]\n",
      "u, [17.286948717133527, 19.999952665815233]\n",
      "Infeasible: [1.036436102313051, -0.13247566849673556, -0.08542023850244092, 1.569934262975724, 0.8713405428735551] t 2.1870833546221595\n",
      "u, [0.0, 0.0]\n",
      "Infeasible: [1.036436102313051, -0.13247566849673556, -0.08542023850244092, 1.368998504914257, 0.638870040654965] t 2.2378883546221586\n",
      "u, [0.0, 0.0]\n",
      "Infeasible: [1.036436102313051, -0.13247566849673556, -0.08542023850244092, 1.368998504914257, 0.638870040654965] t 2.2887183546221572\n",
      "u, [0.0, 0.0]\n",
      "Infeasible: [1.036436102313051, -0.13247566849673556, -0.08542023850244092, 1.368998504914257, 0.638870040654965] t 2.3415833546221565\n",
      "u, [0.0, 0.0]\n",
      "Infeasible: [1.036436102313051, -0.13247566849673556, -0.08542023850244092, 1.368998504914257, 0.638870040654965] t 2.391983482326678\n",
      "u, [0.0, 0.0]\n",
      "Infeasible: [1.036436102313051, -0.13247566849673556, -0.08542023850244092, 1.368998504914257, 0.638870040654965] t 2.442083354622154\n",
      "u, [0.0, 0.0]\n",
      "Infeasible: [1.036436102313051, -0.13247566849673556, -0.08542023850244092, 1.368998504914257, 0.638870040654965] t 2.492888354622153\n",
      "u, [0.0, 0.0]\n",
      "Infeasible: [1.036436102313051, -0.13247566849673556, -0.08542023850244092, 1.368998504914257, 0.638870040654965] t 2.543718354622152\n",
      "u, [0.0, 0.0]\n",
      "Infeasible: [1.036436102313051, -0.13247566849673556, -0.08542023850244092, 1.368998504914257, 0.638870040654965] t 2.596583354622151\n",
      "u, [0.0, 0.0]\n",
      "Infeasible: [1.036436102313051, -0.13247566849673556, -0.08542023850244092, 1.368998504914257, 0.638870040654965] t 2.6469834823266725\n",
      "u, [0.0, 0.0]\n",
      "Infeasible: [1.036436102313051, -0.13247566849673556, -0.08542023850244092, 1.368998504914257, 0.638870040654965] t 2.6970833546221487\n",
      "u, [0.0, 0.0]\n",
      "Infeasible: [1.036436102313051, -0.13247566849673556, -0.08542023850244092, 1.368998504914257, 0.638870040654965] t 2.7478883546221478\n",
      "u, [0.0, 0.0]\n",
      "Infeasible: [1.036436102313051, -0.13247566849673556, -0.08542023850244092, 1.368998504914257, 0.638870040654965] t 2.7987183546221464\n",
      "u, [0.0, 0.0]\n",
      "Infeasible: [1.036436102313051, -0.13247566849673556, -0.08542023850244092, 1.368998504914257, 0.638870040654965] t 2.8515833546221456\n",
      "u, [0.0, 0.0]\n",
      "Infeasible: [1.036436102313051, -0.13247566849673556, -0.08542023850244092, 1.368998504914257, 0.638870040654965] t 2.901983482326667\n",
      "u, [0.0, 0.0]\n",
      "Infeasible: [1.036436102313051, -0.13247566849673556, -0.08542023850244092, 1.368998504914257, 0.638870040654965] t 2.952083354622143\n",
      "u, [0.0, 0.0]\n",
      "Infeasible: [1.036436102313051, -0.13247566849673556, -0.08542023850244092, 1.368998504914257, 0.638870040654965] t 3.0028883546221423\n",
      "u, [0.0, 0.0]\n"
     ]
    },
    {
     "output_type": "stream",
     "name": "stderr",
     "text": [
      "┌ Warning: Problem status INFEASIBLE; solution may be inaccurate.\n",
      "└ @ Convex /home/xianyi/.julia/packages/Convex/uI27T/src/solution.jl:263\n",
      "┌ Warning: Problem status INFEASIBLE; solution may be inaccurate.\n",
      "└ @ Convex /home/xianyi/.julia/packages/Convex/uI27T/src/solution.jl:263\n",
      "┌ Warning: Problem status INFEASIBLE; solution may be inaccurate.\n",
      "└ @ Convex /home/xianyi/.julia/packages/Convex/uI27T/src/solution.jl:263\n",
      "┌ Warning: Problem status INFEASIBLE; solution may be inaccurate.\n",
      "└ @ Convex /home/xianyi/.julia/packages/Convex/uI27T/src/solution.jl:263\n",
      "┌ Warning: Problem status INFEASIBLE; solution may be inaccurate.\n",
      "└ @ Convex /home/xianyi/.julia/packages/Convex/uI27T/src/solution.jl:263\n",
      "┌ Warning: Problem status INFEASIBLE; solution may be inaccurate.\n",
      "└ @ Convex /home/xianyi/.julia/packages/Convex/uI27T/src/solution.jl:263\n",
      "┌ Warning: Problem status INFEASIBLE; solution may be inaccurate.\n",
      "└ @ Convex /home/xianyi/.julia/packages/Convex/uI27T/src/solution.jl:263\n",
      "┌ Warning: Problem status INFEASIBLE; solution may be inaccurate.\n",
      "└ @ Convex /home/xianyi/.julia/packages/Convex/uI27T/src/solution.jl:263\n",
      "┌ Warning: Problem status INFEASIBLE; solution may be inaccurate.\n",
      "└ @ Convex /home/xianyi/.julia/packages/Convex/uI27T/src/solution.jl:263\n",
      "┌ Warning: Problem status INFEASIBLE; solution may be inaccurate.\n",
      "└ @ Convex /home/xianyi/.julia/packages/Convex/uI27T/src/solution.jl:263\n",
      "┌ Warning: Problem status INFEASIBLE; solution may be inaccurate.\n",
      "└ @ Convex /home/xianyi/.julia/packages/Convex/uI27T/src/solution.jl:263\n",
      "┌ Warning: Problem status INFEASIBLE; solution may be inaccurate.\n",
      "└ @ Convex /home/xianyi/.julia/packages/Convex/uI27T/src/solution.jl:263\n",
      "┌ Warning: Problem status INFEASIBLE; solution may be inaccurate.\n",
      "└ @ Convex /home/xianyi/.julia/packages/Convex/uI27T/src/solution.jl:263\n",
      "┌ Warning: Problem status INFEASIBLE; solution may be inaccurate.\n",
      "└ @ Convex /home/xianyi/.julia/packages/Convex/uI27T/src/solution.jl:263\n",
      "┌ Warning: Problem status INFEASIBLE; solution may be inaccurate.\n",
      "└ @ Convex /home/xianyi/.julia/packages/Convex/uI27T/src/solution.jl:263\n",
      "┌ Warning: Problem status INFEASIBLE; solution may be inaccurate.\n",
      "└ @ Convex /home/xianyi/.julia/packages/Convex/uI27T/src/solution.jl:263\n",
      "┌ Warning: Problem status INFEASIBLE; solution may be inaccurate.\n",
      "└ @ Convex /home/xianyi/.julia/packages/Convex/uI27T/src/solution.jl:263\n"
     ]
    },
    {
     "output_type": "stream",
     "name": "stdout",
     "text": [
      "Infeasible: [1.036436102313051, -0.13247566849673556, -0.08542023850244092, 1.368998504914257, 0.638870040654965] t 3.053718354622141\n",
      "u, [0.0, 0.0]\n",
      "Infeasible: [1.036436102313051, -0.13247566849673556, -0.08542023850244092, 1.368998504914257, 0.638870040654965] t 3.10658335462214\n",
      "u, [0.0, 0.0]\n",
      "Infeasible: [1.036436102313051, -0.13247566849673556, -0.08542023850244092, 1.368998504914257, 0.638870040654965] t 3.1569834823266616\n",
      "u, [0.0, 0.0]\n",
      "Infeasible: [1.036436102313051, -0.13247566849673556, -0.08542023850244092, 1.368998504914257, 0.638870040654965] t 3.207083354622138\n",
      "u, [0.0, 0.0]\n",
      "Infeasible: [1.036436102313051, -0.13247566849673556, -0.08542023850244092, 1.368998504914257, 0.638870040654965] t 3.257888354622137\n",
      "u, [0.0, 0.0]\n",
      "Infeasible: [1.036436102313051, -0.13247566849673556, -0.08542023850244092, 1.368998504914257, 0.638870040654965] t 3.3087183546221355\n",
      "u, [0.0, 0.0]\n",
      "Infeasible: [1.036436102313051, -0.13247566849673556, -0.08542023850244092, 1.368998504914257, 0.638870040654965] t 3.3615833546221348\n",
      "u, [0.0, 0.0]\n",
      "Infeasible: [1.036436102313051, -0.13247566849673556, -0.08542023850244092, 1.368998504914257, 0.638870040654965] t 3.411983482326656\n",
      "u, [0.0, 0.0]\n",
      "Infeasible: [1.036436102313051, -0.13247566849673556, -0.08542023850244092, 1.368998504914257, 0.638870040654965] t 3.4620833546221323\n",
      "u, [0.0, 0.0]\n",
      "Infeasible: [1.036436102313051, -0.13247566849673556, -0.08542023850244092, 1.368998504914257, 0.638870040654965] t 3.5128883546221314\n",
      "u, [0.0, 0.0]\n",
      "Infeasible: [1.036436102313051, -0.13247566849673556, -0.08542023850244092, 1.368998504914257, 0.638870040654965] t 3.56371835462213\n",
      "u, [0.0, 0.0]\n"
     ]
    },
    {
     "output_type": "stream",
     "name": "stderr",
     "text": [
      "┌ Warning: Problem status INFEASIBLE; solution may be inaccurate.\n",
      "└ @ Convex /home/xianyi/.julia/packages/Convex/uI27T/src/solution.jl:263\n",
      "┌ Warning: Problem status INFEASIBLE; solution may be inaccurate.\n",
      "└ @ Convex /home/xianyi/.julia/packages/Convex/uI27T/src/solution.jl:263\n",
      "┌ Warning: Problem status INFEASIBLE; solution may be inaccurate.\n",
      "└ @ Convex /home/xianyi/.julia/packages/Convex/uI27T/src/solution.jl:263\n",
      "┌ Warning: Problem status INFEASIBLE; solution may be inaccurate.\n",
      "└ @ Convex /home/xianyi/.julia/packages/Convex/uI27T/src/solution.jl:263\n",
      "┌ Warning: Problem status INFEASIBLE; solution may be inaccurate.\n",
      "└ @ Convex /home/xianyi/.julia/packages/Convex/uI27T/src/solution.jl:263\n",
      "┌ Warning: Problem status INFEASIBLE; solution may be inaccurate.\n",
      "└ @ Convex /home/xianyi/.julia/packages/Convex/uI27T/src/solution.jl:263\n",
      "┌ Warning: Problem status INFEASIBLE; solution may be inaccurate.\n",
      "└ @ Convex /home/xianyi/.julia/packages/Convex/uI27T/src/solution.jl:263\n",
      "┌ Warning: Problem status INFEASIBLE; solution may be inaccurate.\n",
      "└ @ Convex /home/xianyi/.julia/packages/Convex/uI27T/src/solution.jl:263\n",
      "┌ Warning: Problem status INFEASIBLE; solution may be inaccurate.\n",
      "└ @ Convex /home/xianyi/.julia/packages/Convex/uI27T/src/solution.jl:263\n",
      "┌ Warning: Problem status INFEASIBLE; solution may be inaccurate.\n",
      "└ @ Convex /home/xianyi/.julia/packages/Convex/uI27T/src/solution.jl:263\n",
      "┌ Warning: Problem status INFEASIBLE; solution may be inaccurate.\n",
      "└ @ Convex /home/xianyi/.julia/packages/Convex/uI27T/src/solution.jl:263\n"
     ]
    },
    {
     "output_type": "stream",
     "name": "stdout",
     "text": [
      "Infeasible: [1.036436102313051, -0.13247566849673556, -0.08542023850244092, 1.368998504914257, 0.638870040654965] t 3.6165833546221293\n",
      "u, [0.0, 0.0]\n",
      "Infeasible: [1.036436102313051, -0.13247566849673556, -0.08542023850244092, 1.368998504914257, 0.638870040654965] t 3.6669834823266507\n",
      "u, [0.0, 0.0]\n",
      "Infeasible: [1.036436102313051, -0.13247566849673556, -0.08542023850244092, 1.368998504914257, 0.638870040654965] t 3.717083354622127\n",
      "u, [0.0, 0.0]\n",
      "Infeasible: [1.036436102313051, -0.13247566849673556, -0.08542023850244092, 1.368998504914257, 0.638870040654965] t 3.767888354622126\n",
      "u, [0.0, 0.0]\n",
      "Infeasible: [1.036436102313051, -0.13247566849673556, -0.08542023850244092, 1.368998504914257, 0.638870040654965] t 3.8187183546221246\n",
      "u, [0.0, 0.0]\n",
      "Infeasible: [1.036436102313051, -0.13247566849673556, -0.08542023850244092, 1.368998504914257, 0.638870040654965] t 3.871583354622124\n",
      "u, [0.0, 0.0]\n",
      "Infeasible: [1.036436102313051, -0.13247566849673556, -0.08542023850244092, 1.368998504914257, 0.638870040654965] t 3.9219834823266453\n",
      "u, [0.0, 0.0]\n"
     ]
    },
    {
     "output_type": "stream",
     "name": "stderr",
     "text": [
      "┌ Warning: Problem status INFEASIBLE; solution may be inaccurate.\n",
      "└ @ Convex /home/xianyi/.julia/packages/Convex/uI27T/src/solution.jl:263\n",
      "┌ Warning: Problem status INFEASIBLE; solution may be inaccurate.\n",
      "└ @ Convex /home/xianyi/.julia/packages/Convex/uI27T/src/solution.jl:263\n",
      "┌ Warning: Problem status INFEASIBLE; solution may be inaccurate.\n",
      "└ @ Convex /home/xianyi/.julia/packages/Convex/uI27T/src/solution.jl:263\n",
      "┌ Warning: Problem status INFEASIBLE; solution may be inaccurate.\n",
      "└ @ Convex /home/xianyi/.julia/packages/Convex/uI27T/src/solution.jl:263\n",
      "┌ Warning: Problem status INFEASIBLE; solution may be inaccurate.\n",
      "└ @ Convex /home/xianyi/.julia/packages/Convex/uI27T/src/solution.jl:263\n",
      "┌ Warning: Problem status INFEASIBLE; solution may be inaccurate.\n",
      "└ @ Convex /home/xianyi/.julia/packages/Convex/uI27T/src/solution.jl:263\n",
      "┌ Warning: Problem status INFEASIBLE; solution may be inaccurate.\n",
      "└ @ Convex /home/xianyi/.julia/packages/Convex/uI27T/src/solution.jl:263\n"
     ]
    },
    {
     "output_type": "stream",
     "name": "stdout",
     "text": [
      "Infeasible: [1.036436102313051, -0.13247566849673556, -0.08542023850244092, 1.368998504914257, 0.638870040654965] t 3.9720833546221215\n",
      "u, [0.0, 0.0]\n",
      "Infeasible: [1.036436102313051, -0.13247566849673556, -0.08542023850244092, 1.368998504914257, 0.638870040654965] t 4.02288835462212\n",
      "u, [0.0, 0.0]\n",
      "Infeasible: [1.036436102313051, -0.13247566849673556, -0.08542023850244092, 1.368998504914257, 0.638870040654965] t 4.07371835462212\n",
      "u, [0.0, 0.0]\n",
      "Infeasible: [1.036436102313051, -0.13247566849673556, -0.08542023850244092, 1.368998504914257, 0.638870040654965] t 4.1265833546221184\n",
      "u, [0.0, 0.0]\n",
      "Infeasible: [1.036436102313051, -0.13247566849673556, -0.08542023850244092, 1.368998504914257, 0.638870040654965] t 4.17698348232664\n",
      "u, [0.0, 0.0]\n"
     ]
    },
    {
     "output_type": "stream",
     "name": "stderr",
     "text": [
      "┌ Warning: Problem status INFEASIBLE; solution may be inaccurate.\n",
      "└ @ Convex /home/xianyi/.julia/packages/Convex/uI27T/src/solution.jl:263\n",
      "┌ Warning: Problem status INFEASIBLE; solution may be inaccurate.\n",
      "└ @ Convex /home/xianyi/.julia/packages/Convex/uI27T/src/solution.jl:263\n",
      "┌ Warning: Problem status INFEASIBLE; solution may be inaccurate.\n",
      "└ @ Convex /home/xianyi/.julia/packages/Convex/uI27T/src/solution.jl:263\n",
      "┌ Warning: Problem status INFEASIBLE; solution may be inaccurate.\n",
      "└ @ Convex /home/xianyi/.julia/packages/Convex/uI27T/src/solution.jl:263\n",
      "┌ Warning: Problem status INFEASIBLE; solution may be inaccurate.\n",
      "└ @ Convex /home/xianyi/.julia/packages/Convex/uI27T/src/solution.jl:263\n"
     ]
    },
    {
     "output_type": "stream",
     "name": "stdout",
     "text": [
      "Infeasible: [1.036436102313051, -0.13247566849673556, -0.08542023850244092, 1.368998504914257, 0.638870040654965] t 4.227083354622116\n",
      "u, [0.0, 0.0]\n",
      "Infeasible: [1.036436102313051, -0.13247566849673556, -0.08542023850244092, 1.368998504914257, 0.638870040654965] t 4.277888354622115\n",
      "u, [0.0, 0.0]\n",
      "Infeasible: [1.036436102313051, -0.13247566849673556, -0.08542023850244092, 1.368998504914257, 0.638870040654965] t 4.328718354622114\n",
      "u, [0.0, 0.0]\n",
      "Infeasible: [1.036436102313051, -0.13247566849673556, -0.08542023850244092, 1.368998504914257, 0.638870040654965] t 4.381583354622113\n",
      "u, [0.0, 0.0]\n",
      "Infeasible: [1.036436102313051, -0.13247566849673556, -0.08542023850244092, 1.368998504914257, 0.638870040654965] t 4.431983482326634\n",
      "u, [0.0, 0.0]\n"
     ]
    },
    {
     "output_type": "stream",
     "name": "stderr",
     "text": [
      "┌ Warning: Problem status INFEASIBLE; solution may be inaccurate.\n",
      "└ @ Convex /home/xianyi/.julia/packages/Convex/uI27T/src/solution.jl:263\n",
      "┌ Warning: Problem status INFEASIBLE; solution may be inaccurate.\n",
      "└ @ Convex /home/xianyi/.julia/packages/Convex/uI27T/src/solution.jl:263\n",
      "┌ Warning: Problem status INFEASIBLE; solution may be inaccurate.\n",
      "└ @ Convex /home/xianyi/.julia/packages/Convex/uI27T/src/solution.jl:263\n",
      "┌ Warning: Problem status INFEASIBLE; solution may be inaccurate.\n",
      "└ @ Convex /home/xianyi/.julia/packages/Convex/uI27T/src/solution.jl:263\n",
      "┌ Warning: Problem status INFEASIBLE; solution may be inaccurate.\n",
      "└ @ Convex /home/xianyi/.julia/packages/Convex/uI27T/src/solution.jl:263\n"
     ]
    },
    {
     "output_type": "stream",
     "name": "stdout",
     "text": [
      "Infeasible: [1.036436102313051, -0.13247566849673556, -0.08542023850244092, 1.368998504914257, 0.638870040654965] t 4.482083354622111\n",
      "u, [0.0, 0.0]\n",
      "Infeasible: [1.036436102313051, -0.13247566849673556, -0.08542023850244092, 1.368998504914257, 0.638870040654965] t 4.532888354622109\n",
      "u, [0.0, 0.0]\n",
      "Infeasible: [1.036436102313051, -0.13247566849673556, -0.08542023850244092, 1.368998504914257, 0.638870040654965] t 4.583718354622109\n",
      "u, [0.0, 0.0]\n",
      "Infeasible: [1.036436102313051, -0.13247566849673556, -0.08542023850244092, 1.368998504914257, 0.638870040654965] t 4.636583354622108\n",
      "u, [0.0, 0.0]\n",
      "Infeasible: [1.036436102313051, -0.13247566849673556, -0.08542023850244092, 1.368998504914257, 0.638870040654965] t 4.686983482326629\n",
      "u, [0.0, 0.0]\n"
     ]
    },
    {
     "output_type": "stream",
     "name": "stderr",
     "text": [
      "┌ Warning: Problem status INFEASIBLE; solution may be inaccurate.\n",
      "└ @ Convex /home/xianyi/.julia/packages/Convex/uI27T/src/solution.jl:263\n",
      "┌ Warning: Problem status INFEASIBLE; solution may be inaccurate.\n",
      "└ @ Convex /home/xianyi/.julia/packages/Convex/uI27T/src/solution.jl:263\n",
      "┌ Warning: Problem status INFEASIBLE; solution may be inaccurate.\n",
      "└ @ Convex /home/xianyi/.julia/packages/Convex/uI27T/src/solution.jl:263\n",
      "┌ Warning: Problem status INFEASIBLE; solution may be inaccurate.\n",
      "└ @ Convex /home/xianyi/.julia/packages/Convex/uI27T/src/solution.jl:263\n",
      "┌ Warning: Problem status INFEASIBLE; solution may be inaccurate.\n",
      "└ @ Convex /home/xianyi/.julia/packages/Convex/uI27T/src/solution.jl:263\n"
     ]
    },
    {
     "output_type": "stream",
     "name": "stdout",
     "text": [
      "Infeasible: [1.036436102313051, -0.13247566849673556, -0.08542023850244092, 1.368998504914257, 0.638870040654965] t 4.737083354622105\n",
      "u, [0.0, 0.0]\n",
      "Infeasible: [1.036436102313051, -0.13247566849673556, -0.08542023850244092, 1.368998504914257, 0.638870040654965] t 4.787888354622104\n",
      "u, [0.0, 0.0]\n",
      "Infeasible: [1.036436102313051, -0.13247566849673556, -0.08542023850244092, 1.368998504914257, 0.638870040654965] t 4.838718354622103\n",
      "u, [0.0, 0.0]\n",
      "Infeasible: [1.036436102313051, -0.13247566849673556, -0.08542023850244092, 1.368998504914257, 0.638870040654965] t 4.891583354622102\n",
      "u, [0.0, 0.0]\n",
      "Infeasible: [1.036436102313051, -0.13247566849673556, -0.08542023850244092, 1.368998504914257, 0.638870040654965] t 4.9419834823266235\n",
      "u, [0.0, 0.0]\n"
     ]
    },
    {
     "output_type": "stream",
     "name": "stderr",
     "text": [
      "┌ Warning: Problem status INFEASIBLE; solution may be inaccurate.\n",
      "└ @ Convex /home/xianyi/.julia/packages/Convex/uI27T/src/solution.jl:263\n",
      "┌ Warning: Problem status INFEASIBLE; solution may be inaccurate.\n",
      "└ @ Convex /home/xianyi/.julia/packages/Convex/uI27T/src/solution.jl:263\n",
      "┌ Warning: Problem status INFEASIBLE; solution may be inaccurate.\n",
      "└ @ Convex /home/xianyi/.julia/packages/Convex/uI27T/src/solution.jl:263\n",
      "┌ Warning: Problem status INFEASIBLE; solution may be inaccurate.\n",
      "└ @ Convex /home/xianyi/.julia/packages/Convex/uI27T/src/solution.jl:263\n",
      "┌ Warning: Problem status INFEASIBLE; solution may be inaccurate.\n",
      "└ @ Convex /home/xianyi/.julia/packages/Convex/uI27T/src/solution.jl:263\n"
     ]
    },
    {
     "output_type": "stream",
     "name": "stdout",
     "text": [
      "Infeasible: [1.036436102313051, -0.13247566849673556, -0.08542023850244092, 1.368998504914257, 0.638870040654965] t 4.9920833546221\n",
      "u, [0.0, 0.0]\n",
      "Simulation status: Success\n"
     ]
    },
    {
     "output_type": "stream",
     "name": "stderr",
     "text": [
      "┌ Warning: Problem status INFEASIBLE; solution may be inaccurate.\n",
      "└ @ Convex /home/xianyi/.julia/packages/Convex/uI27T/src/solution.jl:263\n"
     ]
    }
   ],
   "metadata": {}
  },
  {
   "cell_type": "code",
   "execution_count": 194,
   "source": [
    "function boxshape(q)\n",
    "    p1 = q[1:2] + R_2D(q[3])*[w/2;h/2]\n",
    "    p2 = q[1:2] + R_2D(q[3])*[w/2;-h/2]\n",
    "    p3 = q[1:2] + R_2D(q[3])*[-w/2;-h/2]\n",
    "    p4 = q[1:2] + R_2D(q[3])*[-w/2;h/2]\n",
    "    pp = [p1 p2 p3 p4]\n",
    "    return Shape(pp[1,:], pp[2,:])\n",
    "end\n",
    "\n",
    "function animation(x, n; interval_n = 1, fps = 30)\n",
    "    anim = Plots.Animation()\n",
    "    for k = 1:Int(floor(n/interval_n)+1)\n",
    "        i = (k-1)*interval_n+1\n",
    "        p = plot(boxshape([x[i][1],x[i][2],x[i][3]]), aspect_ratio=:equal, c=:gray, opacity=.7, legend=false)\n",
    "        scatter!(p,[x[i][4]],[x[i][5]], markersize=5, xlims=(-2,10), ylims=(-2,2))\n",
    "        frame(anim, p)\n",
    "    end\n",
    "    p = plot(boxshape([x[n][1],x[n][2],x[n][3]]), aspect_ratio=:equal, c=:gray, opacity=.7, legend=false)\n",
    "    scatter!(p,[x[n][4]],[x[n][5]], markersize=5, xlims=(-2,10), ylims=(-2,2))\n",
    "    frame(anim, p)\n",
    "\n",
    "    Plots.gif(anim, \"anim.gif\", fps = fps)\n",
    "end\n"
   ],
   "outputs": [
    {
     "output_type": "execute_result",
     "data": {
      "text/plain": [
       "animation (generic function with 1 method)"
      ]
     },
     "metadata": {},
     "execution_count": 194
    }
   ],
   "metadata": {}
  },
  {
   "cell_type": "code",
   "execution_count": 206,
   "source": [
    "animation(sol.u,length(sol.t)-1, interval_n = 10)\n",
    "# animation(sol.u,250, interval_n = 1)"
   ],
   "outputs": [
    {
     "output_type": "stream",
     "name": "stderr",
     "text": [
      "┌ Info: Saved animation to \n",
      "│   fn = /home/xianyi/.julia/dev/StableManipulation/example/anim.gif\n",
      "└ @ Plots /home/xianyi/.julia/packages/Plots/FI0vT/src/animation.jl:114\n"
     ]
    },
    {
     "output_type": "execute_result",
     "data": {
      "text/plain": [
       "Plots.AnimatedGif(\"/home/xianyi/.julia/dev/StableManipulation/example/anim.gif\")"
      ],
      "text/html": [
       "<img src=\"data:image/gif;base64,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\" />"
      ]
     },
     "metadata": {},
     "execution_count": 206
    }
   ],
   "metadata": {}
  },
  {
   "cell_type": "code",
   "execution_count": null,
   "source": [],
   "outputs": [],
   "metadata": {}
  }
 ],
 "metadata": {
  "orig_nbformat": 4,
  "language_info": {
   "file_extension": ".jl",
   "name": "julia",
   "mimetype": "application/julia",
   "version": "1.6.2"
  },
  "kernelspec": {
   "name": "julia-1.6",
   "display_name": "Julia 1.6.2",
   "language": "julia"
  }
 },
 "nbformat": 4,
 "nbformat_minor": 2
}