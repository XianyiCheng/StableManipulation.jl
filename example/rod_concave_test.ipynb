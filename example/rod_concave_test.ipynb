{
 "cells": [
  {
   "cell_type": "code",
   "execution_count": 1,
   "source": [
    "import Pkg; Pkg.activate(joinpath(@__DIR__,\"..\")); Pkg.instantiate()"
   ],
   "outputs": [
    {
     "output_type": "stream",
     "name": "stderr",
     "text": [
      "\u001b[32m\u001b[1m  Activating\u001b[22m\u001b[39m environment at `~/.julia/dev/StableManipulation/Project.toml`\n"
     ]
    }
   ],
   "metadata": {}
  },
  {
   "cell_type": "code",
   "execution_count": 2,
   "source": [
    "using LinearAlgebra\n",
    "using ForwardDiff\n",
    "using OrdinaryDiffEq\n",
    "using Plots\n",
    "using Convex, SCS\n",
    "using JLD\n",
    "using StableManipulation"
   ],
   "outputs": [],
   "metadata": {}
  },
  {
   "cell_type": "code",
   "execution_count": 3,
   "source": [
    "include(\"../models/rod_corner_frictionless_concave.jl\")"
   ],
   "outputs": [
    {
     "output_type": "execute_result",
     "data": {
      "text/plain": [
       "Main.RodWorld"
      ]
     },
     "metadata": {},
     "execution_count": 3
    }
   ],
   "metadata": {}
  },
  {
   "cell_type": "code",
   "execution_count": 4,
   "source": [
    "dynamics! = RodWorld.ode_dynamics!\n",
    "conditions = RodWorld.ode_conditions\n",
    "affect! = RodWorld.ode_affect!\n",
    "affect_neg! = RodWorld.ode_affect_neg!"
   ],
   "outputs": [
    {
     "output_type": "execute_result",
     "data": {
      "text/plain": [
       "ode_affect_neg! (generic function with 1 method)"
      ]
     },
     "metadata": {},
     "execution_count": 4
    }
   ],
   "metadata": {}
  },
  {
   "cell_type": "code",
   "execution_count": 29,
   "source": [
    "# goal: hold the rod at 45 degrees at the corner\n",
    "xref = [cos(pi/4)*RodWorld.l/2; sin(pi/4)*RodWorld.l/2; pi/4; 0; 0; 0]\n",
    "\n",
    "nominal_mode = [true, true]\n",
    "\n",
    "function wrench_control_2_body(x, control_u)\n",
    "    u = [control_u[1]; control_u[2]; \n",
    "        control_u[3] - control_u[1]*sin(x[3])*RodWorld.l/2 + control_u[2]*cos(x[3])*RodWorld.l/2]\n",
    "    return u\n",
    "end\n",
    "\n",
    "function control_discrete_dynamics(x, control_u, mode)\n",
    "    u = wrench_control_2_body(x,control_u)\n",
    "    xn = RodWorld.discrete_dynamics(x, u, mode)\n",
    "    return xn\n",
    "end\n",
    "\n",
    "function control_dynamic(x, control_u, mode)\n",
    "    u = wrench_control_2_body(x,control_u)\n",
    "    dx = RodWorld.continuous_dynamics_differentiable(x, u, mode)\n",
    "    return dx\n",
    "end\n",
    "\n",
    "control_u_ref = [-RodWorld.m*RodWorld.g*cot(pi/4)/2; 0; 0]"
   ],
   "outputs": [
    {
     "output_type": "execute_result",
     "data": {
      "text/plain": [
       "3-element Vector{Float64}:\n",
       " -4.900000000000001\n",
       "  0.0\n",
       "  0.0"
      ]
     },
     "metadata": {},
     "execution_count": 29
    }
   ],
   "metadata": {}
  },
  {
   "cell_type": "code",
   "execution_count": 5,
   "source": [
    "function no_controller(x, contactMode)\n",
    "    return zeros(3)\n",
    "end"
   ],
   "outputs": [
    {
     "output_type": "execute_result",
     "data": {
      "text/plain": [
       "no_controller (generic function with 1 method)"
      ]
     },
     "metadata": {},
     "execution_count": 5
    }
   ],
   "metadata": {}
  },
  {
   "cell_type": "code",
   "execution_count": 30,
   "source": [
    "function ref_controller(x, contactMode)\n",
    "    f = wrench_control_2_body(x, control_u_ref)\n",
    "    # f = [0;RodWorld.m*RodWorld.g;0]\n",
    "    return f\n",
    "end"
   ],
   "outputs": [
    {
     "output_type": "execute_result",
     "data": {
      "text/plain": [
       "ref_controller (generic function with 1 method)"
      ]
     },
     "metadata": {},
     "execution_count": 30
    }
   ],
   "metadata": {}
  },
  {
   "cell_type": "code",
   "execution_count": 41,
   "source": [
    "# LQR controller\n",
    "# compute infinite horizon K\n",
    "A_lqr = ForwardDiff.jacobian(_x->control_discrete_dynamics(_x, control_u_ref, nominal_mode), xref)\n",
    "B_lqr = ForwardDiff.jacobian(_u->control_discrete_dynamics(xref, _u, nominal_mode), control_u_ref)\n",
    "# Q_lqr = Diagonal([1.0; 1.0; 1.0; 0.5; 0.5; 0.5])\n",
    "Q_lqr = Diagonal([1.0; 1.0; 1.0; 1.0; 1.0; 1.0])\n",
    "R_lqr = Diagonal([0.1; 0.1; 0.1])\n",
    "\n",
    "Ks, _ = StableManipulation.riccati(A_lqr,B_lqr,Q_lqr,R_lqr,Q_lqr,50)\n",
    "K_lqr = Ks[1]\n",
    "\n",
    "function lqr_controller(x, contactMode)\n",
    "    control_u = control_u_ref .- K_lqr*(x .- xref)\n",
    "    f = wrench_control_2_body(x,control_u)\n",
    "    return f\n",
    "end\n"
   ],
   "outputs": [
    {
     "output_type": "execute_result",
     "data": {
      "text/plain": [
       "lqr_controller (generic function with 1 method)"
      ]
     },
     "metadata": {},
     "execution_count": 41
    }
   ],
   "metadata": {}
  },
  {
   "cell_type": "code",
   "execution_count": 53,
   "source": [
    "# goal: hold the rod at 45 degrees at the corner\n",
    "\n",
    "controller = lqr_controller\n",
    "\n",
    "x0 = xref .+ [-0.1;0;0.01;0;0;0]\n",
    "initial_mode = [false, true]\n",
    "\n",
    "tspan = (0.0, 3.0)\n",
    "callback_length = 2*RodWorld.n_contacts\n",
    "\n",
    "h_control = RodWorld.Δt\n",
    "\n",
    "prob = ODEProblem(dynamics!, x0, tspan, (initial_mode, controller, [0.0], h_control, controller(x0, initial_mode)))\n",
    "cb = VectorContinuousCallback(conditions, affect!, affect_neg!, callback_length)\n",
    "sol = solve(prob, Tsit5(); callback = cb, abstol=1e-15,reltol=1e-15, adaptive=false,dt=RodWorld.Δt)\n",
    "println(\"Simulation status: \", sol.retcode)"
   ],
   "outputs": [
    {
     "output_type": "stream",
     "name": "stdout",
     "text": [
      "New mode from IV: Bool[1, 0]\n",
      "[-0.339242572669172, -0.7554119749346624, 3.966690424006045, 0.6939625456444507, -3.0382972097324816, 1.8893253622639397]\n",
      "Simulation status: Success\n"
     ]
    }
   ],
   "metadata": {}
  },
  {
   "cell_type": "code",
   "execution_count": 54,
   "source": [
    "n = length(sol.t)\n",
    "# n = Int(floor(0.77/Δt))\n",
    "x = zeros(n)\n",
    "y = zeros(n)\n",
    "θ = zeros(n)\n",
    "for k = 1:n\n",
    "    x[k] = sol.u[k][1]\n",
    "    y[k] = sol.u[k][2]\n",
    "    θ[k] = sol.u[k][3]\n",
    "end\n",
    "\n",
    "RodWorld.animation(x,y,θ,n)"
   ],
   "outputs": [
    {
     "output_type": "stream",
     "name": "stderr",
     "text": [
      "┌ Info: Saved animation to \n",
      "│   fn = /home/xianyi/.julia/dev/StableManipulation/example/anim.gif\n",
      "└ @ Plots /home/xianyi/.julia/packages/Plots/FI0vT/src/animation.jl:114\n"
     ]
    },
    {
     "output_type": "execute_result",
     "data": {
      "text/plain": [
       "Plots.AnimatedGif(\"/home/xianyi/.julia/dev/StableManipulation/example/anim.gif\")"
      ],
      "text/html": [
       "<img src=\"data:image/gif;base64,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\" />"
      ]
     },
     "metadata": {},
     "execution_count": 54
    }
   ],
   "metadata": {}
  },
  {
   "cell_type": "code",
   "execution_count": null,
   "source": [],
   "outputs": [],
   "metadata": {}
  }
 ],
 "metadata": {
  "orig_nbformat": 4,
  "language_info": {
   "file_extension": ".jl",
   "name": "julia",
   "mimetype": "application/julia",
   "version": "1.6.2"
  },
  "kernelspec": {
   "name": "julia-1.6",
   "display_name": "Julia 1.6.2",
   "language": "julia"
  }
 },
 "nbformat": 4,
 "nbformat_minor": 2
}